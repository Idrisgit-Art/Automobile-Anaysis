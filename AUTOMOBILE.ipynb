{
 "cells": [
  {
   "cell_type": "code",
   "execution_count": 19,
   "id": "851cd16b-454e-4c5f-8086-8460003e3caa",
   "metadata": {},
   "outputs": [],
   "source": [
    "import pandas as pd\n",
    "import plotly.express as px\n"
   ]
  },
  {
   "cell_type": "code",
   "execution_count": 20,
   "id": "9a7f5322-e748-4325-876c-eaf03da73194",
   "metadata": {},
   "outputs": [
    {
     "data": {
      "text/plain": [
       "<bound method NDFrame.head of            Date  Year Month  Recession  Consumer_Confidence  \\\n",
       "0     1/31/1980  1980   Jan          1               108.24   \n",
       "1     2/29/1980  1980   Feb          1                98.75   \n",
       "2     3/31/1980  1980   Mar          1               107.48   \n",
       "3     4/30/1980  1980   Apr          1               115.01   \n",
       "4     5/31/1980  1980   May          1                98.72   \n",
       "..          ...   ...   ...        ...                  ...   \n",
       "523   8/31/2023  2023   Aug          0               103.36   \n",
       "524   9/30/2023  2023   Sep          0               101.55   \n",
       "525  10/31/2023  2023   Oct          0               124.66   \n",
       "526  11/30/2023  2023   Nov          0                97.09   \n",
       "527  12/31/2023  2023   Dec          0                95.92   \n",
       "\n",
       "     Seasonality_Weight      Price  Advertising_Expenditure  Competition  \\\n",
       "0                  0.50  27483.571                     1558            7   \n",
       "1                  0.75  24308.678                     3048            4   \n",
       "2                  0.20  28238.443                     3137            3   \n",
       "3                  1.00  32615.149                     1653            7   \n",
       "4                  0.20  23829.233                     1319            4   \n",
       "..                  ...        ...                      ...          ...   \n",
       "523                0.25  27852.993                     1793            6   \n",
       "524                0.07  21183.704                     1028            5   \n",
       "525                0.12  15975.589                     1148            9   \n",
       "526                0.25  16862.288                     4850            5   \n",
       "527                0.34  25240.425                     2319            3   \n",
       "\n",
       "        GDP  Growth_Rate  unemployment_rate  Automobile_Sales  \\\n",
       "0    60.223     0.010000                5.4             456.0   \n",
       "1    45.986    -0.309594                4.8             555.9   \n",
       "2    35.141    -0.308614                3.4             620.0   \n",
       "3    45.673     0.230596                4.2             702.8   \n",
       "4    52.997     0.138197                5.3             770.4   \n",
       "..      ...          ...                ...               ...   \n",
       "523  57.169     0.764155                2.6            1579.6   \n",
       "524  59.315     0.036180                2.5            1123.4   \n",
       "525  19.472    -2.046169                2.5            1685.9   \n",
       "526  27.904     0.302179                2.9            2124.6   \n",
       "527  13.518    -1.064211                2.1            3538.5   \n",
       "\n",
       "        Vehicle_Type        City  \n",
       "0      Supperminicar     Georgia  \n",
       "1      Supperminicar    New York  \n",
       "2    Mediumfamilycar    New York  \n",
       "3      Supperminicar    Illinois  \n",
       "4    Smallfamiliycar  California  \n",
       "..               ...         ...  \n",
       "523     Executivecar    New York  \n",
       "524  Smallfamiliycar  California  \n",
       "525           Sports  California  \n",
       "526  Smallfamiliycar     Georgia  \n",
       "527  Smallfamiliycar     Georgia  \n",
       "\n",
       "[528 rows x 15 columns]>"
      ]
     },
     "execution_count": 20,
     "metadata": {},
     "output_type": "execute_result"
    }
   ],
   "source": [
    "df = pd.read_csv(\"historical_automobile_sales.csv\")\n",
    "df.head"
   ]
  },
  {
   "cell_type": "code",
   "execution_count": 21,
   "id": "74e197d1-65da-4a30-b04e-b76ba969e3d9",
   "metadata": {},
   "outputs": [
    {
     "data": {
      "text/plain": [
       "Index(['Date', 'Year', 'Month', 'Recession', 'Consumer_Confidence',\n",
       "       'Seasonality_Weight', 'Price', 'Advertising_Expenditure', 'Competition',\n",
       "       'GDP', 'Growth_Rate', 'unemployment_rate', 'Automobile_Sales',\n",
       "       'Vehicle_Type', 'City'],\n",
       "      dtype='object')"
      ]
     },
     "execution_count": 21,
     "metadata": {},
     "output_type": "execute_result"
    }
   ],
   "source": [
    "df.columns"
   ]
  },
  {
   "cell_type": "code",
   "execution_count": 22,
   "id": "4c6c4c9a-2eab-48e7-aa3b-610d2186959c",
   "metadata": {},
   "outputs": [
    {
     "data": {
      "text/plain": [
       "<bound method DataFrame.info of            Date  Year Month  Recession  Consumer_Confidence  \\\n",
       "0     1/31/1980  1980   Jan          1               108.24   \n",
       "1     2/29/1980  1980   Feb          1                98.75   \n",
       "2     3/31/1980  1980   Mar          1               107.48   \n",
       "3     4/30/1980  1980   Apr          1               115.01   \n",
       "4     5/31/1980  1980   May          1                98.72   \n",
       "..          ...   ...   ...        ...                  ...   \n",
       "523   8/31/2023  2023   Aug          0               103.36   \n",
       "524   9/30/2023  2023   Sep          0               101.55   \n",
       "525  10/31/2023  2023   Oct          0               124.66   \n",
       "526  11/30/2023  2023   Nov          0                97.09   \n",
       "527  12/31/2023  2023   Dec          0                95.92   \n",
       "\n",
       "     Seasonality_Weight      Price  Advertising_Expenditure  Competition  \\\n",
       "0                  0.50  27483.571                     1558            7   \n",
       "1                  0.75  24308.678                     3048            4   \n",
       "2                  0.20  28238.443                     3137            3   \n",
       "3                  1.00  32615.149                     1653            7   \n",
       "4                  0.20  23829.233                     1319            4   \n",
       "..                  ...        ...                      ...          ...   \n",
       "523                0.25  27852.993                     1793            6   \n",
       "524                0.07  21183.704                     1028            5   \n",
       "525                0.12  15975.589                     1148            9   \n",
       "526                0.25  16862.288                     4850            5   \n",
       "527                0.34  25240.425                     2319            3   \n",
       "\n",
       "        GDP  Growth_Rate  unemployment_rate  Automobile_Sales  \\\n",
       "0    60.223     0.010000                5.4             456.0   \n",
       "1    45.986    -0.309594                4.8             555.9   \n",
       "2    35.141    -0.308614                3.4             620.0   \n",
       "3    45.673     0.230596                4.2             702.8   \n",
       "4    52.997     0.138197                5.3             770.4   \n",
       "..      ...          ...                ...               ...   \n",
       "523  57.169     0.764155                2.6            1579.6   \n",
       "524  59.315     0.036180                2.5            1123.4   \n",
       "525  19.472    -2.046169                2.5            1685.9   \n",
       "526  27.904     0.302179                2.9            2124.6   \n",
       "527  13.518    -1.064211                2.1            3538.5   \n",
       "\n",
       "        Vehicle_Type        City  \n",
       "0      Supperminicar     Georgia  \n",
       "1      Supperminicar    New York  \n",
       "2    Mediumfamilycar    New York  \n",
       "3      Supperminicar    Illinois  \n",
       "4    Smallfamiliycar  California  \n",
       "..               ...         ...  \n",
       "523     Executivecar    New York  \n",
       "524  Smallfamiliycar  California  \n",
       "525           Sports  California  \n",
       "526  Smallfamiliycar     Georgia  \n",
       "527  Smallfamiliycar     Georgia  \n",
       "\n",
       "[528 rows x 15 columns]>"
      ]
     },
     "execution_count": 22,
     "metadata": {},
     "output_type": "execute_result"
    }
   ],
   "source": [
    "df.info"
   ]
  },
  {
   "cell_type": "code",
   "execution_count": 23,
   "id": "4c5cd15f-0775-46e4-a7df-6533e3d3cb23",
   "metadata": {},
   "outputs": [
    {
     "data": {
      "text/plain": [
       "Date                       0\n",
       "Year                       0\n",
       "Month                      0\n",
       "Recession                  0\n",
       "Consumer_Confidence        0\n",
       "Seasonality_Weight         0\n",
       "Price                      0\n",
       "Advertising_Expenditure    0\n",
       "Competition                0\n",
       "GDP                        0\n",
       "Growth_Rate                0\n",
       "unemployment_rate          0\n",
       "Automobile_Sales           0\n",
       "Vehicle_Type               0\n",
       "City                       0\n",
       "dtype: int64"
      ]
     },
     "execution_count": 23,
     "metadata": {},
     "output_type": "execute_result"
    }
   ],
   "source": [
    "df.isnull().sum()"
   ]
  },
  {
   "cell_type": "markdown",
   "id": "e2b86503-6f55-4032-8ff0-b83304a70e6b",
   "metadata": {},
   "source": [
    "                                             EDA"
   ]
  },
  {
   "cell_type": "code",
   "execution_count": 24,
   "id": "f00a7f40-7e6b-469d-a181-1613b0a79588",
   "metadata": {},
   "outputs": [
    {
     "data": {
      "application/vnd.plotly.v1+json": {
       "config": {
        "plotlyServerURL": "https://plot.ly"
       },
       "data": [
        {
         "hovertemplate": "Year=%{x}<br>Automobile_Sales=%{y}<extra></extra>",
         "legendgroup": "1980",
         "line": {
          "color": "#636efa",
          "dash": "solid"
         },
         "marker": {
          "symbol": "circle"
         },
         "mode": "lines+markers",
         "name": "1980",
         "orientation": "v",
         "showlegend": true,
         "type": "scatter",
         "x": [
          1980
         ],
         "xaxis": "x",
         "y": [
          8147.4
         ],
         "yaxis": "y"
        },
        {
         "hovertemplate": "Year=%{x}<br>Automobile_Sales=%{y}<extra></extra>",
         "legendgroup": "1981",
         "line": {
          "color": "#EF553B",
          "dash": "solid"
         },
         "marker": {
          "symbol": "circle"
         },
         "mode": "lines+markers",
         "name": "1981",
         "orientation": "v",
         "showlegend": true,
         "type": "scatter",
         "x": [
          1981
         ],
         "xaxis": "x",
         "y": [
          7600.9
         ],
         "yaxis": "y"
        },
        {
         "hovertemplate": "Year=%{x}<br>Automobile_Sales=%{y}<extra></extra>",
         "legendgroup": "1982",
         "line": {
          "color": "#00cc96",
          "dash": "solid"
         },
         "marker": {
          "symbol": "circle"
         },
         "mode": "lines+markers",
         "name": "1982",
         "orientation": "v",
         "showlegend": true,
         "type": "scatter",
         "x": [
          1982
         ],
         "xaxis": "x",
         "y": [
          7573.8
         ],
         "yaxis": "y"
        },
        {
         "hovertemplate": "Year=%{x}<br>Automobile_Sales=%{y}<extra></extra>",
         "legendgroup": "1983",
         "line": {
          "color": "#ab63fa",
          "dash": "solid"
         },
         "marker": {
          "symbol": "circle"
         },
         "mode": "lines+markers",
         "name": "1983",
         "orientation": "v",
         "showlegend": true,
         "type": "scatter",
         "x": [
          1983
         ],
         "xaxis": "x",
         "y": [
          34672.2
         ],
         "yaxis": "y"
        },
        {
         "hovertemplate": "Year=%{x}<br>Automobile_Sales=%{y}<extra></extra>",
         "legendgroup": "1984",
         "line": {
          "color": "#FFA15A",
          "dash": "solid"
         },
         "marker": {
          "symbol": "circle"
         },
         "mode": "lines+markers",
         "name": "1984",
         "orientation": "v",
         "showlegend": true,
         "type": "scatter",
         "x": [
          1984
         ],
         "xaxis": "x",
         "y": [
          35667
         ],
         "yaxis": "y"
        },
        {
         "hovertemplate": "Year=%{x}<br>Automobile_Sales=%{y}<extra></extra>",
         "legendgroup": "1985",
         "line": {
          "color": "#19d3f3",
          "dash": "solid"
         },
         "marker": {
          "symbol": "circle"
         },
         "mode": "lines+markers",
         "name": "1985",
         "orientation": "v",
         "showlegend": true,
         "type": "scatter",
         "x": [
          1985
         ],
         "xaxis": "x",
         "y": [
          38113.6
         ],
         "yaxis": "y"
        },
        {
         "hovertemplate": "Year=%{x}<br>Automobile_Sales=%{y}<extra></extra>",
         "legendgroup": "1986",
         "line": {
          "color": "#FF6692",
          "dash": "solid"
         },
         "marker": {
          "symbol": "circle"
         },
         "mode": "lines+markers",
         "name": "1986",
         "orientation": "v",
         "showlegend": true,
         "type": "scatter",
         "x": [
          1986
         ],
         "xaxis": "x",
         "y": [
          28093.6
         ],
         "yaxis": "y"
        },
        {
         "hovertemplate": "Year=%{x}<br>Automobile_Sales=%{y}<extra></extra>",
         "legendgroup": "1987",
         "line": {
          "color": "#B6E880",
          "dash": "solid"
         },
         "marker": {
          "symbol": "circle"
         },
         "mode": "lines+markers",
         "name": "1987",
         "orientation": "v",
         "showlegend": true,
         "type": "scatter",
         "x": [
          1987
         ],
         "xaxis": "x",
         "y": [
          27458
         ],
         "yaxis": "y"
        },
        {
         "hovertemplate": "Year=%{x}<br>Automobile_Sales=%{y}<extra></extra>",
         "legendgroup": "1988",
         "line": {
          "color": "#FF97FF",
          "dash": "solid"
         },
         "marker": {
          "symbol": "circle"
         },
         "mode": "lines+markers",
         "name": "1988",
         "orientation": "v",
         "showlegend": true,
         "type": "scatter",
         "x": [
          1988
         ],
         "xaxis": "x",
         "y": [
          36894
         ],
         "yaxis": "y"
        },
        {
         "hovertemplate": "Year=%{x}<br>Automobile_Sales=%{y}<extra></extra>",
         "legendgroup": "1989",
         "line": {
          "color": "#FECB52",
          "dash": "solid"
         },
         "marker": {
          "symbol": "circle"
         },
         "mode": "lines+markers",
         "name": "1989",
         "orientation": "v",
         "showlegend": true,
         "type": "scatter",
         "x": [
          1989
         ],
         "xaxis": "x",
         "y": [
          38971.3
         ],
         "yaxis": "y"
        },
        {
         "hovertemplate": "Year=%{x}<br>Automobile_Sales=%{y}<extra></extra>",
         "legendgroup": "1990",
         "line": {
          "color": "#636efa",
          "dash": "solid"
         },
         "marker": {
          "symbol": "circle"
         },
         "mode": "lines+markers",
         "name": "1990",
         "orientation": "v",
         "showlegend": true,
         "type": "scatter",
         "x": [
          1990
         ],
         "xaxis": "x",
         "y": [
          11007.3
         ],
         "yaxis": "y"
        },
        {
         "hovertemplate": "Year=%{x}<br>Automobile_Sales=%{y}<extra></extra>",
         "legendgroup": "1991",
         "line": {
          "color": "#EF553B",
          "dash": "solid"
         },
         "marker": {
          "symbol": "circle"
         },
         "mode": "lines+markers",
         "name": "1991",
         "orientation": "v",
         "showlegend": true,
         "type": "scatter",
         "x": [
          1991
         ],
         "xaxis": "x",
         "y": [
          7870.7
         ],
         "yaxis": "y"
        },
        {
         "hovertemplate": "Year=%{x}<br>Automobile_Sales=%{y}<extra></extra>",
         "legendgroup": "1992",
         "line": {
          "color": "#00cc96",
          "dash": "solid"
         },
         "marker": {
          "symbol": "circle"
         },
         "mode": "lines+markers",
         "name": "1992",
         "orientation": "v",
         "showlegend": true,
         "type": "scatter",
         "x": [
          1992
         ],
         "xaxis": "x",
         "y": [
          19772.4
         ],
         "yaxis": "y"
        },
        {
         "hovertemplate": "Year=%{x}<br>Automobile_Sales=%{y}<extra></extra>",
         "legendgroup": "1993",
         "line": {
          "color": "#ab63fa",
          "dash": "solid"
         },
         "marker": {
          "symbol": "circle"
         },
         "mode": "lines+markers",
         "name": "1993",
         "orientation": "v",
         "showlegend": true,
         "type": "scatter",
         "x": [
          1993
         ],
         "xaxis": "x",
         "y": [
          24279
         ],
         "yaxis": "y"
        },
        {
         "hovertemplate": "Year=%{x}<br>Automobile_Sales=%{y}<extra></extra>",
         "legendgroup": "1994",
         "line": {
          "color": "#FFA15A",
          "dash": "solid"
         },
         "marker": {
          "symbol": "circle"
         },
         "mode": "lines+markers",
         "name": "1994",
         "orientation": "v",
         "showlegend": true,
         "type": "scatter",
         "x": [
          1994
         ],
         "xaxis": "x",
         "y": [
          30657.9
         ],
         "yaxis": "y"
        },
        {
         "hovertemplate": "Year=%{x}<br>Automobile_Sales=%{y}<extra></extra>",
         "legendgroup": "1995",
         "line": {
          "color": "#19d3f3",
          "dash": "solid"
         },
         "marker": {
          "symbol": "circle"
         },
         "mode": "lines+markers",
         "name": "1995",
         "orientation": "v",
         "showlegend": true,
         "type": "scatter",
         "x": [
          1995
         ],
         "xaxis": "x",
         "y": [
          51603
         ],
         "yaxis": "y"
        },
        {
         "hovertemplate": "Year=%{x}<br>Automobile_Sales=%{y}<extra></extra>",
         "legendgroup": "1996",
         "line": {
          "color": "#FF6692",
          "dash": "solid"
         },
         "marker": {
          "symbol": "circle"
         },
         "mode": "lines+markers",
         "name": "1996",
         "orientation": "v",
         "showlegend": true,
         "type": "scatter",
         "x": [
          1996
         ],
         "xaxis": "x",
         "y": [
          27542.5
         ],
         "yaxis": "y"
        },
        {
         "hovertemplate": "Year=%{x}<br>Automobile_Sales=%{y}<extra></extra>",
         "legendgroup": "1997",
         "line": {
          "color": "#B6E880",
          "dash": "solid"
         },
         "marker": {
          "symbol": "circle"
         },
         "mode": "lines+markers",
         "name": "1997",
         "orientation": "v",
         "showlegend": true,
         "type": "scatter",
         "x": [
          1997
         ],
         "xaxis": "x",
         "y": [
          33482.9
         ],
         "yaxis": "y"
        },
        {
         "hovertemplate": "Year=%{x}<br>Automobile_Sales=%{y}<extra></extra>",
         "legendgroup": "1998",
         "line": {
          "color": "#FF97FF",
          "dash": "solid"
         },
         "marker": {
          "symbol": "circle"
         },
         "mode": "lines+markers",
         "name": "1998",
         "orientation": "v",
         "showlegend": true,
         "type": "scatter",
         "x": [
          1998
         ],
         "xaxis": "x",
         "y": [
          35938.7
         ],
         "yaxis": "y"
        },
        {
         "hovertemplate": "Year=%{x}<br>Automobile_Sales=%{y}<extra></extra>",
         "legendgroup": "1999",
         "line": {
          "color": "#FECB52",
          "dash": "solid"
         },
         "marker": {
          "symbol": "circle"
         },
         "mode": "lines+markers",
         "name": "1999",
         "orientation": "v",
         "showlegend": true,
         "type": "scatter",
         "x": [
          1999
         ],
         "xaxis": "x",
         "y": [
          30752.2
         ],
         "yaxis": "y"
        },
        {
         "hovertemplate": "Year=%{x}<br>Automobile_Sales=%{y}<extra></extra>",
         "legendgroup": "2000",
         "line": {
          "color": "#636efa",
          "dash": "solid"
         },
         "marker": {
          "symbol": "circle"
         },
         "mode": "lines+markers",
         "name": "2000",
         "orientation": "v",
         "showlegend": true,
         "type": "scatter",
         "x": [
          2000
         ],
         "xaxis": "x",
         "y": [
          15441.5
         ],
         "yaxis": "y"
        },
        {
         "hovertemplate": "Year=%{x}<br>Automobile_Sales=%{y}<extra></extra>",
         "legendgroup": "2001",
         "line": {
          "color": "#EF553B",
          "dash": "solid"
         },
         "marker": {
          "symbol": "circle"
         },
         "mode": "lines+markers",
         "name": "2001",
         "orientation": "v",
         "showlegend": true,
         "type": "scatter",
         "x": [
          2001
         ],
         "xaxis": "x",
         "y": [
          8305.6
         ],
         "yaxis": "y"
        },
        {
         "hovertemplate": "Year=%{x}<br>Automobile_Sales=%{y}<extra></extra>",
         "legendgroup": "2002",
         "line": {
          "color": "#00cc96",
          "dash": "solid"
         },
         "marker": {
          "symbol": "circle"
         },
         "mode": "lines+markers",
         "name": "2002",
         "orientation": "v",
         "showlegend": true,
         "type": "scatter",
         "x": [
          2002
         ],
         "xaxis": "x",
         "y": [
          21398.600000000002
         ],
         "yaxis": "y"
        },
        {
         "hovertemplate": "Year=%{x}<br>Automobile_Sales=%{y}<extra></extra>",
         "legendgroup": "2003",
         "line": {
          "color": "#ab63fa",
          "dash": "solid"
         },
         "marker": {
          "symbol": "circle"
         },
         "mode": "lines+markers",
         "name": "2003",
         "orientation": "v",
         "showlegend": true,
         "type": "scatter",
         "x": [
          2003
         ],
         "xaxis": "x",
         "y": [
          31547.9
         ],
         "yaxis": "y"
        },
        {
         "hovertemplate": "Year=%{x}<br>Automobile_Sales=%{y}<extra></extra>",
         "legendgroup": "2004",
         "line": {
          "color": "#FFA15A",
          "dash": "solid"
         },
         "marker": {
          "symbol": "circle"
         },
         "mode": "lines+markers",
         "name": "2004",
         "orientation": "v",
         "showlegend": true,
         "type": "scatter",
         "x": [
          2004
         ],
         "xaxis": "x",
         "y": [
          37786.6
         ],
         "yaxis": "y"
        },
        {
         "hovertemplate": "Year=%{x}<br>Automobile_Sales=%{y}<extra></extra>",
         "legendgroup": "2005",
         "line": {
          "color": "#19d3f3",
          "dash": "solid"
         },
         "marker": {
          "symbol": "circle"
         },
         "mode": "lines+markers",
         "name": "2005",
         "orientation": "v",
         "showlegend": true,
         "type": "scatter",
         "x": [
          2005
         ],
         "xaxis": "x",
         "y": [
          36918.8
         ],
         "yaxis": "y"
        },
        {
         "hovertemplate": "Year=%{x}<br>Automobile_Sales=%{y}<extra></extra>",
         "legendgroup": "2006",
         "line": {
          "color": "#FF6692",
          "dash": "solid"
         },
         "marker": {
          "symbol": "circle"
         },
         "mode": "lines+markers",
         "name": "2006",
         "orientation": "v",
         "showlegend": true,
         "type": "scatter",
         "x": [
          2006
         ],
         "xaxis": "x",
         "y": [
          30691.800000000003
         ],
         "yaxis": "y"
        },
        {
         "hovertemplate": "Year=%{x}<br>Automobile_Sales=%{y}<extra></extra>",
         "legendgroup": "2007",
         "line": {
          "color": "#B6E880",
          "dash": "solid"
         },
         "marker": {
          "symbol": "circle"
         },
         "mode": "lines+markers",
         "name": "2007",
         "orientation": "v",
         "showlegend": true,
         "type": "scatter",
         "x": [
          2007
         ],
         "xaxis": "x",
         "y": [
          32726
         ],
         "yaxis": "y"
        },
        {
         "hovertemplate": "Year=%{x}<br>Automobile_Sales=%{y}<extra></extra>",
         "legendgroup": "2008",
         "line": {
          "color": "#FF97FF",
          "dash": "solid"
         },
         "marker": {
          "symbol": "circle"
         },
         "mode": "lines+markers",
         "name": "2008",
         "orientation": "v",
         "showlegend": true,
         "type": "scatter",
         "x": [
          2008
         ],
         "xaxis": "x",
         "y": [
          15474.599999999999
         ],
         "yaxis": "y"
        },
        {
         "hovertemplate": "Year=%{x}<br>Automobile_Sales=%{y}<extra></extra>",
         "legendgroup": "2009",
         "line": {
          "color": "#FECB52",
          "dash": "solid"
         },
         "marker": {
          "symbol": "circle"
         },
         "mode": "lines+markers",
         "name": "2009",
         "orientation": "v",
         "showlegend": true,
         "type": "scatter",
         "x": [
          2009
         ],
         "xaxis": "x",
         "y": [
          7580.3
         ],
         "yaxis": "y"
        },
        {
         "hovertemplate": "Year=%{x}<br>Automobile_Sales=%{y}<extra></extra>",
         "legendgroup": "2010",
         "line": {
          "color": "#636efa",
          "dash": "solid"
         },
         "marker": {
          "symbol": "circle"
         },
         "mode": "lines+markers",
         "name": "2010",
         "orientation": "v",
         "showlegend": true,
         "type": "scatter",
         "x": [
          2010
         ],
         "xaxis": "x",
         "y": [
          27703.2
         ],
         "yaxis": "y"
        },
        {
         "hovertemplate": "Year=%{x}<br>Automobile_Sales=%{y}<extra></extra>",
         "legendgroup": "2011",
         "line": {
          "color": "#EF553B",
          "dash": "solid"
         },
         "marker": {
          "symbol": "circle"
         },
         "mode": "lines+markers",
         "name": "2011",
         "orientation": "v",
         "showlegend": true,
         "type": "scatter",
         "x": [
          2011
         ],
         "xaxis": "x",
         "y": [
          39915.6
         ],
         "yaxis": "y"
        },
        {
         "hovertemplate": "Year=%{x}<br>Automobile_Sales=%{y}<extra></extra>",
         "legendgroup": "2012",
         "line": {
          "color": "#00cc96",
          "dash": "solid"
         },
         "marker": {
          "symbol": "circle"
         },
         "mode": "lines+markers",
         "name": "2012",
         "orientation": "v",
         "showlegend": true,
         "type": "scatter",
         "x": [
          2012
         ],
         "xaxis": "x",
         "y": [
          33386.6
         ],
         "yaxis": "y"
        },
        {
         "hovertemplate": "Year=%{x}<br>Automobile_Sales=%{y}<extra></extra>",
         "legendgroup": "2013",
         "line": {
          "color": "#ab63fa",
          "dash": "solid"
         },
         "marker": {
          "symbol": "circle"
         },
         "mode": "lines+markers",
         "name": "2013",
         "orientation": "v",
         "showlegend": true,
         "type": "scatter",
         "x": [
          2013
         ],
         "xaxis": "x",
         "y": [
          29767
         ],
         "yaxis": "y"
        },
        {
         "hovertemplate": "Year=%{x}<br>Automobile_Sales=%{y}<extra></extra>",
         "legendgroup": "2014",
         "line": {
          "color": "#FFA15A",
          "dash": "solid"
         },
         "marker": {
          "symbol": "circle"
         },
         "mode": "lines+markers",
         "name": "2014",
         "orientation": "v",
         "showlegend": true,
         "type": "scatter",
         "x": [
          2014
         ],
         "xaxis": "x",
         "y": [
          40354.9
         ],
         "yaxis": "y"
        },
        {
         "hovertemplate": "Year=%{x}<br>Automobile_Sales=%{y}<extra></extra>",
         "legendgroup": "2015",
         "line": {
          "color": "#19d3f3",
          "dash": "solid"
         },
         "marker": {
          "symbol": "circle"
         },
         "mode": "lines+markers",
         "name": "2015",
         "orientation": "v",
         "showlegend": true,
         "type": "scatter",
         "x": [
          2015
         ],
         "xaxis": "x",
         "y": [
          40226.8
         ],
         "yaxis": "y"
        },
        {
         "hovertemplate": "Year=%{x}<br>Automobile_Sales=%{y}<extra></extra>",
         "legendgroup": "2016",
         "line": {
          "color": "#FF6692",
          "dash": "solid"
         },
         "marker": {
          "symbol": "circle"
         },
         "mode": "lines+markers",
         "name": "2016",
         "orientation": "v",
         "showlegend": true,
         "type": "scatter",
         "x": [
          2016
         ],
         "xaxis": "x",
         "y": [
          33669.64
         ],
         "yaxis": "y"
        },
        {
         "hovertemplate": "Year=%{x}<br>Automobile_Sales=%{y}<extra></extra>",
         "legendgroup": "2017",
         "line": {
          "color": "#B6E880",
          "dash": "solid"
         },
         "marker": {
          "symbol": "circle"
         },
         "mode": "lines+markers",
         "name": "2017",
         "orientation": "v",
         "showlegend": true,
         "type": "scatter",
         "x": [
          2017
         ],
         "xaxis": "x",
         "y": [
          30309.8
         ],
         "yaxis": "y"
        },
        {
         "hovertemplate": "Year=%{x}<br>Automobile_Sales=%{y}<extra></extra>",
         "legendgroup": "2018",
         "line": {
          "color": "#FF97FF",
          "dash": "solid"
         },
         "marker": {
          "symbol": "circle"
         },
         "mode": "lines+markers",
         "name": "2018",
         "orientation": "v",
         "showlegend": true,
         "type": "scatter",
         "x": [
          2018
         ],
         "xaxis": "x",
         "y": [
          38167.3
         ],
         "yaxis": "y"
        },
        {
         "hovertemplate": "Year=%{x}<br>Automobile_Sales=%{y}<extra></extra>",
         "legendgroup": "2019",
         "line": {
          "color": "#FECB52",
          "dash": "solid"
         },
         "marker": {
          "symbol": "circle"
         },
         "mode": "lines+markers",
         "name": "2019",
         "orientation": "v",
         "showlegend": true,
         "type": "scatter",
         "x": [
          2019
         ],
         "xaxis": "x",
         "y": [
          33524.8
         ],
         "yaxis": "y"
        },
        {
         "hovertemplate": "Year=%{x}<br>Automobile_Sales=%{y}<extra></extra>",
         "legendgroup": "2020",
         "line": {
          "color": "#636efa",
          "dash": "solid"
         },
         "marker": {
          "symbol": "circle"
         },
         "mode": "lines+markers",
         "name": "2020",
         "orientation": "v",
         "showlegend": true,
         "type": "scatter",
         "x": [
          2020
         ],
         "xaxis": "x",
         "y": [
          28262
         ],
         "yaxis": "y"
        },
        {
         "hovertemplate": "Year=%{x}<br>Automobile_Sales=%{y}<extra></extra>",
         "legendgroup": "2021",
         "line": {
          "color": "#EF553B",
          "dash": "solid"
         },
         "marker": {
          "symbol": "circle"
         },
         "mode": "lines+markers",
         "name": "2021",
         "orientation": "v",
         "showlegend": true,
         "type": "scatter",
         "x": [
          2021
         ],
         "xaxis": "x",
         "y": [
          37392.5
         ],
         "yaxis": "y"
        },
        {
         "hovertemplate": "Year=%{x}<br>Automobile_Sales=%{y}<extra></extra>",
         "legendgroup": "2022",
         "line": {
          "color": "#00cc96",
          "dash": "solid"
         },
         "marker": {
          "symbol": "circle"
         },
         "mode": "lines+markers",
         "name": "2022",
         "orientation": "v",
         "showlegend": true,
         "type": "scatter",
         "x": [
          2022
         ],
         "xaxis": "x",
         "y": [
          24529.7
         ],
         "yaxis": "y"
        },
        {
         "hovertemplate": "Year=%{x}<br>Automobile_Sales=%{y}<extra></extra>",
         "legendgroup": "2023",
         "line": {
          "color": "#ab63fa",
          "dash": "solid"
         },
         "marker": {
          "symbol": "circle"
         },
         "mode": "lines+markers",
         "name": "2023",
         "orientation": "v",
         "showlegend": true,
         "type": "scatter",
         "x": [
          2023
         ],
         "xaxis": "x",
         "y": [
          31055.2
         ],
         "yaxis": "y"
        }
       ],
       "layout": {
        "autosize": true,
        "legend": {
         "title": {
          "text": "Year"
         },
         "tracegroupgap": 0
        },
        "template": {
         "data": {
          "bar": [
           {
            "error_x": {
             "color": "#2a3f5f"
            },
            "error_y": {
             "color": "#2a3f5f"
            },
            "marker": {
             "line": {
              "color": "#E5ECF6",
              "width": 0.5
             },
             "pattern": {
              "fillmode": "overlay",
              "size": 10,
              "solidity": 0.2
             }
            },
            "type": "bar"
           }
          ],
          "barpolar": [
           {
            "marker": {
             "line": {
              "color": "#E5ECF6",
              "width": 0.5
             },
             "pattern": {
              "fillmode": "overlay",
              "size": 10,
              "solidity": 0.2
             }
            },
            "type": "barpolar"
           }
          ],
          "carpet": [
           {
            "aaxis": {
             "endlinecolor": "#2a3f5f",
             "gridcolor": "white",
             "linecolor": "white",
             "minorgridcolor": "white",
             "startlinecolor": "#2a3f5f"
            },
            "baxis": {
             "endlinecolor": "#2a3f5f",
             "gridcolor": "white",
             "linecolor": "white",
             "minorgridcolor": "white",
             "startlinecolor": "#2a3f5f"
            },
            "type": "carpet"
           }
          ],
          "choropleth": [
           {
            "colorbar": {
             "outlinewidth": 0,
             "ticks": ""
            },
            "type": "choropleth"
           }
          ],
          "contour": [
           {
            "colorbar": {
             "outlinewidth": 0,
             "ticks": ""
            },
            "colorscale": [
             [
              0,
              "#0d0887"
             ],
             [
              0.1111111111111111,
              "#46039f"
             ],
             [
              0.2222222222222222,
              "#7201a8"
             ],
             [
              0.3333333333333333,
              "#9c179e"
             ],
             [
              0.4444444444444444,
              "#bd3786"
             ],
             [
              0.5555555555555556,
              "#d8576b"
             ],
             [
              0.6666666666666666,
              "#ed7953"
             ],
             [
              0.7777777777777778,
              "#fb9f3a"
             ],
             [
              0.8888888888888888,
              "#fdca26"
             ],
             [
              1,
              "#f0f921"
             ]
            ],
            "type": "contour"
           }
          ],
          "contourcarpet": [
           {
            "colorbar": {
             "outlinewidth": 0,
             "ticks": ""
            },
            "type": "contourcarpet"
           }
          ],
          "heatmap": [
           {
            "colorbar": {
             "outlinewidth": 0,
             "ticks": ""
            },
            "colorscale": [
             [
              0,
              "#0d0887"
             ],
             [
              0.1111111111111111,
              "#46039f"
             ],
             [
              0.2222222222222222,
              "#7201a8"
             ],
             [
              0.3333333333333333,
              "#9c179e"
             ],
             [
              0.4444444444444444,
              "#bd3786"
             ],
             [
              0.5555555555555556,
              "#d8576b"
             ],
             [
              0.6666666666666666,
              "#ed7953"
             ],
             [
              0.7777777777777778,
              "#fb9f3a"
             ],
             [
              0.8888888888888888,
              "#fdca26"
             ],
             [
              1,
              "#f0f921"
             ]
            ],
            "type": "heatmap"
           }
          ],
          "heatmapgl": [
           {
            "colorbar": {
             "outlinewidth": 0,
             "ticks": ""
            },
            "colorscale": [
             [
              0,
              "#0d0887"
             ],
             [
              0.1111111111111111,
              "#46039f"
             ],
             [
              0.2222222222222222,
              "#7201a8"
             ],
             [
              0.3333333333333333,
              "#9c179e"
             ],
             [
              0.4444444444444444,
              "#bd3786"
             ],
             [
              0.5555555555555556,
              "#d8576b"
             ],
             [
              0.6666666666666666,
              "#ed7953"
             ],
             [
              0.7777777777777778,
              "#fb9f3a"
             ],
             [
              0.8888888888888888,
              "#fdca26"
             ],
             [
              1,
              "#f0f921"
             ]
            ],
            "type": "heatmapgl"
           }
          ],
          "histogram": [
           {
            "marker": {
             "pattern": {
              "fillmode": "overlay",
              "size": 10,
              "solidity": 0.2
             }
            },
            "type": "histogram"
           }
          ],
          "histogram2d": [
           {
            "colorbar": {
             "outlinewidth": 0,
             "ticks": ""
            },
            "colorscale": [
             [
              0,
              "#0d0887"
             ],
             [
              0.1111111111111111,
              "#46039f"
             ],
             [
              0.2222222222222222,
              "#7201a8"
             ],
             [
              0.3333333333333333,
              "#9c179e"
             ],
             [
              0.4444444444444444,
              "#bd3786"
             ],
             [
              0.5555555555555556,
              "#d8576b"
             ],
             [
              0.6666666666666666,
              "#ed7953"
             ],
             [
              0.7777777777777778,
              "#fb9f3a"
             ],
             [
              0.8888888888888888,
              "#fdca26"
             ],
             [
              1,
              "#f0f921"
             ]
            ],
            "type": "histogram2d"
           }
          ],
          "histogram2dcontour": [
           {
            "colorbar": {
             "outlinewidth": 0,
             "ticks": ""
            },
            "colorscale": [
             [
              0,
              "#0d0887"
             ],
             [
              0.1111111111111111,
              "#46039f"
             ],
             [
              0.2222222222222222,
              "#7201a8"
             ],
             [
              0.3333333333333333,
              "#9c179e"
             ],
             [
              0.4444444444444444,
              "#bd3786"
             ],
             [
              0.5555555555555556,
              "#d8576b"
             ],
             [
              0.6666666666666666,
              "#ed7953"
             ],
             [
              0.7777777777777778,
              "#fb9f3a"
             ],
             [
              0.8888888888888888,
              "#fdca26"
             ],
             [
              1,
              "#f0f921"
             ]
            ],
            "type": "histogram2dcontour"
           }
          ],
          "mesh3d": [
           {
            "colorbar": {
             "outlinewidth": 0,
             "ticks": ""
            },
            "type": "mesh3d"
           }
          ],
          "parcoords": [
           {
            "line": {
             "colorbar": {
              "outlinewidth": 0,
              "ticks": ""
             }
            },
            "type": "parcoords"
           }
          ],
          "pie": [
           {
            "automargin": true,
            "type": "pie"
           }
          ],
          "scatter": [
           {
            "fillpattern": {
             "fillmode": "overlay",
             "size": 10,
             "solidity": 0.2
            },
            "type": "scatter"
           }
          ],
          "scatter3d": [
           {
            "line": {
             "colorbar": {
              "outlinewidth": 0,
              "ticks": ""
             }
            },
            "marker": {
             "colorbar": {
              "outlinewidth": 0,
              "ticks": ""
             }
            },
            "type": "scatter3d"
           }
          ],
          "scattercarpet": [
           {
            "marker": {
             "colorbar": {
              "outlinewidth": 0,
              "ticks": ""
             }
            },
            "type": "scattercarpet"
           }
          ],
          "scattergeo": [
           {
            "marker": {
             "colorbar": {
              "outlinewidth": 0,
              "ticks": ""
             }
            },
            "type": "scattergeo"
           }
          ],
          "scattergl": [
           {
            "marker": {
             "colorbar": {
              "outlinewidth": 0,
              "ticks": ""
             }
            },
            "type": "scattergl"
           }
          ],
          "scattermapbox": [
           {
            "marker": {
             "colorbar": {
              "outlinewidth": 0,
              "ticks": ""
             }
            },
            "type": "scattermapbox"
           }
          ],
          "scatterpolar": [
           {
            "marker": {
             "colorbar": {
              "outlinewidth": 0,
              "ticks": ""
             }
            },
            "type": "scatterpolar"
           }
          ],
          "scatterpolargl": [
           {
            "marker": {
             "colorbar": {
              "outlinewidth": 0,
              "ticks": ""
             }
            },
            "type": "scatterpolargl"
           }
          ],
          "scatterternary": [
           {
            "marker": {
             "colorbar": {
              "outlinewidth": 0,
              "ticks": ""
             }
            },
            "type": "scatterternary"
           }
          ],
          "surface": [
           {
            "colorbar": {
             "outlinewidth": 0,
             "ticks": ""
            },
            "colorscale": [
             [
              0,
              "#0d0887"
             ],
             [
              0.1111111111111111,
              "#46039f"
             ],
             [
              0.2222222222222222,
              "#7201a8"
             ],
             [
              0.3333333333333333,
              "#9c179e"
             ],
             [
              0.4444444444444444,
              "#bd3786"
             ],
             [
              0.5555555555555556,
              "#d8576b"
             ],
             [
              0.6666666666666666,
              "#ed7953"
             ],
             [
              0.7777777777777778,
              "#fb9f3a"
             ],
             [
              0.8888888888888888,
              "#fdca26"
             ],
             [
              1,
              "#f0f921"
             ]
            ],
            "type": "surface"
           }
          ],
          "table": [
           {
            "cells": {
             "fill": {
              "color": "#EBF0F8"
             },
             "line": {
              "color": "white"
             }
            },
            "header": {
             "fill": {
              "color": "#C8D4E3"
             },
             "line": {
              "color": "white"
             }
            },
            "type": "table"
           }
          ]
         },
         "layout": {
          "annotationdefaults": {
           "arrowcolor": "#2a3f5f",
           "arrowhead": 0,
           "arrowwidth": 1
          },
          "autotypenumbers": "strict",
          "coloraxis": {
           "colorbar": {
            "outlinewidth": 0,
            "ticks": ""
           }
          },
          "colorscale": {
           "diverging": [
            [
             0,
             "#8e0152"
            ],
            [
             0.1,
             "#c51b7d"
            ],
            [
             0.2,
             "#de77ae"
            ],
            [
             0.3,
             "#f1b6da"
            ],
            [
             0.4,
             "#fde0ef"
            ],
            [
             0.5,
             "#f7f7f7"
            ],
            [
             0.6,
             "#e6f5d0"
            ],
            [
             0.7,
             "#b8e186"
            ],
            [
             0.8,
             "#7fbc41"
            ],
            [
             0.9,
             "#4d9221"
            ],
            [
             1,
             "#276419"
            ]
           ],
           "sequential": [
            [
             0,
             "#0d0887"
            ],
            [
             0.1111111111111111,
             "#46039f"
            ],
            [
             0.2222222222222222,
             "#7201a8"
            ],
            [
             0.3333333333333333,
             "#9c179e"
            ],
            [
             0.4444444444444444,
             "#bd3786"
            ],
            [
             0.5555555555555556,
             "#d8576b"
            ],
            [
             0.6666666666666666,
             "#ed7953"
            ],
            [
             0.7777777777777778,
             "#fb9f3a"
            ],
            [
             0.8888888888888888,
             "#fdca26"
            ],
            [
             1,
             "#f0f921"
            ]
           ],
           "sequentialminus": [
            [
             0,
             "#0d0887"
            ],
            [
             0.1111111111111111,
             "#46039f"
            ],
            [
             0.2222222222222222,
             "#7201a8"
            ],
            [
             0.3333333333333333,
             "#9c179e"
            ],
            [
             0.4444444444444444,
             "#bd3786"
            ],
            [
             0.5555555555555556,
             "#d8576b"
            ],
            [
             0.6666666666666666,
             "#ed7953"
            ],
            [
             0.7777777777777778,
             "#fb9f3a"
            ],
            [
             0.8888888888888888,
             "#fdca26"
            ],
            [
             1,
             "#f0f921"
            ]
           ]
          },
          "colorway": [
           "#636efa",
           "#EF553B",
           "#00cc96",
           "#ab63fa",
           "#FFA15A",
           "#19d3f3",
           "#FF6692",
           "#B6E880",
           "#FF97FF",
           "#FECB52"
          ],
          "font": {
           "color": "#2a3f5f"
          },
          "geo": {
           "bgcolor": "white",
           "lakecolor": "white",
           "landcolor": "#E5ECF6",
           "showlakes": true,
           "showland": true,
           "subunitcolor": "white"
          },
          "hoverlabel": {
           "align": "left"
          },
          "hovermode": "closest",
          "mapbox": {
           "style": "light"
          },
          "paper_bgcolor": "white",
          "plot_bgcolor": "#E5ECF6",
          "polar": {
           "angularaxis": {
            "gridcolor": "white",
            "linecolor": "white",
            "ticks": ""
           },
           "bgcolor": "#E5ECF6",
           "radialaxis": {
            "gridcolor": "white",
            "linecolor": "white",
            "ticks": ""
           }
          },
          "scene": {
           "xaxis": {
            "backgroundcolor": "#E5ECF6",
            "gridcolor": "white",
            "gridwidth": 2,
            "linecolor": "white",
            "showbackground": true,
            "ticks": "",
            "zerolinecolor": "white"
           },
           "yaxis": {
            "backgroundcolor": "#E5ECF6",
            "gridcolor": "white",
            "gridwidth": 2,
            "linecolor": "white",
            "showbackground": true,
            "ticks": "",
            "zerolinecolor": "white"
           },
           "zaxis": {
            "backgroundcolor": "#E5ECF6",
            "gridcolor": "white",
            "gridwidth": 2,
            "linecolor": "white",
            "showbackground": true,
            "ticks": "",
            "zerolinecolor": "white"
           }
          },
          "shapedefaults": {
           "line": {
            "color": "#2a3f5f"
           }
          },
          "ternary": {
           "aaxis": {
            "gridcolor": "white",
            "linecolor": "white",
            "ticks": ""
           },
           "baxis": {
            "gridcolor": "white",
            "linecolor": "white",
            "ticks": ""
           },
           "bgcolor": "#E5ECF6",
           "caxis": {
            "gridcolor": "white",
            "linecolor": "white",
            "ticks": ""
           }
          },
          "title": {
           "x": 0.05
          },
          "xaxis": {
           "automargin": true,
           "gridcolor": "white",
           "linecolor": "white",
           "ticks": "",
           "title": {
            "standoff": 15
           },
           "zerolinecolor": "white",
           "zerolinewidth": 2
          },
          "yaxis": {
           "automargin": true,
           "gridcolor": "white",
           "linecolor": "white",
           "ticks": "",
           "title": {
            "standoff": 15
           },
           "zerolinecolor": "white",
           "zerolinewidth": 2
          }
         }
        },
        "title": {
         "text": "Total Automobile Sales per year",
         "x": 0.5
        },
        "xaxis": {
         "anchor": "y",
         "autorange": true,
         "categoryarray": [
          1980,
          1981,
          1982,
          1983,
          1984,
          1985,
          1986,
          1987,
          1988,
          1989,
          1990,
          1991,
          1992,
          1993,
          1994,
          1995,
          1996,
          1997,
          1998,
          1999,
          2000,
          2001,
          2002,
          2003,
          2004,
          2005,
          2006,
          2007,
          2008,
          2009,
          2010,
          2011,
          2012,
          2013,
          2014,
          2015,
          2016,
          2017,
          2018,
          2019,
          2020,
          2021,
          2022,
          2023
         ],
         "categoryorder": "array",
         "domain": [
          0,
          1
         ],
         "range": [
          1977.3670480860917,
          2025.6329519139083
         ],
         "title": {
          "text": "Year"
         },
         "type": "linear"
        },
        "yaxis": {
         "anchor": "x",
         "autorange": true,
         "domain": [
          0,
          1
         ],
         "range": [
          3940.3223300970876,
          55236.47766990291
         ],
         "title": {
          "text": "Automobile_Sales"
         },
         "type": "linear"
        }
       }
      },
      "image/png": "[encoded data removed]",
      "text/html": [
       "<div>                            <div id=\"fb3a1955-a868-4085-b3cb-b3cb74faf598\" class=\"plotly-graph-div\" style=\"height:525px; width:100%;\"></div>            <script type=\"text/javascript\">                require([\"plotly\"], function(Plotly) {                    window.PLOTLYENV=window.PLOTLYENV || {};                                    if (document.getElementById(\"fb3a1955-a868-4085-b3cb-b3cb74faf598\")) {                    Plotly.newPlot(                        \"fb3a1955-a868-4085-b3cb-b3cb74faf598\",                        [{\"hovertemplate\":\"Year=%{x}\\u003cbr\\u003eAutomobile_Sales=%{y}\\u003cextra\\u003e\\u003c\\u002fextra\\u003e\",\"legendgroup\":\"1980\",\"line\":{\"color\":\"#636efa\",\"dash\":\"solid\"},\"marker\":{\"symbol\":\"circle\"},\"mode\":\"lines+markers\",\"name\":\"1980\",\"orientation\":\"v\",\"showlegend\":true,\"x\":[1980],\"xaxis\":\"x\",\"y\":[8147.4],\"yaxis\":\"y\",\"type\":\"scatter\"},{\"hovertemplate\":\"Year=%{x}\\u003cbr\\u003eAutomobile_Sales=%{y}\\u003cextra\\u003e\\u003c\\u002fextra\\u003e\",\"legendgroup\":\"1981\",\"line\":{\"color\":\"#EF553B\",\"dash\":\"solid\"},\"marker\":{\"symbol\":\"circle\"},\"mode\":\"lines+markers\",\"name\":\"1981\",\"orientation\":\"v\",\"showlegend\":true,\"x\":[1981],\"xaxis\":\"x\",\"y\":[7600.9],\"yaxis\":\"y\",\"type\":\"scatter\"},{\"hovertemplate\":\"Year=%{x}\\u003cbr\\u003eAutomobile_Sales=%{y}\\u003cextra\\u003e\\u003c\\u002fextra\\u003e\",\"legendgroup\":\"1982\",\"line\":{\"color\":\"#00cc96\",\"dash\":\"solid\"},\"marker\":{\"symbol\":\"circle\"},\"mode\":\"lines+markers\",\"name\":\"1982\",\"orientation\":\"v\",\"showlegend\":true,\"x\":[1982],\"xaxis\":\"x\",\"y\":[7573.8],\"yaxis\":\"y\",\"type\":\"scatter\"},{\"hovertemplate\":\"Year=%{x}\\u003cbr\\u003eAutomobile_Sales=%{y}\\u003cextra\\u003e\\u003c\\u002fextra\\u003e\",\"legendgroup\":\"1983\",\"line\":{\"color\":\"#ab63fa\",\"dash\":\"solid\"},\"marker\":{\"symbol\":\"circle\"},\"mode\":\"lines+markers\",\"name\":\"1983\",\"orientation\":\"v\",\"showlegend\":true,\"x\":[1983],\"xaxis\":\"x\",\"y\":[34672.2],\"yaxis\":\"y\",\"type\":\"scatter\"},{\"hovertemplate\":\"Year=%{x}\\u003cbr\\u003eAutomobile_Sales=%{y}\\u003cextra\\u003e\\u003c\\u002fextra\\u003e\",\"legendgroup\":\"1984\",\"line\":{\"color\":\"#FFA15A\",\"dash\":\"solid\"},\"marker\":{\"symbol\":\"circle\"},\"mode\":\"lines+markers\",\"name\":\"1984\",\"orientation\":\"v\",\"showlegend\":true,\"x\":[1984],\"xaxis\":\"x\",\"y\":[35667.0],\"yaxis\":\"y\",\"type\":\"scatter\"},{\"hovertemplate\":\"Year=%{x}\\u003cbr\\u003eAutomobile_Sales=%{y}\\u003cextra\\u003e\\u003c\\u002fextra\\u003e\",\"legendgroup\":\"1985\",\"line\":{\"color\":\"#19d3f3\",\"dash\":\"solid\"},\"marker\":{\"symbol\":\"circle\"},\"mode\":\"lines+markers\",\"name\":\"1985\",\"orientation\":\"v\",\"showlegend\":true,\"x\":[1985],\"xaxis\":\"x\",\"y\":[38113.6],\"yaxis\":\"y\",\"type\":\"scatter\"},{\"hovertemplate\":\"Year=%{x}\\u003cbr\\u003eAutomobile_Sales=%{y}\\u003cextra\\u003e\\u003c\\u002fextra\\u003e\",\"legendgroup\":\"1986\",\"line\":{\"color\":\"#FF6692\",\"dash\":\"solid\"},\"marker\":{\"symbol\":\"circle\"},\"mode\":\"lines+markers\",\"name\":\"1986\",\"orientation\":\"v\",\"showlegend\":true,\"x\":[1986],\"xaxis\":\"x\",\"y\":[28093.6],\"yaxis\":\"y\",\"type\":\"scatter\"},{\"hovertemplate\":\"Year=%{x}\\u003cbr\\u003eAutomobile_Sales=%{y}\\u003cextra\\u003e\\u003c\\u002fextra\\u003e\",\"legendgroup\":\"1987\",\"line\":{\"color\":\"#B6E880\",\"dash\":\"solid\"},\"marker\":{\"symbol\":\"circle\"},\"mode\":\"lines+markers\",\"name\":\"1987\",\"orientation\":\"v\",\"showlegend\":true,\"x\":[1987],\"xaxis\":\"x\",\"y\":[27458.0],\"yaxis\":\"y\",\"type\":\"scatter\"},{\"hovertemplate\":\"Year=%{x}\\u003cbr\\u003eAutomobile_Sales=%{y}\\u003cextra\\u003e\\u003c\\u002fextra\\u003e\",\"legendgroup\":\"1988\",\"line\":{\"color\":\"#FF97FF\",\"dash\":\"solid\"},\"marker\":{\"symbol\":\"circle\"},\"mode\":\"lines+markers\",\"name\":\"1988\",\"orientation\":\"v\",\"showlegend\":true,\"x\":[1988],\"xaxis\":\"x\",\"y\":[36894.0],\"yaxis\":\"y\",\"type\":\"scatter\"},{\"hovertemplate\":\"Year=%{x}\\u003cbr\\u003eAutomobile_Sales=%{y}\\u003cextra\\u003e\\u003c\\u002fextra\\u003e\",\"legendgroup\":\"1989\",\"line\":{\"color\":\"#FECB52\",\"dash\":\"solid\"},\"marker\":{\"symbol\":\"circle\"},\"mode\":\"lines+markers\",\"name\":\"1989\",\"orientation\":\"v\",\"showlegend\":true,\"x\":[1989],\"xaxis\":\"x\",\"y\":[38971.3],\"yaxis\":\"y\",\"type\":\"scatter\"},{\"hovertemplate\":\"Year=%{x}\\u003cbr\\u003eAutomobile_Sales=%{y}\\u003cextra\\u003e\\u003c\\u002fextra\\u003e\",\"legendgroup\":\"1990\",\"line\":{\"color\":\"#636efa\",\"dash\":\"solid\"},\"marker\":{\"symbol\":\"circle\"},\"mode\":\"lines+markers\",\"name\":\"1990\",\"orientation\":\"v\",\"showlegend\":true,\"x\":[1990],\"xaxis\":\"x\",\"y\":[11007.3],\"yaxis\":\"y\",\"type\":\"scatter\"},{\"hovertemplate\":\"Year=%{x}\\u003cbr\\u003eAutomobile_Sales=%{y}\\u003cextra\\u003e\\u003c\\u002fextra\\u003e\",\"legendgroup\":\"1991\",\"line\":{\"color\":\"#EF553B\",\"dash\":\"solid\"},\"marker\":{\"symbol\":\"circle\"},\"mode\":\"lines+markers\",\"name\":\"1991\",\"orientation\":\"v\",\"showlegend\":true,\"x\":[1991],\"xaxis\":\"x\",\"y\":[7870.7],\"yaxis\":\"y\",\"type\":\"scatter\"},{\"hovertemplate\":\"Year=%{x}\\u003cbr\\u003eAutomobile_Sales=%{y}\\u003cextra\\u003e\\u003c\\u002fextra\\u003e\",\"legendgroup\":\"1992\",\"line\":{\"color\":\"#00cc96\",\"dash\":\"solid\"},\"marker\":{\"symbol\":\"circle\"},\"mode\":\"lines+markers\",\"name\":\"1992\",\"orientation\":\"v\",\"showlegend\":true,\"x\":[1992],\"xaxis\":\"x\",\"y\":[19772.4],\"yaxis\":\"y\",\"type\":\"scatter\"},{\"hovertemplate\":\"Year=%{x}\\u003cbr\\u003eAutomobile_Sales=%{y}\\u003cextra\\u003e\\u003c\\u002fextra\\u003e\",\"legendgroup\":\"1993\",\"line\":{\"color\":\"#ab63fa\",\"dash\":\"solid\"},\"marker\":{\"symbol\":\"circle\"},\"mode\":\"lines+markers\",\"name\":\"1993\",\"orientation\":\"v\",\"showlegend\":true,\"x\":[1993],\"xaxis\":\"x\",\"y\":[24279.0],\"yaxis\":\"y\",\"type\":\"scatter\"},{\"hovertemplate\":\"Year=%{x}\\u003cbr\\u003eAutomobile_Sales=%{y}\\u003cextra\\u003e\\u003c\\u002fextra\\u003e\",\"legendgroup\":\"1994\",\"line\":{\"color\":\"#FFA15A\",\"dash\":\"solid\"},\"marker\":{\"symbol\":\"circle\"},\"mode\":\"lines+markers\",\"name\":\"1994\",\"orientation\":\"v\",\"showlegend\":true,\"x\":[1994],\"xaxis\":\"x\",\"y\":[30657.9],\"yaxis\":\"y\",\"type\":\"scatter\"},{\"hovertemplate\":\"Year=%{x}\\u003cbr\\u003eAutomobile_Sales=%{y}\\u003cextra\\u003e\\u003c\\u002fextra\\u003e\",\"legendgroup\":\"1995\",\"line\":{\"color\":\"#19d3f3\",\"dash\":\"solid\"},\"marker\":{\"symbol\":\"circle\"},\"mode\":\"lines+markers\",\"name\":\"1995\",\"orientation\":\"v\",\"showlegend\":true,\"x\":[1995],\"xaxis\":\"x\",\"y\":[51603.0],\"yaxis\":\"y\",\"type\":\"scatter\"},{\"hovertemplate\":\"Year=%{x}\\u003cbr\\u003eAutomobile_Sales=%{y}\\u003cextra\\u003e\\u003c\\u002fextra\\u003e\",\"legendgroup\":\"1996\",\"line\":{\"color\":\"#FF6692\",\"dash\":\"solid\"},\"marker\":{\"symbol\":\"circle\"},\"mode\":\"lines+markers\",\"name\":\"1996\",\"orientation\":\"v\",\"showlegend\":true,\"x\":[1996],\"xaxis\":\"x\",\"y\":[27542.5],\"yaxis\":\"y\",\"type\":\"scatter\"},{\"hovertemplate\":\"Year=%{x}\\u003cbr\\u003eAutomobile_Sales=%{y}\\u003cextra\\u003e\\u003c\\u002fextra\\u003e\",\"legendgroup\":\"1997\",\"line\":{\"color\":\"#B6E880\",\"dash\":\"solid\"},\"marker\":{\"symbol\":\"circle\"},\"mode\":\"lines+markers\",\"name\":\"1997\",\"orientation\":\"v\",\"showlegend\":true,\"x\":[1997],\"xaxis\":\"x\",\"y\":[33482.9],\"yaxis\":\"y\",\"type\":\"scatter\"},{\"hovertemplate\":\"Year=%{x}\\u003cbr\\u003eAutomobile_Sales=%{y}\\u003cextra\\u003e\\u003c\\u002fextra\\u003e\",\"legendgroup\":\"1998\",\"line\":{\"color\":\"#FF97FF\",\"dash\":\"solid\"},\"marker\":{\"symbol\":\"circle\"},\"mode\":\"lines+markers\",\"name\":\"1998\",\"orientation\":\"v\",\"showlegend\":true,\"x\":[1998],\"xaxis\":\"x\",\"y\":[35938.7],\"yaxis\":\"y\",\"type\":\"scatter\"},{\"hovertemplate\":\"Year=%{x}\\u003cbr\\u003eAutomobile_Sales=%{y}\\u003cextra\\u003e\\u003c\\u002fextra\\u003e\",\"legendgroup\":\"1999\",\"line\":{\"color\":\"#FECB52\",\"dash\":\"solid\"},\"marker\":{\"symbol\":\"circle\"},\"mode\":\"lines+markers\",\"name\":\"1999\",\"orientation\":\"v\",\"showlegend\":true,\"x\":[1999],\"xaxis\":\"x\",\"y\":[30752.2],\"yaxis\":\"y\",\"type\":\"scatter\"},{\"hovertemplate\":\"Year=%{x}\\u003cbr\\u003eAutomobile_Sales=%{y}\\u003cextra\\u003e\\u003c\\u002fextra\\u003e\",\"legendgroup\":\"2000\",\"line\":{\"color\":\"#636efa\",\"dash\":\"solid\"},\"marker\":{\"symbol\":\"circle\"},\"mode\":\"lines+markers\",\"name\":\"2000\",\"orientation\":\"v\",\"showlegend\":true,\"x\":[2000],\"xaxis\":\"x\",\"y\":[15441.5],\"yaxis\":\"y\",\"type\":\"scatter\"},{\"hovertemplate\":\"Year=%{x}\\u003cbr\\u003eAutomobile_Sales=%{y}\\u003cextra\\u003e\\u003c\\u002fextra\\u003e\",\"legendgroup\":\"2001\",\"line\":{\"color\":\"#EF553B\",\"dash\":\"solid\"},\"marker\":{\"symbol\":\"circle\"},\"mode\":\"lines+markers\",\"name\":\"2001\",\"orientation\":\"v\",\"showlegend\":true,\"x\":[2001],\"xaxis\":\"x\",\"y\":[8305.6],\"yaxis\":\"y\",\"type\":\"scatter\"},{\"hovertemplate\":\"Year=%{x}\\u003cbr\\u003eAutomobile_Sales=%{y}\\u003cextra\\u003e\\u003c\\u002fextra\\u003e\",\"legendgroup\":\"2002\",\"line\":{\"color\":\"#00cc96\",\"dash\":\"solid\"},\"marker\":{\"symbol\":\"circle\"},\"mode\":\"lines+markers\",\"name\":\"2002\",\"orientation\":\"v\",\"showlegend\":true,\"x\":[2002],\"xaxis\":\"x\",\"y\":[21398.600000000002],\"yaxis\":\"y\",\"type\":\"scatter\"},{\"hovertemplate\":\"Year=%{x}\\u003cbr\\u003eAutomobile_Sales=%{y}\\u003cextra\\u003e\\u003c\\u002fextra\\u003e\",\"legendgroup\":\"2003\",\"line\":{\"color\":\"#ab63fa\",\"dash\":\"solid\"},\"marker\":{\"symbol\":\"circle\"},\"mode\":\"lines+markers\",\"name\":\"2003\",\"orientation\":\"v\",\"showlegend\":true,\"x\":[2003],\"xaxis\":\"x\",\"y\":[31547.9],\"yaxis\":\"y\",\"type\":\"scatter\"},{\"hovertemplate\":\"Year=%{x}\\u003cbr\\u003eAutomobile_Sales=%{y}\\u003cextra\\u003e\\u003c\\u002fextra\\u003e\",\"legendgroup\":\"2004\",\"line\":{\"color\":\"#FFA15A\",\"dash\":\"solid\"},\"marker\":{\"symbol\":\"circle\"},\"mode\":\"lines+markers\",\"name\":\"2004\",\"orientation\":\"v\",\"showlegend\":true,\"x\":[2004],\"xaxis\":\"x\",\"y\":[37786.6],\"yaxis\":\"y\",\"type\":\"scatter\"},{\"hovertemplate\":\"Year=%{x}\\u003cbr\\u003eAutomobile_Sales=%{y}\\u003cextra\\u003e\\u003c\\u002fextra\\u003e\",\"legendgroup\":\"2005\",\"line\":{\"color\":\"#19d3f3\",\"dash\":\"solid\"},\"marker\":{\"symbol\":\"circle\"},\"mode\":\"lines+markers\",\"name\":\"2005\",\"orientation\":\"v\",\"showlegend\":true,\"x\":[2005],\"xaxis\":\"x\",\"y\":[36918.8],\"yaxis\":\"y\",\"type\":\"scatter\"},{\"hovertemplate\":\"Year=%{x}\\u003cbr\\u003eAutomobile_Sales=%{y}\\u003cextra\\u003e\\u003c\\u002fextra\\u003e\",\"legendgroup\":\"2006\",\"line\":{\"color\":\"#FF6692\",\"dash\":\"solid\"},\"marker\":{\"symbol\":\"circle\"},\"mode\":\"lines+markers\",\"name\":\"2006\",\"orientation\":\"v\",\"showlegend\":true,\"x\":[2006],\"xaxis\":\"x\",\"y\":[30691.800000000003],\"yaxis\":\"y\",\"type\":\"scatter\"},{\"hovertemplate\":\"Year=%{x}\\u003cbr\\u003eAutomobile_Sales=%{y}\\u003cextra\\u003e\\u003c\\u002fextra\\u003e\",\"legendgroup\":\"2007\",\"line\":{\"color\":\"#B6E880\",\"dash\":\"solid\"},\"marker\":{\"symbol\":\"circle\"},\"mode\":\"lines+markers\",\"name\":\"2007\",\"orientation\":\"v\",\"showlegend\":true,\"x\":[2007],\"xaxis\":\"x\",\"y\":[32726.0],\"yaxis\":\"y\",\"type\":\"scatter\"},{\"hovertemplate\":\"Year=%{x}\\u003cbr\\u003eAutomobile_Sales=%{y}\\u003cextra\\u003e\\u003c\\u002fextra\\u003e\",\"legendgroup\":\"2008\",\"line\":{\"color\":\"#FF97FF\",\"dash\":\"solid\"},\"marker\":{\"symbol\":\"circle\"},\"mode\":\"lines+markers\",\"name\":\"2008\",\"orientation\":\"v\",\"showlegend\":true,\"x\":[2008],\"xaxis\":\"x\",\"y\":[15474.599999999999],\"yaxis\":\"y\",\"type\":\"scatter\"},{\"hovertemplate\":\"Year=%{x}\\u003cbr\\u003eAutomobile_Sales=%{y}\\u003cextra\\u003e\\u003c\\u002fextra\\u003e\",\"legendgroup\":\"2009\",\"line\":{\"color\":\"#FECB52\",\"dash\":\"solid\"},\"marker\":{\"symbol\":\"circle\"},\"mode\":\"lines+markers\",\"name\":\"2009\",\"orientation\":\"v\",\"showlegend\":true,\"x\":[2009],\"xaxis\":\"x\",\"y\":[7580.3],\"yaxis\":\"y\",\"type\":\"scatter\"},{\"hovertemplate\":\"Year=%{x}\\u003cbr\\u003eAutomobile_Sales=%{y}\\u003cextra\\u003e\\u003c\\u002fextra\\u003e\",\"legendgroup\":\"2010\",\"line\":{\"color\":\"#636efa\",\"dash\":\"solid\"},\"marker\":{\"symbol\":\"circle\"},\"mode\":\"lines+markers\",\"name\":\"2010\",\"orientation\":\"v\",\"showlegend\":true,\"x\":[2010],\"xaxis\":\"x\",\"y\":[27703.2],\"yaxis\":\"y\",\"type\":\"scatter\"},{\"hovertemplate\":\"Year=%{x}\\u003cbr\\u003eAutomobile_Sales=%{y}\\u003cextra\\u003e\\u003c\\u002fextra\\u003e\",\"legendgroup\":\"2011\",\"line\":{\"color\":\"#EF553B\",\"dash\":\"solid\"},\"marker\":{\"symbol\":\"circle\"},\"mode\":\"lines+markers\",\"name\":\"2011\",\"orientation\":\"v\",\"showlegend\":true,\"x\":[2011],\"xaxis\":\"x\",\"y\":[39915.6],\"yaxis\":\"y\",\"type\":\"scatter\"},{\"hovertemplate\":\"Year=%{x}\\u003cbr\\u003eAutomobile_Sales=%{y}\\u003cextra\\u003e\\u003c\\u002fextra\\u003e\",\"legendgroup\":\"2012\",\"line\":{\"color\":\"#00cc96\",\"dash\":\"solid\"},\"marker\":{\"symbol\":\"circle\"},\"mode\":\"lines+markers\",\"name\":\"2012\",\"orientation\":\"v\",\"showlegend\":true,\"x\":[2012],\"xaxis\":\"x\",\"y\":[33386.6],\"yaxis\":\"y\",\"type\":\"scatter\"},{\"hovertemplate\":\"Year=%{x}\\u003cbr\\u003eAutomobile_Sales=%{y}\\u003cextra\\u003e\\u003c\\u002fextra\\u003e\",\"legendgroup\":\"2013\",\"line\":{\"color\":\"#ab63fa\",\"dash\":\"solid\"},\"marker\":{\"symbol\":\"circle\"},\"mode\":\"lines+markers\",\"name\":\"2013\",\"orientation\":\"v\",\"showlegend\":true,\"x\":[2013],\"xaxis\":\"x\",\"y\":[29767.0],\"yaxis\":\"y\",\"type\":\"scatter\"},{\"hovertemplate\":\"Year=%{x}\\u003cbr\\u003eAutomobile_Sales=%{y}\\u003cextra\\u003e\\u003c\\u002fextra\\u003e\",\"legendgroup\":\"2014\",\"line\":{\"color\":\"#FFA15A\",\"dash\":\"solid\"},\"marker\":{\"symbol\":\"circle\"},\"mode\":\"lines+markers\",\"name\":\"2014\",\"orientation\":\"v\",\"showlegend\":true,\"x\":[2014],\"xaxis\":\"x\",\"y\":[40354.9],\"yaxis\":\"y\",\"type\":\"scatter\"},{\"hovertemplate\":\"Year=%{x}\\u003cbr\\u003eAutomobile_Sales=%{y}\\u003cextra\\u003e\\u003c\\u002fextra\\u003e\",\"legendgroup\":\"2015\",\"line\":{\"color\":\"#19d3f3\",\"dash\":\"solid\"},\"marker\":{\"symbol\":\"circle\"},\"mode\":\"lines+markers\",\"name\":\"2015\",\"orientation\":\"v\",\"showlegend\":true,\"x\":[2015],\"xaxis\":\"x\",\"y\":[40226.8],\"yaxis\":\"y\",\"type\":\"scatter\"},{\"hovertemplate\":\"Year=%{x}\\u003cbr\\u003eAutomobile_Sales=%{y}\\u003cextra\\u003e\\u003c\\u002fextra\\u003e\",\"legendgroup\":\"2016\",\"line\":{\"color\":\"#FF6692\",\"dash\":\"solid\"},\"marker\":{\"symbol\":\"circle\"},\"mode\":\"lines+markers\",\"name\":\"2016\",\"orientation\":\"v\",\"showlegend\":true,\"x\":[2016],\"xaxis\":\"x\",\"y\":[33669.64],\"yaxis\":\"y\",\"type\":\"scatter\"},{\"hovertemplate\":\"Year=%{x}\\u003cbr\\u003eAutomobile_Sales=%{y}\\u003cextra\\u003e\\u003c\\u002fextra\\u003e\",\"legendgroup\":\"2017\",\"line\":{\"color\":\"#B6E880\",\"dash\":\"solid\"},\"marker\":{\"symbol\":\"circle\"},\"mode\":\"lines+markers\",\"name\":\"2017\",\"orientation\":\"v\",\"showlegend\":true,\"x\":[2017],\"xaxis\":\"x\",\"y\":[30309.8],\"yaxis\":\"y\",\"type\":\"scatter\"},{\"hovertemplate\":\"Year=%{x}\\u003cbr\\u003eAutomobile_Sales=%{y}\\u003cextra\\u003e\\u003c\\u002fextra\\u003e\",\"legendgroup\":\"2018\",\"line\":{\"color\":\"#FF97FF\",\"dash\":\"solid\"},\"marker\":{\"symbol\":\"circle\"},\"mode\":\"lines+markers\",\"name\":\"2018\",\"orientation\":\"v\",\"showlegend\":true,\"x\":[2018],\"xaxis\":\"x\",\"y\":[38167.3],\"yaxis\":\"y\",\"type\":\"scatter\"},{\"hovertemplate\":\"Year=%{x}\\u003cbr\\u003eAutomobile_Sales=%{y}\\u003cextra\\u003e\\u003c\\u002fextra\\u003e\",\"legendgroup\":\"2019\",\"line\":{\"color\":\"#FECB52\",\"dash\":\"solid\"},\"marker\":{\"symbol\":\"circle\"},\"mode\":\"lines+markers\",\"name\":\"2019\",\"orientation\":\"v\",\"showlegend\":true,\"x\":[2019],\"xaxis\":\"x\",\"y\":[33524.8],\"yaxis\":\"y\",\"type\":\"scatter\"},{\"hovertemplate\":\"Year=%{x}\\u003cbr\\u003eAutomobile_Sales=%{y}\\u003cextra\\u003e\\u003c\\u002fextra\\u003e\",\"legendgroup\":\"2020\",\"line\":{\"color\":\"#636efa\",\"dash\":\"solid\"},\"marker\":{\"symbol\":\"circle\"},\"mode\":\"lines+markers\",\"name\":\"2020\",\"orientation\":\"v\",\"showlegend\":true,\"x\":[2020],\"xaxis\":\"x\",\"y\":[28262.0],\"yaxis\":\"y\",\"type\":\"scatter\"},{\"hovertemplate\":\"Year=%{x}\\u003cbr\\u003eAutomobile_Sales=%{y}\\u003cextra\\u003e\\u003c\\u002fextra\\u003e\",\"legendgroup\":\"2021\",\"line\":{\"color\":\"#EF553B\",\"dash\":\"solid\"},\"marker\":{\"symbol\":\"circle\"},\"mode\":\"lines+markers\",\"name\":\"2021\",\"orientation\":\"v\",\"showlegend\":true,\"x\":[2021],\"xaxis\":\"x\",\"y\":[37392.5],\"yaxis\":\"y\",\"type\":\"scatter\"},{\"hovertemplate\":\"Year=%{x}\\u003cbr\\u003eAutomobile_Sales=%{y}\\u003cextra\\u003e\\u003c\\u002fextra\\u003e\",\"legendgroup\":\"2022\",\"line\":{\"color\":\"#00cc96\",\"dash\":\"solid\"},\"marker\":{\"symbol\":\"circle\"},\"mode\":\"lines+markers\",\"name\":\"2022\",\"orientation\":\"v\",\"showlegend\":true,\"x\":[2022],\"xaxis\":\"x\",\"y\":[24529.7],\"yaxis\":\"y\",\"type\":\"scatter\"},{\"hovertemplate\":\"Year=%{x}\\u003cbr\\u003eAutomobile_Sales=%{y}\\u003cextra\\u003e\\u003c\\u002fextra\\u003e\",\"legendgroup\":\"2023\",\"line\":{\"color\":\"#ab63fa\",\"dash\":\"solid\"},\"marker\":{\"symbol\":\"circle\"},\"mode\":\"lines+markers\",\"name\":\"2023\",\"orientation\":\"v\",\"showlegend\":true,\"x\":[2023],\"xaxis\":\"x\",\"y\":[31055.2],\"yaxis\":\"y\",\"type\":\"scatter\"}],                        {\"template\":{\"data\":{\"histogram2dcontour\":[{\"type\":\"histogram2dcontour\",\"colorbar\":{\"outlinewidth\":0,\"ticks\":\"\"},\"colorscale\":[[0.0,\"#0d0887\"],[0.1111111111111111,\"#46039f\"],[0.2222222222222222,\"#7201a8\"],[0.3333333333333333,\"#9c179e\"],[0.4444444444444444,\"#bd3786\"],[0.5555555555555556,\"#d8576b\"],[0.6666666666666666,\"#ed7953\"],[0.7777777777777778,\"#fb9f3a\"],[0.8888888888888888,\"#fdca26\"],[1.0,\"#f0f921\"]]}],\"choropleth\":[{\"type\":\"choropleth\",\"colorbar\":{\"outlinewidth\":0,\"ticks\":\"\"}}],\"histogram2d\":[{\"type\":\"histogram2d\",\"colorbar\":{\"outlinewidth\":0,\"ticks\":\"\"},\"colorscale\":[[0.0,\"#0d0887\"],[0.1111111111111111,\"#46039f\"],[0.2222222222222222,\"#7201a8\"],[0.3333333333333333,\"#9c179e\"],[0.4444444444444444,\"#bd3786\"],[0.5555555555555556,\"#d8576b\"],[0.6666666666666666,\"#ed7953\"],[0.7777777777777778,\"#fb9f3a\"],[0.8888888888888888,\"#fdca26\"],[1.0,\"#f0f921\"]]}],\"heatmap\":[{\"type\":\"heatmap\",\"colorbar\":{\"outlinewidth\":0,\"ticks\":\"\"},\"colorscale\":[[0.0,\"#0d0887\"],[0.1111111111111111,\"#46039f\"],[0.2222222222222222,\"#7201a8\"],[0.3333333333333333,\"#9c179e\"],[0.4444444444444444,\"#bd3786\"],[0.5555555555555556,\"#d8576b\"],[0.6666666666666666,\"#ed7953\"],[0.7777777777777778,\"#fb9f3a\"],[0.8888888888888888,\"#fdca26\"],[1.0,\"#f0f921\"]]}],\"heatmapgl\":[{\"type\":\"heatmapgl\",\"colorbar\":{\"outlinewidth\":0,\"ticks\":\"\"},\"colorscale\":[[0.0,\"#0d0887\"],[0.1111111111111111,\"#46039f\"],[0.2222222222222222,\"#7201a8\"],[0.3333333333333333,\"#9c179e\"],[0.4444444444444444,\"#bd3786\"],[0.5555555555555556,\"#d8576b\"],[0.6666666666666666,\"#ed7953\"],[0.7777777777777778,\"#fb9f3a\"],[0.8888888888888888,\"#fdca26\"],[1.0,\"#f0f921\"]]}],\"contourcarpet\":[{\"type\":\"contourcarpet\",\"colorbar\":{\"outlinewidth\":0,\"ticks\":\"\"}}],\"contour\":[{\"type\":\"contour\",\"colorbar\":{\"outlinewidth\":0,\"ticks\":\"\"},\"colorscale\":[[0.0,\"#0d0887\"],[0.1111111111111111,\"#46039f\"],[0.2222222222222222,\"#7201a8\"],[0.3333333333333333,\"#9c179e\"],[0.4444444444444444,\"#bd3786\"],[0.5555555555555556,\"#d8576b\"],[0.6666666666666666,\"#ed7953\"],[0.7777777777777778,\"#fb9f3a\"],[0.8888888888888888,\"#fdca26\"],[1.0,\"#f0f921\"]]}],\"surface\":[{\"type\":\"surface\",\"colorbar\":{\"outlinewidth\":0,\"ticks\":\"\"},\"colorscale\":[[0.0,\"#0d0887\"],[0.1111111111111111,\"#46039f\"],[0.2222222222222222,\"#7201a8\"],[0.3333333333333333,\"#9c179e\"],[0.4444444444444444,\"#bd3786\"],[0.5555555555555556,\"#d8576b\"],[0.6666666666666666,\"#ed7953\"],[0.7777777777777778,\"#fb9f3a\"],[0.8888888888888888,\"#fdca26\"],[1.0,\"#f0f921\"]]}],\"mesh3d\":[{\"type\":\"mesh3d\",\"colorbar\":{\"outlinewidth\":0,\"ticks\":\"\"}}],\"scatter\":[{\"fillpattern\":{\"fillmode\":\"overlay\",\"size\":10,\"solidity\":0.2},\"type\":\"scatter\"}],\"parcoords\":[{\"type\":\"parcoords\",\"line\":{\"colorbar\":{\"outlinewidth\":0,\"ticks\":\"\"}}}],\"scatterpolargl\":[{\"type\":\"scatterpolargl\",\"marker\":{\"colorbar\":{\"outlinewidth\":0,\"ticks\":\"\"}}}],\"bar\":[{\"error_x\":{\"color\":\"#2a3f5f\"},\"error_y\":{\"color\":\"#2a3f5f\"},\"marker\":{\"line\":{\"color\":\"#E5ECF6\",\"width\":0.5},\"pattern\":{\"fillmode\":\"overlay\",\"size\":10,\"solidity\":0.2}},\"type\":\"bar\"}],\"scattergeo\":[{\"type\":\"scattergeo\",\"marker\":{\"colorbar\":{\"outlinewidth\":0,\"ticks\":\"\"}}}],\"scatterpolar\":[{\"type\":\"scatterpolar\",\"marker\":{\"colorbar\":{\"outlinewidth\":0,\"ticks\":\"\"}}}],\"histogram\":[{\"marker\":{\"pattern\":{\"fillmode\":\"overlay\",\"size\":10,\"solidity\":0.2}},\"type\":\"histogram\"}],\"scattergl\":[{\"type\":\"scattergl\",\"marker\":{\"colorbar\":{\"outlinewidth\":0,\"ticks\":\"\"}}}],\"scatter3d\":[{\"type\":\"scatter3d\",\"line\":{\"colorbar\":{\"outlinewidth\":0,\"ticks\":\"\"}},\"marker\":{\"colorbar\":{\"outlinewidth\":0,\"ticks\":\"\"}}}],\"scattermapbox\":[{\"type\":\"scattermapbox\",\"marker\":{\"colorbar\":{\"outlinewidth\":0,\"ticks\":\"\"}}}],\"scatterternary\":[{\"type\":\"scatterternary\",\"marker\":{\"colorbar\":{\"outlinewidth\":0,\"ticks\":\"\"}}}],\"scattercarpet\":[{\"type\":\"scattercarpet\",\"marker\":{\"colorbar\":{\"outlinewidth\":0,\"ticks\":\"\"}}}],\"carpet\":[{\"aaxis\":{\"endlinecolor\":\"#2a3f5f\",\"gridcolor\":\"white\",\"linecolor\":\"white\",\"minorgridcolor\":\"white\",\"startlinecolor\":\"#2a3f5f\"},\"baxis\":{\"endlinecolor\":\"#2a3f5f\",\"gridcolor\":\"white\",\"linecolor\":\"white\",\"minorgridcolor\":\"white\",\"startlinecolor\":\"#2a3f5f\"},\"type\":\"carpet\"}],\"table\":[{\"cells\":{\"fill\":{\"color\":\"#EBF0F8\"},\"line\":{\"color\":\"white\"}},\"header\":{\"fill\":{\"color\":\"#C8D4E3\"},\"line\":{\"color\":\"white\"}},\"type\":\"table\"}],\"barpolar\":[{\"marker\":{\"line\":{\"color\":\"#E5ECF6\",\"width\":0.5},\"pattern\":{\"fillmode\":\"overlay\",\"size\":10,\"solidity\":0.2}},\"type\":\"barpolar\"}],\"pie\":[{\"automargin\":true,\"type\":\"pie\"}]},\"layout\":{\"autotypenumbers\":\"strict\",\"colorway\":[\"#636efa\",\"#EF553B\",\"#00cc96\",\"#ab63fa\",\"#FFA15A\",\"#19d3f3\",\"#FF6692\",\"#B6E880\",\"#FF97FF\",\"#FECB52\"],\"font\":{\"color\":\"#2a3f5f\"},\"hovermode\":\"closest\",\"hoverlabel\":{\"align\":\"left\"},\"paper_bgcolor\":\"white\",\"plot_bgcolor\":\"#E5ECF6\",\"polar\":{\"bgcolor\":\"#E5ECF6\",\"angularaxis\":{\"gridcolor\":\"white\",\"linecolor\":\"white\",\"ticks\":\"\"},\"radialaxis\":{\"gridcolor\":\"white\",\"linecolor\":\"white\",\"ticks\":\"\"}},\"ternary\":{\"bgcolor\":\"#E5ECF6\",\"aaxis\":{\"gridcolor\":\"white\",\"linecolor\":\"white\",\"ticks\":\"\"},\"baxis\":{\"gridcolor\":\"white\",\"linecolor\":\"white\",\"ticks\":\"\"},\"caxis\":{\"gridcolor\":\"white\",\"linecolor\":\"white\",\"ticks\":\"\"}},\"coloraxis\":{\"colorbar\":{\"outlinewidth\":0,\"ticks\":\"\"}},\"colorscale\":{\"sequential\":[[0.0,\"#0d0887\"],[0.1111111111111111,\"#46039f\"],[0.2222222222222222,\"#7201a8\"],[0.3333333333333333,\"#9c179e\"],[0.4444444444444444,\"#bd3786\"],[0.5555555555555556,\"#d8576b\"],[0.6666666666666666,\"#ed7953\"],[0.7777777777777778,\"#fb9f3a\"],[0.8888888888888888,\"#fdca26\"],[1.0,\"#f0f921\"]],\"sequentialminus\":[[0.0,\"#0d0887\"],[0.1111111111111111,\"#46039f\"],[0.2222222222222222,\"#7201a8\"],[0.3333333333333333,\"#9c179e\"],[0.4444444444444444,\"#bd3786\"],[0.5555555555555556,\"#d8576b\"],[0.6666666666666666,\"#ed7953\"],[0.7777777777777778,\"#fb9f3a\"],[0.8888888888888888,\"#fdca26\"],[1.0,\"#f0f921\"]],\"diverging\":[[0,\"#8e0152\"],[0.1,\"#c51b7d\"],[0.2,\"#de77ae\"],[0.3,\"#f1b6da\"],[0.4,\"#fde0ef\"],[0.5,\"#f7f7f7\"],[0.6,\"#e6f5d0\"],[0.7,\"#b8e186\"],[0.8,\"#7fbc41\"],[0.9,\"#4d9221\"],[1,\"#276419\"]]},\"xaxis\":{\"gridcolor\":\"white\",\"linecolor\":\"white\",\"ticks\":\"\",\"title\":{\"standoff\":15},\"zerolinecolor\":\"white\",\"automargin\":true,\"zerolinewidth\":2},\"yaxis\":{\"gridcolor\":\"white\",\"linecolor\":\"white\",\"ticks\":\"\",\"title\":{\"standoff\":15},\"zerolinecolor\":\"white\",\"automargin\":true,\"zerolinewidth\":2},\"scene\":{\"xaxis\":{\"backgroundcolor\":\"#E5ECF6\",\"gridcolor\":\"white\",\"linecolor\":\"white\",\"showbackground\":true,\"ticks\":\"\",\"zerolinecolor\":\"white\",\"gridwidth\":2},\"yaxis\":{\"backgroundcolor\":\"#E5ECF6\",\"gridcolor\":\"white\",\"linecolor\":\"white\",\"showbackground\":true,\"ticks\":\"\",\"zerolinecolor\":\"white\",\"gridwidth\":2},\"zaxis\":{\"backgroundcolor\":\"#E5ECF6\",\"gridcolor\":\"white\",\"linecolor\":\"white\",\"showbackground\":true,\"ticks\":\"\",\"zerolinecolor\":\"white\",\"gridwidth\":2}},\"shapedefaults\":{\"line\":{\"color\":\"#2a3f5f\"}},\"annotationdefaults\":{\"arrowcolor\":\"#2a3f5f\",\"arrowhead\":0,\"arrowwidth\":1},\"geo\":{\"bgcolor\":\"white\",\"landcolor\":\"#E5ECF6\",\"subunitcolor\":\"white\",\"showland\":true,\"showlakes\":true,\"lakecolor\":\"white\"},\"title\":{\"x\":0.05},\"mapbox\":{\"style\":\"light\"}}},\"xaxis\":{\"anchor\":\"y\",\"domain\":[0.0,1.0],\"title\":{\"text\":\"Year\"},\"categoryorder\":\"array\",\"categoryarray\":[1980,1981,1982,1983,1984,1985,1986,1987,1988,1989,1990,1991,1992,1993,1994,1995,1996,1997,1998,1999,2000,2001,2002,2003,2004,2005,2006,2007,2008,2009,2010,2011,2012,2013,2014,2015,2016,2017,2018,2019,2020,2021,2022,2023]},\"yaxis\":{\"anchor\":\"x\",\"domain\":[0.0,1.0],\"title\":{\"text\":\"Automobile_Sales\"}},\"legend\":{\"title\":{\"text\":\"Year\"},\"tracegroupgap\":0},\"title\":{\"text\":\"Total Automobile Sales per year\",\"x\":0.5}},                        {\"responsive\": true}                    ).then(function(){\n",
       "                            \n",
       "var gd = document.getElementById('fb3a1955-a868-4085-b3cb-b3cb74faf598');\n",
       "var x = new MutationObserver(function (mutations, observer) {{\n",
       "        var display = window.getComputedStyle(gd).display;\n",
       "        if (!display || display === 'none') {{\n",
       "            console.log([gd, 'removed!']);\n",
       "            Plotly.purge(gd);\n",
       "            observer.disconnect();\n",
       "        }}\n",
       "}});\n",
       "\n",
       "// Listen for the removal of the full notebook cells\n",
       "var notebookContainer = gd.closest('#notebook-container');\n",
       "if (notebookContainer) {{\n",
       "    x.observe(notebookContainer, {childList: true});\n",
       "}}\n",
       "\n",
       "// Listen for the clearing of the current output cell\n",
       "var outputEl = gd.closest('.output');\n",
       "if (outputEl) {{\n",
       "    x.observe(outputEl, {childList: true});\n",
       "}}\n",
       "\n",
       "                        })                };                });            </script>        </div>"
      ]
     },
     "metadata": {},
     "output_type": "display_data"
    }
   ],
   "source": [
    "Yearly_sales =df.groupby(\"Year\")[\"Automobile_Sales\"].sum().reset_index()\n",
    "fig1 =px.line(Yearly_sales,\n",
    "              x=\"Year\",\n",
    "              y=\"Automobile_Sales\",\n",
    "              title=\"Total Automobile Sales per year\",\n",
    "              color=\"Year\",\n",
    "              markers=\"True\")\n",
    "fig1.update_layout(title_x=0.5)\n",
    "fig1.show()"
   ]
  },
  {
   "cell_type": "code",
   "execution_count": 25,
   "id": "184574fc-be1e-4fcd-94dd-7185bf27b55d",
   "metadata": {},
   "outputs": [],
   "source": [
    "#general increase of sales over the years(dips indicating the recession years)"
   ]
  },
  {
   "cell_type": "code",
   "execution_count": 26,
   "id": "4aa630e9-33bd-4a8a-8e8b-e620746f05ac",
   "metadata": {},
   "outputs": [
    {
     "data": {
      "application/vnd.plotly.v1+json": {
       "config": {
        "plotlyServerURL": "https://plot.ly"
       },
       "data": [
        {
         "hovertemplate": "unemployment_rate=%{x}<br>Automobile_Sales=%{y}<extra></extra>",
         "legendgroup": "",
         "marker": {
          "color": "#636efa",
          "symbol": "circle"
         },
         "mode": "markers",
         "name": "",
         "orientation": "v",
         "showlegend": false,
         "type": "scatter",
         "x": [
          5.4,
          4.8,
          3.4,
          4.2,
          5.3,
          2.9,
          2.9,
          3,
          5.2,
          4.4,
          2.6,
          3.3,
          5.9,
          5.8,
          4.4,
          2.8,
          4.1,
          4.3,
          5.6,
          3.7,
          3.1,
          4.7,
          3.3,
          2.6,
          5.3,
          4.2,
          5,
          3.2,
          4,
          3.8,
          3.2,
          4.6,
          2.8,
          4.1,
          5.4,
          3.6,
          3.2,
          4.9,
          3,
          2.8,
          5,
          2.6,
          5.5,
          5.3,
          5.4,
          2.9,
          3.7,
          5.5,
          4.5,
          3.8,
          5.7,
          2.9,
          3.2,
          4.2,
          2.6,
          4.5,
          2.6,
          3.7,
          3.8,
          5.4,
          2.9,
          4.5,
          5.4,
          6,
          4,
          4.2,
          3.5,
          2.9,
          5.7,
          3.4,
          5.3,
          3,
          3.1,
          4.1,
          3.5,
          4.9,
          4.4,
          3.1,
          4.4,
          4.7,
          4.3,
          3.1,
          4.8,
          5.4,
          3.5,
          3.1,
          5.6,
          5.2,
          5.5,
          4.8,
          4.4,
          3.4,
          3.7,
          3.8,
          4.8,
          3.1,
          4.4,
          2.6,
          3.8,
          5.6,
          3.6,
          4.9,
          3.6,
          5.8,
          5.4,
          3,
          5.2,
          3.1,
          5,
          3.7,
          3.6,
          4.2,
          4.9,
          2.4,
          1.5,
          2,
          2.3,
          2.3,
          3,
          2.4,
          1.7,
          1.1,
          1.3,
          3,
          1.2,
          1.4,
          1.4,
          2.1,
          2.2,
          2.4,
          2.9,
          2.5,
          2.5,
          2,
          1.5,
          2.1,
          2.9,
          1.1,
          1.1,
          1.4,
          1,
          1.9,
          1.1,
          2.8,
          2.3,
          2.5,
          2.6,
          2.7,
          1.8,
          1.4,
          1.8,
          2.7,
          1.4,
          1.7,
          2.2,
          1.7,
          2.5,
          2.3,
          1.2,
          2.4,
          2.1,
          1.2,
          1.6,
          2.9,
          2.7,
          3,
          1.7,
          2.1,
          2.7,
          1.1,
          1.9,
          2.5,
          2,
          1.6,
          2.8,
          2.5,
          1.4,
          2.1,
          1.9,
          2.1,
          2.9,
          2.7,
          2.1,
          2.6,
          2.9,
          1.3,
          1,
          1.4,
          1.3,
          2.5,
          1.1,
          2.6,
          1.1,
          1,
          1.6,
          1,
          1.9,
          2.5,
          2.1,
          1.8,
          2.9,
          1.8,
          1,
          2.6,
          1.4,
          1.2,
          1.1,
          1.1,
          2,
          1,
          1.5,
          2.7,
          2,
          1.6,
          2.5,
          1.7,
          1.7,
          2.7,
          1.9,
          1.5,
          2,
          3,
          3,
          2.3,
          1.1,
          2.5,
          1.7,
          2.6,
          2.4,
          1.3,
          1.5,
          2.8,
          2.1,
          2.9,
          2,
          1.7,
          2.8,
          2.4,
          2.2,
          1.2,
          1,
          2.9,
          1.5,
          2.3,
          2.2,
          1.5,
          1.2,
          1.1,
          1.8,
          2.3,
          1.4,
          2.5,
          1.9,
          2.3,
          1.7,
          2.5,
          2.6,
          1.2,
          2.8,
          2,
          2.6,
          2.9,
          2.9,
          2.6,
          1.3,
          2.4,
          1.1,
          1.8,
          2.1,
          1.8,
          2,
          1.5,
          2.4,
          2.3,
          1.2,
          1.1,
          1.2,
          2.2,
          1.4,
          2,
          2,
          2.6,
          1.8,
          2.6,
          2.3,
          1.3,
          2.6,
          2.9,
          2.9,
          1.1,
          2,
          2.2,
          1.4,
          1.3,
          2.3,
          1.6,
          1.5,
          1.7,
          2.7,
          1.2,
          1.9,
          2.4,
          2.1,
          2.9,
          2.7,
          1.5,
          3,
          2.2,
          2,
          2.9,
          1.1,
          2.5,
          2.4,
          2.4,
          2.5,
          3,
          1.5,
          1.1,
          2.6,
          1.7,
          1.5,
          1.3,
          2.2,
          2.4,
          2.3,
          1.6,
          1.4,
          2.6,
          2.3,
          1.2,
          1.4,
          1,
          1.5,
          2.2,
          1.8,
          1.7,
          2.8,
          1.9,
          1.6,
          2.7,
          1.4,
          1.8,
          1.1,
          2.9,
          2.5,
          1.8,
          2.4,
          1.6,
          1.5,
          2.8,
          2,
          2,
          2.3,
          1.1,
          1.3,
          1.6,
          1.6,
          2.1,
          1.2,
          1.6,
          1.5,
          1.3,
          2.5,
          1.4,
          2.6,
          2.3,
          2.3,
          1,
          1.3,
          1.6,
          1.5,
          1.9,
          1.1,
          2,
          2.2,
          2.7,
          1.4,
          1.5,
          2.2,
          2.9,
          1.3,
          3,
          1.6,
          1.1,
          2.1,
          2.5,
          1.6,
          1.4,
          1.9,
          1.1,
          2.9,
          2,
          1.6,
          1.3,
          2.6,
          1.4,
          1.9,
          2.2,
          2.7,
          1.3,
          2.7,
          2.4,
          2.4,
          1.3,
          1.7,
          1.4,
          2.5,
          1.8,
          1.9,
          1.3,
          1.2,
          3,
          1.7,
          2.9,
          1.9,
          2.4,
          2.4,
          2.3,
          1.8,
          2.3,
          1.5,
          2.2,
          2.9,
          1.4,
          2.4,
          2.1,
          1.6,
          2.3,
          2.9,
          2.3,
          1.1,
          1.7,
          1.7,
          1.7,
          2.6,
          2.2,
          1.5,
          2.8,
          2.4,
          2.4,
          2.1,
          1,
          2.9,
          2,
          2.6,
          1.1,
          2.8,
          2.2,
          1.5,
          1.6,
          2.2,
          2.3,
          2.2,
          2.5,
          2.6,
          2,
          2.5,
          2.4,
          1.7,
          1.1,
          1.8,
          2.8,
          2.8,
          1.1,
          2.4,
          2.8,
          1.8,
          1.8,
          1.7,
          2.5,
          3,
          1.1,
          2.5,
          1.6,
          1.6,
          1.8,
          2.4,
          2.5,
          1.8,
          1.3,
          1.1,
          2.8,
          2.7,
          1.1,
          1.5,
          1.2,
          2.6,
          1.8,
          1.6,
          1.6,
          2.2,
          3,
          1.8,
          2.5,
          2.1,
          1.1,
          2.2,
          1.3,
          2.6,
          1.7,
          1,
          2.8,
          3,
          2.1,
          2.8,
          1.5,
          1.2,
          2.1,
          2.5,
          2.1,
          1.6,
          3,
          1.8,
          1.8,
          1.7,
          2.5,
          1.6,
          2.8,
          2.6,
          1.2,
          1.5,
          3,
          2.5,
          2.6,
          2.5,
          2.5,
          2.9,
          2.1
         ],
         "xaxis": "x",
         "y": [
          456,
          555.9,
          620,
          702.8,
          770.4,
          754.5,
          729.6,
          734.9,
          705.6,
          609.7,
          763,
          745,
          325,
          574.3,
          654,
          657.1,
          752.9,
          677.6,
          638.2,
          779.5,
          574.2,
          648.1,
          558,
          762,
          466,
          614.4,
          751.4,
          617.3,
          763.9,
          726.7,
          738.8,
          552.3,
          776.2,
          720.2,
          102,
          744.6,
          589,
          754.8,
          574.7,
          714.8,
          676.1,
          570.9,
          605.3,
          550.9,
          659.1,
          619.4,
          689.8,
          723,
          619.1,
          724.1,
          559.4,
          564,
          750,
          706.3,
          688.6,
          759.5,
          591.9,
          566.7,
          604.8,
          736.3,
          556.2,
          686.1,
          783.9,
          750.8,
          671.6,
          563.1,
          745,
          690,
          575.2,
          570.2,
          195,
          706.6,
          744.5,
          756.3,
          683.5,
          670.6,
          650,
          623.1,
          651,
          731.4,
          690.7,
          759.5,
          653.1,
          691.9,
          697.6,
          688.2,
          714.5,
          604.3,
          669.4,
          572.7,
          639.1,
          663.6,
          702.6,
          773.3,
          690.4,
          724.2,
          668,
          698.3,
          564.8,
          608.3,
          633.8,
          660,
          558.8,
          581.2,
          613.6,
          778.3,
          626.5,
          662.2,
          594.5,
          692.8,
          214,
          597.1,
          670.4,
          3799.1,
          3533.5,
          3240.4,
          908.1,
          4769.8,
          426.5,
          4120.2,
          4199.6,
          4686.4,
          2962.9,
          1436.7,
          3284.7,
          3844.2,
          3822.1,
          2514,
          851.8,
          2194.6,
          4633.4,
          3141.2,
          2936.6,
          1740.9,
          2182.8,
          4520.7,
          3505.1,
          4041.6,
          2563.9,
          2861,
          3336.3,
          3678.1,
          2445.3,
          2511.6,
          3429,
          4702.3,
          832,
          4207.4,
          1845.3,
          2517.7,
          645.2,
          1345.2,
          2778.2,
          797.3,
          2727,
          4661.6,
          1015.6,
          3939.8,
          2365.7,
          3455,
          1702.7,
          1255.7,
          1260,
          860.8,
          1883.7,
          3495.1,
          4460.1,
          4160.3,
          3587.9,
          1038,
          1831.1,
          1922.6,
          1657.1,
          2833.1,
          2924.3,
          2131.5,
          3663.4,
          4224.3,
          4050.1,
          1913.7,
          4602.5,
          4775.6,
          1997.8,
          2120.6,
          2791.5,
          4723.8,
          4436.2,
          1003.1,
          2290.5,
          3003.3,
          2780.4,
          1408.2,
          4358.6,
          3551.6,
          4265.8,
          4358.3,
          3868.5,
          804.6,
          3257,
          1259.5,
          3537,
          1343.3,
          3627.1,
          1566.7,
          1069.6,
          1281.4,
          556.8,
          3737,
          3797.7,
          2832.8,
          1264,
          918.7,
          632.9,
          1283.4,
          4500.7,
          1619.7,
          2119.9,
          1015.4,
          1534.6,
          2851.8,
          3244.6,
          1636.6,
          2496.8,
          2283,
          1587.2,
          1522.2,
          4806.9,
          3282.5,
          3018.9,
          2392.8,
          2451.2,
          2948,
          3638.1,
          21147,
          1309.8,
          2767,
          2375.9,
          4410.5,
          3349.6,
          2910.7,
          1060,
          3235.2,
          1068,
          2044.2,
          1181.8,
          3618.7,
          1463.1,
          2286.7,
          4522.1,
          1454.6,
          2801.1,
          2408.3,
          628.4,
          4065.5,
          854.4,
          2652.3,
          3035.7,
          1650.1,
          3603.5,
          1671.8,
          592.3,
          3757.9,
          2924.7,
          4257.9,
          4192.5,
          4289.8,
          2700.4,
          2028.3,
          4060.1,
          2550.4,
          1361.9,
          4341.5,
          4463.9,
          2617,
          883.9,
          2268.8,
          4113.3,
          4549.2,
          1450.8,
          845.2,
          4440.8,
          2275.8,
          2951.8,
          4843.3,
          843.3,
          3424.6,
          876.8,
          2214,
          4114.5,
          2471.3,
          4972.5,
          3028.5,
          1973,
          1524.6,
          2103.3,
          2200.9,
          852.9,
          2187.8,
          2607.8,
          3754.8,
          3461.9,
          3692.8,
          585.1,
          3483.9,
          1513.4,
          2695.5,
          571.6,
          4117.5,
          3977,
          2981.3,
          842.9,
          3949,
          3137.9,
          4017.6,
          3883.5,
          4110.9,
          2846.4,
          1170.6,
          3525.9,
          3301,
          3841.4,
          1301.8,
          1413.1,
          4498.7,
          3875.7,
          4577.8,
          3914.4,
          3197.6,
          3450.4,
          4493.1,
          3116.2,
          3353.9,
          1242.3,
          2650.8,
          3726.7,
          1750.2,
          1445.4,
          1940.4,
          1619.5,
          1501.6,
          2433.1,
          4576.1,
          2797.8,
          1381.8,
          889.5,
          3636.8,
          2246.5,
          4194.5,
          3474.2,
          4080.9,
          1754.6,
          3620,
          1719.6,
          4714.6,
          3371.6,
          1987.9,
          1743.8,
          1395.1,
          3630.1,
          1518.4,
          3189.4,
          1722.2,
          3485.2,
          4163.9,
          4000.1,
          3923.9,
          1380.9,
          940.2,
          3649.2,
          2182.4,
          2466.3,
          686.2,
          1699.7,
          697.4,
          4448.9,
          1628,
          3020.9,
          721,
          3506.8,
          1981.3,
          4532.1,
          4488.6,
          1991.3,
          4545.6,
          4968,
          4210.4,
          4296.7,
          1652.9,
          3106.8,
          846.4,
          969.2,
          4423.5,
          1997.3,
          3867.7,
          4127.2,
          4355,
          4974.5,
          1619.5,
          727,
          2372.5,
          1125.2,
          647.5,
          2147.2,
          4025.4,
          3060.1,
          1935.8,
          3451.3,
          1577.5,
          611.8,
          3939.4,
          3315.5,
          3930.3,
          720.8,
          4262.3,
          3296.8,
          3047.8,
          3319.4,
          4383.5,
          3152.2,
          3125.7,
          4943.6,
          3905.6,
          2510.5,
          3686.7,
          2275,
          1563.5,
          3196.2,
          4666.3,
          4670.6,
          2065,
          2889.3,
          1487,
          4965.6,
          4901.2,
          3429.9,
          4117.2,
          3720.9,
          3179.8,
          985.14,
          2565.8,
          1420.6,
          3554.2,
          2203.5,
          4726.3,
          1290.6,
          2768.1,
          3613.5,
          3641.2,
          3426,
          1769.5,
          1241.1,
          3369.7,
          3207.1,
          1343.8,
          3676.7,
          2567.6,
          3510.9,
          4263.4,
          1301.1,
          632.9,
          4004.9,
          3253.2,
          3652.3,
          4266.9,
          4110.1,
          4811.6,
          2925.9,
          2715.5,
          2331.2,
          1229.9,
          3088.7,
          1777.1,
          4635.8,
          3135.6,
          3178.4,
          2122.8,
          778.7,
          688.8,
          2426.3,
          923.2,
          3240.6,
          4456.9,
          4465.5,
          3472.2,
          1485.2,
          4377.1,
          4479.6,
          1024.5,
          3820,
          1819.3,
          4109.3,
          4972.7,
          681.2,
          4529.6,
          3310.6,
          4866.9,
          2611.2,
          4307.9,
          824.8,
          2035.6,
          845.4,
          4875.6,
          4172.9,
          4330.8,
          4709.8,
          925.6,
          2258.9,
          863.2,
          1483.3,
          1565.7,
          2629.4,
          1739.6,
          996,
          1291.2,
          1201.5,
          4865.5,
          3917,
          4842,
          2499.1,
          1783.1,
          4090,
          1995.6,
          1876.4,
          1579.6,
          1123.4,
          1685.9,
          2124.6,
          3538.5
         ],
         "yaxis": "y"
        }
       ],
       "layout": {
        "autosize": true,
        "legend": {
         "tracegroupgap": 0
        },
        "template": {
         "data": {
          "bar": [
           {
            "error_x": {
             "color": "#2a3f5f"
            },
            "error_y": {
             "color": "#2a3f5f"
            },
            "marker": {
             "line": {
              "color": "#E5ECF6",
              "width": 0.5
             },
             "pattern": {
              "fillmode": "overlay",
              "size": 10,
              "solidity": 0.2
             }
            },
            "type": "bar"
           }
          ],
          "barpolar": [
           {
            "marker": {
             "line": {
              "color": "#E5ECF6",
              "width": 0.5
             },
             "pattern": {
              "fillmode": "overlay",
              "size": 10,
              "solidity": 0.2
             }
            },
            "type": "barpolar"
           }
          ],
          "carpet": [
           {
            "aaxis": {
             "endlinecolor": "#2a3f5f",
             "gridcolor": "white",
             "linecolor": "white",
             "minorgridcolor": "white",
             "startlinecolor": "#2a3f5f"
            },
            "baxis": {
             "endlinecolor": "#2a3f5f",
             "gridcolor": "white",
             "linecolor": "white",
             "minorgridcolor": "white",
             "startlinecolor": "#2a3f5f"
            },
            "type": "carpet"
           }
          ],
          "choropleth": [
           {
            "colorbar": {
             "outlinewidth": 0,
             "ticks": ""
            },
            "type": "choropleth"
           }
          ],
          "contour": [
           {
            "colorbar": {
             "outlinewidth": 0,
             "ticks": ""
            },
            "colorscale": [
             [
              0,
              "#0d0887"
             ],
             [
              0.1111111111111111,
              "#46039f"
             ],
             [
              0.2222222222222222,
              "#7201a8"
             ],
             [
              0.3333333333333333,
              "#9c179e"
             ],
             [
              0.4444444444444444,
              "#bd3786"
             ],
             [
              0.5555555555555556,
              "#d8576b"
             ],
             [
              0.6666666666666666,
              "#ed7953"
             ],
             [
              0.7777777777777778,
              "#fb9f3a"
             ],
             [
              0.8888888888888888,
              "#fdca26"
             ],
             [
              1,
              "#f0f921"
             ]
            ],
            "type": "contour"
           }
          ],
          "contourcarpet": [
           {
            "colorbar": {
             "outlinewidth": 0,
             "ticks": ""
            },
            "type": "contourcarpet"
           }
          ],
          "heatmap": [
           {
            "colorbar": {
             "outlinewidth": 0,
             "ticks": ""
            },
            "colorscale": [
             [
              0,
              "#0d0887"
             ],
             [
              0.1111111111111111,
              "#46039f"
             ],
             [
              0.2222222222222222,
              "#7201a8"
             ],
             [
              0.3333333333333333,
              "#9c179e"
             ],
             [
              0.4444444444444444,
              "#bd3786"
             ],
             [
              0.5555555555555556,
              "#d8576b"
             ],
             [
              0.6666666666666666,
              "#ed7953"
             ],
             [
              0.7777777777777778,
              "#fb9f3a"
             ],
             [
              0.8888888888888888,
              "#fdca26"
             ],
             [
              1,
              "#f0f921"
             ]
            ],
            "type": "heatmap"
           }
          ],
          "heatmapgl": [
           {
            "colorbar": {
             "outlinewidth": 0,
             "ticks": ""
            },
            "colorscale": [
             [
              0,
              "#0d0887"
             ],
             [
              0.1111111111111111,
              "#46039f"
             ],
             [
              0.2222222222222222,
              "#7201a8"
             ],
             [
              0.3333333333333333,
              "#9c179e"
             ],
             [
              0.4444444444444444,
              "#bd3786"
             ],
             [
              0.5555555555555556,
              "#d8576b"
             ],
             [
              0.6666666666666666,
              "#ed7953"
             ],
             [
              0.7777777777777778,
              "#fb9f3a"
             ],
             [
              0.8888888888888888,
              "#fdca26"
             ],
             [
              1,
              "#f0f921"
             ]
            ],
            "type": "heatmapgl"
           }
          ],
          "histogram": [
           {
            "marker": {
             "pattern": {
              "fillmode": "overlay",
              "size": 10,
              "solidity": 0.2
             }
            },
            "type": "histogram"
           }
          ],
          "histogram2d": [
           {
            "colorbar": {
             "outlinewidth": 0,
             "ticks": ""
            },
            "colorscale": [
             [
              0,
              "#0d0887"
             ],
             [
              0.1111111111111111,
              "#46039f"
             ],
             [
              0.2222222222222222,
              "#7201a8"
             ],
             [
              0.3333333333333333,
              "#9c179e"
             ],
             [
              0.4444444444444444,
              "#bd3786"
             ],
             [
              0.5555555555555556,
              "#d8576b"
             ],
             [
              0.6666666666666666,
              "#ed7953"
             ],
             [
              0.7777777777777778,
              "#fb9f3a"
             ],
             [
              0.8888888888888888,
              "#fdca26"
             ],
             [
              1,
              "#f0f921"
             ]
            ],
            "type": "histogram2d"
           }
          ],
          "histogram2dcontour": [
           {
            "colorbar": {
             "outlinewidth": 0,
             "ticks": ""
            },
            "colorscale": [
             [
              0,
              "#0d0887"
             ],
             [
              0.1111111111111111,
              "#46039f"
             ],
             [
              0.2222222222222222,
              "#7201a8"
             ],
             [
              0.3333333333333333,
              "#9c179e"
             ],
             [
              0.4444444444444444,
              "#bd3786"
             ],
             [
              0.5555555555555556,
              "#d8576b"
             ],
             [
              0.6666666666666666,
              "#ed7953"
             ],
             [
              0.7777777777777778,
              "#fb9f3a"
             ],
             [
              0.8888888888888888,
              "#fdca26"
             ],
             [
              1,
              "#f0f921"
             ]
            ],
            "type": "histogram2dcontour"
           }
          ],
          "mesh3d": [
           {
            "colorbar": {
             "outlinewidth": 0,
             "ticks": ""
            },
            "type": "mesh3d"
           }
          ],
          "parcoords": [
           {
            "line": {
             "colorbar": {
              "outlinewidth": 0,
              "ticks": ""
             }
            },
            "type": "parcoords"
           }
          ],
          "pie": [
           {
            "automargin": true,
            "type": "pie"
           }
          ],
          "scatter": [
           {
            "fillpattern": {
             "fillmode": "overlay",
             "size": 10,
             "solidity": 0.2
            },
            "type": "scatter"
           }
          ],
          "scatter3d": [
           {
            "line": {
             "colorbar": {
              "outlinewidth": 0,
              "ticks": ""
             }
            },
            "marker": {
             "colorbar": {
              "outlinewidth": 0,
              "ticks": ""
             }
            },
            "type": "scatter3d"
           }
          ],
          "scattercarpet": [
           {
            "marker": {
             "colorbar": {
              "outlinewidth": 0,
              "ticks": ""
             }
            },
            "type": "scattercarpet"
           }
          ],
          "scattergeo": [
           {
            "marker": {
             "colorbar": {
              "outlinewidth": 0,
              "ticks": ""
             }
            },
            "type": "scattergeo"
           }
          ],
          "scattergl": [
           {
            "marker": {
             "colorbar": {
              "outlinewidth": 0,
              "ticks": ""
             }
            },
            "type": "scattergl"
           }
          ],
          "scattermapbox": [
           {
            "marker": {
             "colorbar": {
              "outlinewidth": 0,
              "ticks": ""
             }
            },
            "type": "scattermapbox"
           }
          ],
          "scatterpolar": [
           {
            "marker": {
             "colorbar": {
              "outlinewidth": 0,
              "ticks": ""
             }
            },
            "type": "scatterpolar"
           }
          ],
          "scatterpolargl": [
           {
            "marker": {
             "colorbar": {
              "outlinewidth": 0,
              "ticks": ""
             }
            },
            "type": "scatterpolargl"
           }
          ],
          "scatterternary": [
           {
            "marker": {
             "colorbar": {
              "outlinewidth": 0,
              "ticks": ""
             }
            },
            "type": "scatterternary"
           }
          ],
          "surface": [
           {
            "colorbar": {
             "outlinewidth": 0,
             "ticks": ""
            },
            "colorscale": [
             [
              0,
              "#0d0887"
             ],
             [
              0.1111111111111111,
              "#46039f"
             ],
             [
              0.2222222222222222,
              "#7201a8"
             ],
             [
              0.3333333333333333,
              "#9c179e"
             ],
             [
              0.4444444444444444,
              "#bd3786"
             ],
             [
              0.5555555555555556,
              "#d8576b"
             ],
             [
              0.6666666666666666,
              "#ed7953"
             ],
             [
              0.7777777777777778,
              "#fb9f3a"
             ],
             [
              0.8888888888888888,
              "#fdca26"
             ],
             [
              1,
              "#f0f921"
             ]
            ],
            "type": "surface"
           }
          ],
          "table": [
           {
            "cells": {
             "fill": {
              "color": "#EBF0F8"
             },
             "line": {
              "color": "white"
             }
            },
            "header": {
             "fill": {
              "color": "#C8D4E3"
             },
             "line": {
              "color": "white"
             }
            },
            "type": "table"
           }
          ]
         },
         "layout": {
          "annotationdefaults": {
           "arrowcolor": "#2a3f5f",
           "arrowhead": 0,
           "arrowwidth": 1
          },
          "autotypenumbers": "strict",
          "coloraxis": {
           "colorbar": {
            "outlinewidth": 0,
            "ticks": ""
           }
          },
          "colorscale": {
           "diverging": [
            [
             0,
             "#8e0152"
            ],
            [
             0.1,
             "#c51b7d"
            ],
            [
             0.2,
             "#de77ae"
            ],
            [
             0.3,
             "#f1b6da"
            ],
            [
             0.4,
             "#fde0ef"
            ],
            [
             0.5,
             "#f7f7f7"
            ],
            [
             0.6,
             "#e6f5d0"
            ],
            [
             0.7,
             "#b8e186"
            ],
            [
             0.8,
             "#7fbc41"
            ],
            [
             0.9,
             "#4d9221"
            ],
            [
             1,
             "#276419"
            ]
           ],
           "sequential": [
            [
             0,
             "#0d0887"
            ],
            [
             0.1111111111111111,
             "#46039f"
            ],
            [
             0.2222222222222222,
             "#7201a8"
            ],
            [
             0.3333333333333333,
             "#9c179e"
            ],
            [
             0.4444444444444444,
             "#bd3786"
            ],
            [
             0.5555555555555556,
             "#d8576b"
            ],
            [
             0.6666666666666666,
             "#ed7953"
            ],
            [
             0.7777777777777778,
             "#fb9f3a"
            ],
            [
             0.8888888888888888,
             "#fdca26"
            ],
            [
             1,
             "#f0f921"
            ]
           ],
           "sequentialminus": [
            [
             0,
             "#0d0887"
            ],
            [
             0.1111111111111111,
             "#46039f"
            ],
            [
             0.2222222222222222,
             "#7201a8"
            ],
            [
             0.3333333333333333,
             "#9c179e"
            ],
            [
             0.4444444444444444,
             "#bd3786"
            ],
            [
             0.5555555555555556,
             "#d8576b"
            ],
            [
             0.6666666666666666,
             "#ed7953"
            ],
            [
             0.7777777777777778,
             "#fb9f3a"
            ],
            [
             0.8888888888888888,
             "#fdca26"
            ],
            [
             1,
             "#f0f921"
            ]
           ]
          },
          "colorway": [
           "#636efa",
           "#EF553B",
           "#00cc96",
           "#ab63fa",
           "#FFA15A",
           "#19d3f3",
           "#FF6692",
           "#B6E880",
           "#FF97FF",
           "#FECB52"
          ],
          "font": {
           "color": "#2a3f5f"
          },
          "geo": {
           "bgcolor": "white",
           "lakecolor": "white",
           "landcolor": "#E5ECF6",
           "showlakes": true,
           "showland": true,
           "subunitcolor": "white"
          },
          "hoverlabel": {
           "align": "left"
          },
          "hovermode": "closest",
          "mapbox": {
           "style": "light"
          },
          "paper_bgcolor": "white",
          "plot_bgcolor": "#E5ECF6",
          "polar": {
           "angularaxis": {
            "gridcolor": "white",
            "linecolor": "white",
            "ticks": ""
           },
           "bgcolor": "#E5ECF6",
           "radialaxis": {
            "gridcolor": "white",
            "linecolor": "white",
            "ticks": ""
           }
          },
          "scene": {
           "xaxis": {
            "backgroundcolor": "#E5ECF6",
            "gridcolor": "white",
            "gridwidth": 2,
            "linecolor": "white",
            "showbackground": true,
            "ticks": "",
            "zerolinecolor": "white"
           },
           "yaxis": {
            "backgroundcolor": "#E5ECF6",
            "gridcolor": "white",
            "gridwidth": 2,
            "linecolor": "white",
            "showbackground": true,
            "ticks": "",
            "zerolinecolor": "white"
           },
           "zaxis": {
            "backgroundcolor": "#E5ECF6",
            "gridcolor": "white",
            "gridwidth": 2,
            "linecolor": "white",
            "showbackground": true,
            "ticks": "",
            "zerolinecolor": "white"
           }
          },
          "shapedefaults": {
           "line": {
            "color": "#2a3f5f"
           }
          },
          "ternary": {
           "aaxis": {
            "gridcolor": "white",
            "linecolor": "white",
            "ticks": ""
           },
           "baxis": {
            "gridcolor": "white",
            "linecolor": "white",
            "ticks": ""
           },
           "bgcolor": "#E5ECF6",
           "caxis": {
            "gridcolor": "white",
            "linecolor": "white",
            "ticks": ""
           }
          },
          "title": {
           "x": 0.05
          },
          "xaxis": {
           "automargin": true,
           "gridcolor": "white",
           "linecolor": "white",
           "ticks": "",
           "title": {
            "standoff": 15
           },
           "zerolinecolor": "white",
           "zerolinewidth": 2
          },
          "yaxis": {
           "automargin": true,
           "gridcolor": "white",
           "linecolor": "white",
           "ticks": "",
           "title": {
            "standoff": 15
           },
           "zerolinecolor": "white",
           "zerolinewidth": 2
          }
         }
        },
        "title": {
         "text": "Unemployment rate vs Automobile Sales ",
         "x": 0.5
        },
        "xaxis": {
         "anchor": "y",
         "autorange": true,
         "domain": [
          0,
          1
         ],
         "range": [
          0.6946539632129152,
          6.305346036787085
         ],
         "title": {
          "text": "unemployment_rate"
         },
         "type": "linear"
        },
        "yaxis": {
         "anchor": "x",
         "autorange": true,
         "domain": [
          0,
          1
         ],
         "range": [
          -1634.7233009708737,
          22883.723300970873
         ],
         "title": {
          "text": "Automobile_Sales"
         },
         "type": "linear"
        }
       }
      },
      "image/png": "[encoded data removed]",
      "text/html": [
       "<div>                            <div id=\"df3a68aa-5267-45d1-86d9-afb08e1c9e99\" class=\"plotly-graph-div\" style=\"height:525px; width:100%;\"></div>            <script type=\"text/javascript\">                require([\"plotly\"], function(Plotly) {                    window.PLOTLYENV=window.PLOTLYENV || {};                                    if (document.getElementById(\"df3a68aa-5267-45d1-86d9-afb08e1c9e99\")) {                    Plotly.newPlot(                        \"df3a68aa-5267-45d1-86d9-afb08e1c9e99\",                        [{\"hovertemplate\":\"unemployment_rate=%{x}\\u003cbr\\u003eAutomobile_Sales=%{y}\\u003cextra\\u003e\\u003c\\u002fextra\\u003e\",\"legendgroup\":\"\",\"marker\":{\"color\":\"#636efa\",\"symbol\":\"circle\"},\"mode\":\"markers\",\"name\":\"\",\"orientation\":\"v\",\"showlegend\":false,\"x\":[5.4,4.8,3.4,4.2,5.3,2.9,2.9,3.0,5.2,4.4,2.6,3.3,5.9,5.8,4.4,2.8,4.1,4.3,5.6,3.7,3.1,4.7,3.3,2.6,5.3,4.2,5.0,3.2,4.0,3.8,3.2,4.6,2.8,4.1,5.4,3.6,3.2,4.9,3.0,2.8,5.0,2.6,5.5,5.3,5.4,2.9,3.7,5.5,4.5,3.8,5.7,2.9,3.2,4.2,2.6,4.5,2.6,3.7,3.8,5.4,2.9,4.5,5.4,6.0,4.0,4.2,3.5,2.9,5.7,3.4,5.3,3.0,3.1,4.1,3.5,4.9,4.4,3.1,4.4,4.7,4.3,3.1,4.8,5.4,3.5,3.1,5.6,5.2,5.5,4.8,4.4,3.4,3.7,3.8,4.8,3.1,4.4,2.6,3.8,5.6,3.6,4.9,3.6,5.8,5.4,3.0,5.2,3.1,5.0,3.7,3.6,4.2,4.9,2.4,1.5,2.0,2.3,2.3,3.0,2.4,1.7,1.1,1.3,3.0,1.2,1.4,1.4,2.1,2.2,2.4,2.9,2.5,2.5,2.0,1.5,2.1,2.9,1.1,1.1,1.4,1.0,1.9,1.1,2.8,2.3,2.5,2.6,2.7,1.8,1.4,1.8,2.7,1.4,1.7,2.2,1.7,2.5,2.3,1.2,2.4,2.1,1.2,1.6,2.9,2.7,3.0,1.7,2.1,2.7,1.1,1.9,2.5,2.0,1.6,2.8,2.5,1.4,2.1,1.9,2.1,2.9,2.7,2.1,2.6,2.9,1.3,1.0,1.4,1.3,2.5,1.1,2.6,1.1,1.0,1.6,1.0,1.9,2.5,2.1,1.8,2.9,1.8,1.0,2.6,1.4,1.2,1.1,1.1,2.0,1.0,1.5,2.7,2.0,1.6,2.5,1.7,1.7,2.7,1.9,1.5,2.0,3.0,3.0,2.3,1.1,2.5,1.7,2.6,2.4,1.3,1.5,2.8,2.1,2.9,2.0,1.7,2.8,2.4,2.2,1.2,1.0,2.9,1.5,2.3,2.2,1.5,1.2,1.1,1.8,2.3,1.4,2.5,1.9,2.3,1.7,2.5,2.6,1.2,2.8,2.0,2.6,2.9,2.9,2.6,1.3,2.4,1.1,1.8,2.1,1.8,2.0,1.5,2.4,2.3,1.2,1.1,1.2,2.2,1.4,2.0,2.0,2.6,1.8,2.6,2.3,1.3,2.6,2.9,2.9,1.1,2.0,2.2,1.4,1.3,2.3,1.6,1.5,1.7,2.7,1.2,1.9,2.4,2.1,2.9,2.7,1.5,3.0,2.2,2.0,2.9,1.1,2.5,2.4,2.4,2.5,3.0,1.5,1.1,2.6,1.7,1.5,1.3,2.2,2.4,2.3,1.6,1.4,2.6,2.3,1.2,1.4,1.0,1.5,2.2,1.8,1.7,2.8,1.9,1.6,2.7,1.4,1.8,1.1,2.9,2.5,1.8,2.4,1.6,1.5,2.8,2.0,2.0,2.3,1.1,1.3,1.6,1.6,2.1,1.2,1.6,1.5,1.3,2.5,1.4,2.6,2.3,2.3,1.0,1.3,1.6,1.5,1.9,1.1,2.0,2.2,2.7,1.4,1.5,2.2,2.9,1.3,3.0,1.6,1.1,2.1,2.5,1.6,1.4,1.9,1.1,2.9,2.0,1.6,1.3,2.6,1.4,1.9,2.2,2.7,1.3,2.7,2.4,2.4,1.3,1.7,1.4,2.5,1.8,1.9,1.3,1.2,3.0,1.7,2.9,1.9,2.4,2.4,2.3,1.8,2.3,1.5,2.2,2.9,1.4,2.4,2.1,1.6,2.3,2.9,2.3,1.1,1.7,1.7,1.7,2.6,2.2,1.5,2.8,2.4,2.4,2.1,1.0,2.9,2.0,2.6,1.1,2.8,2.2,1.5,1.6,2.2,2.3,2.2,2.5,2.6,2.0,2.5,2.4,1.7,1.1,1.8,2.8,2.8,1.1,2.4,2.8,1.8,1.8,1.7,2.5,3.0,1.1,2.5,1.6,1.6,1.8,2.4,2.5,1.8,1.3,1.1,2.8,2.7,1.1,1.5,1.2,2.6,1.8,1.6,1.6,2.2,3.0,1.8,2.5,2.1,1.1,2.2,1.3,2.6,1.7,1.0,2.8,3.0,2.1,2.8,1.5,1.2,2.1,2.5,2.1,1.6,3.0,1.8,1.8,1.7,2.5,1.6,2.8,2.6,1.2,1.5,3.0,2.5,2.6,2.5,2.5,2.9,2.1],\"xaxis\":\"x\",\"y\":[456.0,555.9,620.0,702.8,770.4,754.5,729.6,734.9,705.6,609.7,763.0,745.0,325.0,574.3,654.0,657.1,752.9,677.6,638.2,779.5,574.2,648.1,558.0,762.0,466.0,614.4,751.4,617.3,763.9,726.7,738.8,552.3,776.2,720.2,102.0,744.6,589.0,754.8,574.7,714.8,676.1,570.9,605.3,550.9,659.1,619.4,689.8,723.0,619.1,724.1,559.4,564.0,750.0,706.3,688.6,759.5,591.9,566.7,604.8,736.3,556.2,686.1,783.9,750.8,671.6,563.1,745.0,690.0,575.2,570.2,195.0,706.6,744.5,756.3,683.5,670.6,650.0,623.1,651.0,731.4,690.7,759.5,653.1,691.9,697.6,688.2,714.5,604.3,669.4,572.7,639.1,663.6,702.6,773.3,690.4,724.2,668.0,698.3,564.8,608.3,633.8,660.0,558.8,581.2,613.6,778.3,626.5,662.2,594.5,692.8,214.0,597.1,670.4,3799.1,3533.5,3240.4,908.1,4769.8,426.5,4120.2,4199.6,4686.4,2962.9,1436.7,3284.7,3844.2,3822.1,2514.0,851.8,2194.6,4633.4,3141.2,2936.6,1740.9,2182.8,4520.7,3505.1,4041.6,2563.9,2861.0,3336.3,3678.1,2445.3,2511.6,3429.0,4702.3,832.0,4207.4,1845.3,2517.7,645.2,1345.2,2778.2,797.3,2727.0,4661.6,1015.6,3939.8,2365.7,3455.0,1702.7,1255.7,1260.0,860.8,1883.7,3495.1,4460.1,4160.3,3587.9,1038.0,1831.1,1922.6,1657.1,2833.1,2924.3,2131.5,3663.4,4224.3,4050.1,1913.7,4602.5,4775.6,1997.8,2120.6,2791.5,4723.8,4436.2,1003.1,2290.5,3003.3,2780.4,1408.2,4358.6,3551.6,4265.8,4358.3,3868.5,804.6,3257.0,1259.5,3537.0,1343.3,3627.1,1566.7,1069.6,1281.4,556.8,3737.0,3797.7,2832.8,1264.0,918.7,632.9,1283.4,4500.7,1619.7,2119.9,1015.4,1534.6,2851.8,3244.6,1636.6,2496.8,2283.0,1587.2,1522.2,4806.9,3282.5,3018.9,2392.8,2451.2,2948.0,3638.1,21147.0,1309.8,2767.0,2375.9,4410.5,3349.6,2910.7,1060.0,3235.2,1068.0,2044.2,1181.8,3618.7,1463.1,2286.7,4522.1,1454.6,2801.1,2408.3,628.4,4065.5,854.4,2652.3,3035.7,1650.1,3603.5,1671.8,592.3,3757.9,2924.7,4257.9,4192.5,4289.8,2700.4,2028.3,4060.1,2550.4,1361.9,4341.5,4463.9,2617.0,883.9,2268.8,4113.3,4549.2,1450.8,845.2,4440.8,2275.8,2951.8,4843.3,843.3,3424.6,876.8,2214.0,4114.5,2471.3,4972.5,3028.5,1973.0,1524.6,2103.3,2200.9,852.9,2187.8,2607.8,3754.8,3461.9,3692.8,585.1,3483.9,1513.4,2695.5,571.6,4117.5,3977.0,2981.3,842.9,3949.0,3137.9,4017.6,3883.5,4110.9,2846.4,1170.6,3525.9,3301.0,3841.4,1301.8,1413.1,4498.7,3875.7,4577.8,3914.4,3197.6,3450.4,4493.1,3116.2,3353.9,1242.3,2650.8,3726.7,1750.2,1445.4,1940.4,1619.5,1501.6,2433.1,4576.1,2797.8,1381.8,889.5,3636.8,2246.5,4194.5,3474.2,4080.9,1754.6,3620.0,1719.6,4714.6,3371.6,1987.9,1743.8,1395.1,3630.1,1518.4,3189.4,1722.2,3485.2,4163.9,4000.1,3923.9,1380.9,940.2,3649.2,2182.4,2466.3,686.2,1699.7,697.4,4448.9,1628.0,3020.9,721.0,3506.8,1981.3,4532.1,4488.6,1991.3,4545.6,4968.0,4210.4,4296.7,1652.9,3106.8,846.4,969.2,4423.5,1997.3,3867.7,4127.2,4355.0,4974.5,1619.5,727.0,2372.5,1125.2,647.5,2147.2,4025.4,3060.1,1935.8,3451.3,1577.5,611.8,3939.4,3315.5,3930.3,720.8,4262.3,3296.8,3047.8,3319.4,4383.5,3152.2,3125.7,4943.6,3905.6,2510.5,3686.7,2275.0,1563.5,3196.2,4666.3,4670.6,2065.0,2889.3,1487.0,4965.6,4901.2,3429.9,4117.2,3720.9,3179.8,985.14,2565.8,1420.6,3554.2,2203.5,4726.3,1290.6,2768.1,3613.5,3641.2,3426.0,1769.5,1241.1,3369.7,3207.1,1343.8,3676.7,2567.6,3510.9,4263.4,1301.1,632.9,4004.9,3253.2,3652.3,4266.9,4110.1,4811.6,2925.9,2715.5,2331.2,1229.9,3088.7,1777.1,4635.8,3135.6,3178.4,2122.8,778.7,688.8,2426.3,923.2,3240.6,4456.9,4465.5,3472.2,1485.2,4377.1,4479.6,1024.5,3820.0,1819.3,4109.3,4972.7,681.2,4529.6,3310.6,4866.9,2611.2,4307.9,824.8,2035.6,845.4,4875.6,4172.9,4330.8,4709.8,925.6,2258.9,863.2,1483.3,1565.7,2629.4,1739.6,996.0,1291.2,1201.5,4865.5,3917.0,4842.0,2499.1,1783.1,4090.0,1995.6,1876.4,1579.6,1123.4,1685.9,2124.6,3538.5],\"yaxis\":\"y\",\"type\":\"scatter\"}],                        {\"template\":{\"data\":{\"histogram2dcontour\":[{\"type\":\"histogram2dcontour\",\"colorbar\":{\"outlinewidth\":0,\"ticks\":\"\"},\"colorscale\":[[0.0,\"#0d0887\"],[0.1111111111111111,\"#46039f\"],[0.2222222222222222,\"#7201a8\"],[0.3333333333333333,\"#9c179e\"],[0.4444444444444444,\"#bd3786\"],[0.5555555555555556,\"#d8576b\"],[0.6666666666666666,\"#ed7953\"],[0.7777777777777778,\"#fb9f3a\"],[0.8888888888888888,\"#fdca26\"],[1.0,\"#f0f921\"]]}],\"choropleth\":[{\"type\":\"choropleth\",\"colorbar\":{\"outlinewidth\":0,\"ticks\":\"\"}}],\"histogram2d\":[{\"type\":\"histogram2d\",\"colorbar\":{\"outlinewidth\":0,\"ticks\":\"\"},\"colorscale\":[[0.0,\"#0d0887\"],[0.1111111111111111,\"#46039f\"],[0.2222222222222222,\"#7201a8\"],[0.3333333333333333,\"#9c179e\"],[0.4444444444444444,\"#bd3786\"],[0.5555555555555556,\"#d8576b\"],[0.6666666666666666,\"#ed7953\"],[0.7777777777777778,\"#fb9f3a\"],[0.8888888888888888,\"#fdca26\"],[1.0,\"#f0f921\"]]}],\"heatmap\":[{\"type\":\"heatmap\",\"colorbar\":{\"outlinewidth\":0,\"ticks\":\"\"},\"colorscale\":[[0.0,\"#0d0887\"],[0.1111111111111111,\"#46039f\"],[0.2222222222222222,\"#7201a8\"],[0.3333333333333333,\"#9c179e\"],[0.4444444444444444,\"#bd3786\"],[0.5555555555555556,\"#d8576b\"],[0.6666666666666666,\"#ed7953\"],[0.7777777777777778,\"#fb9f3a\"],[0.8888888888888888,\"#fdca26\"],[1.0,\"#f0f921\"]]}],\"heatmapgl\":[{\"type\":\"heatmapgl\",\"colorbar\":{\"outlinewidth\":0,\"ticks\":\"\"},\"colorscale\":[[0.0,\"#0d0887\"],[0.1111111111111111,\"#46039f\"],[0.2222222222222222,\"#7201a8\"],[0.3333333333333333,\"#9c179e\"],[0.4444444444444444,\"#bd3786\"],[0.5555555555555556,\"#d8576b\"],[0.6666666666666666,\"#ed7953\"],[0.7777777777777778,\"#fb9f3a\"],[0.8888888888888888,\"#fdca26\"],[1.0,\"#f0f921\"]]}],\"contourcarpet\":[{\"type\":\"contourcarpet\",\"colorbar\":{\"outlinewidth\":0,\"ticks\":\"\"}}],\"contour\":[{\"type\":\"contour\",\"colorbar\":{\"outlinewidth\":0,\"ticks\":\"\"},\"colorscale\":[[0.0,\"#0d0887\"],[0.1111111111111111,\"#46039f\"],[0.2222222222222222,\"#7201a8\"],[0.3333333333333333,\"#9c179e\"],[0.4444444444444444,\"#bd3786\"],[0.5555555555555556,\"#d8576b\"],[0.6666666666666666,\"#ed7953\"],[0.7777777777777778,\"#fb9f3a\"],[0.8888888888888888,\"#fdca26\"],[1.0,\"#f0f921\"]]}],\"surface\":[{\"type\":\"surface\",\"colorbar\":{\"outlinewidth\":0,\"ticks\":\"\"},\"colorscale\":[[0.0,\"#0d0887\"],[0.1111111111111111,\"#46039f\"],[0.2222222222222222,\"#7201a8\"],[0.3333333333333333,\"#9c179e\"],[0.4444444444444444,\"#bd3786\"],[0.5555555555555556,\"#d8576b\"],[0.6666666666666666,\"#ed7953\"],[0.7777777777777778,\"#fb9f3a\"],[0.8888888888888888,\"#fdca26\"],[1.0,\"#f0f921\"]]}],\"mesh3d\":[{\"type\":\"mesh3d\",\"colorbar\":{\"outlinewidth\":0,\"ticks\":\"\"}}],\"scatter\":[{\"fillpattern\":{\"fillmode\":\"overlay\",\"size\":10,\"solidity\":0.2},\"type\":\"scatter\"}],\"parcoords\":[{\"type\":\"parcoords\",\"line\":{\"colorbar\":{\"outlinewidth\":0,\"ticks\":\"\"}}}],\"scatterpolargl\":[{\"type\":\"scatterpolargl\",\"marker\":{\"colorbar\":{\"outlinewidth\":0,\"ticks\":\"\"}}}],\"bar\":[{\"error_x\":{\"color\":\"#2a3f5f\"},\"error_y\":{\"color\":\"#2a3f5f\"},\"marker\":{\"line\":{\"color\":\"#E5ECF6\",\"width\":0.5},\"pattern\":{\"fillmode\":\"overlay\",\"size\":10,\"solidity\":0.2}},\"type\":\"bar\"}],\"scattergeo\":[{\"type\":\"scattergeo\",\"marker\":{\"colorbar\":{\"outlinewidth\":0,\"ticks\":\"\"}}}],\"scatterpolar\":[{\"type\":\"scatterpolar\",\"marker\":{\"colorbar\":{\"outlinewidth\":0,\"ticks\":\"\"}}}],\"histogram\":[{\"marker\":{\"pattern\":{\"fillmode\":\"overlay\",\"size\":10,\"solidity\":0.2}},\"type\":\"histogram\"}],\"scattergl\":[{\"type\":\"scattergl\",\"marker\":{\"colorbar\":{\"outlinewidth\":0,\"ticks\":\"\"}}}],\"scatter3d\":[{\"type\":\"scatter3d\",\"line\":{\"colorbar\":{\"outlinewidth\":0,\"ticks\":\"\"}},\"marker\":{\"colorbar\":{\"outlinewidth\":0,\"ticks\":\"\"}}}],\"scattermapbox\":[{\"type\":\"scattermapbox\",\"marker\":{\"colorbar\":{\"outlinewidth\":0,\"ticks\":\"\"}}}],\"scatterternary\":[{\"type\":\"scatterternary\",\"marker\":{\"colorbar\":{\"outlinewidth\":0,\"ticks\":\"\"}}}],\"scattercarpet\":[{\"type\":\"scattercarpet\",\"marker\":{\"colorbar\":{\"outlinewidth\":0,\"ticks\":\"\"}}}],\"carpet\":[{\"aaxis\":{\"endlinecolor\":\"#2a3f5f\",\"gridcolor\":\"white\",\"linecolor\":\"white\",\"minorgridcolor\":\"white\",\"startlinecolor\":\"#2a3f5f\"},\"baxis\":{\"endlinecolor\":\"#2a3f5f\",\"gridcolor\":\"white\",\"linecolor\":\"white\",\"minorgridcolor\":\"white\",\"startlinecolor\":\"#2a3f5f\"},\"type\":\"carpet\"}],\"table\":[{\"cells\":{\"fill\":{\"color\":\"#EBF0F8\"},\"line\":{\"color\":\"white\"}},\"header\":{\"fill\":{\"color\":\"#C8D4E3\"},\"line\":{\"color\":\"white\"}},\"type\":\"table\"}],\"barpolar\":[{\"marker\":{\"line\":{\"color\":\"#E5ECF6\",\"width\":0.5},\"pattern\":{\"fillmode\":\"overlay\",\"size\":10,\"solidity\":0.2}},\"type\":\"barpolar\"}],\"pie\":[{\"automargin\":true,\"type\":\"pie\"}]},\"layout\":{\"autotypenumbers\":\"strict\",\"colorway\":[\"#636efa\",\"#EF553B\",\"#00cc96\",\"#ab63fa\",\"#FFA15A\",\"#19d3f3\",\"#FF6692\",\"#B6E880\",\"#FF97FF\",\"#FECB52\"],\"font\":{\"color\":\"#2a3f5f\"},\"hovermode\":\"closest\",\"hoverlabel\":{\"align\":\"left\"},\"paper_bgcolor\":\"white\",\"plot_bgcolor\":\"#E5ECF6\",\"polar\":{\"bgcolor\":\"#E5ECF6\",\"angularaxis\":{\"gridcolor\":\"white\",\"linecolor\":\"white\",\"ticks\":\"\"},\"radialaxis\":{\"gridcolor\":\"white\",\"linecolor\":\"white\",\"ticks\":\"\"}},\"ternary\":{\"bgcolor\":\"#E5ECF6\",\"aaxis\":{\"gridcolor\":\"white\",\"linecolor\":\"white\",\"ticks\":\"\"},\"baxis\":{\"gridcolor\":\"white\",\"linecolor\":\"white\",\"ticks\":\"\"},\"caxis\":{\"gridcolor\":\"white\",\"linecolor\":\"white\",\"ticks\":\"\"}},\"coloraxis\":{\"colorbar\":{\"outlinewidth\":0,\"ticks\":\"\"}},\"colorscale\":{\"sequential\":[[0.0,\"#0d0887\"],[0.1111111111111111,\"#46039f\"],[0.2222222222222222,\"#7201a8\"],[0.3333333333333333,\"#9c179e\"],[0.4444444444444444,\"#bd3786\"],[0.5555555555555556,\"#d8576b\"],[0.6666666666666666,\"#ed7953\"],[0.7777777777777778,\"#fb9f3a\"],[0.8888888888888888,\"#fdca26\"],[1.0,\"#f0f921\"]],\"sequentialminus\":[[0.0,\"#0d0887\"],[0.1111111111111111,\"#46039f\"],[0.2222222222222222,\"#7201a8\"],[0.3333333333333333,\"#9c179e\"],[0.4444444444444444,\"#bd3786\"],[0.5555555555555556,\"#d8576b\"],[0.6666666666666666,\"#ed7953\"],[0.7777777777777778,\"#fb9f3a\"],[0.8888888888888888,\"#fdca26\"],[1.0,\"#f0f921\"]],\"diverging\":[[0,\"#8e0152\"],[0.1,\"#c51b7d\"],[0.2,\"#de77ae\"],[0.3,\"#f1b6da\"],[0.4,\"#fde0ef\"],[0.5,\"#f7f7f7\"],[0.6,\"#e6f5d0\"],[0.7,\"#b8e186\"],[0.8,\"#7fbc41\"],[0.9,\"#4d9221\"],[1,\"#276419\"]]},\"xaxis\":{\"gridcolor\":\"white\",\"linecolor\":\"white\",\"ticks\":\"\",\"title\":{\"standoff\":15},\"zerolinecolor\":\"white\",\"automargin\":true,\"zerolinewidth\":2},\"yaxis\":{\"gridcolor\":\"white\",\"linecolor\":\"white\",\"ticks\":\"\",\"title\":{\"standoff\":15},\"zerolinecolor\":\"white\",\"automargin\":true,\"zerolinewidth\":2},\"scene\":{\"xaxis\":{\"backgroundcolor\":\"#E5ECF6\",\"gridcolor\":\"white\",\"linecolor\":\"white\",\"showbackground\":true,\"ticks\":\"\",\"zerolinecolor\":\"white\",\"gridwidth\":2},\"yaxis\":{\"backgroundcolor\":\"#E5ECF6\",\"gridcolor\":\"white\",\"linecolor\":\"white\",\"showbackground\":true,\"ticks\":\"\",\"zerolinecolor\":\"white\",\"gridwidth\":2},\"zaxis\":{\"backgroundcolor\":\"#E5ECF6\",\"gridcolor\":\"white\",\"linecolor\":\"white\",\"showbackground\":true,\"ticks\":\"\",\"zerolinecolor\":\"white\",\"gridwidth\":2}},\"shapedefaults\":{\"line\":{\"color\":\"#2a3f5f\"}},\"annotationdefaults\":{\"arrowcolor\":\"#2a3f5f\",\"arrowhead\":0,\"arrowwidth\":1},\"geo\":{\"bgcolor\":\"white\",\"landcolor\":\"#E5ECF6\",\"subunitcolor\":\"white\",\"showland\":true,\"showlakes\":true,\"lakecolor\":\"white\"},\"title\":{\"x\":0.05},\"mapbox\":{\"style\":\"light\"}}},\"xaxis\":{\"anchor\":\"y\",\"domain\":[0.0,1.0],\"title\":{\"text\":\"unemployment_rate\"}},\"yaxis\":{\"anchor\":\"x\",\"domain\":[0.0,1.0],\"title\":{\"text\":\"Automobile_Sales\"}},\"legend\":{\"tracegroupgap\":0},\"title\":{\"text\":\"Unemployment rate vs Automobile Sales \",\"x\":0.5}},                        {\"responsive\": true}                    ).then(function(){\n",
       "                            \n",
       "var gd = document.getElementById('df3a68aa-5267-45d1-86d9-afb08e1c9e99');\n",
       "var x = new MutationObserver(function (mutations, observer) {{\n",
       "        var display = window.getComputedStyle(gd).display;\n",
       "        if (!display || display === 'none') {{\n",
       "            console.log([gd, 'removed!']);\n",
       "            Plotly.purge(gd);\n",
       "            observer.disconnect();\n",
       "        }}\n",
       "}});\n",
       "\n",
       "// Listen for the removal of the full notebook cells\n",
       "var notebookContainer = gd.closest('#notebook-container');\n",
       "if (notebookContainer) {{\n",
       "    x.observe(notebookContainer, {childList: true});\n",
       "}}\n",
       "\n",
       "// Listen for the clearing of the current output cell\n",
       "var outputEl = gd.closest('.output');\n",
       "if (outputEl) {{\n",
       "    x.observe(outputEl, {childList: true});\n",
       "}}\n",
       "\n",
       "                        })                };                });            </script>        </div>"
      ]
     },
     "metadata": {},
     "output_type": "display_data"
    }
   ],
   "source": [
    "fig2 =px.scatter(df,\n",
    "              x=\"unemployment_rate\",\n",
    "              y=\"Automobile_Sales\",\n",
    "              title=\"Unemployment rate vs Automobile Sales \"\n",
    "                )\n",
    "fig2.update_layout(title_x=0.5)\n",
    "fig2.show()"
   ]
  },
  {
   "cell_type": "code",
   "execution_count": 27,
   "id": "8ebe1dce-fcd8-4781-9aca-ef2b0dc3e2cb",
   "metadata": {},
   "outputs": [
    {
     "name": "stdout",
     "output_type": "stream",
     "text": [
      "Correlation: -0.39800845943349694\n"
     ]
    }
   ],
   "source": [
    "#the higher the unemployment the lower the sales\n",
    "correlation = df['unemployment_rate'].corr(df['Automobile_Sales'])\n",
    "print(f\"Correlation: {correlation}\")"
   ]
  },
  {
   "cell_type": "code",
   "execution_count": 28,
   "id": "80b3ec97-d5cf-4cbf-874a-bed4ada6b347",
   "metadata": {},
   "outputs": [
    {
     "data": {
      "application/vnd.plotly.v1+json": {
       "config": {
        "plotlyServerURL": "https://plot.ly"
       },
       "data": [
        {
         "hovertemplate": "Automobile_Sales=%{x}<br>GDP=%{y}<br>unemployment_rate=%{marker.color}<extra></extra>",
         "legendgroup": "",
         "marker": {
          "color": [
           5.4,
           4.8,
           3.4,
           4.2,
           5.3,
           2.9,
           2.9,
           3,
           5.2,
           4.4,
           2.6,
           3.3,
           5.9,
           5.8,
           4.4,
           2.8,
           4.1,
           4.3,
           5.6,
           3.7,
           3.1,
           4.7,
           3.3,
           2.6,
           5.3,
           4.2,
           5,
           3.2,
           4,
           3.8,
           3.2,
           4.6,
           2.8,
           4.1,
           5.4,
           3.6,
           3.2,
           4.9,
           3,
           2.8,
           5,
           2.6,
           5.5,
           5.3,
           5.4,
           2.9,
           3.7,
           5.5,
           4.5,
           3.8,
           5.7,
           2.9,
           3.2,
           4.2,
           2.6,
           4.5,
           2.6,
           3.7,
           3.8,
           5.4,
           2.9,
           4.5,
           5.4,
           6,
           4,
           4.2,
           3.5,
           2.9,
           5.7,
           3.4,
           5.3,
           3,
           3.1,
           4.1,
           3.5,
           4.9,
           4.4,
           3.1,
           4.4,
           4.7,
           4.3,
           3.1,
           4.8,
           5.4,
           3.5,
           3.1,
           5.6,
           5.2,
           5.5,
           4.8,
           4.4,
           3.4,
           3.7,
           3.8,
           4.8,
           3.1,
           4.4,
           2.6,
           3.8,
           5.6,
           3.6,
           4.9,
           3.6,
           5.8,
           5.4,
           3,
           5.2,
           3.1,
           5,
           3.7,
           3.6,
           4.2,
           4.9,
           2.4,
           1.5,
           2,
           2.3,
           2.3,
           3,
           2.4,
           1.7,
           1.1,
           1.3,
           3,
           1.2,
           1.4,
           1.4,
           2.1,
           2.2,
           2.4,
           2.9,
           2.5,
           2.5,
           2,
           1.5,
           2.1,
           2.9,
           1.1,
           1.1,
           1.4,
           1,
           1.9,
           1.1,
           2.8,
           2.3,
           2.5,
           2.6,
           2.7,
           1.8,
           1.4,
           1.8,
           2.7,
           1.4,
           1.7,
           2.2,
           1.7,
           2.5,
           2.3,
           1.2,
           2.4,
           2.1,
           1.2,
           1.6,
           2.9,
           2.7,
           3,
           1.7,
           2.1,
           2.7,
           1.1,
           1.9,
           2.5,
           2,
           1.6,
           2.8,
           2.5,
           1.4,
           2.1,
           1.9,
           2.1,
           2.9,
           2.7,
           2.1,
           2.6,
           2.9,
           1.3,
           1,
           1.4,
           1.3,
           2.5,
           1.1,
           2.6,
           1.1,
           1,
           1.6,
           1,
           1.9,
           2.5,
           2.1,
           1.8,
           2.9,
           1.8,
           1,
           2.6,
           1.4,
           1.2,
           1.1,
           1.1,
           2,
           1,
           1.5,
           2.7,
           2,
           1.6,
           2.5,
           1.7,
           1.7,
           2.7,
           1.9,
           1.5,
           2,
           3,
           3,
           2.3,
           1.1,
           2.5,
           1.7,
           2.6,
           2.4,
           1.3,
           1.5,
           2.8,
           2.1,
           2.9,
           2,
           1.7,
           2.8,
           2.4,
           2.2,
           1.2,
           1,
           2.9,
           1.5,
           2.3,
           2.2,
           1.5,
           1.2,
           1.1,
           1.8,
           2.3,
           1.4,
           2.5,
           1.9,
           2.3,
           1.7,
           2.5,
           2.6,
           1.2,
           2.8,
           2,
           2.6,
           2.9,
           2.9,
           2.6,
           1.3,
           2.4,
           1.1,
           1.8,
           2.1,
           1.8,
           2,
           1.5,
           2.4,
           2.3,
           1.2,
           1.1,
           1.2,
           2.2,
           1.4,
           2,
           2,
           2.6,
           1.8,
           2.6,
           2.3,
           1.3,
           2.6,
           2.9,
           2.9,
           1.1,
           2,
           2.2,
           1.4,
           1.3,
           2.3,
           1.6,
           1.5,
           1.7,
           2.7,
           1.2,
           1.9,
           2.4,
           2.1,
           2.9,
           2.7,
           1.5,
           3,
           2.2,
           2,
           2.9,
           1.1,
           2.5,
           2.4,
           2.4,
           2.5,
           3,
           1.5,
           1.1,
           2.6,
           1.7,
           1.5,
           1.3,
           2.2,
           2.4,
           2.3,
           1.6,
           1.4,
           2.6,
           2.3,
           1.2,
           1.4,
           1,
           1.5,
           2.2,
           1.8,
           1.7,
           2.8,
           1.9,
           1.6,
           2.7,
           1.4,
           1.8,
           1.1,
           2.9,
           2.5,
           1.8,
           2.4,
           1.6,
           1.5,
           2.8,
           2,
           2,
           2.3,
           1.1,
           1.3,
           1.6,
           1.6,
           2.1,
           1.2,
           1.6,
           1.5,
           1.3,
           2.5,
           1.4,
           2.6,
           2.3,
           2.3,
           1,
           1.3,
           1.6,
           1.5,
           1.9,
           1.1,
           2,
           2.2,
           2.7,
           1.4,
           1.5,
           2.2,
           2.9,
           1.3,
           3,
           1.6,
           1.1,
           2.1,
           2.5,
           1.6,
           1.4,
           1.9,
           1.1,
           2.9,
           2,
           1.6,
           1.3,
           2.6,
           1.4,
           1.9,
           2.2,
           2.7,
           1.3,
           2.7,
           2.4,
           2.4,
           1.3,
           1.7,
           1.4,
           2.5,
           1.8,
           1.9,
           1.3,
           1.2,
           3,
           1.7,
           2.9,
           1.9,
           2.4,
           2.4,
           2.3,
           1.8,
           2.3,
           1.5,
           2.2,
           2.9,
           1.4,
           2.4,
           2.1,
           1.6,
           2.3,
           2.9,
           2.3,
           1.1,
           1.7,
           1.7,
           1.7,
           2.6,
           2.2,
           1.5,
           2.8,
           2.4,
           2.4,
           2.1,
           1,
           2.9,
           2,
           2.6,
           1.1,
           2.8,
           2.2,
           1.5,
           1.6,
           2.2,
           2.3,
           2.2,
           2.5,
           2.6,
           2,
           2.5,
           2.4,
           1.7,
           1.1,
           1.8,
           2.8,
           2.8,
           1.1,
           2.4,
           2.8,
           1.8,
           1.8,
           1.7,
           2.5,
           3,
           1.1,
           2.5,
           1.6,
           1.6,
           1.8,
           2.4,
           2.5,
           1.8,
           1.3,
           1.1,
           2.8,
           2.7,
           1.1,
           1.5,
           1.2,
           2.6,
           1.8,
           1.6,
           1.6,
           2.2,
           3,
           1.8,
           2.5,
           2.1,
           1.1,
           2.2,
           1.3,
           2.6,
           1.7,
           1,
           2.8,
           3,
           2.1,
           2.8,
           1.5,
           1.2,
           2.1,
           2.5,
           2.1,
           1.6,
           3,
           1.8,
           1.8,
           1.7,
           2.5,
           1.6,
           2.8,
           2.6,
           1.2,
           1.5,
           3,
           2.5,
           2.6,
           2.5,
           2.5,
           2.9,
           2.1
          ],
          "coloraxis": "coloraxis",
          "symbol": "circle"
         },
         "mode": "markers",
         "name": "",
         "orientation": "v",
         "showlegend": false,
         "type": "scatter",
         "x": [
          456,
          555.9,
          620,
          702.8,
          770.4,
          754.5,
          729.6,
          734.9,
          705.6,
          609.7,
          763,
          745,
          325,
          574.3,
          654,
          657.1,
          752.9,
          677.6,
          638.2,
          779.5,
          574.2,
          648.1,
          558,
          762,
          466,
          614.4,
          751.4,
          617.3,
          763.9,
          726.7,
          738.8,
          552.3,
          776.2,
          720.2,
          102,
          744.6,
          589,
          754.8,
          574.7,
          714.8,
          676.1,
          570.9,
          605.3,
          550.9,
          659.1,
          619.4,
          689.8,
          723,
          619.1,
          724.1,
          559.4,
          564,
          750,
          706.3,
          688.6,
          759.5,
          591.9,
          566.7,
          604.8,
          736.3,
          556.2,
          686.1,
          783.9,
          750.8,
          671.6,
          563.1,
          745,
          690,
          575.2,
          570.2,
          195,
          706.6,
          744.5,
          756.3,
          683.5,
          670.6,
          650,
          623.1,
          651,
          731.4,
          690.7,
          759.5,
          653.1,
          691.9,
          697.6,
          688.2,
          714.5,
          604.3,
          669.4,
          572.7,
          639.1,
          663.6,
          702.6,
          773.3,
          690.4,
          724.2,
          668,
          698.3,
          564.8,
          608.3,
          633.8,
          660,
          558.8,
          581.2,
          613.6,
          778.3,
          626.5,
          662.2,
          594.5,
          692.8,
          214,
          597.1,
          670.4,
          3799.1,
          3533.5,
          3240.4,
          908.1,
          4769.8,
          426.5,
          4120.2,
          4199.6,
          4686.4,
          2962.9,
          1436.7,
          3284.7,
          3844.2,
          3822.1,
          2514,
          851.8,
          2194.6,
          4633.4,
          3141.2,
          2936.6,
          1740.9,
          2182.8,
          4520.7,
          3505.1,
          4041.6,
          2563.9,
          2861,
          3336.3,
          3678.1,
          2445.3,
          2511.6,
          3429,
          4702.3,
          832,
          4207.4,
          1845.3,
          2517.7,
          645.2,
          1345.2,
          2778.2,
          797.3,
          2727,
          4661.6,
          1015.6,
          3939.8,
          2365.7,
          3455,
          1702.7,
          1255.7,
          1260,
          860.8,
          1883.7,
          3495.1,
          4460.1,
          4160.3,
          3587.9,
          1038,
          1831.1,
          1922.6,
          1657.1,
          2833.1,
          2924.3,
          2131.5,
          3663.4,
          4224.3,
          4050.1,
          1913.7,
          4602.5,
          4775.6,
          1997.8,
          2120.6,
          2791.5,
          4723.8,
          4436.2,
          1003.1,
          2290.5,
          3003.3,
          2780.4,
          1408.2,
          4358.6,
          3551.6,
          4265.8,
          4358.3,
          3868.5,
          804.6,
          3257,
          1259.5,
          3537,
          1343.3,
          3627.1,
          1566.7,
          1069.6,
          1281.4,
          556.8,
          3737,
          3797.7,
          2832.8,
          1264,
          918.7,
          632.9,
          1283.4,
          4500.7,
          1619.7,
          2119.9,
          1015.4,
          1534.6,
          2851.8,
          3244.6,
          1636.6,
          2496.8,
          2283,
          1587.2,
          1522.2,
          4806.9,
          3282.5,
          3018.9,
          2392.8,
          2451.2,
          2948,
          3638.1,
          21147,
          1309.8,
          2767,
          2375.9,
          4410.5,
          3349.6,
          2910.7,
          1060,
          3235.2,
          1068,
          2044.2,
          1181.8,
          3618.7,
          1463.1,
          2286.7,
          4522.1,
          1454.6,
          2801.1,
          2408.3,
          628.4,
          4065.5,
          854.4,
          2652.3,
          3035.7,
          1650.1,
          3603.5,
          1671.8,
          592.3,
          3757.9,
          2924.7,
          4257.9,
          4192.5,
          4289.8,
          2700.4,
          2028.3,
          4060.1,
          2550.4,
          1361.9,
          4341.5,
          4463.9,
          2617,
          883.9,
          2268.8,
          4113.3,
          4549.2,
          1450.8,
          845.2,
          4440.8,
          2275.8,
          2951.8,
          4843.3,
          843.3,
          3424.6,
          876.8,
          2214,
          4114.5,
          2471.3,
          4972.5,
          3028.5,
          1973,
          1524.6,
          2103.3,
          2200.9,
          852.9,
          2187.8,
          2607.8,
          3754.8,
          3461.9,
          3692.8,
          585.1,
          3483.9,
          1513.4,
          2695.5,
          571.6,
          4117.5,
          3977,
          2981.3,
          842.9,
          3949,
          3137.9,
          4017.6,
          3883.5,
          4110.9,
          2846.4,
          1170.6,
          3525.9,
          3301,
          3841.4,
          1301.8,
          1413.1,
          4498.7,
          3875.7,
          4577.8,
          3914.4,
          3197.6,
          3450.4,
          4493.1,
          3116.2,
          3353.9,
          1242.3,
          2650.8,
          3726.7,
          1750.2,
          1445.4,
          1940.4,
          1619.5,
          1501.6,
          2433.1,
          4576.1,
          2797.8,
          1381.8,
          889.5,
          3636.8,
          2246.5,
          4194.5,
          3474.2,
          4080.9,
          1754.6,
          3620,
          1719.6,
          4714.6,
          3371.6,
          1987.9,
          1743.8,
          1395.1,
          3630.1,
          1518.4,
          3189.4,
          1722.2,
          3485.2,
          4163.9,
          4000.1,
          3923.9,
          1380.9,
          940.2,
          3649.2,
          2182.4,
          2466.3,
          686.2,
          1699.7,
          697.4,
          4448.9,
          1628,
          3020.9,
          721,
          3506.8,
          1981.3,
          4532.1,
          4488.6,
          1991.3,
          4545.6,
          4968,
          4210.4,
          4296.7,
          1652.9,
          3106.8,
          846.4,
          969.2,
          4423.5,
          1997.3,
          3867.7,
          4127.2,
          4355,
          4974.5,
          1619.5,
          727,
          2372.5,
          1125.2,
          647.5,
          2147.2,
          4025.4,
          3060.1,
          1935.8,
          3451.3,
          1577.5,
          611.8,
          3939.4,
          3315.5,
          3930.3,
          720.8,
          4262.3,
          3296.8,
          3047.8,
          3319.4,
          4383.5,
          3152.2,
          3125.7,
          4943.6,
          3905.6,
          2510.5,
          3686.7,
          2275,
          1563.5,
          3196.2,
          4666.3,
          4670.6,
          2065,
          2889.3,
          1487,
          4965.6,
          4901.2,
          3429.9,
          4117.2,
          3720.9,
          3179.8,
          985.14,
          2565.8,
          1420.6,
          3554.2,
          2203.5,
          4726.3,
          1290.6,
          2768.1,
          3613.5,
          3641.2,
          3426,
          1769.5,
          1241.1,
          3369.7,
          3207.1,
          1343.8,
          3676.7,
          2567.6,
          3510.9,
          4263.4,
          1301.1,
          632.9,
          4004.9,
          3253.2,
          3652.3,
          4266.9,
          4110.1,
          4811.6,
          2925.9,
          2715.5,
          2331.2,
          1229.9,
          3088.7,
          1777.1,
          4635.8,
          3135.6,
          3178.4,
          2122.8,
          778.7,
          688.8,
          2426.3,
          923.2,
          3240.6,
          4456.9,
          4465.5,
          3472.2,
          1485.2,
          4377.1,
          4479.6,
          1024.5,
          3820,
          1819.3,
          4109.3,
          4972.7,
          681.2,
          4529.6,
          3310.6,
          4866.9,
          2611.2,
          4307.9,
          824.8,
          2035.6,
          845.4,
          4875.6,
          4172.9,
          4330.8,
          4709.8,
          925.6,
          2258.9,
          863.2,
          1483.3,
          1565.7,
          2629.4,
          1739.6,
          996,
          1291.2,
          1201.5,
          4865.5,
          3917,
          4842,
          2499.1,
          1783.1,
          4090,
          1995.6,
          1876.4,
          1579.6,
          1123.4,
          1685.9,
          2124.6,
          3538.5
         ],
         "xaxis": "x",
         "y": [
          60.223,
          45.986,
          35.141,
          45.673,
          52.997,
          20.298,
          34.585,
          55.65,
          33.308,
          42.522,
          43.301,
          23.539,
          32.25,
          30.891,
          15.784,
          15.685,
          55.253,
          27.88,
          39.886,
          29.138,
          60.593,
          27.206,
          35.553,
          57.264,
          55.755,
          23.619,
          53.83,
          36.951,
          38.165,
          21.041,
          18.449,
          50.169,
          38.827,
          35.906,
          50.246,
          52.01,
          22.287,
          44.401,
          21.132,
          51.317,
          46.691,
          61.374,
          17.879,
          17.296,
          28.327,
          27.324,
          26.602,
          58.906,
          26.728,
          27.826,
          51.711,
          36.537,
          52.559,
          17.703,
          38.391,
          16.147,
          17.57,
          58.915,
          21.323,
          40.589,
          34.644,
          31.52,
          58.592,
          15.569,
          47.026,
          61.706,
          41.948,
          60.404,
          17.061,
          35.021,
          27.248,
          50.31,
          62.584,
          27.07,
          46.555,
          24.207,
          42.201,
          37.233,
          62.128,
          44.318,
          31.626,
          20.091,
          21.911,
          25.541,
          26.797,
          56.18,
          42,
          40.146,
          20.124,
          56.647,
          49.918,
          17.816,
          49.184,
          41.133,
          18.505,
          36.957,
          38.25,
          22.623,
          60.839,
          56.149,
          47.282,
          37.152,
          34.677,
          46.398,
          41.226,
          17.551,
          39.613,
          54.014,
          37.003,
          17.046,
          53.028,
          24.367,
          27.172,
          12.819,
          12.945,
          25.206,
          14.63,
          18.765,
          32.154,
          59.05,
          45.679,
          42.235,
          29.522,
          66.542,
          35.527,
          17.551,
          48.29,
          19.103,
          32.523,
          41.93,
          63.205,
          41.126,
          53.231,
          70.083,
          20.126,
          28.434,
          35.385,
          36.966,
          36.339,
          65.141,
          53.914,
          47.759,
          30.444,
          60.28,
          67.894,
          60.13,
          12.591,
          49.411,
          15.466,
          27.441,
          15.952,
          47.52,
          52.322,
          19.14,
          34.763,
          38.962,
          33.905,
          19.519,
          36.799,
          56.068,
          16.618,
          17.15,
          33.077,
          67.12,
          51.277,
          51.863,
          33.491,
          46.932,
          13.088,
          49.394,
          65.471,
          48.029,
          63.175,
          54.49,
          19.492,
          64.842,
          16.354,
          43.47,
          20.744,
          13.179,
          36.978,
          29.612,
          40.688,
          45.978,
          15.037,
          19.634,
          44.901,
          32.404,
          54.792,
          50.333,
          61.545,
          52.665,
          37.436,
          51.532,
          28.472,
          30.266,
          58.261,
          38.392,
          58.806,
          60.2,
          62.239,
          65.665,
          37.497,
          30.994,
          46.268,
          34.028,
          47.362,
          53.424,
          52.427,
          34.224,
          22.178,
          37.471,
          20.77,
          64.126,
          32.561,
          21.459,
          13.976,
          49.958,
          49.44,
          32.255,
          16.659,
          36.258,
          30.551,
          51.773,
          47.635,
          33.646,
          25.138,
          69.806,
          38.832,
          52.42,
          20.652,
          40.664,
          14.097,
          41.816,
          68.413,
          34.784,
          14.762,
          14.295,
          35.003,
          21.781,
          13.854,
          56.36,
          39.094,
          29.276,
          64.705,
          19.236,
          67.943,
          30.71,
          64.027,
          47.471,
          60.449,
          69.573,
          29.228,
          68.246,
          35.09,
          34.86,
          32.242,
          43.902,
          21.44,
          44.615,
          43.919,
          56.69,
          60.852,
          38.046,
          30.035,
          27.541,
          23.788,
          15.844,
          32.362,
          28.174,
          68.552,
          44.847,
          32.642,
          46.167,
          20.573,
          38.255,
          48.822,
          40.856,
          35.803,
          70.143,
          63.558,
          48.658,
          45.524,
          48.498,
          24.176,
          35.418,
          14.789,
          40.082,
          43.995,
          25.709,
          68.414,
          65.248,
          54.384,
          43.436,
          62.958,
          20.078,
          58.35,
          19.74,
          58.564,
          28.495,
          63.371,
          67.254,
          21.13,
          39.335,
          69.397,
          40.538,
          62.586,
          46.646,
          34.269,
          29.075,
          24.287,
          56.684,
          34.919,
          42.154,
          41.055,
          45.982,
          62.703,
          69.383,
          36.14,
          60.496,
          56.843,
          45.765,
          67.951,
          24.128,
          18.837,
          62.03,
          37.971,
          61.624,
          64.299,
          16.123,
          63.741,
          38.503,
          42.105,
          48.842,
          66.23,
          13.609,
          40.157,
          52.388,
          54.417,
          52.667,
          20.297,
          29.865,
          33.306,
          59.157,
          28.668,
          24.721,
          68.032,
          13.014,
          70.374,
          51.756,
          60.551,
          29.588,
          13.33,
          55.296,
          60.88,
          55.448,
          20.785,
          56.199,
          57.098,
          50.695,
          56.935,
          61.563,
          48.089,
          17.639,
          40.782,
          17.004,
          36.137,
          36.112,
          16.329,
          32.732,
          18.938,
          59.378,
          67.466,
          16.694,
          67.897,
          42.809,
          29.875,
          16.958,
          41.536,
          58.582,
          53.511,
          15.413,
          16.728,
          35.867,
          29.627,
          25.978,
          28.798,
          59.102,
          66.395,
          35.996,
          65.054,
          31.147,
          40.133,
          25.61,
          49.648,
          69.281,
          47.503,
          33.253,
          50.073,
          19.629,
          64.042,
          41.679,
          38.562,
          46.48,
          48.737,
          16.663,
          52.092,
          26.532,
          53.909,
          60.207,
          59.13,
          44.545,
          42.67,
          20.787,
          57.47,
          28.242,
          41.308,
          28.988,
          20.262,
          49.014,
          15.651,
          55.921,
          30.92,
          12.508,
          42.145,
          15.217,
          28.518,
          53.505,
          16.136,
          61.182,
          12.722,
          26.816,
          55.472,
          30.844,
          18.41,
          33.394,
          28.183,
          61.377,
          30.674,
          58.258,
          64.229,
          37.661,
          65.277,
          34.384,
          68.417,
          17.679,
          52.347,
          41.141,
          34.984,
          49.197,
          53.324,
          12.753,
          22.183,
          53.857,
          51.15,
          68.531,
          56.64,
          67.645,
          53.247,
          29.787,
          18.611,
          57.846,
          49.861,
          15.295,
          33.383,
          67.994,
          41.523,
          37.598,
          39.047,
          24.615,
          33.885,
          33.949,
          15.537,
          57.019,
          36.657,
          60.186,
          61.82,
          24.796,
          50.627,
          39.892,
          63.549,
          25.013,
          51.813,
          47.75,
          29.627,
          20.423,
          50.295,
          55.339,
          30.806,
          49.9,
          35.418,
          53.866,
          24.054,
          64.132,
          29.17,
          33.832,
          15.869,
          18.968,
          42.42,
          28.02,
          60.958,
          13.352,
          34.487,
          32.066,
          13.621,
          19.713,
          36.491,
          41.086,
          35.949,
          43.294,
          47.018,
          13.076,
          39.418,
          68.383,
          42.604,
          51.797,
          30.588,
          57.391,
          57.329,
          42.735,
          69.109,
          19.782,
          13.483,
          57.169,
          59.315,
          19.472,
          27.904,
          13.518
         ],
         "yaxis": "y"
        },
        {
         "hovertemplate": "<b>OLS trendline</b><br>GDP = 0.000141582 * Automobile_Sales + 39.7408<br>R<sup>2</sup>=0.000206<br><br>Automobile_Sales=%{x}<br>GDP=%{y} <b>(trend)</b><extra></extra>",
         "legendgroup": "",
         "marker": {
          "symbol": "circle"
         },
         "mode": "lines",
         "name": "",
         "showlegend": false,
         "type": "scatter",
         "x": [
          102,
          195,
          214,
          325,
          426.5,
          456,
          466,
          550.9,
          552.3,
          555.9,
          556.2,
          556.8,
          558,
          558.8,
          559.4,
          563.1,
          564,
          564.8,
          566.7,
          570.2,
          570.9,
          571.6,
          572.7,
          574.2,
          574.3,
          574.7,
          575.2,
          581.2,
          585.1,
          589,
          591.9,
          592.3,
          594.5,
          597.1,
          604.3,
          604.8,
          605.3,
          608.3,
          609.7,
          611.8,
          613.6,
          614.4,
          617.3,
          619.1,
          619.4,
          620,
          623.1,
          626.5,
          628.4,
          632.9,
          632.9,
          633.8,
          638.2,
          639.1,
          645.2,
          647.5,
          648.1,
          650,
          651,
          653.1,
          654,
          657.1,
          659.1,
          660,
          662.2,
          663.6,
          668,
          669.4,
          670.4,
          670.6,
          671.6,
          676.1,
          677.6,
          681.2,
          683.5,
          686.1,
          686.2,
          688.2,
          688.6,
          688.8,
          689.8,
          690,
          690.4,
          690.7,
          691.9,
          692.8,
          697.4,
          697.6,
          698.3,
          702.6,
          702.8,
          705.6,
          706.3,
          706.6,
          714.5,
          714.8,
          720.2,
          720.8,
          721,
          723,
          724.1,
          724.2,
          726.7,
          727,
          729.6,
          731.4,
          734.9,
          736.3,
          738.8,
          744.5,
          744.6,
          745,
          745,
          750,
          750.8,
          751.4,
          752.9,
          754.5,
          754.8,
          756.3,
          759.5,
          759.5,
          762,
          763,
          763.9,
          770.4,
          773.3,
          776.2,
          778.3,
          778.7,
          779.5,
          783.9,
          797.3,
          804.6,
          824.8,
          832,
          842.9,
          843.3,
          845.2,
          845.4,
          846.4,
          851.8,
          852.9,
          854.4,
          860.8,
          863.2,
          876.8,
          883.9,
          889.5,
          908.1,
          918.7,
          923.2,
          925.6,
          940.2,
          969.2,
          985.14,
          996,
          1003.1,
          1015.4,
          1015.6,
          1024.5,
          1038,
          1060,
          1068,
          1069.6,
          1123.4,
          1125.2,
          1170.6,
          1181.8,
          1201.5,
          1229.9,
          1241.1,
          1242.3,
          1255.7,
          1259.5,
          1260,
          1264,
          1281.4,
          1283.4,
          1290.6,
          1291.2,
          1301.1,
          1301.8,
          1309.8,
          1343.3,
          1343.8,
          1345.2,
          1361.9,
          1380.9,
          1381.8,
          1395.1,
          1408.2,
          1413.1,
          1420.6,
          1436.7,
          1445.4,
          1450.8,
          1454.6,
          1463.1,
          1483.3,
          1485.2,
          1487,
          1501.6,
          1513.4,
          1518.4,
          1522.2,
          1524.6,
          1534.6,
          1563.5,
          1565.7,
          1566.7,
          1577.5,
          1579.6,
          1587.2,
          1619.5,
          1619.5,
          1619.7,
          1628,
          1636.6,
          1650.1,
          1652.9,
          1657.1,
          1671.8,
          1685.9,
          1699.7,
          1702.7,
          1719.6,
          1722.2,
          1739.6,
          1740.9,
          1743.8,
          1750.2,
          1754.6,
          1769.5,
          1777.1,
          1783.1,
          1819.3,
          1831.1,
          1845.3,
          1876.4,
          1883.7,
          1913.7,
          1922.6,
          1935.8,
          1940.4,
          1973,
          1981.3,
          1987.9,
          1991.3,
          1995.6,
          1997.3,
          1997.8,
          2028.3,
          2035.6,
          2044.2,
          2065,
          2103.3,
          2119.9,
          2120.6,
          2122.8,
          2124.6,
          2131.5,
          2147.2,
          2182.4,
          2182.8,
          2187.8,
          2194.6,
          2200.9,
          2203.5,
          2214,
          2246.5,
          2258.9,
          2268.8,
          2275,
          2275.8,
          2283,
          2286.7,
          2290.5,
          2331.2,
          2365.7,
          2372.5,
          2375.9,
          2392.8,
          2408.3,
          2426.3,
          2433.1,
          2445.3,
          2451.2,
          2466.3,
          2471.3,
          2496.8,
          2499.1,
          2510.5,
          2511.6,
          2514,
          2517.7,
          2550.4,
          2563.9,
          2565.8,
          2567.6,
          2607.8,
          2611.2,
          2617,
          2629.4,
          2650.8,
          2652.3,
          2695.5,
          2700.4,
          2715.5,
          2727,
          2767,
          2768.1,
          2778.2,
          2780.4,
          2791.5,
          2797.8,
          2801.1,
          2832.8,
          2833.1,
          2846.4,
          2851.8,
          2861,
          2889.3,
          2910.7,
          2924.3,
          2924.7,
          2925.9,
          2936.6,
          2948,
          2951.8,
          2962.9,
          2981.3,
          3003.3,
          3018.9,
          3020.9,
          3028.5,
          3035.7,
          3047.8,
          3060.1,
          3088.7,
          3106.8,
          3116.2,
          3125.7,
          3135.6,
          3137.9,
          3141.2,
          3152.2,
          3178.4,
          3179.8,
          3189.4,
          3196.2,
          3197.6,
          3207.1,
          3235.2,
          3240.4,
          3240.6,
          3244.6,
          3253.2,
          3257,
          3282.5,
          3284.7,
          3296.8,
          3301,
          3310.6,
          3315.5,
          3319.4,
          3336.3,
          3349.6,
          3353.9,
          3369.7,
          3371.6,
          3424.6,
          3426,
          3429,
          3429.9,
          3450.4,
          3451.3,
          3455,
          3461.9,
          3472.2,
          3474.2,
          3483.9,
          3485.2,
          3495.1,
          3505.1,
          3506.8,
          3510.9,
          3525.9,
          3533.5,
          3537,
          3538.5,
          3551.6,
          3554.2,
          3587.9,
          3603.5,
          3613.5,
          3618.7,
          3620,
          3627.1,
          3630.1,
          3636.8,
          3638.1,
          3641.2,
          3649.2,
          3652.3,
          3663.4,
          3676.7,
          3678.1,
          3686.7,
          3692.8,
          3720.9,
          3726.7,
          3737,
          3754.8,
          3757.9,
          3797.7,
          3799.1,
          3820,
          3822.1,
          3841.4,
          3844.2,
          3867.7,
          3868.5,
          3875.7,
          3883.5,
          3905.6,
          3914.4,
          3917,
          3923.9,
          3930.3,
          3939.4,
          3939.8,
          3949,
          3977,
          4000.1,
          4004.9,
          4017.6,
          4025.4,
          4041.6,
          4050.1,
          4060.1,
          4065.5,
          4080.9,
          4090,
          4109.3,
          4110.1,
          4110.9,
          4113.3,
          4114.5,
          4117.2,
          4117.5,
          4120.2,
          4127.2,
          4160.3,
          4163.9,
          4172.9,
          4192.5,
          4194.5,
          4199.6,
          4207.4,
          4210.4,
          4224.3,
          4257.9,
          4262.3,
          4263.4,
          4265.8,
          4266.9,
          4289.8,
          4296.7,
          4307.9,
          4330.8,
          4341.5,
          4355,
          4358.3,
          4358.6,
          4377.1,
          4383.5,
          4410.5,
          4423.5,
          4436.2,
          4440.8,
          4448.9,
          4456.9,
          4460.1,
          4463.9,
          4465.5,
          4479.6,
          4488.6,
          4493.1,
          4498.7,
          4500.7,
          4520.7,
          4522.1,
          4529.6,
          4532.1,
          4545.6,
          4549.2,
          4576.1,
          4577.8,
          4602.5,
          4633.4,
          4635.8,
          4661.6,
          4666.3,
          4670.6,
          4686.4,
          4702.3,
          4709.8,
          4714.6,
          4723.8,
          4726.3,
          4769.8,
          4775.6,
          4806.9,
          4811.6,
          4842,
          4843.3,
          4865.5,
          4866.9,
          4875.6,
          4901.2,
          4943.6,
          4965.6,
          4968,
          4972.5,
          4972.7,
          4974.5,
          21147
         ],
         "xaxis": "x",
         "y": [
          39.75524259181909,
          39.76840970342904,
          39.771099758489136,
          39.78681534331392,
          39.801185900608644,
          39.80536256504406,
          39.80677838349674,
          39.818798682160015,
          39.81899689674339,
          39.81950659138636,
          39.81954906593994,
          39.8196340150471,
          39.819803913261424,
          39.81991717873764,
          39.820002127844795,
          39.82052598067229,
          39.82065340433303,
          39.820766669809245,
          39.82103567531526,
          39.821531211773696,
          39.821630319065385,
          39.821729426357074,
          39.82188516638686,
          39.82209753915477,
          39.822111697339295,
          39.8221683300774,
          39.82223912100004,
          39.82308861207164,
          39.823640781268196,
          39.82419295046474,
          39.82460353781602,
          39.824660170554125,
          39.82497165061371,
          39.825339763411414,
          39.82635915269734,
          39.82642994361998,
          39.82650073454261,
          39.826925480078415,
          39.82712369466179,
          39.82742101653685,
          39.82767586385834,
          39.827789129334555,
          39.82819971668583,
          39.828454564007316,
          39.8284970385609,
          39.82858198766805,
          39.82902089138839,
          39.8295022696623,
          39.829771275168305,
          39.83040839347201,
          39.83040839347201,
          39.830535817132755,
          39.831158777251936,
          39.83128620091268,
          39.83214985016882,
          39.83247548841293,
          39.832560437520094,
          39.8328294430261,
          39.83297102487137,
          39.833268346746436,
          39.83339577040718,
          39.83383467412751,
          39.83411783781804,
          39.834245261478785,
          39.83455674153838,
          39.83475495612175,
          39.83537791624093,
          39.83557613082431,
          39.83571771266958,
          39.83574602903863,
          39.835887610883894,
          39.8365247291876,
          39.83673710195551,
          39.83724679659847,
          39.83757243484259,
          39.83794054764029,
          39.837954705824814,
          39.83823786951535,
          39.83829450225346,
          39.838322818622515,
          39.83846440046778,
          39.83849271683683,
          39.83854934957494,
          39.83859182412852,
          39.838761722342845,
          39.83888914600359,
          39.83954042249182,
          39.83956873886087,
          39.83966784615256,
          39.84027664808721,
          39.840304964456266,
          39.84070139362302,
          39.8408005009147,
          39.840842975468284,
          39.84196147204591,
          39.84200394659948,
          39.842768488563934,
          39.842853437671096,
          39.84288175404015,
          39.84316491773069,
          39.84332065776048,
          39.843334815945006,
          39.84368877055818,
          39.84373124511176,
          39.84409935790946,
          39.84435420523094,
          39.84484974168938,
          39.84504795627276,
          39.845401910885926,
          39.84620892740396,
          39.846223085588484,
          39.846279718326585,
          39.846279718326585,
          39.84698762755293,
          39.84710089302914,
          39.847185842136305,
          39.84739821490421,
          39.847624745856635,
          39.847667220410216,
          39.84787959317812,
          39.84833265508298,
          39.84833265508298,
          39.84868660969615,
          39.848828191541415,
          39.84895561520216,
          39.849875897196405,
          39.85028648454768,
          39.850697071898956,
          39.85099439377402,
          39.85105102651213,
          39.85116429198834,
          39.85178725210752,
          39.853684448834116,
          39.85471799630458,
          39.857577949578996,
          39.858597338864925,
          39.86014058097835,
          39.86019721371646,
          39.86046621922247,
          39.86049453559152,
          39.86063611743679,
          39.86140065940124,
          39.86155639943104,
          39.861768772198936,
          39.862674896008656,
          39.8630146924373,
          39.864940205532946,
          39.86594543663435,
          39.86673829496785,
          39.869371717289845,
          39.870872484849684,
          39.87150960315339,
          39.87184939958204,
          39.87391649452295,
          39.87802236803574,
          39.88027918264931,
          39.88181676148892,
          39.88282199259033,
          39.88456344928713,
          39.88459176565618,
          39.88585184407907,
          39.88776319899019,
          39.890877999586095,
          39.89201065434824,
          39.892237185300665,
          39.8998542885761,
          39.90010913589758,
          39.90653695167276,
          39.908122668339765,
          39.91091183069155,
          39.91493275509717,
          39.91651847176418,
          39.916688369978495,
          39.91858556670509,
          39.91912357771711,
          39.919194368639744,
          39.919760696020816,
          39.922224220128484,
          39.922507383819024,
          39.92352677310495,
          39.923611722212115,
          39.92501338248027,
          39.92511248977196,
          39.92624514453411,
          39.93098813635059,
          39.93105892727323,
          39.931257141856605,
          39.933621558672584,
          39.93631161373268,
          39.93643903739342,
          39.93832207593549,
          39.9401767981085,
          39.94087054915032,
          39.94193241298983,
          39.944211880698646,
          39.94544364275248,
          39.94620818471693,
          39.94674619572895,
          39.94794964141373,
          39.95080959468815,
          39.95107860019416,
          39.951333447515644,
          39.953400542456556,
          39.95507120823073,
          39.95577911745706,
          39.95631712846909,
          39.95665692489773,
          39.958072743350414,
          39.962164458678664,
          39.96247593873825,
          39.96261752058352,
          39.96414660451242,
          39.96444392638748,
          39.96551994841152,
          39.97009304201369,
          39.97009304201369,
          39.97012135838274,
          39.97129648769847,
          39.972514091567774,
          39.9744254464789,
          39.974821875645645,
          39.97541651939577,
          39.97749777252122,
          39.9794940765395,
          39.9814479060042,
          39.98187265154001,
          39.98426538472504,
          39.984633497522736,
          39.987097021630404,
          39.987281078029255,
          39.98769166538053,
          39.98859778919025,
          39.98922074930943,
          39.991330318803925,
          39.99240634082796,
          39.993255831899575,
          39.99838109469829,
          40.00005176047245,
          40.002062222675264,
          40.0064654180631,
          40.007498965533564,
          40.01174642089161,
          40.0130064993145,
          40.01487537967204,
          40.015526656160276,
          40.02014222431602,
          40.021317353631744,
          40.02225179381052,
          40.02273317208443,
          40.02334197401908,
          40.02358266315604,
          40.02365345407867,
          40.02797170035935,
          40.029005247829815,
          40.03022285169912,
          40.0331677540807,
          40.038590338754474,
          40.04094059738593,
          40.041039704677615,
          40.0413511847372,
          40.04160603205869,
          40.042582946791036,
          40.04480578176175,
          40.0497894627152,
          40.049846095453304,
          40.05055400467964,
          40.05151676122747,
          40.052408726852654,
          40.052776839650356,
          40.05426344902567,
          40.05886485899689,
          40.06062047387822,
          40.062022134146375,
          40.062899941587034,
          40.06301320706325,
          40.06403259634918,
          40.06455644917667,
          40.065094460188696,
          40.07085684129111,
          40.075741414952866,
          40.076704171500694,
          40.077185549774605,
          40.07957828295964,
          40.08177280156129,
          40.08432127477612,
          40.08528403132395,
          40.08701132983622,
          40.0878466627233,
          40.089984548586855,
          40.0906924578132,
          40.09430279486754,
          40.09462843311165,
          40.096242466147714,
          40.096398206177504,
          40.09673800260615,
          40.09726185543364,
          40.10189158177391,
          40.103802936685035,
          40.10407194219105,
          40.10432678951253,
          40.11001837969231,
          40.110499757966224,
          40.11132093266878,
          40.11307654755011,
          40.11610639903885,
          40.11631877180675,
          40.12243510752234,
          40.12312885856416,
          40.125266744427705,
          40.126894935648295,
          40.13255820945902,
          40.13271394948882,
          40.13414392612603,
          40.134455406185616,
          40.1360269646681,
          40.136918930293284,
          40.13738615038267,
          40.141874294877674,
          40.141916769431255,
          40.14379980797332,
          40.144564349937774,
          40.14586690291424,
          40.14987366913533,
          40.15290352062407,
          40.15482903371972,
          40.15488566645783,
          40.155055564672146,
          40.15657049041652,
          40.158184523452576,
          40.158722534464594,
          40.160294092947076,
          40.162899198900014,
          40.16601399949592,
          40.1682226762821,
          40.16850583997263,
          40.169581861996676,
          40.170601251282605,
          40.17231439161035,
          40.17405584830715,
          40.178105089081825,
          40.18066772048118,
          40.1819985898267,
          40.18334361735675,
          40.184745277624906,
          40.18507091586902,
          40.18553813595841,
          40.18709553625636,
          40.19080498060239,
          40.191003195185765,
          40.192362380900335,
          40.19332513744816,
          40.19352335203154,
          40.19486837956158,
          40.198846829413625,
          40.19958305500902,
          40.199611371378076,
          40.20017769875915,
          40.201395302628455,
          40.201933313640474,
          40.205543650694814,
          40.2058551307544,
          40.20756827108215,
          40.20816291483228,
          40.20952210054685,
          40.210215851588664,
          40.21076802078521,
          40.21316075397024,
          40.21504379251231,
          40.215652594446965,
          40.21788958760221,
          40.218158593108214,
          40.225662430907434,
          40.22586064549081,
          40.226285391026614,
          40.22641281468736,
          40.229315242515355,
          40.2294426661761,
          40.22996651900359,
          40.23094343373594,
          40.232401726742204,
          40.23268489043274,
          40.23405823433184,
          40.23424229073069,
          40.23564395099885,
          40.23705976945153,
          40.237300458588486,
          40.237880944154085,
          40.24000467183311,
          40.24108069385715,
          40.24157623031559,
          40.24178860308349,
          40.24364332525651,
          40.2440114380542,
          40.24878274623974,
          40.25099142302593,
          40.25240724147861,
          40.253143467074004,
          40.253327523472855,
          40.25433275457426,
          40.25475750011006,
          40.25570609847336,
          40.25589015487221,
          40.25632905859254,
          40.25746171335469,
          40.257900617075016,
          40.2594721755575,
          40.26135521409957,
          40.26155342868294,
          40.262771032552244,
          40.263634681808384,
          40.26761313166042,
          40.26843430636298,
          40.26989259936924,
          40.27241275621502,
          40.27285165993535,
          40.27848661737703,
          40.2786848319604,
          40.2816438925265,
          40.28194121440157,
          40.284673744015244,
          40.285070173182,
          40.2883973465458,
          40.288510612022016,
          40.28953000130795,
          40.29063433970104,
          40.29376329848147,
          40.295009218719834,
          40.29537733151753,
          40.29635424624988,
          40.2972603700596,
          40.29854876485154,
          40.29860539758965,
          40.299907950566116,
          40.30387224223362,
          40.30714278285932,
          40.30782237571661,
          40.30962046515152,
          40.31072480354461,
          40.31301842943795,
          40.31422187512273,
          40.31563769357542,
          40.31640223553987,
          40.318582595957,
          40.31987099074894,
          40.32260352036261,
          40.32271678583883,
          40.322830051315044,
          40.32316984774369,
          40.32333974595801,
          40.32372201694024,
          40.32376449149382,
          40.32414676247604,
          40.325137835392916,
          40.3298241944713,
          40.330333889114264,
          40.33160812572168,
          40.334383129888934,
          40.334666293579474,
          40.33538836099034,
          40.336492699383435,
          40.33691744491924,
          40.33888543256847,
          40.34364258256948,
          40.34426554268866,
          40.34442128271846,
          40.3447610791471,
          40.344916819176895,
          40.34815904343354,
          40.34913595816589,
          40.35072167483289,
          40.353963899089536,
          40.35547882483391,
          40.35739017974503,
          40.357857399834415,
          40.357899874387996,
          40.360519138525454,
          40.361425262335175,
          40.36524797215742,
          40.36708853614591,
          40.368886625580814,
          40.36953790206905,
          40.37068471501572,
          40.371817369777865,
          40.37227043168272,
          40.37280844269474,
          40.37303497364717,
          40.37503127766546,
          40.37630551427287,
          40.37694263257658,
          40.37773549091008,
          40.378018654600616,
          40.38085029150598,
          40.38104850608936,
          40.38211036992887,
          40.38246432454204,
          40.38437567945316,
          40.38488537409613,
          40.38869392573384,
          40.3889346148708,
          40.39243168644892,
          40.39680656546771,
          40.39714636189636,
          40.40079917350428,
          40.40146460817704,
          40.40207341011169,
          40.40431040326693,
          40.4065615546067,
          40.40762341844621,
          40.408303011303495,
          40.409605564279964,
          40.40995951889314,
          40.41611832916231,
          40.41693950386486,
          40.42137101562176,
          40.42203645029452,
          40.426340538390676,
          40.42652459478952,
          40.429667711754476,
          40.429865926337854,
          40.43109768839169,
          40.434722183630555,
          40.44072525386993,
          40.44384005446583,
          40.44417985089448,
          40.444816969198186,
          40.44484528556724,
          40.44510013288872,
          42.73483252548975
         ],
         "yaxis": "y"
        }
       ],
       "layout": {
        "autosize": true,
        "coloraxis": {
         "colorbar": {
          "title": {
           "text": "unemployment_rate"
          }
         },
         "colorscale": [
          [
           0,
           "#0d0887"
          ],
          [
           0.1111111111111111,
           "#46039f"
          ],
          [
           0.2222222222222222,
           "#7201a8"
          ],
          [
           0.3333333333333333,
           "#9c179e"
          ],
          [
           0.4444444444444444,
           "#bd3786"
          ],
          [
           0.5555555555555556,
           "#d8576b"
          ],
          [
           0.6666666666666666,
           "#ed7953"
          ],
          [
           0.7777777777777778,
           "#fb9f3a"
          ],
          [
           0.8888888888888888,
           "#fdca26"
          ],
          [
           1,
           "#f0f921"
          ]
         ]
        },
        "legend": {
         "tracegroupgap": 0
        },
        "template": {
         "data": {
          "bar": [
           {
            "error_x": {
             "color": "#2a3f5f"
            },
            "error_y": {
             "color": "#2a3f5f"
            },
            "marker": {
             "line": {
              "color": "#E5ECF6",
              "width": 0.5
             },
             "pattern": {
              "fillmode": "overlay",
              "size": 10,
              "solidity": 0.2
             }
            },
            "type": "bar"
           }
          ],
          "barpolar": [
           {
            "marker": {
             "line": {
              "color": "#E5ECF6",
              "width": 0.5
             },
             "pattern": {
              "fillmode": "overlay",
              "size": 10,
              "solidity": 0.2
             }
            },
            "type": "barpolar"
           }
          ],
          "carpet": [
           {
            "aaxis": {
             "endlinecolor": "#2a3f5f",
             "gridcolor": "white",
             "linecolor": "white",
             "minorgridcolor": "white",
             "startlinecolor": "#2a3f5f"
            },
            "baxis": {
             "endlinecolor": "#2a3f5f",
             "gridcolor": "white",
             "linecolor": "white",
             "minorgridcolor": "white",
             "startlinecolor": "#2a3f5f"
            },
            "type": "carpet"
           }
          ],
          "choropleth": [
           {
            "colorbar": {
             "outlinewidth": 0,
             "ticks": ""
            },
            "type": "choropleth"
           }
          ],
          "contour": [
           {
            "colorbar": {
             "outlinewidth": 0,
             "ticks": ""
            },
            "colorscale": [
             [
              0,
              "#0d0887"
             ],
             [
              0.1111111111111111,
              "#46039f"
             ],
             [
              0.2222222222222222,
              "#7201a8"
             ],
             [
              0.3333333333333333,
              "#9c179e"
             ],
             [
              0.4444444444444444,
              "#bd3786"
             ],
             [
              0.5555555555555556,
              "#d8576b"
             ],
             [
              0.6666666666666666,
              "#ed7953"
             ],
             [
              0.7777777777777778,
              "#fb9f3a"
             ],
             [
              0.8888888888888888,
              "#fdca26"
             ],
             [
              1,
              "#f0f921"
             ]
            ],
            "type": "contour"
           }
          ],
          "contourcarpet": [
           {
            "colorbar": {
             "outlinewidth": 0,
             "ticks": ""
            },
            "type": "contourcarpet"
           }
          ],
          "heatmap": [
           {
            "colorbar": {
             "outlinewidth": 0,
             "ticks": ""
            },
            "colorscale": [
             [
              0,
              "#0d0887"
             ],
             [
              0.1111111111111111,
              "#46039f"
             ],
             [
              0.2222222222222222,
              "#7201a8"
             ],
             [
              0.3333333333333333,
              "#9c179e"
             ],
             [
              0.4444444444444444,
              "#bd3786"
             ],
             [
              0.5555555555555556,
              "#d8576b"
             ],
             [
              0.6666666666666666,
              "#ed7953"
             ],
             [
              0.7777777777777778,
              "#fb9f3a"
             ],
             [
              0.8888888888888888,
              "#fdca26"
             ],
             [
              1,
              "#f0f921"
             ]
            ],
            "type": "heatmap"
           }
          ],
          "heatmapgl": [
           {
            "colorbar": {
             "outlinewidth": 0,
             "ticks": ""
            },
            "colorscale": [
             [
              0,
              "#0d0887"
             ],
             [
              0.1111111111111111,
              "#46039f"
             ],
             [
              0.2222222222222222,
              "#7201a8"
             ],
             [
              0.3333333333333333,
              "#9c179e"
             ],
             [
              0.4444444444444444,
              "#bd3786"
             ],
             [
              0.5555555555555556,
              "#d8576b"
             ],
             [
              0.6666666666666666,
              "#ed7953"
             ],
             [
              0.7777777777777778,
              "#fb9f3a"
             ],
             [
              0.8888888888888888,
              "#fdca26"
             ],
             [
              1,
              "#f0f921"
             ]
            ],
            "type": "heatmapgl"
           }
          ],
          "histogram": [
           {
            "marker": {
             "pattern": {
              "fillmode": "overlay",
              "size": 10,
              "solidity": 0.2
             }
            },
            "type": "histogram"
           }
          ],
          "histogram2d": [
           {
            "colorbar": {
             "outlinewidth": 0,
             "ticks": ""
            },
            "colorscale": [
             [
              0,
              "#0d0887"
             ],
             [
              0.1111111111111111,
              "#46039f"
             ],
             [
              0.2222222222222222,
              "#7201a8"
             ],
             [
              0.3333333333333333,
              "#9c179e"
             ],
             [
              0.4444444444444444,
              "#bd3786"
             ],
             [
              0.5555555555555556,
              "#d8576b"
             ],
             [
              0.6666666666666666,
              "#ed7953"
             ],
             [
              0.7777777777777778,
              "#fb9f3a"
             ],
             [
              0.8888888888888888,
              "#fdca26"
             ],
             [
              1,
              "#f0f921"
             ]
            ],
            "type": "histogram2d"
           }
          ],
          "histogram2dcontour": [
           {
            "colorbar": {
             "outlinewidth": 0,
             "ticks": ""
            },
            "colorscale": [
             [
              0,
              "#0d0887"
             ],
             [
              0.1111111111111111,
              "#46039f"
             ],
             [
              0.2222222222222222,
              "#7201a8"
             ],
             [
              0.3333333333333333,
              "#9c179e"
             ],
             [
              0.4444444444444444,
              "#bd3786"
             ],
             [
              0.5555555555555556,
              "#d8576b"
             ],
             [
              0.6666666666666666,
              "#ed7953"
             ],
             [
              0.7777777777777778,
              "#fb9f3a"
             ],
             [
              0.8888888888888888,
              "#fdca26"
             ],
             [
              1,
              "#f0f921"
             ]
            ],
            "type": "histogram2dcontour"
           }
          ],
          "mesh3d": [
           {
            "colorbar": {
             "outlinewidth": 0,
             "ticks": ""
            },
            "type": "mesh3d"
           }
          ],
          "parcoords": [
           {
            "line": {
             "colorbar": {
              "outlinewidth": 0,
              "ticks": ""
             }
            },
            "type": "parcoords"
           }
          ],
          "pie": [
           {
            "automargin": true,
            "type": "pie"
           }
          ],
          "scatter": [
           {
            "fillpattern": {
             "fillmode": "overlay",
             "size": 10,
             "solidity": 0.2
            },
            "type": "scatter"
           }
          ],
          "scatter3d": [
           {
            "line": {
             "colorbar": {
              "outlinewidth": 0,
              "ticks": ""
             }
            },
            "marker": {
             "colorbar": {
              "outlinewidth": 0,
              "ticks": ""
             }
            },
            "type": "scatter3d"
           }
          ],
          "scattercarpet": [
           {
            "marker": {
             "colorbar": {
              "outlinewidth": 0,
              "ticks": ""
             }
            },
            "type": "scattercarpet"
           }
          ],
          "scattergeo": [
           {
            "marker": {
             "colorbar": {
              "outlinewidth": 0,
              "ticks": ""
             }
            },
            "type": "scattergeo"
           }
          ],
          "scattergl": [
           {
            "marker": {
             "colorbar": {
              "outlinewidth": 0,
              "ticks": ""
             }
            },
            "type": "scattergl"
           }
          ],
          "scattermapbox": [
           {
            "marker": {
             "colorbar": {
              "outlinewidth": 0,
              "ticks": ""
             }
            },
            "type": "scattermapbox"
           }
          ],
          "scatterpolar": [
           {
            "marker": {
             "colorbar": {
              "outlinewidth": 0,
              "ticks": ""
             }
            },
            "type": "scatterpolar"
           }
          ],
          "scatterpolargl": [
           {
            "marker": {
             "colorbar": {
              "outlinewidth": 0,
              "ticks": ""
             }
            },
            "type": "scatterpolargl"
           }
          ],
          "scatterternary": [
           {
            "marker": {
             "colorbar": {
              "outlinewidth": 0,
              "ticks": ""
             }
            },
            "type": "scatterternary"
           }
          ],
          "surface": [
           {
            "colorbar": {
             "outlinewidth": 0,
             "ticks": ""
            },
            "colorscale": [
             [
              0,
              "#0d0887"
             ],
             [
              0.1111111111111111,
              "#46039f"
             ],
             [
              0.2222222222222222,
              "#7201a8"
             ],
             [
              0.3333333333333333,
              "#9c179e"
             ],
             [
              0.4444444444444444,
              "#bd3786"
             ],
             [
              0.5555555555555556,
              "#d8576b"
             ],
             [
              0.6666666666666666,
              "#ed7953"
             ],
             [
              0.7777777777777778,
              "#fb9f3a"
             ],
             [
              0.8888888888888888,
              "#fdca26"
             ],
             [
              1,
              "#f0f921"
             ]
            ],
            "type": "surface"
           }
          ],
          "table": [
           {
            "cells": {
             "fill": {
              "color": "#EBF0F8"
             },
             "line": {
              "color": "white"
             }
            },
            "header": {
             "fill": {
              "color": "#C8D4E3"
             },
             "line": {
              "color": "white"
             }
            },
            "type": "table"
           }
          ]
         },
         "layout": {
          "annotationdefaults": {
           "arrowcolor": "#2a3f5f",
           "arrowhead": 0,
           "arrowwidth": 1
          },
          "autotypenumbers": "strict",
          "coloraxis": {
           "colorbar": {
            "outlinewidth": 0,
            "ticks": ""
           }
          },
          "colorscale": {
           "diverging": [
            [
             0,
             "#8e0152"
            ],
            [
             0.1,
             "#c51b7d"
            ],
            [
             0.2,
             "#de77ae"
            ],
            [
             0.3,
             "#f1b6da"
            ],
            [
             0.4,
             "#fde0ef"
            ],
            [
             0.5,
             "#f7f7f7"
            ],
            [
             0.6,
             "#e6f5d0"
            ],
            [
             0.7,
             "#b8e186"
            ],
            [
             0.8,
             "#7fbc41"
            ],
            [
             0.9,
             "#4d9221"
            ],
            [
             1,
             "#276419"
            ]
           ],
           "sequential": [
            [
             0,
             "#0d0887"
            ],
            [
             0.1111111111111111,
             "#46039f"
            ],
            [
             0.2222222222222222,
             "#7201a8"
            ],
            [
             0.3333333333333333,
             "#9c179e"
            ],
            [
             0.4444444444444444,
             "#bd3786"
            ],
            [
             0.5555555555555556,
             "#d8576b"
            ],
            [
             0.6666666666666666,
             "#ed7953"
            ],
            [
             0.7777777777777778,
             "#fb9f3a"
            ],
            [
             0.8888888888888888,
             "#fdca26"
            ],
            [
             1,
             "#f0f921"
            ]
           ],
           "sequentialminus": [
            [
             0,
             "#0d0887"
            ],
            [
             0.1111111111111111,
             "#46039f"
            ],
            [
             0.2222222222222222,
             "#7201a8"
            ],
            [
             0.3333333333333333,
             "#9c179e"
            ],
            [
             0.4444444444444444,
             "#bd3786"
            ],
            [
             0.5555555555555556,
             "#d8576b"
            ],
            [
             0.6666666666666666,
             "#ed7953"
            ],
            [
             0.7777777777777778,
             "#fb9f3a"
            ],
            [
             0.8888888888888888,
             "#fdca26"
            ],
            [
             1,
             "#f0f921"
            ]
           ]
          },
          "colorway": [
           "#636efa",
           "#EF553B",
           "#00cc96",
           "#ab63fa",
           "#FFA15A",
           "#19d3f3",
           "#FF6692",
           "#B6E880",
           "#FF97FF",
           "#FECB52"
          ],
          "font": {
           "color": "#2a3f5f"
          },
          "geo": {
           "bgcolor": "white",
           "lakecolor": "white",
           "landcolor": "#E5ECF6",
           "showlakes": true,
           "showland": true,
           "subunitcolor": "white"
          },
          "hoverlabel": {
           "align": "left"
          },
          "hovermode": "closest",
          "mapbox": {
           "style": "light"
          },
          "paper_bgcolor": "white",
          "plot_bgcolor": "#E5ECF6",
          "polar": {
           "angularaxis": {
            "gridcolor": "white",
            "linecolor": "white",
            "ticks": ""
           },
           "bgcolor": "#E5ECF6",
           "radialaxis": {
            "gridcolor": "white",
            "linecolor": "white",
            "ticks": ""
           }
          },
          "scene": {
           "xaxis": {
            "backgroundcolor": "#E5ECF6",
            "gridcolor": "white",
            "gridwidth": 2,
            "linecolor": "white",
            "showbackground": true,
            "ticks": "",
            "zerolinecolor": "white"
           },
           "yaxis": {
            "backgroundcolor": "#E5ECF6",
            "gridcolor": "white",
            "gridwidth": 2,
            "linecolor": "white",
            "showbackground": true,
            "ticks": "",
            "zerolinecolor": "white"
           },
           "zaxis": {
            "backgroundcolor": "#E5ECF6",
            "gridcolor": "white",
            "gridwidth": 2,
            "linecolor": "white",
            "showbackground": true,
            "ticks": "",
            "zerolinecolor": "white"
           }
          },
          "shapedefaults": {
           "line": {
            "color": "#2a3f5f"
           }
          },
          "ternary": {
           "aaxis": {
            "gridcolor": "white",
            "linecolor": "white",
            "ticks": ""
           },
           "baxis": {
            "gridcolor": "white",
            "linecolor": "white",
            "ticks": ""
           },
           "bgcolor": "#E5ECF6",
           "caxis": {
            "gridcolor": "white",
            "linecolor": "white",
            "ticks": ""
           }
          },
          "title": {
           "x": 0.05
          },
          "xaxis": {
           "automargin": true,
           "gridcolor": "white",
           "linecolor": "white",
           "ticks": "",
           "title": {
            "standoff": 15
           },
           "zerolinecolor": "white",
           "zerolinewidth": 2
          },
          "yaxis": {
           "automargin": true,
           "gridcolor": "white",
           "linecolor": "white",
           "ticks": "",
           "title": {
            "standoff": 15
           },
           "zerolinecolor": "white",
           "zerolinewidth": 2
          }
         }
        },
        "title": {
         "text": "Automobile_Sales vs GDP",
         "x": 0.5
        },
        "xaxis": {
         "anchor": "y",
         "autorange": true,
         "domain": [
          0,
          1
         ],
         "range": [
          -1200.5114051094893,
          22449.51140510949
         ],
         "title": {
          "text": "Automobile_Sales"
         },
         "type": "linear"
        },
        "yaxis": {
         "anchor": "x",
         "autorange": true,
         "domain": [
          0,
          1
         ],
         "range": [
          7.732650485436892,
          75.1493495145631
         ],
         "title": {
          "text": "GDP"
         },
         "type": "linear"
        }
       }
      },
      "image/png": "[encoded data removed]",
      "text/html": [
       "<div>                            <div id=\"2c2648ee-f6d6-436a-abac-f36032898c39\" class=\"plotly-graph-div\" style=\"height:525px; width:100%;\"></div>            <script type=\"text/javascript\">                require([\"plotly\"], function(Plotly) {                    window.PLOTLYENV=window.PLOTLYENV || {};                                    if (document.getElementById(\"2c2648ee-f6d6-436a-abac-f36032898c39\")) {                    Plotly.newPlot(                        \"2c2648ee-f6d6-436a-abac-f36032898c39\",                        [{\"hovertemplate\":\"Automobile_Sales=%{x}\\u003cbr\\u003eGDP=%{y}\\u003cbr\\u003eunemployment_rate=%{marker.color}\\u003cextra\\u003e\\u003c\\u002fextra\\u003e\",\"legendgroup\":\"\",\"marker\":{\"color\":[5.4,4.8,3.4,4.2,5.3,2.9,2.9,3.0,5.2,4.4,2.6,3.3,5.9,5.8,4.4,2.8,4.1,4.3,5.6,3.7,3.1,4.7,3.3,2.6,5.3,4.2,5.0,3.2,4.0,3.8,3.2,4.6,2.8,4.1,5.4,3.6,3.2,4.9,3.0,2.8,5.0,2.6,5.5,5.3,5.4,2.9,3.7,5.5,4.5,3.8,5.7,2.9,3.2,4.2,2.6,4.5,2.6,3.7,3.8,5.4,2.9,4.5,5.4,6.0,4.0,4.2,3.5,2.9,5.7,3.4,5.3,3.0,3.1,4.1,3.5,4.9,4.4,3.1,4.4,4.7,4.3,3.1,4.8,5.4,3.5,3.1,5.6,5.2,5.5,4.8,4.4,3.4,3.7,3.8,4.8,3.1,4.4,2.6,3.8,5.6,3.6,4.9,3.6,5.8,5.4,3.0,5.2,3.1,5.0,3.7,3.6,4.2,4.9,2.4,1.5,2.0,2.3,2.3,3.0,2.4,1.7,1.1,1.3,3.0,1.2,1.4,1.4,2.1,2.2,2.4,2.9,2.5,2.5,2.0,1.5,2.1,2.9,1.1,1.1,1.4,1.0,1.9,1.1,2.8,2.3,2.5,2.6,2.7,1.8,1.4,1.8,2.7,1.4,1.7,2.2,1.7,2.5,2.3,1.2,2.4,2.1,1.2,1.6,2.9,2.7,3.0,1.7,2.1,2.7,1.1,1.9,2.5,2.0,1.6,2.8,2.5,1.4,2.1,1.9,2.1,2.9,2.7,2.1,2.6,2.9,1.3,1.0,1.4,1.3,2.5,1.1,2.6,1.1,1.0,1.6,1.0,1.9,2.5,2.1,1.8,2.9,1.8,1.0,2.6,1.4,1.2,1.1,1.1,2.0,1.0,1.5,2.7,2.0,1.6,2.5,1.7,1.7,2.7,1.9,1.5,2.0,3.0,3.0,2.3,1.1,2.5,1.7,2.6,2.4,1.3,1.5,2.8,2.1,2.9,2.0,1.7,2.8,2.4,2.2,1.2,1.0,2.9,1.5,2.3,2.2,1.5,1.2,1.1,1.8,2.3,1.4,2.5,1.9,2.3,1.7,2.5,2.6,1.2,2.8,2.0,2.6,2.9,2.9,2.6,1.3,2.4,1.1,1.8,2.1,1.8,2.0,1.5,2.4,2.3,1.2,1.1,1.2,2.2,1.4,2.0,2.0,2.6,1.8,2.6,2.3,1.3,2.6,2.9,2.9,1.1,2.0,2.2,1.4,1.3,2.3,1.6,1.5,1.7,2.7,1.2,1.9,2.4,2.1,2.9,2.7,1.5,3.0,2.2,2.0,2.9,1.1,2.5,2.4,2.4,2.5,3.0,1.5,1.1,2.6,1.7,1.5,1.3,2.2,2.4,2.3,1.6,1.4,2.6,2.3,1.2,1.4,1.0,1.5,2.2,1.8,1.7,2.8,1.9,1.6,2.7,1.4,1.8,1.1,2.9,2.5,1.8,2.4,1.6,1.5,2.8,2.0,2.0,2.3,1.1,1.3,1.6,1.6,2.1,1.2,1.6,1.5,1.3,2.5,1.4,2.6,2.3,2.3,1.0,1.3,1.6,1.5,1.9,1.1,2.0,2.2,2.7,1.4,1.5,2.2,2.9,1.3,3.0,1.6,1.1,2.1,2.5,1.6,1.4,1.9,1.1,2.9,2.0,1.6,1.3,2.6,1.4,1.9,2.2,2.7,1.3,2.7,2.4,2.4,1.3,1.7,1.4,2.5,1.8,1.9,1.3,1.2,3.0,1.7,2.9,1.9,2.4,2.4,2.3,1.8,2.3,1.5,2.2,2.9,1.4,2.4,2.1,1.6,2.3,2.9,2.3,1.1,1.7,1.7,1.7,2.6,2.2,1.5,2.8,2.4,2.4,2.1,1.0,2.9,2.0,2.6,1.1,2.8,2.2,1.5,1.6,2.2,2.3,2.2,2.5,2.6,2.0,2.5,2.4,1.7,1.1,1.8,2.8,2.8,1.1,2.4,2.8,1.8,1.8,1.7,2.5,3.0,1.1,2.5,1.6,1.6,1.8,2.4,2.5,1.8,1.3,1.1,2.8,2.7,1.1,1.5,1.2,2.6,1.8,1.6,1.6,2.2,3.0,1.8,2.5,2.1,1.1,2.2,1.3,2.6,1.7,1.0,2.8,3.0,2.1,2.8,1.5,1.2,2.1,2.5,2.1,1.6,3.0,1.8,1.8,1.7,2.5,1.6,2.8,2.6,1.2,1.5,3.0,2.5,2.6,2.5,2.5,2.9,2.1],\"coloraxis\":\"coloraxis\",\"symbol\":\"circle\"},\"mode\":\"markers\",\"name\":\"\",\"orientation\":\"v\",\"showlegend\":false,\"x\":[456.0,555.9,620.0,702.8,770.4,754.5,729.6,734.9,705.6,609.7,763.0,745.0,325.0,574.3,654.0,657.1,752.9,677.6,638.2,779.5,574.2,648.1,558.0,762.0,466.0,614.4,751.4,617.3,763.9,726.7,738.8,552.3,776.2,720.2,102.0,744.6,589.0,754.8,574.7,714.8,676.1,570.9,605.3,550.9,659.1,619.4,689.8,723.0,619.1,724.1,559.4,564.0,750.0,706.3,688.6,759.5,591.9,566.7,604.8,736.3,556.2,686.1,783.9,750.8,671.6,563.1,745.0,690.0,575.2,570.2,195.0,706.6,744.5,756.3,683.5,670.6,650.0,623.1,651.0,731.4,690.7,759.5,653.1,691.9,697.6,688.2,714.5,604.3,669.4,572.7,639.1,663.6,702.6,773.3,690.4,724.2,668.0,698.3,564.8,608.3,633.8,660.0,558.8,581.2,613.6,778.3,626.5,662.2,594.5,692.8,214.0,597.1,670.4,3799.1,3533.5,3240.4,908.1,4769.8,426.5,4120.2,4199.6,4686.4,2962.9,1436.7,3284.7,3844.2,3822.1,2514.0,851.8,2194.6,4633.4,3141.2,2936.6,1740.9,2182.8,4520.7,3505.1,4041.6,2563.9,2861.0,3336.3,3678.1,2445.3,2511.6,3429.0,4702.3,832.0,4207.4,1845.3,2517.7,645.2,1345.2,2778.2,797.3,2727.0,4661.6,1015.6,3939.8,2365.7,3455.0,1702.7,1255.7,1260.0,860.8,1883.7,3495.1,4460.1,4160.3,3587.9,1038.0,1831.1,1922.6,1657.1,2833.1,2924.3,2131.5,3663.4,4224.3,4050.1,1913.7,4602.5,4775.6,1997.8,2120.6,2791.5,4723.8,4436.2,1003.1,2290.5,3003.3,2780.4,1408.2,4358.6,3551.6,4265.8,4358.3,3868.5,804.6,3257.0,1259.5,3537.0,1343.3,3627.1,1566.7,1069.6,1281.4,556.8,3737.0,3797.7,2832.8,1264.0,918.7,632.9,1283.4,4500.7,1619.7,2119.9,1015.4,1534.6,2851.8,3244.6,1636.6,2496.8,2283.0,1587.2,1522.2,4806.9,3282.5,3018.9,2392.8,2451.2,2948.0,3638.1,21147.0,1309.8,2767.0,2375.9,4410.5,3349.6,2910.7,1060.0,3235.2,1068.0,2044.2,1181.8,3618.7,1463.1,2286.7,4522.1,1454.6,2801.1,2408.3,628.4,4065.5,854.4,2652.3,3035.7,1650.1,3603.5,1671.8,592.3,3757.9,2924.7,4257.9,4192.5,4289.8,2700.4,2028.3,4060.1,2550.4,1361.9,4341.5,4463.9,2617.0,883.9,2268.8,4113.3,4549.2,1450.8,845.2,4440.8,2275.8,2951.8,4843.3,843.3,3424.6,876.8,2214.0,4114.5,2471.3,4972.5,3028.5,1973.0,1524.6,2103.3,2200.9,852.9,2187.8,2607.8,3754.8,3461.9,3692.8,585.1,3483.9,1513.4,2695.5,571.6,4117.5,3977.0,2981.3,842.9,3949.0,3137.9,4017.6,3883.5,4110.9,2846.4,1170.6,3525.9,3301.0,3841.4,1301.8,1413.1,4498.7,3875.7,4577.8,3914.4,3197.6,3450.4,4493.1,3116.2,3353.9,1242.3,2650.8,3726.7,1750.2,1445.4,1940.4,1619.5,1501.6,2433.1,4576.1,2797.8,1381.8,889.5,3636.8,2246.5,4194.5,3474.2,4080.9,1754.6,3620.0,1719.6,4714.6,3371.6,1987.9,1743.8,1395.1,3630.1,1518.4,3189.4,1722.2,3485.2,4163.9,4000.1,3923.9,1380.9,940.2,3649.2,2182.4,2466.3,686.2,1699.7,697.4,4448.9,1628.0,3020.9,721.0,3506.8,1981.3,4532.1,4488.6,1991.3,4545.6,4968.0,4210.4,4296.7,1652.9,3106.8,846.4,969.2,4423.5,1997.3,3867.7,4127.2,4355.0,4974.5,1619.5,727.0,2372.5,1125.2,647.5,2147.2,4025.4,3060.1,1935.8,3451.3,1577.5,611.8,3939.4,3315.5,3930.3,720.8,4262.3,3296.8,3047.8,3319.4,4383.5,3152.2,3125.7,4943.6,3905.6,2510.5,3686.7,2275.0,1563.5,3196.2,4666.3,4670.6,2065.0,2889.3,1487.0,4965.6,4901.2,3429.9,4117.2,3720.9,3179.8,985.14,2565.8,1420.6,3554.2,2203.5,4726.3,1290.6,2768.1,3613.5,3641.2,3426.0,1769.5,1241.1,3369.7,3207.1,1343.8,3676.7,2567.6,3510.9,4263.4,1301.1,632.9,4004.9,3253.2,3652.3,4266.9,4110.1,4811.6,2925.9,2715.5,2331.2,1229.9,3088.7,1777.1,4635.8,3135.6,3178.4,2122.8,778.7,688.8,2426.3,923.2,3240.6,4456.9,4465.5,3472.2,1485.2,4377.1,4479.6,1024.5,3820.0,1819.3,4109.3,4972.7,681.2,4529.6,3310.6,4866.9,2611.2,4307.9,824.8,2035.6,845.4,4875.6,4172.9,4330.8,4709.8,925.6,2258.9,863.2,1483.3,1565.7,2629.4,1739.6,996.0,1291.2,1201.5,4865.5,3917.0,4842.0,2499.1,1783.1,4090.0,1995.6,1876.4,1579.6,1123.4,1685.9,2124.6,3538.5],\"xaxis\":\"x\",\"y\":[60.223,45.986,35.141,45.673,52.997,20.298,34.585,55.65,33.308,42.522,43.301,23.539,32.25,30.891,15.784,15.685,55.253,27.88,39.886,29.138,60.593,27.206,35.553,57.264,55.755,23.619,53.83,36.951,38.165,21.041,18.449,50.169,38.827,35.906,50.246,52.01,22.287,44.401,21.132,51.317,46.691,61.374,17.879,17.296,28.327,27.324,26.602,58.906,26.728,27.826,51.711,36.537,52.559,17.703,38.391,16.147,17.57,58.915,21.323,40.589,34.644,31.52,58.592,15.569,47.026,61.706,41.948,60.404,17.061,35.021,27.248,50.31,62.584,27.07,46.555,24.207,42.201,37.233,62.128,44.318,31.626,20.091,21.911,25.541,26.797,56.18,42.0,40.146,20.124,56.647,49.918,17.816,49.184,41.133,18.505,36.957,38.25,22.623,60.839,56.149,47.282,37.152,34.677,46.398,41.226,17.551,39.613,54.014,37.003,17.046,53.028,24.367,27.172,12.819,12.945,25.206,14.63,18.765,32.154,59.05,45.679,42.235,29.522,66.542,35.527,17.551,48.29,19.103,32.523,41.93,63.205,41.126,53.231,70.083,20.126,28.434,35.385,36.966,36.339,65.141,53.914,47.759,30.444,60.28,67.894,60.13,12.591,49.411,15.466,27.441,15.952,47.52,52.322,19.14,34.763,38.962,33.905,19.519,36.799,56.068,16.618,17.15,33.077,67.12,51.277,51.863,33.491,46.932,13.088,49.394,65.471,48.029,63.175,54.49,19.492,64.842,16.354,43.47,20.744,13.179,36.978,29.612,40.688,45.978,15.037,19.634,44.901,32.404,54.792,50.333,61.545,52.665,37.436,51.532,28.472,30.266,58.261,38.392,58.806,60.2,62.239,65.665,37.497,30.994,46.268,34.028,47.362,53.424,52.427,34.224,22.178,37.471,20.77,64.126,32.561,21.459,13.976,49.958,49.44,32.255,16.659,36.258,30.551,51.773,47.635,33.646,25.138,69.806,38.832,52.42,20.652,40.664,14.097,41.816,68.413,34.784,14.762,14.295,35.003,21.781,13.854,56.36,39.094,29.276,64.705,19.236,67.943,30.71,64.027,47.471,60.449,69.573,29.228,68.246,35.09,34.86,32.242,43.902,21.44,44.615,43.919,56.69,60.852,38.046,30.035,27.541,23.788,15.844,32.362,28.174,68.552,44.847,32.642,46.167,20.573,38.255,48.822,40.856,35.803,70.143,63.558,48.658,45.524,48.498,24.176,35.418,14.789,40.082,43.995,25.709,68.414,65.248,54.384,43.436,62.958,20.078,58.35,19.74,58.564,28.495,63.371,67.254,21.13,39.335,69.397,40.538,62.586,46.646,34.269,29.075,24.287,56.684,34.919,42.154,41.055,45.982,62.703,69.383,36.14,60.496,56.843,45.765,67.951,24.128,18.837,62.03,37.971,61.624,64.299,16.123,63.741,38.503,42.105,48.842,66.23,13.609,40.157,52.388,54.417,52.667,20.297,29.865,33.306,59.157,28.668,24.721,68.032,13.014,70.374,51.756,60.551,29.588,13.33,55.296,60.88,55.448,20.785,56.199,57.098,50.695,56.935,61.563,48.089,17.639,40.782,17.004,36.137,36.112,16.329,32.732,18.938,59.378,67.466,16.694,67.897,42.809,29.875,16.958,41.536,58.582,53.511,15.413,16.728,35.867,29.627,25.978,28.798,59.102,66.395,35.996,65.054,31.147,40.133,25.61,49.648,69.281,47.503,33.253,50.073,19.629,64.042,41.679,38.562,46.48,48.737,16.663,52.092,26.532,53.909,60.207,59.13,44.545,42.67,20.787,57.47,28.242,41.308,28.988,20.262,49.014,15.651,55.921,30.92,12.508,42.145,15.217,28.518,53.505,16.136,61.182,12.722,26.816,55.472,30.844,18.41,33.394,28.183,61.377,30.674,58.258,64.229,37.661,65.277,34.384,68.417,17.679,52.347,41.141,34.984,49.197,53.324,12.753,22.183,53.857,51.15,68.531,56.64,67.645,53.247,29.787,18.611,57.846,49.861,15.295,33.383,67.994,41.523,37.598,39.047,24.615,33.885,33.949,15.537,57.019,36.657,60.186,61.82,24.796,50.627,39.892,63.549,25.013,51.813,47.75,29.627,20.423,50.295,55.339,30.806,49.9,35.418,53.866,24.054,64.132,29.17,33.832,15.869,18.968,42.42,28.02,60.958,13.352,34.487,32.066,13.621,19.713,36.491,41.086,35.949,43.294,47.018,13.076,39.418,68.383,42.604,51.797,30.588,57.391,57.329,42.735,69.109,19.782,13.483,57.169,59.315,19.472,27.904,13.518],\"yaxis\":\"y\",\"type\":\"scatter\"},{\"hovertemplate\":\"\\u003cb\\u003eOLS trendline\\u003c\\u002fb\\u003e\\u003cbr\\u003eGDP = 0.000141582 * Automobile_Sales + 39.7408\\u003cbr\\u003eR\\u003csup\\u003e2\\u003c\\u002fsup\\u003e=0.000206\\u003cbr\\u003e\\u003cbr\\u003eAutomobile_Sales=%{x}\\u003cbr\\u003eGDP=%{y} \\u003cb\\u003e(trend)\\u003c\\u002fb\\u003e\\u003cextra\\u003e\\u003c\\u002fextra\\u003e\",\"legendgroup\":\"\",\"marker\":{\"symbol\":\"circle\"},\"mode\":\"lines\",\"name\":\"\",\"showlegend\":false,\"x\":[102.0,195.0,214.0,325.0,426.5,456.0,466.0,550.9,552.3,555.9,556.2,556.8,558.0,558.8,559.4,563.1,564.0,564.8,566.7,570.2,570.9,571.6,572.7,574.2,574.3,574.7,575.2,581.2,585.1,589.0,591.9,592.3,594.5,597.1,604.3,604.8,605.3,608.3,609.7,611.8,613.6,614.4,617.3,619.1,619.4,620.0,623.1,626.5,628.4,632.9,632.9,633.8,638.2,639.1,645.2,647.5,648.1,650.0,651.0,653.1,654.0,657.1,659.1,660.0,662.2,663.6,668.0,669.4,670.4,670.6,671.6,676.1,677.6,681.2,683.5,686.1,686.2,688.2,688.6,688.8,689.8,690.0,690.4,690.7,691.9,692.8,697.4,697.6,698.3,702.6,702.8,705.6,706.3,706.6,714.5,714.8,720.2,720.8,721.0,723.0,724.1,724.2,726.7,727.0,729.6,731.4,734.9,736.3,738.8,744.5,744.6,745.0,745.0,750.0,750.8,751.4,752.9,754.5,754.8,756.3,759.5,759.5,762.0,763.0,763.9,770.4,773.3,776.2,778.3,778.7,779.5,783.9,797.3,804.6,824.8,832.0,842.9,843.3,845.2,845.4,846.4,851.8,852.9,854.4,860.8,863.2,876.8,883.9,889.5,908.1,918.7,923.2,925.6,940.2,969.2,985.14,996.0,1003.1,1015.4,1015.6,1024.5,1038.0,1060.0,1068.0,1069.6,1123.4,1125.2,1170.6,1181.8,1201.5,1229.9,1241.1,1242.3,1255.7,1259.5,1260.0,1264.0,1281.4,1283.4,1290.6,1291.2,1301.1,1301.8,1309.8,1343.3,1343.8,1345.2,1361.9,1380.9,1381.8,1395.1,1408.2,1413.1,1420.6,1436.7,1445.4,1450.8,1454.6,1463.1,1483.3,1485.2,1487.0,1501.6,1513.4,1518.4,1522.2,1524.6,1534.6,1563.5,1565.7,1566.7,1577.5,1579.6,1587.2,1619.5,1619.5,1619.7,1628.0,1636.6,1650.1,1652.9,1657.1,1671.8,1685.9,1699.7,1702.7,1719.6,1722.2,1739.6,1740.9,1743.8,1750.2,1754.6,1769.5,1777.1,1783.1,1819.3,1831.1,1845.3,1876.4,1883.7,1913.7,1922.6,1935.8,1940.4,1973.0,1981.3,1987.9,1991.3,1995.6,1997.3,1997.8,2028.3,2035.6,2044.2,2065.0,2103.3,2119.9,2120.6,2122.8,2124.6,2131.5,2147.2,2182.4,2182.8,2187.8,2194.6,2200.9,2203.5,2214.0,2246.5,2258.9,2268.8,2275.0,2275.8,2283.0,2286.7,2290.5,2331.2,2365.7,2372.5,2375.9,2392.8,2408.3,2426.3,2433.1,2445.3,2451.2,2466.3,2471.3,2496.8,2499.1,2510.5,2511.6,2514.0,2517.7,2550.4,2563.9,2565.8,2567.6,2607.8,2611.2,2617.0,2629.4,2650.8,2652.3,2695.5,2700.4,2715.5,2727.0,2767.0,2768.1,2778.2,2780.4,2791.5,2797.8,2801.1,2832.8,2833.1,2846.4,2851.8,2861.0,2889.3,2910.7,2924.3,2924.7,2925.9,2936.6,2948.0,2951.8,2962.9,2981.3,3003.3,3018.9,3020.9,3028.5,3035.7,3047.8,3060.1,3088.7,3106.8,3116.2,3125.7,3135.6,3137.9,3141.2,3152.2,3178.4,3179.8,3189.4,3196.2,3197.6,3207.1,3235.2,3240.4,3240.6,3244.6,3253.2,3257.0,3282.5,3284.7,3296.8,3301.0,3310.6,3315.5,3319.4,3336.3,3349.6,3353.9,3369.7,3371.6,3424.6,3426.0,3429.0,3429.9,3450.4,3451.3,3455.0,3461.9,3472.2,3474.2,3483.9,3485.2,3495.1,3505.1,3506.8,3510.9,3525.9,3533.5,3537.0,3538.5,3551.6,3554.2,3587.9,3603.5,3613.5,3618.7,3620.0,3627.1,3630.1,3636.8,3638.1,3641.2,3649.2,3652.3,3663.4,3676.7,3678.1,3686.7,3692.8,3720.9,3726.7,3737.0,3754.8,3757.9,3797.7,3799.1,3820.0,3822.1,3841.4,3844.2,3867.7,3868.5,3875.7,3883.5,3905.6,3914.4,3917.0,3923.9,3930.3,3939.4,3939.8,3949.0,3977.0,4000.1,4004.9,4017.6,4025.4,4041.6,4050.1,4060.1,4065.5,4080.9,4090.0,4109.3,4110.1,4110.9,4113.3,4114.5,4117.2,4117.5,4120.2,4127.2,4160.3,4163.9,4172.9,4192.5,4194.5,4199.6,4207.4,4210.4,4224.3,4257.9,4262.3,4263.4,4265.8,4266.9,4289.8,4296.7,4307.9,4330.8,4341.5,4355.0,4358.3,4358.6,4377.1,4383.5,4410.5,4423.5,4436.2,4440.8,4448.9,4456.9,4460.1,4463.9,4465.5,4479.6,4488.6,4493.1,4498.7,4500.7,4520.7,4522.1,4529.6,4532.1,4545.6,4549.2,4576.1,4577.8,4602.5,4633.4,4635.8,4661.6,4666.3,4670.6,4686.4,4702.3,4709.8,4714.6,4723.8,4726.3,4769.8,4775.6,4806.9,4811.6,4842.0,4843.3,4865.5,4866.9,4875.6,4901.2,4943.6,4965.6,4968.0,4972.5,4972.7,4974.5,21147.0],\"xaxis\":\"x\",\"y\":[39.75524259181909,39.76840970342904,39.771099758489136,39.78681534331392,39.801185900608644,39.80536256504406,39.80677838349674,39.818798682160015,39.81899689674339,39.81950659138636,39.81954906593994,39.8196340150471,39.819803913261424,39.81991717873764,39.820002127844795,39.82052598067229,39.82065340433303,39.820766669809245,39.82103567531526,39.821531211773696,39.821630319065385,39.821729426357074,39.82188516638686,39.82209753915477,39.822111697339295,39.8221683300774,39.82223912100004,39.82308861207164,39.823640781268196,39.82419295046474,39.82460353781602,39.824660170554125,39.82497165061371,39.825339763411414,39.82635915269734,39.82642994361998,39.82650073454261,39.826925480078415,39.82712369466179,39.82742101653685,39.82767586385834,39.827789129334555,39.82819971668583,39.828454564007316,39.8284970385609,39.82858198766805,39.82902089138839,39.8295022696623,39.829771275168305,39.83040839347201,39.83040839347201,39.830535817132755,39.831158777251936,39.83128620091268,39.83214985016882,39.83247548841293,39.832560437520094,39.8328294430261,39.83297102487137,39.833268346746436,39.83339577040718,39.83383467412751,39.83411783781804,39.834245261478785,39.83455674153838,39.83475495612175,39.83537791624093,39.83557613082431,39.83571771266958,39.83574602903863,39.835887610883894,39.8365247291876,39.83673710195551,39.83724679659847,39.83757243484259,39.83794054764029,39.837954705824814,39.83823786951535,39.83829450225346,39.838322818622515,39.83846440046778,39.83849271683683,39.83854934957494,39.83859182412852,39.838761722342845,39.83888914600359,39.83954042249182,39.83956873886087,39.83966784615256,39.84027664808721,39.840304964456266,39.84070139362302,39.8408005009147,39.840842975468284,39.84196147204591,39.84200394659948,39.842768488563934,39.842853437671096,39.84288175404015,39.84316491773069,39.84332065776048,39.843334815945006,39.84368877055818,39.84373124511176,39.84409935790946,39.84435420523094,39.84484974168938,39.84504795627276,39.845401910885926,39.84620892740396,39.846223085588484,39.846279718326585,39.846279718326585,39.84698762755293,39.84710089302914,39.847185842136305,39.84739821490421,39.847624745856635,39.847667220410216,39.84787959317812,39.84833265508298,39.84833265508298,39.84868660969615,39.848828191541415,39.84895561520216,39.849875897196405,39.85028648454768,39.850697071898956,39.85099439377402,39.85105102651213,39.85116429198834,39.85178725210752,39.853684448834116,39.85471799630458,39.857577949578996,39.858597338864925,39.86014058097835,39.86019721371646,39.86046621922247,39.86049453559152,39.86063611743679,39.86140065940124,39.86155639943104,39.861768772198936,39.862674896008656,39.8630146924373,39.864940205532946,39.86594543663435,39.86673829496785,39.869371717289845,39.870872484849684,39.87150960315339,39.87184939958204,39.87391649452295,39.87802236803574,39.88027918264931,39.88181676148892,39.88282199259033,39.88456344928713,39.88459176565618,39.88585184407907,39.88776319899019,39.890877999586095,39.89201065434824,39.892237185300665,39.8998542885761,39.90010913589758,39.90653695167276,39.908122668339765,39.91091183069155,39.91493275509717,39.91651847176418,39.916688369978495,39.91858556670509,39.91912357771711,39.919194368639744,39.919760696020816,39.922224220128484,39.922507383819024,39.92352677310495,39.923611722212115,39.92501338248027,39.92511248977196,39.92624514453411,39.93098813635059,39.93105892727323,39.931257141856605,39.933621558672584,39.93631161373268,39.93643903739342,39.93832207593549,39.9401767981085,39.94087054915032,39.94193241298983,39.944211880698646,39.94544364275248,39.94620818471693,39.94674619572895,39.94794964141373,39.95080959468815,39.95107860019416,39.951333447515644,39.953400542456556,39.95507120823073,39.95577911745706,39.95631712846909,39.95665692489773,39.958072743350414,39.962164458678664,39.96247593873825,39.96261752058352,39.96414660451242,39.96444392638748,39.96551994841152,39.97009304201369,39.97009304201369,39.97012135838274,39.97129648769847,39.972514091567774,39.9744254464789,39.974821875645645,39.97541651939577,39.97749777252122,39.9794940765395,39.9814479060042,39.98187265154001,39.98426538472504,39.984633497522736,39.987097021630404,39.987281078029255,39.98769166538053,39.98859778919025,39.98922074930943,39.991330318803925,39.99240634082796,39.993255831899575,39.99838109469829,40.00005176047245,40.002062222675264,40.0064654180631,40.007498965533564,40.01174642089161,40.0130064993145,40.01487537967204,40.015526656160276,40.02014222431602,40.021317353631744,40.02225179381052,40.02273317208443,40.02334197401908,40.02358266315604,40.02365345407867,40.02797170035935,40.029005247829815,40.03022285169912,40.0331677540807,40.038590338754474,40.04094059738593,40.041039704677615,40.0413511847372,40.04160603205869,40.042582946791036,40.04480578176175,40.0497894627152,40.049846095453304,40.05055400467964,40.05151676122747,40.052408726852654,40.052776839650356,40.05426344902567,40.05886485899689,40.06062047387822,40.062022134146375,40.062899941587034,40.06301320706325,40.06403259634918,40.06455644917667,40.065094460188696,40.07085684129111,40.075741414952866,40.076704171500694,40.077185549774605,40.07957828295964,40.08177280156129,40.08432127477612,40.08528403132395,40.08701132983622,40.0878466627233,40.089984548586855,40.0906924578132,40.09430279486754,40.09462843311165,40.096242466147714,40.096398206177504,40.09673800260615,40.09726185543364,40.10189158177391,40.103802936685035,40.10407194219105,40.10432678951253,40.11001837969231,40.110499757966224,40.11132093266878,40.11307654755011,40.11610639903885,40.11631877180675,40.12243510752234,40.12312885856416,40.125266744427705,40.126894935648295,40.13255820945902,40.13271394948882,40.13414392612603,40.134455406185616,40.1360269646681,40.136918930293284,40.13738615038267,40.141874294877674,40.141916769431255,40.14379980797332,40.144564349937774,40.14586690291424,40.14987366913533,40.15290352062407,40.15482903371972,40.15488566645783,40.155055564672146,40.15657049041652,40.158184523452576,40.158722534464594,40.160294092947076,40.162899198900014,40.16601399949592,40.1682226762821,40.16850583997263,40.169581861996676,40.170601251282605,40.17231439161035,40.17405584830715,40.178105089081825,40.18066772048118,40.1819985898267,40.18334361735675,40.184745277624906,40.18507091586902,40.18553813595841,40.18709553625636,40.19080498060239,40.191003195185765,40.192362380900335,40.19332513744816,40.19352335203154,40.19486837956158,40.198846829413625,40.19958305500902,40.199611371378076,40.20017769875915,40.201395302628455,40.201933313640474,40.205543650694814,40.2058551307544,40.20756827108215,40.20816291483228,40.20952210054685,40.210215851588664,40.21076802078521,40.21316075397024,40.21504379251231,40.215652594446965,40.21788958760221,40.218158593108214,40.225662430907434,40.22586064549081,40.226285391026614,40.22641281468736,40.229315242515355,40.2294426661761,40.22996651900359,40.23094343373594,40.232401726742204,40.23268489043274,40.23405823433184,40.23424229073069,40.23564395099885,40.23705976945153,40.237300458588486,40.237880944154085,40.24000467183311,40.24108069385715,40.24157623031559,40.24178860308349,40.24364332525651,40.2440114380542,40.24878274623974,40.25099142302593,40.25240724147861,40.253143467074004,40.253327523472855,40.25433275457426,40.25475750011006,40.25570609847336,40.25589015487221,40.25632905859254,40.25746171335469,40.257900617075016,40.2594721755575,40.26135521409957,40.26155342868294,40.262771032552244,40.263634681808384,40.26761313166042,40.26843430636298,40.26989259936924,40.27241275621502,40.27285165993535,40.27848661737703,40.2786848319604,40.2816438925265,40.28194121440157,40.284673744015244,40.285070173182,40.2883973465458,40.288510612022016,40.28953000130795,40.29063433970104,40.29376329848147,40.295009218719834,40.29537733151753,40.29635424624988,40.2972603700596,40.29854876485154,40.29860539758965,40.299907950566116,40.30387224223362,40.30714278285932,40.30782237571661,40.30962046515152,40.31072480354461,40.31301842943795,40.31422187512273,40.31563769357542,40.31640223553987,40.318582595957,40.31987099074894,40.32260352036261,40.32271678583883,40.322830051315044,40.32316984774369,40.32333974595801,40.32372201694024,40.32376449149382,40.32414676247604,40.325137835392916,40.3298241944713,40.330333889114264,40.33160812572168,40.334383129888934,40.334666293579474,40.33538836099034,40.336492699383435,40.33691744491924,40.33888543256847,40.34364258256948,40.34426554268866,40.34442128271846,40.3447610791471,40.344916819176895,40.34815904343354,40.34913595816589,40.35072167483289,40.353963899089536,40.35547882483391,40.35739017974503,40.357857399834415,40.357899874387996,40.360519138525454,40.361425262335175,40.36524797215742,40.36708853614591,40.368886625580814,40.36953790206905,40.37068471501572,40.371817369777865,40.37227043168272,40.37280844269474,40.37303497364717,40.37503127766546,40.37630551427287,40.37694263257658,40.37773549091008,40.378018654600616,40.38085029150598,40.38104850608936,40.38211036992887,40.38246432454204,40.38437567945316,40.38488537409613,40.38869392573384,40.3889346148708,40.39243168644892,40.39680656546771,40.39714636189636,40.40079917350428,40.40146460817704,40.40207341011169,40.40431040326693,40.4065615546067,40.40762341844621,40.408303011303495,40.409605564279964,40.40995951889314,40.41611832916231,40.41693950386486,40.42137101562176,40.42203645029452,40.426340538390676,40.42652459478952,40.429667711754476,40.429865926337854,40.43109768839169,40.434722183630555,40.44072525386993,40.44384005446583,40.44417985089448,40.444816969198186,40.44484528556724,40.44510013288872,42.73483252548975],\"yaxis\":\"y\",\"type\":\"scatter\"}],                        {\"template\":{\"data\":{\"histogram2dcontour\":[{\"type\":\"histogram2dcontour\",\"colorbar\":{\"outlinewidth\":0,\"ticks\":\"\"},\"colorscale\":[[0.0,\"#0d0887\"],[0.1111111111111111,\"#46039f\"],[0.2222222222222222,\"#7201a8\"],[0.3333333333333333,\"#9c179e\"],[0.4444444444444444,\"#bd3786\"],[0.5555555555555556,\"#d8576b\"],[0.6666666666666666,\"#ed7953\"],[0.7777777777777778,\"#fb9f3a\"],[0.8888888888888888,\"#fdca26\"],[1.0,\"#f0f921\"]]}],\"choropleth\":[{\"type\":\"choropleth\",\"colorbar\":{\"outlinewidth\":0,\"ticks\":\"\"}}],\"histogram2d\":[{\"type\":\"histogram2d\",\"colorbar\":{\"outlinewidth\":0,\"ticks\":\"\"},\"colorscale\":[[0.0,\"#0d0887\"],[0.1111111111111111,\"#46039f\"],[0.2222222222222222,\"#7201a8\"],[0.3333333333333333,\"#9c179e\"],[0.4444444444444444,\"#bd3786\"],[0.5555555555555556,\"#d8576b\"],[0.6666666666666666,\"#ed7953\"],[0.7777777777777778,\"#fb9f3a\"],[0.8888888888888888,\"#fdca26\"],[1.0,\"#f0f921\"]]}],\"heatmap\":[{\"type\":\"heatmap\",\"colorbar\":{\"outlinewidth\":0,\"ticks\":\"\"},\"colorscale\":[[0.0,\"#0d0887\"],[0.1111111111111111,\"#46039f\"],[0.2222222222222222,\"#7201a8\"],[0.3333333333333333,\"#9c179e\"],[0.4444444444444444,\"#bd3786\"],[0.5555555555555556,\"#d8576b\"],[0.6666666666666666,\"#ed7953\"],[0.7777777777777778,\"#fb9f3a\"],[0.8888888888888888,\"#fdca26\"],[1.0,\"#f0f921\"]]}],\"heatmapgl\":[{\"type\":\"heatmapgl\",\"colorbar\":{\"outlinewidth\":0,\"ticks\":\"\"},\"colorscale\":[[0.0,\"#0d0887\"],[0.1111111111111111,\"#46039f\"],[0.2222222222222222,\"#7201a8\"],[0.3333333333333333,\"#9c179e\"],[0.4444444444444444,\"#bd3786\"],[0.5555555555555556,\"#d8576b\"],[0.6666666666666666,\"#ed7953\"],[0.7777777777777778,\"#fb9f3a\"],[0.8888888888888888,\"#fdca26\"],[1.0,\"#f0f921\"]]}],\"contourcarpet\":[{\"type\":\"contourcarpet\",\"colorbar\":{\"outlinewidth\":0,\"ticks\":\"\"}}],\"contour\":[{\"type\":\"contour\",\"colorbar\":{\"outlinewidth\":0,\"ticks\":\"\"},\"colorscale\":[[0.0,\"#0d0887\"],[0.1111111111111111,\"#46039f\"],[0.2222222222222222,\"#7201a8\"],[0.3333333333333333,\"#9c179e\"],[0.4444444444444444,\"#bd3786\"],[0.5555555555555556,\"#d8576b\"],[0.6666666666666666,\"#ed7953\"],[0.7777777777777778,\"#fb9f3a\"],[0.8888888888888888,\"#fdca26\"],[1.0,\"#f0f921\"]]}],\"surface\":[{\"type\":\"surface\",\"colorbar\":{\"outlinewidth\":0,\"ticks\":\"\"},\"colorscale\":[[0.0,\"#0d0887\"],[0.1111111111111111,\"#46039f\"],[0.2222222222222222,\"#7201a8\"],[0.3333333333333333,\"#9c179e\"],[0.4444444444444444,\"#bd3786\"],[0.5555555555555556,\"#d8576b\"],[0.6666666666666666,\"#ed7953\"],[0.7777777777777778,\"#fb9f3a\"],[0.8888888888888888,\"#fdca26\"],[1.0,\"#f0f921\"]]}],\"mesh3d\":[{\"type\":\"mesh3d\",\"colorbar\":{\"outlinewidth\":0,\"ticks\":\"\"}}],\"scatter\":[{\"fillpattern\":{\"fillmode\":\"overlay\",\"size\":10,\"solidity\":0.2},\"type\":\"scatter\"}],\"parcoords\":[{\"type\":\"parcoords\",\"line\":{\"colorbar\":{\"outlinewidth\":0,\"ticks\":\"\"}}}],\"scatterpolargl\":[{\"type\":\"scatterpolargl\",\"marker\":{\"colorbar\":{\"outlinewidth\":0,\"ticks\":\"\"}}}],\"bar\":[{\"error_x\":{\"color\":\"#2a3f5f\"},\"error_y\":{\"color\":\"#2a3f5f\"},\"marker\":{\"line\":{\"color\":\"#E5ECF6\",\"width\":0.5},\"pattern\":{\"fillmode\":\"overlay\",\"size\":10,\"solidity\":0.2}},\"type\":\"bar\"}],\"scattergeo\":[{\"type\":\"scattergeo\",\"marker\":{\"colorbar\":{\"outlinewidth\":0,\"ticks\":\"\"}}}],\"scatterpolar\":[{\"type\":\"scatterpolar\",\"marker\":{\"colorbar\":{\"outlinewidth\":0,\"ticks\":\"\"}}}],\"histogram\":[{\"marker\":{\"pattern\":{\"fillmode\":\"overlay\",\"size\":10,\"solidity\":0.2}},\"type\":\"histogram\"}],\"scattergl\":[{\"type\":\"scattergl\",\"marker\":{\"colorbar\":{\"outlinewidth\":0,\"ticks\":\"\"}}}],\"scatter3d\":[{\"type\":\"scatter3d\",\"line\":{\"colorbar\":{\"outlinewidth\":0,\"ticks\":\"\"}},\"marker\":{\"colorbar\":{\"outlinewidth\":0,\"ticks\":\"\"}}}],\"scattermapbox\":[{\"type\":\"scattermapbox\",\"marker\":{\"colorbar\":{\"outlinewidth\":0,\"ticks\":\"\"}}}],\"scatterternary\":[{\"type\":\"scatterternary\",\"marker\":{\"colorbar\":{\"outlinewidth\":0,\"ticks\":\"\"}}}],\"scattercarpet\":[{\"type\":\"scattercarpet\",\"marker\":{\"colorbar\":{\"outlinewidth\":0,\"ticks\":\"\"}}}],\"carpet\":[{\"aaxis\":{\"endlinecolor\":\"#2a3f5f\",\"gridcolor\":\"white\",\"linecolor\":\"white\",\"minorgridcolor\":\"white\",\"startlinecolor\":\"#2a3f5f\"},\"baxis\":{\"endlinecolor\":\"#2a3f5f\",\"gridcolor\":\"white\",\"linecolor\":\"white\",\"minorgridcolor\":\"white\",\"startlinecolor\":\"#2a3f5f\"},\"type\":\"carpet\"}],\"table\":[{\"cells\":{\"fill\":{\"color\":\"#EBF0F8\"},\"line\":{\"color\":\"white\"}},\"header\":{\"fill\":{\"color\":\"#C8D4E3\"},\"line\":{\"color\":\"white\"}},\"type\":\"table\"}],\"barpolar\":[{\"marker\":{\"line\":{\"color\":\"#E5ECF6\",\"width\":0.5},\"pattern\":{\"fillmode\":\"overlay\",\"size\":10,\"solidity\":0.2}},\"type\":\"barpolar\"}],\"pie\":[{\"automargin\":true,\"type\":\"pie\"}]},\"layout\":{\"autotypenumbers\":\"strict\",\"colorway\":[\"#636efa\",\"#EF553B\",\"#00cc96\",\"#ab63fa\",\"#FFA15A\",\"#19d3f3\",\"#FF6692\",\"#B6E880\",\"#FF97FF\",\"#FECB52\"],\"font\":{\"color\":\"#2a3f5f\"},\"hovermode\":\"closest\",\"hoverlabel\":{\"align\":\"left\"},\"paper_bgcolor\":\"white\",\"plot_bgcolor\":\"#E5ECF6\",\"polar\":{\"bgcolor\":\"#E5ECF6\",\"angularaxis\":{\"gridcolor\":\"white\",\"linecolor\":\"white\",\"ticks\":\"\"},\"radialaxis\":{\"gridcolor\":\"white\",\"linecolor\":\"white\",\"ticks\":\"\"}},\"ternary\":{\"bgcolor\":\"#E5ECF6\",\"aaxis\":{\"gridcolor\":\"white\",\"linecolor\":\"white\",\"ticks\":\"\"},\"baxis\":{\"gridcolor\":\"white\",\"linecolor\":\"white\",\"ticks\":\"\"},\"caxis\":{\"gridcolor\":\"white\",\"linecolor\":\"white\",\"ticks\":\"\"}},\"coloraxis\":{\"colorbar\":{\"outlinewidth\":0,\"ticks\":\"\"}},\"colorscale\":{\"sequential\":[[0.0,\"#0d0887\"],[0.1111111111111111,\"#46039f\"],[0.2222222222222222,\"#7201a8\"],[0.3333333333333333,\"#9c179e\"],[0.4444444444444444,\"#bd3786\"],[0.5555555555555556,\"#d8576b\"],[0.6666666666666666,\"#ed7953\"],[0.7777777777777778,\"#fb9f3a\"],[0.8888888888888888,\"#fdca26\"],[1.0,\"#f0f921\"]],\"sequentialminus\":[[0.0,\"#0d0887\"],[0.1111111111111111,\"#46039f\"],[0.2222222222222222,\"#7201a8\"],[0.3333333333333333,\"#9c179e\"],[0.4444444444444444,\"#bd3786\"],[0.5555555555555556,\"#d8576b\"],[0.6666666666666666,\"#ed7953\"],[0.7777777777777778,\"#fb9f3a\"],[0.8888888888888888,\"#fdca26\"],[1.0,\"#f0f921\"]],\"diverging\":[[0,\"#8e0152\"],[0.1,\"#c51b7d\"],[0.2,\"#de77ae\"],[0.3,\"#f1b6da\"],[0.4,\"#fde0ef\"],[0.5,\"#f7f7f7\"],[0.6,\"#e6f5d0\"],[0.7,\"#b8e186\"],[0.8,\"#7fbc41\"],[0.9,\"#4d9221\"],[1,\"#276419\"]]},\"xaxis\":{\"gridcolor\":\"white\",\"linecolor\":\"white\",\"ticks\":\"\",\"title\":{\"standoff\":15},\"zerolinecolor\":\"white\",\"automargin\":true,\"zerolinewidth\":2},\"yaxis\":{\"gridcolor\":\"white\",\"linecolor\":\"white\",\"ticks\":\"\",\"title\":{\"standoff\":15},\"zerolinecolor\":\"white\",\"automargin\":true,\"zerolinewidth\":2},\"scene\":{\"xaxis\":{\"backgroundcolor\":\"#E5ECF6\",\"gridcolor\":\"white\",\"linecolor\":\"white\",\"showbackground\":true,\"ticks\":\"\",\"zerolinecolor\":\"white\",\"gridwidth\":2},\"yaxis\":{\"backgroundcolor\":\"#E5ECF6\",\"gridcolor\":\"white\",\"linecolor\":\"white\",\"showbackground\":true,\"ticks\":\"\",\"zerolinecolor\":\"white\",\"gridwidth\":2},\"zaxis\":{\"backgroundcolor\":\"#E5ECF6\",\"gridcolor\":\"white\",\"linecolor\":\"white\",\"showbackground\":true,\"ticks\":\"\",\"zerolinecolor\":\"white\",\"gridwidth\":2}},\"shapedefaults\":{\"line\":{\"color\":\"#2a3f5f\"}},\"annotationdefaults\":{\"arrowcolor\":\"#2a3f5f\",\"arrowhead\":0,\"arrowwidth\":1},\"geo\":{\"bgcolor\":\"white\",\"landcolor\":\"#E5ECF6\",\"subunitcolor\":\"white\",\"showland\":true,\"showlakes\":true,\"lakecolor\":\"white\"},\"title\":{\"x\":0.05},\"mapbox\":{\"style\":\"light\"}}},\"xaxis\":{\"anchor\":\"y\",\"domain\":[0.0,1.0],\"title\":{\"text\":\"Automobile_Sales\"}},\"yaxis\":{\"anchor\":\"x\",\"domain\":[0.0,1.0],\"title\":{\"text\":\"GDP\"}},\"coloraxis\":{\"colorbar\":{\"title\":{\"text\":\"unemployment_rate\"}},\"colorscale\":[[0.0,\"#0d0887\"],[0.1111111111111111,\"#46039f\"],[0.2222222222222222,\"#7201a8\"],[0.3333333333333333,\"#9c179e\"],[0.4444444444444444,\"#bd3786\"],[0.5555555555555556,\"#d8576b\"],[0.6666666666666666,\"#ed7953\"],[0.7777777777777778,\"#fb9f3a\"],[0.8888888888888888,\"#fdca26\"],[1.0,\"#f0f921\"]]},\"legend\":{\"tracegroupgap\":0},\"title\":{\"text\":\"Automobile_Sales vs GDP\",\"x\":0.5}},                        {\"responsive\": true}                    ).then(function(){\n",
       "                            \n",
       "var gd = document.getElementById('2c2648ee-f6d6-436a-abac-f36032898c39');\n",
       "var x = new MutationObserver(function (mutations, observer) {{\n",
       "        var display = window.getComputedStyle(gd).display;\n",
       "        if (!display || display === 'none') {{\n",
       "            console.log([gd, 'removed!']);\n",
       "            Plotly.purge(gd);\n",
       "            observer.disconnect();\n",
       "        }}\n",
       "}});\n",
       "\n",
       "// Listen for the removal of the full notebook cells\n",
       "var notebookContainer = gd.closest('#notebook-container');\n",
       "if (notebookContainer) {{\n",
       "    x.observe(notebookContainer, {childList: true});\n",
       "}}\n",
       "\n",
       "// Listen for the clearing of the current output cell\n",
       "var outputEl = gd.closest('.output');\n",
       "if (outputEl) {{\n",
       "    x.observe(outputEl, {childList: true});\n",
       "}}\n",
       "\n",
       "                        })                };                });            </script>        </div>"
      ]
     },
     "metadata": {},
     "output_type": "display_data"
    }
   ],
   "source": [
    "fig3 =px.scatter(df,\n",
    "              x=\"Automobile_Sales\",\n",
    "              y=\"GDP\",\n",
    "              title=\"Automobile_Sales vs GDP\",\n",
    "                 color=\"unemployment_rate\",\n",
    "                trendline=\"ols\"\n",
    "                )\n",
    "fig3.update_layout(title_x=0.5)\n",
    "fig3.show()"
   ]
  },
  {
   "cell_type": "code",
   "execution_count": 29,
   "id": "27d1a5de-2082-46d6-aa24-fbe061f7740b",
   "metadata": {},
   "outputs": [],
   "source": [
    "#GDP mostly constant (with little variations) indicating that changes in automobile sales had little effect on GDP."
   ]
  },
  {
   "cell_type": "code",
   "execution_count": 30,
   "id": "ab82404e-67cf-44a2-82c3-2eb9af9ed3bf",
   "metadata": {},
   "outputs": [
    {
     "data": {
      "application/vnd.plotly.v1+json": {
       "config": {
        "plotlyServerURL": "https://plot.ly"
       },
       "data": [
        {
         "hovertemplate": "City=Georgia<br>Automobile_Sales=%{x}<br>Advertising_Expenditure=%{y}<extra></extra>",
         "legendgroup": "Georgia",
         "marker": {
          "color": "#636efa",
          "symbol": "circle"
         },
         "mode": "markers",
         "name": "Georgia",
         "orientation": "v",
         "showlegend": true,
         "type": "scatter",
         "x": [
          456,
          654,
          558,
          776.2,
          102,
          744.6,
          754.8,
          550.9,
          706.3,
          686.1,
          783.9,
          750.8,
          671.6,
          575.2,
          195,
          706.6,
          756.3,
          623.1,
          690.7,
          653.1,
          691.9,
          604.3,
          702.6,
          564.8,
          608.3,
          660,
          581.2,
          662.2,
          3799.1,
          426.5,
          3822.1,
          851.8,
          1740.9,
          3505.1,
          2861,
          3336.3,
          3678.1,
          2511.6,
          4207.4,
          2727,
          3939.8,
          4460.1,
          4160.3,
          3587.9,
          1922.6,
          1997.8,
          2120.6,
          4436.2,
          2780.4,
          4358.6,
          4265.8,
          4358.3,
          804.6,
          1343.3,
          3627.1,
          1281.4,
          556.8,
          2832.8,
          4500.7,
          1534.6,
          2851.8,
          1587.2,
          2451.2,
          1309.8,
          4410.5,
          3349.6,
          1068,
          3618.7,
          1463.1,
          2286.7,
          4522.1,
          592.3,
          4549.2,
          4843.3,
          3692.8,
          3483.9,
          2695.5,
          4117.5,
          3977,
          3353.9,
          3726.7,
          1750.2,
          1445.4,
          2797.8,
          1754.6,
          1987.9,
          1743.8,
          1518.4,
          940.2,
          2466.3,
          697.4,
          3020.9,
          3506.8,
          4488.6,
          1991.3,
          4968,
          4296.7,
          1652.9,
          727,
          4025.4,
          3060.1,
          3047.8,
          2510.5,
          4670.6,
          4965.6,
          4901.2,
          985.14,
          4004.9,
          3253.2,
          2715.5,
          2122.8,
          3240.6,
          4456.9,
          4109.3,
          4866.9,
          4330.8,
          4709.8,
          1483.3,
          1783.1,
          2124.6,
          3538.5
         ],
         "xaxis": "x",
         "y": [
          1558,
          4744,
          3219,
          3832,
          2994,
          3958,
          1477,
          4512,
          2857,
          2932,
          4230,
          4208,
          1201,
          4737,
          4874,
          1574,
          1536,
          1385,
          1474,
          3394,
          4600,
          1875,
          4942,
          3209,
          4451,
          1054,
          2823,
          4079,
          4621,
          4888,
          4530,
          3635,
          3965,
          2372,
          1872,
          2252,
          3317,
          3845,
          3052,
          1600,
          3136,
          4708,
          3469,
          2888,
          3190,
          4110,
          2970,
          3626,
          2471,
          4086,
          2692,
          2312,
          1814,
          3995,
          4767,
          4719,
          4332,
          3371,
          1094,
          4363,
          1793,
          1010,
          1711,
          3349,
          3265,
          3188,
          1984,
          2639,
          1827,
          3730,
          4531,
          1603,
          4417,
          4072,
          4572,
          2184,
          1284,
          2002,
          1661,
          1989,
          4962,
          1951,
          1722,
          1428,
          3637,
          3549,
          1987,
          4293,
          3007,
          2790,
          3808,
          3626,
          4680,
          2287,
          4489,
          3143,
          4149,
          2311,
          3782,
          1329,
          1774,
          1081,
          1745,
          1395,
          1933,
          2279,
          3987,
          1236,
          2304,
          3541,
          1804,
          4924,
          3089,
          2401,
          1645,
          1454,
          3953,
          4028,
          3866,
          4850,
          2319
         ],
         "yaxis": "y"
        },
        {
         "hovertemplate": "<b>OLS trendline</b><br>Advertising_Expenditure = -0.0770059 * Automobile_Sales + 3219.04<br>R<sup>2</sup>=0.009440<br><br>City=Georgia<br>Automobile_Sales=%{x}<br>Advertising_Expenditure=%{y} <b>(trend)</b><extra></extra>",
         "legendgroup": "Georgia",
         "marker": {
          "color": "#636efa",
          "symbol": "circle"
         },
         "mode": "lines",
         "name": "Georgia",
         "showlegend": false,
         "type": "scatter",
         "x": [
          102,
          195,
          426.5,
          456,
          550.9,
          556.8,
          558,
          564.8,
          575.2,
          581.2,
          592.3,
          604.3,
          608.3,
          623.1,
          653.1,
          654,
          660,
          662.2,
          671.6,
          686.1,
          690.7,
          691.9,
          697.4,
          702.6,
          706.3,
          706.6,
          727,
          744.6,
          750.8,
          754.8,
          756.3,
          776.2,
          783.9,
          804.6,
          851.8,
          940.2,
          985.14,
          1068,
          1281.4,
          1309.8,
          1343.3,
          1445.4,
          1463.1,
          1483.3,
          1518.4,
          1534.6,
          1587.2,
          1652.9,
          1740.9,
          1743.8,
          1750.2,
          1754.6,
          1783.1,
          1922.6,
          1987.9,
          1991.3,
          1997.8,
          2120.6,
          2122.8,
          2124.6,
          2286.7,
          2451.2,
          2466.3,
          2510.5,
          2511.6,
          2695.5,
          2715.5,
          2727,
          2780.4,
          2797.8,
          2832.8,
          2851.8,
          2861,
          3020.9,
          3047.8,
          3060.1,
          3240.6,
          3253.2,
          3336.3,
          3349.6,
          3353.9,
          3483.9,
          3505.1,
          3506.8,
          3538.5,
          3587.9,
          3618.7,
          3627.1,
          3678.1,
          3692.8,
          3726.7,
          3799.1,
          3822.1,
          3939.8,
          3977,
          4004.9,
          4025.4,
          4109.3,
          4117.5,
          4160.3,
          4207.4,
          4265.8,
          4296.7,
          4330.8,
          4358.3,
          4358.6,
          4410.5,
          4436.2,
          4456.9,
          4460.1,
          4488.6,
          4500.7,
          4522.1,
          4549.2,
          4670.6,
          4709.8,
          4843.3,
          4866.9,
          4901.2,
          4965.6,
          4968
         ],
         "xaxis": "x",
         "y": [
          3211.1863346682358,
          3204.024784442292,
          3186.197914793841,
          3183.926240259805,
          3176.618378792686,
          3176.164043885879,
          3176.071636786189,
          3175.547996554615,
          3174.7471350239716,
          3174.285099525524,
          3173.430333853395,
          3172.5062628564992,
          3172.1982391908673,
          3171.058551628029,
          3168.7483741357887,
          3168.679068811022,
          3168.2170333125737,
          3168.047620296476,
          3167.323764682241,
          3166.207178894325,
          3165.852951678848,
          3165.7605445791587,
          3165.3370120389145,
          3164.936581273593,
          3164.6516593828833,
          3164.6285576079613,
          3163.0576369132377,
          3161.702332784457,
          3161.2248961027276,
          3160.9168724370957,
          3160.801363562484,
          3159.2689458259647,
          3158.676000269623,
          3157.0819777999773,
          3153.44729854552,
          3146.639975535053,
          3143.1793296516776,
          3136.7986194181112,
          3120.3655568566446,
          3118.1785888306576,
          3115.59889063099,
          3107.7365865657334,
          3106.373581845312,
          3104.8180623338703,
          3102.11515466795,
          3100.86765882214,
          3096.8171476190796,
          3091.757858911074,
          3084.9813382671705,
          3084.7580211095874,
          3084.2651832445763,
          3083.926357212381,
          3081.731688594753,
          3070.9893632558374,
          3065.960876914395,
          3065.699056798608,
          3065.198518341956,
          3055.7421918070545,
          3055.572778790957,
          3055.434168141422,
          3042.951509091686,
          3030.2840358425706,
          3029.1212465048097,
          3025.7175849995765,
          3025.6328784915277,
          3011.4714904640973,
          3009.931372135937,
          3009.0458040972453,
          3004.9336881610584,
          3003.5937852155594,
          3000.8985781412794,
          2999.4354657295276,
          2998.727011298574,
          2986.413765264935,
          2984.34230611356,
          2983.3951333417417,
          2969.4955654300984,
          2968.5252908833577,
          2962.126099229853,
          2961.101920541627,
          2960.7707951010725,
          2950.760025968033,
          2949.1275005401835,
          2948.99659048229,
          2946.5555029321563,
          2942.7514106616013,
          2940.379628436235,
          2939.732778738408,
          2935.8054770016,
          2934.6734900304027,
          2932.0629894641716,
          2926.4877611162324,
          2924.7166250388486,
          2915.6530286776274,
          2912.78840858725,
          2910.6399435194667,
          2909.061322233103,
          2902.600525846472,
          2901.969077331926,
          2898.6732241096643,
          2895.0462454468475,
          2890.5490999286208,
          2888.1696171116137,
          2885.543715362101,
          2883.426052660881,
          2883.4029508859585,
          2879.4063438243834,
          2877.427291772698,
          2875.8332693030525,
          2875.586850370547,
          2873.392181752919,
          2872.460410164382,
          2870.8124835532512,
          2868.7256232185946,
          2859.377104966664,
          2856.3584730434704,
          2846.0781832030025,
          2844.260843575774,
          2841.6195406429797,
          2836.660359626305,
          2836.4755454269257
         ],
         "yaxis": "y"
        },
        {
         "hovertemplate": "City=New York<br>Automobile_Sales=%{x}<br>Advertising_Expenditure=%{y}<extra></extra>",
         "legendgroup": "New York",
         "marker": {
          "color": "#EF553B",
          "symbol": "circle"
         },
         "mode": "markers",
         "name": "New York",
         "orientation": "v",
         "showlegend": true,
         "type": "scatter",
         "x": [
          555.9,
          620,
          734.9,
          609.7,
          745,
          638.2,
          779.5,
          466,
          751.4,
          726.7,
          720.2,
          714.8,
          570.9,
          605.3,
          559.4,
          564,
          750,
          759.5,
          736.3,
          745,
          690,
          744.5,
          688.2,
          714.5,
          698.3,
          558.8,
          613.6,
          626.5,
          597.1,
          670.4,
          4199.6,
          3284.7,
          3844.2,
          2194.6,
          4633.4,
          2936.6,
          2182.8,
          2517.7,
          2778.2,
          2365.7,
          3455,
          1255.7,
          1657.1,
          2131.5,
          3663.4,
          4224.3,
          1913.7,
          4775.6,
          4723.8,
          1003.1,
          3551.6,
          3868.5,
          1566.7,
          1069.6,
          918.7,
          1283.4,
          2119.9,
          2283,
          3282.5,
          2392.8,
          21147,
          2767,
          2375.9,
          2910.7,
          1060,
          3235.2,
          2801.1,
          628.4,
          4065.5,
          854.4,
          3603.5,
          4257.9,
          4289.8,
          883.9,
          845.2,
          2275.8,
          2951.8,
          843.3,
          876.8,
          2214,
          4114.5,
          4972.5,
          2200.9,
          3461.9,
          1513.4,
          2981.3,
          3949,
          4017.6,
          3841.4,
          3116.2,
          4576.1,
          1381.8,
          889.5,
          3636.8,
          2246.5,
          4080.9,
          3620,
          4714.6,
          1722.2,
          686.2,
          4545.6,
          4210.4,
          3106.8,
          4423.5,
          4127.2,
          1619.5,
          1125.2,
          611.8,
          3939.4,
          3930.3,
          3319.4,
          4383.5,
          3905.6,
          2275,
          4666.3,
          1487,
          3429.9,
          3179.8,
          2768.1,
          1241.1,
          3207.1,
          1343.8,
          2567.6,
          4263.4,
          1301.1,
          4110.1,
          4811.6,
          2331.2,
          1229.9,
          3178.4,
          688.8,
          4377.1,
          4529.6,
          3310.6,
          2035.6,
          4172.9,
          925.6,
          2258.9,
          996,
          1291.2,
          2499.1,
          4090,
          1876.4,
          1579.6
         ],
         "xaxis": "x",
         "y": [
          3048,
          3137,
          2917,
          4582,
          3892,
          1009,
          1260,
          3060,
          4713,
          2342,
          3824,
          1922,
          3204,
          3597,
          2277,
          3243,
          3645,
          1516,
          2141,
          3360,
          1116,
          3291,
          1938,
          1954,
          2901,
          4547,
          2201,
          4420,
          4945,
          1341,
          3365,
          2908,
          1375,
          2570,
          3560,
          4391,
          4643,
          4450,
          3621,
          3449,
          3343,
          2318,
          1992,
          2248,
          4054,
          1502,
          1820,
          3151,
          2669,
          3438,
          2646,
          3035,
          3062,
          4228,
          4756,
          4482,
          3802,
          2683,
          3919,
          4205,
          1345,
          1362,
          3443,
          4687,
          4005,
          4281,
          1355,
          2347,
          4204,
          3935,
          4177,
          2928,
          1050,
          3861,
          3467,
          4030,
          3872,
          2854,
          3418,
          1935,
          2934,
          4502,
          2205,
          1709,
          3224,
          3713,
          4953,
          4120,
          4701,
          4212,
          4376,
          2500,
          1285,
          4215,
          4495,
          1768,
          2394,
          4057,
          1946,
          1327,
          4874,
          2111,
          4191,
          4983,
          1164,
          1909,
          1943,
          1146,
          4695,
          1914,
          1513,
          2920,
          4594,
          2409,
          4190,
          1804,
          2757,
          2076,
          1592,
          4798,
          1735,
          3768,
          4186,
          3573,
          1520,
          2781,
          2301,
          3051,
          3713,
          4798,
          3885,
          3081,
          4896,
          4358,
          3315,
          3868,
          2708,
          4472,
          4629,
          2599,
          4776,
          1692,
          2394,
          1793
         ],
         "yaxis": "y"
        },
        {
         "hovertemplate": "<b>OLS trendline</b><br>Advertising_Expenditure = -0.00101775 * Automobile_Sales + 3125.38<br>R<sup>2</sup>=0.000004<br><br>City=New York<br>Automobile_Sales=%{x}<br>Advertising_Expenditure=%{y} <b>(trend)</b><extra></extra>",
         "legendgroup": "New York",
         "marker": {
          "color": "#EF553B",
          "symbol": "circle"
         },
         "mode": "lines",
         "name": "New York",
         "showlegend": false,
         "type": "scatter",
         "x": [
          466,
          555.9,
          558.8,
          559.4,
          564,
          570.9,
          597.1,
          605.3,
          609.7,
          611.8,
          613.6,
          620,
          626.5,
          628.4,
          638.2,
          670.4,
          686.2,
          688.2,
          688.8,
          690,
          698.3,
          714.5,
          714.8,
          720.2,
          726.7,
          734.9,
          736.3,
          744.5,
          745,
          745,
          750,
          751.4,
          759.5,
          779.5,
          843.3,
          845.2,
          854.4,
          876.8,
          883.9,
          889.5,
          918.7,
          925.6,
          996,
          1003.1,
          1060,
          1069.6,
          1125.2,
          1229.9,
          1241.1,
          1255.7,
          1283.4,
          1291.2,
          1301.1,
          1343.8,
          1381.8,
          1487,
          1513.4,
          1566.7,
          1579.6,
          1619.5,
          1657.1,
          1722.2,
          1876.4,
          1913.7,
          2035.6,
          2119.9,
          2131.5,
          2182.8,
          2194.6,
          2200.9,
          2214,
          2246.5,
          2258.9,
          2275,
          2275.8,
          2283,
          2331.2,
          2365.7,
          2375.9,
          2392.8,
          2499.1,
          2517.7,
          2567.6,
          2767,
          2768.1,
          2778.2,
          2801.1,
          2910.7,
          2936.6,
          2951.8,
          2981.3,
          3106.8,
          3116.2,
          3178.4,
          3179.8,
          3207.1,
          3235.2,
          3282.5,
          3284.7,
          3310.6,
          3319.4,
          3429.9,
          3455,
          3461.9,
          3551.6,
          3603.5,
          3620,
          3636.8,
          3663.4,
          3841.4,
          3844.2,
          3868.5,
          3905.6,
          3930.3,
          3939.4,
          3949,
          4017.6,
          4065.5,
          4080.9,
          4090,
          4110.1,
          4114.5,
          4127.2,
          4172.9,
          4199.6,
          4210.4,
          4224.3,
          4257.9,
          4263.4,
          4289.8,
          4377.1,
          4383.5,
          4423.5,
          4529.6,
          4545.6,
          4576.1,
          4633.4,
          4666.3,
          4714.6,
          4723.8,
          4775.6,
          4811.6,
          4972.5,
          21147
         ],
         "xaxis": "x",
         "y": [
          3124.909021126511,
          3124.8175258172714,
          3124.814574355683,
          3124.813963708458,
          3124.8092820797315,
          3124.802259636642,
          3124.775594707809,
          3124.7672491957314,
          3124.76277111608,
          3124.7606338507917,
          3124.7588019091163,
          3124.7522883387146,
          3124.745672993775,
          3124.743739277562,
          3124.7337653728837,
          3124.700993971799,
          3124.684913594869,
          3124.6828781041186,
          3124.6822674568934,
          3124.681046162443,
          3124.672598875828,
          3124.656111400748,
          3124.655806077136,
          3124.650310252109,
          3124.6436949071694,
          3124.6353493950924,
          3124.633924551567,
          3124.6255790394894,
          3124.625070166802,
          3124.625070166802,
          3124.619981439925,
          3124.6185565963997,
          3124.6103128588597,
          3124.589957951354,
          3124.5250257964094,
          3124.5230920801964,
          3124.5137288227434,
          3124.490931326337,
          3124.483705334172,
          3124.4780059600703,
          3124.448287795112,
          3124.441265352022,
          3124.3696160776008,
          3124.362390085436,
          3124.3044803735816,
          3124.2947100179786,
          3124.2381233751116,
          3124.1315654343175,
          3124.1201666861143,
          3124.1053076036346,
          3124.0771160567388,
          3124.0691776428116,
          3124.059101963596,
          3124.015644236071,
          3123.976969911809,
          3123.8699030983275,
          3123.8430346204195,
          3123.788788791916,
          3123.7756598765745,
          3123.7350518361,
          3123.6967846099883,
          3123.6305293860564,
          3123.4735930491847,
          3123.435631146686,
          3123.3115679854363,
          3123.2257720502985,
          3123.213966203945,
          3123.161755866192,
          3123.1497464707636,
          3123.143334674899,
          3123.1300022104824,
          3123.0969254857855,
          3123.0843054431316,
          3123.0679197425893,
          3123.067105546289,
          3123.059777779587,
          3123.0107224524972,
          3122.9756102370493,
          3122.965229234221,
          3122.9480293373786,
          3122.839843003984,
          3122.8209129400034,
          3122.770127445776,
          3122.5671890179406,
          3122.5660694980274,
          3122.555790269737,
          3122.5324839006425,
          3122.4209390075093,
          3122.3945794022893,
          3122.3791096725845,
          3122.3490861840132,
          3122.221359139413,
          3122.211792332885,
          3122.1484885705413,
          3122.147063727016,
          3122.11927927827,
          3122.090680633224,
          3122.0425412769723,
          3122.0403022371465,
          3122.013942631926,
          3122.0049864726234,
          3121.8925256086527,
          3121.8669801997326,
          3121.859957756643,
          3121.7686659964784,
          3121.7158450115003,
          3121.6990522128076,
          3121.6819540905026,
          3121.6548820635194,
          3121.473723386716,
          3121.470873699665,
          3121.446142487045,
          3121.4083841336214,
          3121.383245822851,
          3121.373984339936,
          3121.364213984333,
          3121.2943966515877,
          3121.2456466481103,
          3121.2299733693308,
          3121.2207118864158,
          3121.200255204372,
          3121.1957771247207,
          3121.1828517584545,
          3121.136340794803,
          3121.1091669932825,
          3121.0981753432293,
          3121.0840286825123,
          3121.0498324379023,
          3121.044234838338,
          3121.01736636043,
          3120.9285171891665,
          3120.9220036187644,
          3120.881293803752,
          3120.7733110194326,
          3120.757027093428,
          3120.725985859481,
          3120.6676690494764,
          3120.634185226629,
          3120.585028125002,
          3120.575664867549,
          3120.5229456571083,
          3120.4863068235977,
          3120.3225515927115,
          3103.8610290198853
         ],
         "yaxis": "y"
        },
        {
         "hovertemplate": "City=Illinois<br>Automobile_Sales=%{x}<br>Advertising_Expenditure=%{y}<extra></extra>",
         "legendgroup": "Illinois",
         "marker": {
          "color": "#00cc96",
          "symbol": "circle"
         },
         "mode": "markers",
         "name": "Illinois",
         "orientation": "v",
         "showlegend": true,
         "type": "scatter",
         "x": [
          702.8,
          754.5,
          729.6,
          325,
          574.2,
          648.1,
          614.4,
          763.9,
          738.8,
          589,
          689.8,
          619.1,
          688.6,
          566.7,
          556.2,
          563.1,
          570.2,
          683.5,
          650,
          697.6,
          669.4,
          690.4,
          724.2,
          778.3,
          594.5,
          692.8,
          3240.4,
          4769.8,
          4686.4,
          1436.7,
          2514,
          4520.7,
          4041.6,
          2563.9,
          2445.3,
          3429,
          4702.3,
          1845.3,
          645.2,
          1260,
          860.8,
          1883.7,
          1038,
          2924.3,
          4050.1,
          4602.5,
          2791.5,
          3003.3,
          1408.2,
          3257,
          3537,
          1264,
          3244.6,
          2496.8,
          1522.2,
          4806.9,
          3638.1,
          2044.2,
          1181.8,
          1454.6,
          2408.3,
          1650.1,
          1671.8,
          4192.5,
          2700.4,
          2028.3,
          4060.1,
          2550.4,
          4341.5,
          2268.8,
          4440.8,
          2471.3,
          2187.8,
          585.1,
          3137.9,
          3525.9,
          3301,
          1413.1,
          3875.7,
          4577.8,
          3914.4,
          3197.6,
          1242.3,
          1940.4,
          3474.2,
          1719.6,
          3371.6,
          3189.4,
          3485.2,
          3923.9,
          2182.4,
          1628,
          1981.3,
          4532.1,
          846.4,
          3867.7,
          4355,
          2372.5,
          2147.2,
          1935.8,
          3451.3,
          720.8,
          4262.3,
          3296.8,
          3125.7,
          4943.6,
          3686.7,
          3196.2,
          2065,
          3720.9,
          3554.2,
          2203.5,
          1290.6,
          3613.5,
          3426,
          1769.5,
          3369.7,
          3676.7,
          3510.9,
          632.9,
          2925.9,
          3088.7,
          1777.1,
          4635.8,
          2426.3,
          4479.6,
          4972.7,
          681.2,
          845.4,
          4875.6,
          1565.7,
          1739.6,
          1201.5,
          1995.6
         ],
         "xaxis": "x",
         "y": [
          1653,
          2573,
          2828,
          3026,
          2942,
          2673,
          2191,
          1320,
          2636,
          2943,
          4044,
          1950,
          4593,
          2865,
          3853,
          4507,
          1936,
          2625,
          4877,
          3687,
          2920,
          1799,
          1777,
          4462,
          1832,
          2622,
          4490,
          2118,
          1235,
          1333,
          2160,
          2855,
          4911,
          4850,
          2851,
          2314,
          1724,
          3898,
          1077,
          1615,
          4597,
          3847,
          2046,
          3192,
          2997,
          4687,
          1197,
          3601,
          4571,
          3275,
          3263,
          3891,
          2834,
          3116,
          4325,
          2865,
          1814,
          4040,
          4694,
          4051,
          4055,
          1126,
          4056,
          2013,
          4100,
          4533,
          4367,
          4368,
          3826,
          2636,
          2205,
          3708,
          1024,
          2879,
          2492,
          1688,
          1147,
          3523,
          2724,
          2383,
          3608,
          1326,
          3262,
          4389,
          3065,
          4246,
          1193,
          2701,
          1830,
          3806,
          3490,
          4300,
          4675,
          4054,
          3861,
          2523,
          1181,
          1822,
          3054,
          4744,
          3198,
          2571,
          2308,
          3747,
          3756,
          2939,
          4070,
          1470,
          2555,
          4297,
          4577,
          3901,
          2303,
          3761,
          3679,
          3106,
          1127,
          4953,
          4280,
          3599,
          4306,
          1441,
          3076,
          4180,
          4217,
          4088,
          1587,
          3074,
          2772,
          3040,
          4547,
          3681,
          1129,
          4363
         ],
         "yaxis": "y"
        },
        {
         "hovertemplate": "<b>OLS trendline</b><br>Advertising_Expenditure = -0.0243968 * Automobile_Sales + 3156.28<br>R<sup>2</sup>=0.000930<br><br>City=Illinois<br>Automobile_Sales=%{x}<br>Advertising_Expenditure=%{y} <b>(trend)</b><extra></extra>",
         "legendgroup": "Illinois",
         "marker": {
          "color": "#00cc96",
          "symbol": "circle"
         },
         "mode": "lines",
         "name": "Illinois",
         "showlegend": false,
         "type": "scatter",
         "x": [
          325,
          556.2,
          563.1,
          566.7,
          570.2,
          574.2,
          585.1,
          589,
          594.5,
          614.4,
          619.1,
          632.9,
          645.2,
          648.1,
          650,
          669.4,
          681.2,
          683.5,
          688.6,
          689.8,
          690.4,
          692.8,
          697.6,
          702.8,
          720.8,
          724.2,
          729.6,
          738.8,
          754.5,
          763.9,
          778.3,
          845.4,
          846.4,
          860.8,
          1038,
          1181.8,
          1201.5,
          1242.3,
          1260,
          1264,
          1290.6,
          1408.2,
          1413.1,
          1436.7,
          1454.6,
          1522.2,
          1565.7,
          1628,
          1650.1,
          1671.8,
          1719.6,
          1739.6,
          1769.5,
          1777.1,
          1845.3,
          1883.7,
          1935.8,
          1940.4,
          1981.3,
          1995.6,
          2028.3,
          2044.2,
          2065,
          2147.2,
          2182.4,
          2187.8,
          2203.5,
          2268.8,
          2372.5,
          2408.3,
          2426.3,
          2445.3,
          2471.3,
          2496.8,
          2514,
          2550.4,
          2563.9,
          2700.4,
          2791.5,
          2924.3,
          2925.9,
          3003.3,
          3088.7,
          3125.7,
          3137.9,
          3189.4,
          3196.2,
          3197.6,
          3240.4,
          3244.6,
          3257,
          3296.8,
          3301,
          3369.7,
          3371.6,
          3426,
          3429,
          3451.3,
          3474.2,
          3485.2,
          3510.9,
          3525.9,
          3537,
          3554.2,
          3613.5,
          3638.1,
          3676.7,
          3686.7,
          3720.9,
          3867.7,
          3875.7,
          3914.4,
          3923.9,
          4041.6,
          4050.1,
          4060.1,
          4192.5,
          4262.3,
          4341.5,
          4355,
          4440.8,
          4479.6,
          4520.7,
          4532.1,
          4577.8,
          4602.5,
          4635.8,
          4686.4,
          4702.3,
          4769.8,
          4806.9,
          4875.6,
          4943.6,
          4972.7
         ],
         "xaxis": "x",
         "y": [
          3148.351053538024,
          3142.7105228321866,
          3142.5421851943397,
          3142.45435686155,
          3142.3689682046706,
          3142.2713811682374,
          3142.0054564939574,
          3141.910309133435,
          3141.7761269583393,
          3141.290631452084,
          3141.1759666842754,
          3140.8392914085807,
          3140.539211271549,
          3140.468460670135,
          3140.422106827829,
          3139.948809701128,
          3139.66092794365,
          3139.6048153977013,
          3139.480391926249,
          3139.451115815319,
          3139.436477759854,
          3139.377925537994,
          3139.2608210942744,
          3139.1339579469113,
          3138.6948162829617,
          3138.6118673019937,
          3138.480124802809,
          3138.2556746190126,
          3137.8726455010124,
          3137.6433159653943,
          3137.292002634235,
          3135.654980098069,
          3135.63058333896,
          3135.2792700078007,
          3130.9561642938115,
          3127.447910334039,
          3126.9672941796057,
          3125.9719064079873,
          3125.5400837717707,
          3125.4424967353375,
          3124.7935429430568,
          3121.9244840719216,
          3121.804939952291,
          3121.2291764373354,
          3120.792474449297,
          3119.143253533576,
          3118.081994512366,
          3116.562076419919,
          3116.0229080436256,
          3115.493498370976,
          3114.3273332855993,
          3113.8393981034337,
          3113.109935006096,
          3112.9245196368724,
          3111.2606606656873,
          3110.3238251159287,
          3109.0527539663867,
          3108.9405288744883,
          3107.9427014269595,
          3107.593827771711,
          3106.79605374887,
          3106.408145279048,
          3105.9006926895954,
          3103.895279090894,
          3103.036513170282,
          3102.904770671097,
          3102.521741553097,
          3100.9286331833255,
          3098.3986892637954,
          3097.5252852877184,
          3097.086143623769,
          3096.622605200712,
          3095.988289463896,
          3095.3661721066346,
          3094.946547849972,
          3094.05850581843,
          3093.729149570468,
          3090.3989919521864,
          3088.1764471974207,
          3084.9365575878396,
          3084.8975227732662,
          3083.0092136182843,
          3080.9257303904365,
          3080.0230503034295,
          3079.725409842308,
          3078.4689767482314,
          3078.303078786295,
          3078.2689233235433,
          3077.2247420337085,
          3077.1222756454536,
          3076.819755832511,
          3075.8487648200007,
          3075.746298431746,
          3074.0702410810063,
          3074.0238872387004,
          3072.6967035432094,
          3072.6235132658844,
          3072.0794655377695,
          3071.52077975419,
          3071.2524154039984,
          3070.6254186949154,
          3070.259467308291,
          3069.988663282189,
          3069.5690390255263,
          3068.1223112104044,
          3067.5221509363405,
          3066.5804360347606,
          3066.3364684436774,
          3065.5020992821737,
          3061.9206550450767,
          3061.7254809722103,
          3060.781326394719,
          3060.5495571831907,
          3057.6780586361447,
          3057.470686183724,
          3057.226718592641,
          3053.996587686703,
          3052.2936939009446,
          3050.3614705795676,
          3050.032114331606,
          3047.938872400114,
          3046.9922781467126,
          3045.9895713473616,
          3045.711448293527,
          3044.596516402278,
          3043.9939164523034,
          3043.181504373997,
          3041.9470283631176,
          3041.5591198932957,
          3039.912338653486,
          3039.0072188905683,
          3037.331161539829,
          3035.672181920465,
          3034.9622362304135
         ],
         "yaxis": "y"
        },
        {
         "hovertemplate": "City=California<br>Automobile_Sales=%{x}<br>Advertising_Expenditure=%{y}<extra></extra>",
         "legendgroup": "California",
         "marker": {
          "color": "#ab63fa",
          "symbol": "circle"
         },
         "mode": "markers",
         "name": "California",
         "orientation": "v",
         "showlegend": true,
         "type": "scatter",
         "x": [
          770.4,
          705.6,
          763,
          574.3,
          657.1,
          752.9,
          677.6,
          762,
          617.3,
          552.3,
          574.7,
          676.1,
          659.1,
          619.4,
          723,
          724.1,
          591.9,
          604.8,
          670.6,
          651,
          731.4,
          759.5,
          572.7,
          639.1,
          663.6,
          773.3,
          668,
          633.8,
          214,
          3533.5,
          908.1,
          4120.2,
          2962.9,
          3141.2,
          832,
          1345.2,
          797.3,
          4661.6,
          1015.6,
          1702.7,
          3495.1,
          1831.1,
          2833.1,
          2290.5,
          1259.5,
          3737,
          3797.7,
          632.9,
          1619.7,
          1015.4,
          1636.6,
          3018.9,
          2948,
          2652.3,
          3035.7,
          3757.9,
          2924.7,
          1361.9,
          4463.9,
          2617,
          4113.3,
          1450.8,
          3424.6,
          3028.5,
          1973,
          1524.6,
          2103.3,
          852.9,
          2607.8,
          3754.8,
          571.6,
          842.9,
          3883.5,
          4110.9,
          2846.4,
          1170.6,
          1301.8,
          4498.7,
          3450.4,
          4493.1,
          2650.8,
          1619.5,
          1501.6,
          2433.1,
          4194.5,
          1395.1,
          3630.1,
          4163.9,
          4000.1,
          1380.9,
          3649.2,
          1699.7,
          4448.9,
          721,
          969.2,
          1997.3,
          4974.5,
          647.5,
          1577.5,
          3315.5,
          3152.2,
          1563.5,
          2889.3,
          4117.2,
          2565.8,
          1420.6,
          4726.3,
          3641.2,
          3652.3,
          4266.9,
          3135.6,
          778.7,
          923.2,
          4465.5,
          3472.2,
          1485.2,
          1024.5,
          3820,
          1819.3,
          2611.2,
          4307.9,
          824.8,
          863.2,
          2629.4,
          4865.5,
          3917,
          4842,
          1123.4,
          1685.9
         ],
         "xaxis": "x",
         "y": [
          1319,
          1138,
          4939,
          3306,
          1901,
          1689,
          3039,
          3945,
          2619,
          3376,
          2254,
          1419,
          2120,
          4068,
          4482,
          3336,
          2658,
          3912,
          3122,
          4974,
          4281,
          1417,
          4335,
          3972,
          1054,
          4714,
          2481,
          3134,
          4700,
          3038,
          4677,
          2604,
          2969,
          2319,
          4236,
          4481,
          1131,
          2772,
          2065,
          2863,
          4762,
          1574,
          3712,
          2202,
          2900,
          4228,
          3094,
          1129,
          3674,
          2955,
          4354,
          3597,
          3070,
          4876,
          2863,
          4870,
          4449,
          4797,
          2430,
          2792,
          4476,
          2645,
          1566,
          4016,
          2332,
          1762,
          2202,
          1663,
          2990,
          2203,
          1062,
          3203,
          1966,
          1848,
          2107,
          4432,
          1341,
          2086,
          2792,
          2759,
          3482,
          3079,
          3717,
          3332,
          4090,
          2136,
          3161,
          4715,
          1312,
          2858,
          3006,
          4125,
          4310,
          4122,
          3538,
          1451,
          3516,
          3001,
          4156,
          4452,
          3862,
          1706,
          3308,
          1904,
          2890,
          2523,
          2387,
          4229,
          4430,
          4272,
          3657,
          1074,
          3175,
          2379,
          1040,
          3981,
          2700,
          4224,
          4045,
          1730,
          1167,
          1609,
          3969,
          1701,
          4067,
          2845,
          2386,
          1028,
          1148
         ],
         "yaxis": "y"
        },
        {
         "hovertemplate": "<b>OLS trendline</b><br>Advertising_Expenditure = 0.046275 * Automobile_Sales + 2905<br>R<sup>2</sup>=0.003306<br><br>City=California<br>Automobile_Sales=%{x}<br>Advertising_Expenditure=%{y} <b>(trend)</b><extra></extra>",
         "legendgroup": "California",
         "marker": {
          "color": "#ab63fa",
          "symbol": "circle"
         },
         "mode": "lines",
         "name": "California",
         "showlegend": false,
         "type": "scatter",
         "x": [
          214,
          552.3,
          571.6,
          572.7,
          574.3,
          574.7,
          591.9,
          604.8,
          617.3,
          619.4,
          632.9,
          633.8,
          639.1,
          647.5,
          651,
          657.1,
          659.1,
          663.6,
          668,
          670.6,
          676.1,
          677.6,
          705.6,
          721,
          723,
          724.1,
          731.4,
          752.9,
          759.5,
          762,
          763,
          770.4,
          773.3,
          778.7,
          797.3,
          824.8,
          832,
          842.9,
          852.9,
          863.2,
          908.1,
          923.2,
          969.2,
          1015.4,
          1015.6,
          1024.5,
          1123.4,
          1170.6,
          1259.5,
          1301.8,
          1345.2,
          1361.9,
          1380.9,
          1395.1,
          1420.6,
          1450.8,
          1485.2,
          1501.6,
          1524.6,
          1563.5,
          1577.5,
          1619.5,
          1619.7,
          1636.6,
          1685.9,
          1699.7,
          1702.7,
          1819.3,
          1831.1,
          1973,
          1997.3,
          2103.3,
          2290.5,
          2433.1,
          2565.8,
          2607.8,
          2611.2,
          2617,
          2629.4,
          2650.8,
          2652.3,
          2833.1,
          2846.4,
          2889.3,
          2924.7,
          2948,
          2962.9,
          3018.9,
          3028.5,
          3035.7,
          3135.6,
          3141.2,
          3152.2,
          3315.5,
          3424.6,
          3450.4,
          3472.2,
          3495.1,
          3533.5,
          3630.1,
          3641.2,
          3649.2,
          3652.3,
          3737,
          3754.8,
          3757.9,
          3797.7,
          3820,
          3883.5,
          3917,
          4000.1,
          4110.9,
          4113.3,
          4117.2,
          4120.2,
          4163.9,
          4194.5,
          4266.9,
          4307.9,
          4448.9,
          4463.9,
          4465.5,
          4493.1,
          4498.7,
          4661.6,
          4726.3,
          4842,
          4865.5,
          4974.5
         ],
         "xaxis": "x",
         "y": [
          2914.9077886271143,
          2930.5626302856194,
          2931.4557383081114,
          2931.506640837891,
          2931.5806808812063,
          2931.599190892035,
          2932.395121357676,
          2932.9920692069068,
          2933.5705070453087,
          2933.66768460216,
          2934.2923974676337,
          2934.334044991999,
          2934.579302635481,
          2934.968012862887,
          2935.1299754576394,
          2935.4122531227795,
          2935.504803176924,
          2935.7130407987484,
          2935.916650917866,
          2936.0369659882535,
          2936.2914786371502,
          2936.3608911777583,
          2937.6565919357786,
          2938.3692273526894,
          2938.461777406834,
          2938.512679936613,
          2938.8504876342395,
          2939.8454007162904,
          2940.150815894967,
          2940.266503462647,
          2940.312778489719,
          2940.655213690053,
          2940.789411268562,
          2941.039296414752,
          2941.900011918294,
          2943.1725751627773,
          2943.505755357697,
          2944.0101531527835,
          2944.4729034235047,
          2944.9495362023476,
          2947.027284917887,
          2947.726037826676,
          2949.8546890719945,
          2951.9925953227275,
          2952.0018503281417,
          2952.4136980690837,
          2956.9902982465187,
          2959.1744795243235,
          2963.288329431037,
          2965.2457630761883,
          2967.2540992511194,
          2968.026892203224,
          2968.9061177175945,
          2969.563223102019,
          2970.7432362923587,
          2972.140742109937,
          2973.7326030412187,
          2974.491513485202,
          2975.555839107861,
          2977.3559376609674,
          2978.0037880399773,
          2979.9473391770075,
          2979.9565941824217,
          2980.738642139941,
          2983.020000974597,
          2983.658596348193,
          2983.7974214294095,
          2989.193089586021,
          2989.739134905472,
          2996.305561247009,
          2997.4300444048617,
          3002.3351972745086,
          3010.9978823424135,
          3017.5967012029005,
          3023.7373972953737,
          3025.6809484324035,
          3025.838283524449,
          3026.106678681467,
          3026.6804890171616,
          3027.6707745965055,
          3027.7401871371135,
          3036.1067120317566,
          3036.722169891816,
          3038.707368553211,
          3040.3455045115647,
          3041.4237126423454,
          3042.1132105457204,
          3044.70461206176,
          3045.1488523216526,
          3045.482032516572,
          3050.104907721079,
          3050.364047872683,
          3050.8730731704763,
          3058.429785091357,
          3063.4783905449276,
          3064.6722862433885,
          3065.681081833561,
          3066.7407799535135,
          3068.5177409930834,
          3072.9879086082524,
          3073.501561408753,
          3073.8717616253302,
          3074.015214209254,
          3077.934709002264,
          3078.7584044841483,
          3078.901857068072,
          3080.743603145543,
          3081.7755362492517,
          3084.7140004683324,
          3086.2642138752494,
          3090.1096686249443,
          3095.2369416245374,
          3095.3480016895105,
          3095.5284742950917,
          3095.667299376308,
          3097.6895180593606,
          3099.105533887768,
          3102.4558458477914,
          3104.353121957749,
          3110.877900774921,
          3111.572026181003,
          3111.646066224318,
          3112.923256971509,
          3113.1823971231133,
          3120.720599033165,
          3123.7145932847325,
          3129.068613916979,
          3130.156077053174,
          3135.2000550040375
         ],
         "yaxis": "y"
        }
       ],
       "layout": {
        "autosize": true,
        "legend": {
         "title": {
          "text": "City"
         },
         "tracegroupgap": 0
        },
        "template": {
         "data": {
          "bar": [
           {
            "error_x": {
             "color": "#2a3f5f"
            },
            "error_y": {
             "color": "#2a3f5f"
            },
            "marker": {
             "line": {
              "color": "#E5ECF6",
              "width": 0.5
             },
             "pattern": {
              "fillmode": "overlay",
              "size": 10,
              "solidity": 0.2
             }
            },
            "type": "bar"
           }
          ],
          "barpolar": [
           {
            "marker": {
             "line": {
              "color": "#E5ECF6",
              "width": 0.5
             },
             "pattern": {
              "fillmode": "overlay",
              "size": 10,
              "solidity": 0.2
             }
            },
            "type": "barpolar"
           }
          ],
          "carpet": [
           {
            "aaxis": {
             "endlinecolor": "#2a3f5f",
             "gridcolor": "white",
             "linecolor": "white",
             "minorgridcolor": "white",
             "startlinecolor": "#2a3f5f"
            },
            "baxis": {
             "endlinecolor": "#2a3f5f",
             "gridcolor": "white",
             "linecolor": "white",
             "minorgridcolor": "white",
             "startlinecolor": "#2a3f5f"
            },
            "type": "carpet"
           }
          ],
          "choropleth": [
           {
            "colorbar": {
             "outlinewidth": 0,
             "ticks": ""
            },
            "type": "choropleth"
           }
          ],
          "contour": [
           {
            "colorbar": {
             "outlinewidth": 0,
             "ticks": ""
            },
            "colorscale": [
             [
              0,
              "#0d0887"
             ],
             [
              0.1111111111111111,
              "#46039f"
             ],
             [
              0.2222222222222222,
              "#7201a8"
             ],
             [
              0.3333333333333333,
              "#9c179e"
             ],
             [
              0.4444444444444444,
              "#bd3786"
             ],
             [
              0.5555555555555556,
              "#d8576b"
             ],
             [
              0.6666666666666666,
              "#ed7953"
             ],
             [
              0.7777777777777778,
              "#fb9f3a"
             ],
             [
              0.8888888888888888,
              "#fdca26"
             ],
             [
              1,
              "#f0f921"
             ]
            ],
            "type": "contour"
           }
          ],
          "contourcarpet": [
           {
            "colorbar": {
             "outlinewidth": 0,
             "ticks": ""
            },
            "type": "contourcarpet"
           }
          ],
          "heatmap": [
           {
            "colorbar": {
             "outlinewidth": 0,
             "ticks": ""
            },
            "colorscale": [
             [
              0,
              "#0d0887"
             ],
             [
              0.1111111111111111,
              "#46039f"
             ],
             [
              0.2222222222222222,
              "#7201a8"
             ],
             [
              0.3333333333333333,
              "#9c179e"
             ],
             [
              0.4444444444444444,
              "#bd3786"
             ],
             [
              0.5555555555555556,
              "#d8576b"
             ],
             [
              0.6666666666666666,
              "#ed7953"
             ],
             [
              0.7777777777777778,
              "#fb9f3a"
             ],
             [
              0.8888888888888888,
              "#fdca26"
             ],
             [
              1,
              "#f0f921"
             ]
            ],
            "type": "heatmap"
           }
          ],
          "heatmapgl": [
           {
            "colorbar": {
             "outlinewidth": 0,
             "ticks": ""
            },
            "colorscale": [
             [
              0,
              "#0d0887"
             ],
             [
              0.1111111111111111,
              "#46039f"
             ],
             [
              0.2222222222222222,
              "#7201a8"
             ],
             [
              0.3333333333333333,
              "#9c179e"
             ],
             [
              0.4444444444444444,
              "#bd3786"
             ],
             [
              0.5555555555555556,
              "#d8576b"
             ],
             [
              0.6666666666666666,
              "#ed7953"
             ],
             [
              0.7777777777777778,
              "#fb9f3a"
             ],
             [
              0.8888888888888888,
              "#fdca26"
             ],
             [
              1,
              "#f0f921"
             ]
            ],
            "type": "heatmapgl"
           }
          ],
          "histogram": [
           {
            "marker": {
             "pattern": {
              "fillmode": "overlay",
              "size": 10,
              "solidity": 0.2
             }
            },
            "type": "histogram"
           }
          ],
          "histogram2d": [
           {
            "colorbar": {
             "outlinewidth": 0,
             "ticks": ""
            },
            "colorscale": [
             [
              0,
              "#0d0887"
             ],
             [
              0.1111111111111111,
              "#46039f"
             ],
             [
              0.2222222222222222,
              "#7201a8"
             ],
             [
              0.3333333333333333,
              "#9c179e"
             ],
             [
              0.4444444444444444,
              "#bd3786"
             ],
             [
              0.5555555555555556,
              "#d8576b"
             ],
             [
              0.6666666666666666,
              "#ed7953"
             ],
             [
              0.7777777777777778,
              "#fb9f3a"
             ],
             [
              0.8888888888888888,
              "#fdca26"
             ],
             [
              1,
              "#f0f921"
             ]
            ],
            "type": "histogram2d"
           }
          ],
          "histogram2dcontour": [
           {
            "colorbar": {
             "outlinewidth": 0,
             "ticks": ""
            },
            "colorscale": [
             [
              0,
              "#0d0887"
             ],
             [
              0.1111111111111111,
              "#46039f"
             ],
             [
              0.2222222222222222,
              "#7201a8"
             ],
             [
              0.3333333333333333,
              "#9c179e"
             ],
             [
              0.4444444444444444,
              "#bd3786"
             ],
             [
              0.5555555555555556,
              "#d8576b"
             ],
             [
              0.6666666666666666,
              "#ed7953"
             ],
             [
              0.7777777777777778,
              "#fb9f3a"
             ],
             [
              0.8888888888888888,
              "#fdca26"
             ],
             [
              1,
              "#f0f921"
             ]
            ],
            "type": "histogram2dcontour"
           }
          ],
          "mesh3d": [
           {
            "colorbar": {
             "outlinewidth": 0,
             "ticks": ""
            },
            "type": "mesh3d"
           }
          ],
          "parcoords": [
           {
            "line": {
             "colorbar": {
              "outlinewidth": 0,
              "ticks": ""
             }
            },
            "type": "parcoords"
           }
          ],
          "pie": [
           {
            "automargin": true,
            "type": "pie"
           }
          ],
          "scatter": [
           {
            "fillpattern": {
             "fillmode": "overlay",
             "size": 10,
             "solidity": 0.2
            },
            "type": "scatter"
           }
          ],
          "scatter3d": [
           {
            "line": {
             "colorbar": {
              "outlinewidth": 0,
              "ticks": ""
             }
            },
            "marker": {
             "colorbar": {
              "outlinewidth": 0,
              "ticks": ""
             }
            },
            "type": "scatter3d"
           }
          ],
          "scattercarpet": [
           {
            "marker": {
             "colorbar": {
              "outlinewidth": 0,
              "ticks": ""
             }
            },
            "type": "scattercarpet"
           }
          ],
          "scattergeo": [
           {
            "marker": {
             "colorbar": {
              "outlinewidth": 0,
              "ticks": ""
             }
            },
            "type": "scattergeo"
           }
          ],
          "scattergl": [
           {
            "marker": {
             "colorbar": {
              "outlinewidth": 0,
              "ticks": ""
             }
            },
            "type": "scattergl"
           }
          ],
          "scattermapbox": [
           {
            "marker": {
             "colorbar": {
              "outlinewidth": 0,
              "ticks": ""
             }
            },
            "type": "scattermapbox"
           }
          ],
          "scatterpolar": [
           {
            "marker": {
             "colorbar": {
              "outlinewidth": 0,
              "ticks": ""
             }
            },
            "type": "scatterpolar"
           }
          ],
          "scatterpolargl": [
           {
            "marker": {
             "colorbar": {
              "outlinewidth": 0,
              "ticks": ""
             }
            },
            "type": "scatterpolargl"
           }
          ],
          "scatterternary": [
           {
            "marker": {
             "colorbar": {
              "outlinewidth": 0,
              "ticks": ""
             }
            },
            "type": "scatterternary"
           }
          ],
          "surface": [
           {
            "colorbar": {
             "outlinewidth": 0,
             "ticks": ""
            },
            "colorscale": [
             [
              0,
              "#0d0887"
             ],
             [
              0.1111111111111111,
              "#46039f"
             ],
             [
              0.2222222222222222,
              "#7201a8"
             ],
             [
              0.3333333333333333,
              "#9c179e"
             ],
             [
              0.4444444444444444,
              "#bd3786"
             ],
             [
              0.5555555555555556,
              "#d8576b"
             ],
             [
              0.6666666666666666,
              "#ed7953"
             ],
             [
              0.7777777777777778,
              "#fb9f3a"
             ],
             [
              0.8888888888888888,
              "#fdca26"
             ],
             [
              1,
              "#f0f921"
             ]
            ],
            "type": "surface"
           }
          ],
          "table": [
           {
            "cells": {
             "fill": {
              "color": "#EBF0F8"
             },
             "line": {
              "color": "white"
             }
            },
            "header": {
             "fill": {
              "color": "#C8D4E3"
             },
             "line": {
              "color": "white"
             }
            },
            "type": "table"
           }
          ]
         },
         "layout": {
          "annotationdefaults": {
           "arrowcolor": "#2a3f5f",
           "arrowhead": 0,
           "arrowwidth": 1
          },
          "autotypenumbers": "strict",
          "coloraxis": {
           "colorbar": {
            "outlinewidth": 0,
            "ticks": ""
           }
          },
          "colorscale": {
           "diverging": [
            [
             0,
             "#8e0152"
            ],
            [
             0.1,
             "#c51b7d"
            ],
            [
             0.2,
             "#de77ae"
            ],
            [
             0.3,
             "#f1b6da"
            ],
            [
             0.4,
             "#fde0ef"
            ],
            [
             0.5,
             "#f7f7f7"
            ],
            [
             0.6,
             "#e6f5d0"
            ],
            [
             0.7,
             "#b8e186"
            ],
            [
             0.8,
             "#7fbc41"
            ],
            [
             0.9,
             "#4d9221"
            ],
            [
             1,
             "#276419"
            ]
           ],
           "sequential": [
            [
             0,
             "#0d0887"
            ],
            [
             0.1111111111111111,
             "#46039f"
            ],
            [
             0.2222222222222222,
             "#7201a8"
            ],
            [
             0.3333333333333333,
             "#9c179e"
            ],
            [
             0.4444444444444444,
             "#bd3786"
            ],
            [
             0.5555555555555556,
             "#d8576b"
            ],
            [
             0.6666666666666666,
             "#ed7953"
            ],
            [
             0.7777777777777778,
             "#fb9f3a"
            ],
            [
             0.8888888888888888,
             "#fdca26"
            ],
            [
             1,
             "#f0f921"
            ]
           ],
           "sequentialminus": [
            [
             0,
             "#0d0887"
            ],
            [
             0.1111111111111111,
             "#46039f"
            ],
            [
             0.2222222222222222,
             "#7201a8"
            ],
            [
             0.3333333333333333,
             "#9c179e"
            ],
            [
             0.4444444444444444,
             "#bd3786"
            ],
            [
             0.5555555555555556,
             "#d8576b"
            ],
            [
             0.6666666666666666,
             "#ed7953"
            ],
            [
             0.7777777777777778,
             "#fb9f3a"
            ],
            [
             0.8888888888888888,
             "#fdca26"
            ],
            [
             1,
             "#f0f921"
            ]
           ]
          },
          "colorway": [
           "#636efa",
           "#EF553B",
           "#00cc96",
           "#ab63fa",
           "#FFA15A",
           "#19d3f3",
           "#FF6692",
           "#B6E880",
           "#FF97FF",
           "#FECB52"
          ],
          "font": {
           "color": "#2a3f5f"
          },
          "geo": {
           "bgcolor": "white",
           "lakecolor": "white",
           "landcolor": "#E5ECF6",
           "showlakes": true,
           "showland": true,
           "subunitcolor": "white"
          },
          "hoverlabel": {
           "align": "left"
          },
          "hovermode": "closest",
          "mapbox": {
           "style": "light"
          },
          "paper_bgcolor": "white",
          "plot_bgcolor": "#E5ECF6",
          "polar": {
           "angularaxis": {
            "gridcolor": "white",
            "linecolor": "white",
            "ticks": ""
           },
           "bgcolor": "#E5ECF6",
           "radialaxis": {
            "gridcolor": "white",
            "linecolor": "white",
            "ticks": ""
           }
          },
          "scene": {
           "xaxis": {
            "backgroundcolor": "#E5ECF6",
            "gridcolor": "white",
            "gridwidth": 2,
            "linecolor": "white",
            "showbackground": true,
            "ticks": "",
            "zerolinecolor": "white"
           },
           "yaxis": {
            "backgroundcolor": "#E5ECF6",
            "gridcolor": "white",
            "gridwidth": 2,
            "linecolor": "white",
            "showbackground": true,
            "ticks": "",
            "zerolinecolor": "white"
           },
           "zaxis": {
            "backgroundcolor": "#E5ECF6",
            "gridcolor": "white",
            "gridwidth": 2,
            "linecolor": "white",
            "showbackground": true,
            "ticks": "",
            "zerolinecolor": "white"
           }
          },
          "shapedefaults": {
           "line": {
            "color": "#2a3f5f"
           }
          },
          "ternary": {
           "aaxis": {
            "gridcolor": "white",
            "linecolor": "white",
            "ticks": ""
           },
           "baxis": {
            "gridcolor": "white",
            "linecolor": "white",
            "ticks": ""
           },
           "bgcolor": "#E5ECF6",
           "caxis": {
            "gridcolor": "white",
            "linecolor": "white",
            "ticks": ""
           }
          },
          "title": {
           "x": 0.05
          },
          "xaxis": {
           "automargin": true,
           "gridcolor": "white",
           "linecolor": "white",
           "ticks": "",
           "title": {
            "standoff": 15
           },
           "zerolinecolor": "white",
           "zerolinewidth": 2
          },
          "yaxis": {
           "automargin": true,
           "gridcolor": "white",
           "linecolor": "white",
           "ticks": "",
           "title": {
            "standoff": 15
           },
           "zerolinecolor": "white",
           "zerolinewidth": 2
          }
         }
        },
        "title": {
         "text": "Automobile_Sales vs Advertising_Expenditure",
         "x": 0.5
        },
        "xaxis": {
         "anchor": "y",
         "autorange": true,
         "domain": [
          0,
          1
         ],
         "range": [
          -1190.5485436893205,
          22439.54854368932
         ],
         "title": {
          "text": "Automobile_Sales"
         },
         "type": "linear"
        },
        "yaxis": {
         "anchor": "x",
         "autorange": true,
         "domain": [
          0,
          1
         ],
         "range": [
          681.0485436893205,
          5310.9514563106795
         ],
         "title": {
          "text": "Advertising_Expenditure"
         },
         "type": "linear"
        }
       }
      },
      "image/png": "[encoded data removed]",
      "text/html": [
       "<div>                            <div id=\"6e9d4926-1888-44d2-be39-9530161dd1fa\" class=\"plotly-graph-div\" style=\"height:525px; width:100%;\"></div>            <script type=\"text/javascript\">                require([\"plotly\"], function(Plotly) {                    window.PLOTLYENV=window.PLOTLYENV || {};                                    if (document.getElementById(\"6e9d4926-1888-44d2-be39-9530161dd1fa\")) {                    Plotly.newPlot(                        \"6e9d4926-1888-44d2-be39-9530161dd1fa\",                        [{\"hovertemplate\":\"City=Georgia\\u003cbr\\u003eAutomobile_Sales=%{x}\\u003cbr\\u003eAdvertising_Expenditure=%{y}\\u003cextra\\u003e\\u003c\\u002fextra\\u003e\",\"legendgroup\":\"Georgia\",\"marker\":{\"color\":\"#636efa\",\"symbol\":\"circle\"},\"mode\":\"markers\",\"name\":\"Georgia\",\"orientation\":\"v\",\"showlegend\":true,\"x\":[456.0,654.0,558.0,776.2,102.0,744.6,754.8,550.9,706.3,686.1,783.9,750.8,671.6,575.2,195.0,706.6,756.3,623.1,690.7,653.1,691.9,604.3,702.6,564.8,608.3,660.0,581.2,662.2,3799.1,426.5,3822.1,851.8,1740.9,3505.1,2861.0,3336.3,3678.1,2511.6,4207.4,2727.0,3939.8,4460.1,4160.3,3587.9,1922.6,1997.8,2120.6,4436.2,2780.4,4358.6,4265.8,4358.3,804.6,1343.3,3627.1,1281.4,556.8,2832.8,4500.7,1534.6,2851.8,1587.2,2451.2,1309.8,4410.5,3349.6,1068.0,3618.7,1463.1,2286.7,4522.1,592.3,4549.2,4843.3,3692.8,3483.9,2695.5,4117.5,3977.0,3353.9,3726.7,1750.2,1445.4,2797.8,1754.6,1987.9,1743.8,1518.4,940.2,2466.3,697.4,3020.9,3506.8,4488.6,1991.3,4968.0,4296.7,1652.9,727.0,4025.4,3060.1,3047.8,2510.5,4670.6,4965.6,4901.2,985.14,4004.9,3253.2,2715.5,2122.8,3240.6,4456.9,4109.3,4866.9,4330.8,4709.8,1483.3,1783.1,2124.6,3538.5],\"xaxis\":\"x\",\"y\":[1558,4744,3219,3832,2994,3958,1477,4512,2857,2932,4230,4208,1201,4737,4874,1574,1536,1385,1474,3394,4600,1875,4942,3209,4451,1054,2823,4079,4621,4888,4530,3635,3965,2372,1872,2252,3317,3845,3052,1600,3136,4708,3469,2888,3190,4110,2970,3626,2471,4086,2692,2312,1814,3995,4767,4719,4332,3371,1094,4363,1793,1010,1711,3349,3265,3188,1984,2639,1827,3730,4531,1603,4417,4072,4572,2184,1284,2002,1661,1989,4962,1951,1722,1428,3637,3549,1987,4293,3007,2790,3808,3626,4680,2287,4489,3143,4149,2311,3782,1329,1774,1081,1745,1395,1933,2279,3987,1236,2304,3541,1804,4924,3089,2401,1645,1454,3953,4028,3866,4850,2319],\"yaxis\":\"y\",\"type\":\"scatter\"},{\"hovertemplate\":\"\\u003cb\\u003eOLS trendline\\u003c\\u002fb\\u003e\\u003cbr\\u003eAdvertising_Expenditure = -0.0770059 * Automobile_Sales + 3219.04\\u003cbr\\u003eR\\u003csup\\u003e2\\u003c\\u002fsup\\u003e=0.009440\\u003cbr\\u003e\\u003cbr\\u003eCity=Georgia\\u003cbr\\u003eAutomobile_Sales=%{x}\\u003cbr\\u003eAdvertising_Expenditure=%{y} \\u003cb\\u003e(trend)\\u003c\\u002fb\\u003e\\u003cextra\\u003e\\u003c\\u002fextra\\u003e\",\"legendgroup\":\"Georgia\",\"marker\":{\"color\":\"#636efa\",\"symbol\":\"circle\"},\"mode\":\"lines\",\"name\":\"Georgia\",\"showlegend\":false,\"x\":[102.0,195.0,426.5,456.0,550.9,556.8,558.0,564.8,575.2,581.2,592.3,604.3,608.3,623.1,653.1,654.0,660.0,662.2,671.6,686.1,690.7,691.9,697.4,702.6,706.3,706.6,727.0,744.6,750.8,754.8,756.3,776.2,783.9,804.6,851.8,940.2,985.14,1068.0,1281.4,1309.8,1343.3,1445.4,1463.1,1483.3,1518.4,1534.6,1587.2,1652.9,1740.9,1743.8,1750.2,1754.6,1783.1,1922.6,1987.9,1991.3,1997.8,2120.6,2122.8,2124.6,2286.7,2451.2,2466.3,2510.5,2511.6,2695.5,2715.5,2727.0,2780.4,2797.8,2832.8,2851.8,2861.0,3020.9,3047.8,3060.1,3240.6,3253.2,3336.3,3349.6,3353.9,3483.9,3505.1,3506.8,3538.5,3587.9,3618.7,3627.1,3678.1,3692.8,3726.7,3799.1,3822.1,3939.8,3977.0,4004.9,4025.4,4109.3,4117.5,4160.3,4207.4,4265.8,4296.7,4330.8,4358.3,4358.6,4410.5,4436.2,4456.9,4460.1,4488.6,4500.7,4522.1,4549.2,4670.6,4709.8,4843.3,4866.9,4901.2,4965.6,4968.0],\"xaxis\":\"x\",\"y\":[3211.1863346682358,3204.024784442292,3186.197914793841,3183.926240259805,3176.618378792686,3176.164043885879,3176.071636786189,3175.547996554615,3174.7471350239716,3174.285099525524,3173.430333853395,3172.5062628564992,3172.1982391908673,3171.058551628029,3168.7483741357887,3168.679068811022,3168.2170333125737,3168.047620296476,3167.323764682241,3166.207178894325,3165.852951678848,3165.7605445791587,3165.3370120389145,3164.936581273593,3164.6516593828833,3164.6285576079613,3163.0576369132377,3161.702332784457,3161.2248961027276,3160.9168724370957,3160.801363562484,3159.2689458259647,3158.676000269623,3157.0819777999773,3153.44729854552,3146.639975535053,3143.1793296516776,3136.7986194181112,3120.3655568566446,3118.1785888306576,3115.59889063099,3107.7365865657334,3106.373581845312,3104.8180623338703,3102.11515466795,3100.86765882214,3096.8171476190796,3091.757858911074,3084.9813382671705,3084.7580211095874,3084.2651832445763,3083.926357212381,3081.731688594753,3070.9893632558374,3065.960876914395,3065.699056798608,3065.198518341956,3055.7421918070545,3055.572778790957,3055.434168141422,3042.951509091686,3030.2840358425706,3029.1212465048097,3025.7175849995765,3025.6328784915277,3011.4714904640973,3009.931372135937,3009.0458040972453,3004.9336881610584,3003.5937852155594,3000.8985781412794,2999.4354657295276,2998.727011298574,2986.413765264935,2984.34230611356,2983.3951333417417,2969.4955654300984,2968.5252908833577,2962.126099229853,2961.101920541627,2960.7707951010725,2950.760025968033,2949.1275005401835,2948.99659048229,2946.5555029321563,2942.7514106616013,2940.379628436235,2939.732778738408,2935.8054770016,2934.6734900304027,2932.0629894641716,2926.4877611162324,2924.7166250388486,2915.6530286776274,2912.78840858725,2910.6399435194667,2909.061322233103,2902.600525846472,2901.969077331926,2898.6732241096643,2895.0462454468475,2890.5490999286208,2888.1696171116137,2885.543715362101,2883.426052660881,2883.4029508859585,2879.4063438243834,2877.427291772698,2875.8332693030525,2875.586850370547,2873.392181752919,2872.460410164382,2870.8124835532512,2868.7256232185946,2859.377104966664,2856.3584730434704,2846.0781832030025,2844.260843575774,2841.6195406429797,2836.660359626305,2836.4755454269257],\"yaxis\":\"y\",\"type\":\"scatter\"},{\"hovertemplate\":\"City=New York\\u003cbr\\u003eAutomobile_Sales=%{x}\\u003cbr\\u003eAdvertising_Expenditure=%{y}\\u003cextra\\u003e\\u003c\\u002fextra\\u003e\",\"legendgroup\":\"New York\",\"marker\":{\"color\":\"#EF553B\",\"symbol\":\"circle\"},\"mode\":\"markers\",\"name\":\"New York\",\"orientation\":\"v\",\"showlegend\":true,\"x\":[555.9,620.0,734.9,609.7,745.0,638.2,779.5,466.0,751.4,726.7,720.2,714.8,570.9,605.3,559.4,564.0,750.0,759.5,736.3,745.0,690.0,744.5,688.2,714.5,698.3,558.8,613.6,626.5,597.1,670.4,4199.6,3284.7,3844.2,2194.6,4633.4,2936.6,2182.8,2517.7,2778.2,2365.7,3455.0,1255.7,1657.1,2131.5,3663.4,4224.3,1913.7,4775.6,4723.8,1003.1,3551.6,3868.5,1566.7,1069.6,918.7,1283.4,2119.9,2283.0,3282.5,2392.8,21147.0,2767.0,2375.9,2910.7,1060.0,3235.2,2801.1,628.4,4065.5,854.4,3603.5,4257.9,4289.8,883.9,845.2,2275.8,2951.8,843.3,876.8,2214.0,4114.5,4972.5,2200.9,3461.9,1513.4,2981.3,3949.0,4017.6,3841.4,3116.2,4576.1,1381.8,889.5,3636.8,2246.5,4080.9,3620.0,4714.6,1722.2,686.2,4545.6,4210.4,3106.8,4423.5,4127.2,1619.5,1125.2,611.8,3939.4,3930.3,3319.4,4383.5,3905.6,2275.0,4666.3,1487.0,3429.9,3179.8,2768.1,1241.1,3207.1,1343.8,2567.6,4263.4,1301.1,4110.1,4811.6,2331.2,1229.9,3178.4,688.8,4377.1,4529.6,3310.6,2035.6,4172.9,925.6,2258.9,996.0,1291.2,2499.1,4090.0,1876.4,1579.6],\"xaxis\":\"x\",\"y\":[3048,3137,2917,4582,3892,1009,1260,3060,4713,2342,3824,1922,3204,3597,2277,3243,3645,1516,2141,3360,1116,3291,1938,1954,2901,4547,2201,4420,4945,1341,3365,2908,1375,2570,3560,4391,4643,4450,3621,3449,3343,2318,1992,2248,4054,1502,1820,3151,2669,3438,2646,3035,3062,4228,4756,4482,3802,2683,3919,4205,1345,1362,3443,4687,4005,4281,1355,2347,4204,3935,4177,2928,1050,3861,3467,4030,3872,2854,3418,1935,2934,4502,2205,1709,3224,3713,4953,4120,4701,4212,4376,2500,1285,4215,4495,1768,2394,4057,1946,1327,4874,2111,4191,4983,1164,1909,1943,1146,4695,1914,1513,2920,4594,2409,4190,1804,2757,2076,1592,4798,1735,3768,4186,3573,1520,2781,2301,3051,3713,4798,3885,3081,4896,4358,3315,3868,2708,4472,4629,2599,4776,1692,2394,1793],\"yaxis\":\"y\",\"type\":\"scatter\"},{\"hovertemplate\":\"\\u003cb\\u003eOLS trendline\\u003c\\u002fb\\u003e\\u003cbr\\u003eAdvertising_Expenditure = -0.00101775 * Automobile_Sales + 3125.38\\u003cbr\\u003eR\\u003csup\\u003e2\\u003c\\u002fsup\\u003e=0.000004\\u003cbr\\u003e\\u003cbr\\u003eCity=New York\\u003cbr\\u003eAutomobile_Sales=%{x}\\u003cbr\\u003eAdvertising_Expenditure=%{y} \\u003cb\\u003e(trend)\\u003c\\u002fb\\u003e\\u003cextra\\u003e\\u003c\\u002fextra\\u003e\",\"legendgroup\":\"New York\",\"marker\":{\"color\":\"#EF553B\",\"symbol\":\"circle\"},\"mode\":\"lines\",\"name\":\"New York\",\"showlegend\":false,\"x\":[466.0,555.9,558.8,559.4,564.0,570.9,597.1,605.3,609.7,611.8,613.6,620.0,626.5,628.4,638.2,670.4,686.2,688.2,688.8,690.0,698.3,714.5,714.8,720.2,726.7,734.9,736.3,744.5,745.0,745.0,750.0,751.4,759.5,779.5,843.3,845.2,854.4,876.8,883.9,889.5,918.7,925.6,996.0,1003.1,1060.0,1069.6,1125.2,1229.9,1241.1,1255.7,1283.4,1291.2,1301.1,1343.8,1381.8,1487.0,1513.4,1566.7,1579.6,1619.5,1657.1,1722.2,1876.4,1913.7,2035.6,2119.9,2131.5,2182.8,2194.6,2200.9,2214.0,2246.5,2258.9,2275.0,2275.8,2283.0,2331.2,2365.7,2375.9,2392.8,2499.1,2517.7,2567.6,2767.0,2768.1,2778.2,2801.1,2910.7,2936.6,2951.8,2981.3,3106.8,3116.2,3178.4,3179.8,3207.1,3235.2,3282.5,3284.7,3310.6,3319.4,3429.9,3455.0,3461.9,3551.6,3603.5,3620.0,3636.8,3663.4,3841.4,3844.2,3868.5,3905.6,3930.3,3939.4,3949.0,4017.6,4065.5,4080.9,4090.0,4110.1,4114.5,4127.2,4172.9,4199.6,4210.4,4224.3,4257.9,4263.4,4289.8,4377.1,4383.5,4423.5,4529.6,4545.6,4576.1,4633.4,4666.3,4714.6,4723.8,4775.6,4811.6,4972.5,21147.0],\"xaxis\":\"x\",\"y\":[3124.909021126511,3124.8175258172714,3124.814574355683,3124.813963708458,3124.8092820797315,3124.802259636642,3124.775594707809,3124.7672491957314,3124.76277111608,3124.7606338507917,3124.7588019091163,3124.7522883387146,3124.745672993775,3124.743739277562,3124.7337653728837,3124.700993971799,3124.684913594869,3124.6828781041186,3124.6822674568934,3124.681046162443,3124.672598875828,3124.656111400748,3124.655806077136,3124.650310252109,3124.6436949071694,3124.6353493950924,3124.633924551567,3124.6255790394894,3124.625070166802,3124.625070166802,3124.619981439925,3124.6185565963997,3124.6103128588597,3124.589957951354,3124.5250257964094,3124.5230920801964,3124.5137288227434,3124.490931326337,3124.483705334172,3124.4780059600703,3124.448287795112,3124.441265352022,3124.3696160776008,3124.362390085436,3124.3044803735816,3124.2947100179786,3124.2381233751116,3124.1315654343175,3124.1201666861143,3124.1053076036346,3124.0771160567388,3124.0691776428116,3124.059101963596,3124.015644236071,3123.976969911809,3123.8699030983275,3123.8430346204195,3123.788788791916,3123.7756598765745,3123.7350518361,3123.6967846099883,3123.6305293860564,3123.4735930491847,3123.435631146686,3123.3115679854363,3123.2257720502985,3123.213966203945,3123.161755866192,3123.1497464707636,3123.143334674899,3123.1300022104824,3123.0969254857855,3123.0843054431316,3123.0679197425893,3123.067105546289,3123.059777779587,3123.0107224524972,3122.9756102370493,3122.965229234221,3122.9480293373786,3122.839843003984,3122.8209129400034,3122.770127445776,3122.5671890179406,3122.5660694980274,3122.555790269737,3122.5324839006425,3122.4209390075093,3122.3945794022893,3122.3791096725845,3122.3490861840132,3122.221359139413,3122.211792332885,3122.1484885705413,3122.147063727016,3122.11927927827,3122.090680633224,3122.0425412769723,3122.0403022371465,3122.013942631926,3122.0049864726234,3121.8925256086527,3121.8669801997326,3121.859957756643,3121.7686659964784,3121.7158450115003,3121.6990522128076,3121.6819540905026,3121.6548820635194,3121.473723386716,3121.470873699665,3121.446142487045,3121.4083841336214,3121.383245822851,3121.373984339936,3121.364213984333,3121.2943966515877,3121.2456466481103,3121.2299733693308,3121.2207118864158,3121.200255204372,3121.1957771247207,3121.1828517584545,3121.136340794803,3121.1091669932825,3121.0981753432293,3121.0840286825123,3121.0498324379023,3121.044234838338,3121.01736636043,3120.9285171891665,3120.9220036187644,3120.881293803752,3120.7733110194326,3120.757027093428,3120.725985859481,3120.6676690494764,3120.634185226629,3120.585028125002,3120.575664867549,3120.5229456571083,3120.4863068235977,3120.3225515927115,3103.8610290198853],\"yaxis\":\"y\",\"type\":\"scatter\"},{\"hovertemplate\":\"City=Illinois\\u003cbr\\u003eAutomobile_Sales=%{x}\\u003cbr\\u003eAdvertising_Expenditure=%{y}\\u003cextra\\u003e\\u003c\\u002fextra\\u003e\",\"legendgroup\":\"Illinois\",\"marker\":{\"color\":\"#00cc96\",\"symbol\":\"circle\"},\"mode\":\"markers\",\"name\":\"Illinois\",\"orientation\":\"v\",\"showlegend\":true,\"x\":[702.8,754.5,729.6,325.0,574.2,648.1,614.4,763.9,738.8,589.0,689.8,619.1,688.6,566.7,556.2,563.1,570.2,683.5,650.0,697.6,669.4,690.4,724.2,778.3,594.5,692.8,3240.4,4769.8,4686.4,1436.7,2514.0,4520.7,4041.6,2563.9,2445.3,3429.0,4702.3,1845.3,645.2,1260.0,860.8,1883.7,1038.0,2924.3,4050.1,4602.5,2791.5,3003.3,1408.2,3257.0,3537.0,1264.0,3244.6,2496.8,1522.2,4806.9,3638.1,2044.2,1181.8,1454.6,2408.3,1650.1,1671.8,4192.5,2700.4,2028.3,4060.1,2550.4,4341.5,2268.8,4440.8,2471.3,2187.8,585.1,3137.9,3525.9,3301.0,1413.1,3875.7,4577.8,3914.4,3197.6,1242.3,1940.4,3474.2,1719.6,3371.6,3189.4,3485.2,3923.9,2182.4,1628.0,1981.3,4532.1,846.4,3867.7,4355.0,2372.5,2147.2,1935.8,3451.3,720.8,4262.3,3296.8,3125.7,4943.6,3686.7,3196.2,2065.0,3720.9,3554.2,2203.5,1290.6,3613.5,3426.0,1769.5,3369.7,3676.7,3510.9,632.9,2925.9,3088.7,1777.1,4635.8,2426.3,4479.6,4972.7,681.2,845.4,4875.6,1565.7,1739.6,1201.5,1995.6],\"xaxis\":\"x\",\"y\":[1653,2573,2828,3026,2942,2673,2191,1320,2636,2943,4044,1950,4593,2865,3853,4507,1936,2625,4877,3687,2920,1799,1777,4462,1832,2622,4490,2118,1235,1333,2160,2855,4911,4850,2851,2314,1724,3898,1077,1615,4597,3847,2046,3192,2997,4687,1197,3601,4571,3275,3263,3891,2834,3116,4325,2865,1814,4040,4694,4051,4055,1126,4056,2013,4100,4533,4367,4368,3826,2636,2205,3708,1024,2879,2492,1688,1147,3523,2724,2383,3608,1326,3262,4389,3065,4246,1193,2701,1830,3806,3490,4300,4675,4054,3861,2523,1181,1822,3054,4744,3198,2571,2308,3747,3756,2939,4070,1470,2555,4297,4577,3901,2303,3761,3679,3106,1127,4953,4280,3599,4306,1441,3076,4180,4217,4088,1587,3074,2772,3040,4547,3681,1129,4363],\"yaxis\":\"y\",\"type\":\"scatter\"},{\"hovertemplate\":\"\\u003cb\\u003eOLS trendline\\u003c\\u002fb\\u003e\\u003cbr\\u003eAdvertising_Expenditure = -0.0243968 * Automobile_Sales + 3156.28\\u003cbr\\u003eR\\u003csup\\u003e2\\u003c\\u002fsup\\u003e=0.000930\\u003cbr\\u003e\\u003cbr\\u003eCity=Illinois\\u003cbr\\u003eAutomobile_Sales=%{x}\\u003cbr\\u003eAdvertising_Expenditure=%{y} \\u003cb\\u003e(trend)\\u003c\\u002fb\\u003e\\u003cextra\\u003e\\u003c\\u002fextra\\u003e\",\"legendgroup\":\"Illinois\",\"marker\":{\"color\":\"#00cc96\",\"symbol\":\"circle\"},\"mode\":\"lines\",\"name\":\"Illinois\",\"showlegend\":false,\"x\":[325.0,556.2,563.1,566.7,570.2,574.2,585.1,589.0,594.5,614.4,619.1,632.9,645.2,648.1,650.0,669.4,681.2,683.5,688.6,689.8,690.4,692.8,697.6,702.8,720.8,724.2,729.6,738.8,754.5,763.9,778.3,845.4,846.4,860.8,1038.0,1181.8,1201.5,1242.3,1260.0,1264.0,1290.6,1408.2,1413.1,1436.7,1454.6,1522.2,1565.7,1628.0,1650.1,1671.8,1719.6,1739.6,1769.5,1777.1,1845.3,1883.7,1935.8,1940.4,1981.3,1995.6,2028.3,2044.2,2065.0,2147.2,2182.4,2187.8,2203.5,2268.8,2372.5,2408.3,2426.3,2445.3,2471.3,2496.8,2514.0,2550.4,2563.9,2700.4,2791.5,2924.3,2925.9,3003.3,3088.7,3125.7,3137.9,3189.4,3196.2,3197.6,3240.4,3244.6,3257.0,3296.8,3301.0,3369.7,3371.6,3426.0,3429.0,3451.3,3474.2,3485.2,3510.9,3525.9,3537.0,3554.2,3613.5,3638.1,3676.7,3686.7,3720.9,3867.7,3875.7,3914.4,3923.9,4041.6,4050.1,4060.1,4192.5,4262.3,4341.5,4355.0,4440.8,4479.6,4520.7,4532.1,4577.8,4602.5,4635.8,4686.4,4702.3,4769.8,4806.9,4875.6,4943.6,4972.7],\"xaxis\":\"x\",\"y\":[3148.351053538024,3142.7105228321866,3142.5421851943397,3142.45435686155,3142.3689682046706,3142.2713811682374,3142.0054564939574,3141.910309133435,3141.7761269583393,3141.290631452084,3141.1759666842754,3140.8392914085807,3140.539211271549,3140.468460670135,3140.422106827829,3139.948809701128,3139.66092794365,3139.6048153977013,3139.480391926249,3139.451115815319,3139.436477759854,3139.377925537994,3139.2608210942744,3139.1339579469113,3138.6948162829617,3138.6118673019937,3138.480124802809,3138.2556746190126,3137.8726455010124,3137.6433159653943,3137.292002634235,3135.654980098069,3135.63058333896,3135.2792700078007,3130.9561642938115,3127.447910334039,3126.9672941796057,3125.9719064079873,3125.5400837717707,3125.4424967353375,3124.7935429430568,3121.9244840719216,3121.804939952291,3121.2291764373354,3120.792474449297,3119.143253533576,3118.081994512366,3116.562076419919,3116.0229080436256,3115.493498370976,3114.3273332855993,3113.8393981034337,3113.109935006096,3112.9245196368724,3111.2606606656873,3110.3238251159287,3109.0527539663867,3108.9405288744883,3107.9427014269595,3107.593827771711,3106.79605374887,3106.408145279048,3105.9006926895954,3103.895279090894,3103.036513170282,3102.904770671097,3102.521741553097,3100.9286331833255,3098.3986892637954,3097.5252852877184,3097.086143623769,3096.622605200712,3095.988289463896,3095.3661721066346,3094.946547849972,3094.05850581843,3093.729149570468,3090.3989919521864,3088.1764471974207,3084.9365575878396,3084.8975227732662,3083.0092136182843,3080.9257303904365,3080.0230503034295,3079.725409842308,3078.4689767482314,3078.303078786295,3078.2689233235433,3077.2247420337085,3077.1222756454536,3076.819755832511,3075.8487648200007,3075.746298431746,3074.0702410810063,3074.0238872387004,3072.6967035432094,3072.6235132658844,3072.0794655377695,3071.52077975419,3071.2524154039984,3070.6254186949154,3070.259467308291,3069.988663282189,3069.5690390255263,3068.1223112104044,3067.5221509363405,3066.5804360347606,3066.3364684436774,3065.5020992821737,3061.9206550450767,3061.7254809722103,3060.781326394719,3060.5495571831907,3057.6780586361447,3057.470686183724,3057.226718592641,3053.996587686703,3052.2936939009446,3050.3614705795676,3050.032114331606,3047.938872400114,3046.9922781467126,3045.9895713473616,3045.711448293527,3044.596516402278,3043.9939164523034,3043.181504373997,3041.9470283631176,3041.5591198932957,3039.912338653486,3039.0072188905683,3037.331161539829,3035.672181920465,3034.9622362304135],\"yaxis\":\"y\",\"type\":\"scatter\"},{\"hovertemplate\":\"City=California\\u003cbr\\u003eAutomobile_Sales=%{x}\\u003cbr\\u003eAdvertising_Expenditure=%{y}\\u003cextra\\u003e\\u003c\\u002fextra\\u003e\",\"legendgroup\":\"California\",\"marker\":{\"color\":\"#ab63fa\",\"symbol\":\"circle\"},\"mode\":\"markers\",\"name\":\"California\",\"orientation\":\"v\",\"showlegend\":true,\"x\":[770.4,705.6,763.0,574.3,657.1,752.9,677.6,762.0,617.3,552.3,574.7,676.1,659.1,619.4,723.0,724.1,591.9,604.8,670.6,651.0,731.4,759.5,572.7,639.1,663.6,773.3,668.0,633.8,214.0,3533.5,908.1,4120.2,2962.9,3141.2,832.0,1345.2,797.3,4661.6,1015.6,1702.7,3495.1,1831.1,2833.1,2290.5,1259.5,3737.0,3797.7,632.9,1619.7,1015.4,1636.6,3018.9,2948.0,2652.3,3035.7,3757.9,2924.7,1361.9,4463.9,2617.0,4113.3,1450.8,3424.6,3028.5,1973.0,1524.6,2103.3,852.9,2607.8,3754.8,571.6,842.9,3883.5,4110.9,2846.4,1170.6,1301.8,4498.7,3450.4,4493.1,2650.8,1619.5,1501.6,2433.1,4194.5,1395.1,3630.1,4163.9,4000.1,1380.9,3649.2,1699.7,4448.9,721.0,969.2,1997.3,4974.5,647.5,1577.5,3315.5,3152.2,1563.5,2889.3,4117.2,2565.8,1420.6,4726.3,3641.2,3652.3,4266.9,3135.6,778.7,923.2,4465.5,3472.2,1485.2,1024.5,3820.0,1819.3,2611.2,4307.9,824.8,863.2,2629.4,4865.5,3917.0,4842.0,1123.4,1685.9],\"xaxis\":\"x\",\"y\":[1319,1138,4939,3306,1901,1689,3039,3945,2619,3376,2254,1419,2120,4068,4482,3336,2658,3912,3122,4974,4281,1417,4335,3972,1054,4714,2481,3134,4700,3038,4677,2604,2969,2319,4236,4481,1131,2772,2065,2863,4762,1574,3712,2202,2900,4228,3094,1129,3674,2955,4354,3597,3070,4876,2863,4870,4449,4797,2430,2792,4476,2645,1566,4016,2332,1762,2202,1663,2990,2203,1062,3203,1966,1848,2107,4432,1341,2086,2792,2759,3482,3079,3717,3332,4090,2136,3161,4715,1312,2858,3006,4125,4310,4122,3538,1451,3516,3001,4156,4452,3862,1706,3308,1904,2890,2523,2387,4229,4430,4272,3657,1074,3175,2379,1040,3981,2700,4224,4045,1730,1167,1609,3969,1701,4067,2845,2386,1028,1148],\"yaxis\":\"y\",\"type\":\"scatter\"},{\"hovertemplate\":\"\\u003cb\\u003eOLS trendline\\u003c\\u002fb\\u003e\\u003cbr\\u003eAdvertising_Expenditure = 0.046275 * Automobile_Sales + 2905\\u003cbr\\u003eR\\u003csup\\u003e2\\u003c\\u002fsup\\u003e=0.003306\\u003cbr\\u003e\\u003cbr\\u003eCity=California\\u003cbr\\u003eAutomobile_Sales=%{x}\\u003cbr\\u003eAdvertising_Expenditure=%{y} \\u003cb\\u003e(trend)\\u003c\\u002fb\\u003e\\u003cextra\\u003e\\u003c\\u002fextra\\u003e\",\"legendgroup\":\"California\",\"marker\":{\"color\":\"#ab63fa\",\"symbol\":\"circle\"},\"mode\":\"lines\",\"name\":\"California\",\"showlegend\":false,\"x\":[214.0,552.3,571.6,572.7,574.3,574.7,591.9,604.8,617.3,619.4,632.9,633.8,639.1,647.5,651.0,657.1,659.1,663.6,668.0,670.6,676.1,677.6,705.6,721.0,723.0,724.1,731.4,752.9,759.5,762.0,763.0,770.4,773.3,778.7,797.3,824.8,832.0,842.9,852.9,863.2,908.1,923.2,969.2,1015.4,1015.6,1024.5,1123.4,1170.6,1259.5,1301.8,1345.2,1361.9,1380.9,1395.1,1420.6,1450.8,1485.2,1501.6,1524.6,1563.5,1577.5,1619.5,1619.7,1636.6,1685.9,1699.7,1702.7,1819.3,1831.1,1973.0,1997.3,2103.3,2290.5,2433.1,2565.8,2607.8,2611.2,2617.0,2629.4,2650.8,2652.3,2833.1,2846.4,2889.3,2924.7,2948.0,2962.9,3018.9,3028.5,3035.7,3135.6,3141.2,3152.2,3315.5,3424.6,3450.4,3472.2,3495.1,3533.5,3630.1,3641.2,3649.2,3652.3,3737.0,3754.8,3757.9,3797.7,3820.0,3883.5,3917.0,4000.1,4110.9,4113.3,4117.2,4120.2,4163.9,4194.5,4266.9,4307.9,4448.9,4463.9,4465.5,4493.1,4498.7,4661.6,4726.3,4842.0,4865.5,4974.5],\"xaxis\":\"x\",\"y\":[2914.9077886271143,2930.5626302856194,2931.4557383081114,2931.506640837891,2931.5806808812063,2931.599190892035,2932.395121357676,2932.9920692069068,2933.5705070453087,2933.66768460216,2934.2923974676337,2934.334044991999,2934.579302635481,2934.968012862887,2935.1299754576394,2935.4122531227795,2935.504803176924,2935.7130407987484,2935.916650917866,2936.0369659882535,2936.2914786371502,2936.3608911777583,2937.6565919357786,2938.3692273526894,2938.461777406834,2938.512679936613,2938.8504876342395,2939.8454007162904,2940.150815894967,2940.266503462647,2940.312778489719,2940.655213690053,2940.789411268562,2941.039296414752,2941.900011918294,2943.1725751627773,2943.505755357697,2944.0101531527835,2944.4729034235047,2944.9495362023476,2947.027284917887,2947.726037826676,2949.8546890719945,2951.9925953227275,2952.0018503281417,2952.4136980690837,2956.9902982465187,2959.1744795243235,2963.288329431037,2965.2457630761883,2967.2540992511194,2968.026892203224,2968.9061177175945,2969.563223102019,2970.7432362923587,2972.140742109937,2973.7326030412187,2974.491513485202,2975.555839107861,2977.3559376609674,2978.0037880399773,2979.9473391770075,2979.9565941824217,2980.738642139941,2983.020000974597,2983.658596348193,2983.7974214294095,2989.193089586021,2989.739134905472,2996.305561247009,2997.4300444048617,3002.3351972745086,3010.9978823424135,3017.5967012029005,3023.7373972953737,3025.6809484324035,3025.838283524449,3026.106678681467,3026.6804890171616,3027.6707745965055,3027.7401871371135,3036.1067120317566,3036.722169891816,3038.707368553211,3040.3455045115647,3041.4237126423454,3042.1132105457204,3044.70461206176,3045.1488523216526,3045.482032516572,3050.104907721079,3050.364047872683,3050.8730731704763,3058.429785091357,3063.4783905449276,3064.6722862433885,3065.681081833561,3066.7407799535135,3068.5177409930834,3072.9879086082524,3073.501561408753,3073.8717616253302,3074.015214209254,3077.934709002264,3078.7584044841483,3078.901857068072,3080.743603145543,3081.7755362492517,3084.7140004683324,3086.2642138752494,3090.1096686249443,3095.2369416245374,3095.3480016895105,3095.5284742950917,3095.667299376308,3097.6895180593606,3099.105533887768,3102.4558458477914,3104.353121957749,3110.877900774921,3111.572026181003,3111.646066224318,3112.923256971509,3113.1823971231133,3120.720599033165,3123.7145932847325,3129.068613916979,3130.156077053174,3135.2000550040375],\"yaxis\":\"y\",\"type\":\"scatter\"}],                        {\"template\":{\"data\":{\"histogram2dcontour\":[{\"type\":\"histogram2dcontour\",\"colorbar\":{\"outlinewidth\":0,\"ticks\":\"\"},\"colorscale\":[[0.0,\"#0d0887\"],[0.1111111111111111,\"#46039f\"],[0.2222222222222222,\"#7201a8\"],[0.3333333333333333,\"#9c179e\"],[0.4444444444444444,\"#bd3786\"],[0.5555555555555556,\"#d8576b\"],[0.6666666666666666,\"#ed7953\"],[0.7777777777777778,\"#fb9f3a\"],[0.8888888888888888,\"#fdca26\"],[1.0,\"#f0f921\"]]}],\"choropleth\":[{\"type\":\"choropleth\",\"colorbar\":{\"outlinewidth\":0,\"ticks\":\"\"}}],\"histogram2d\":[{\"type\":\"histogram2d\",\"colorbar\":{\"outlinewidth\":0,\"ticks\":\"\"},\"colorscale\":[[0.0,\"#0d0887\"],[0.1111111111111111,\"#46039f\"],[0.2222222222222222,\"#7201a8\"],[0.3333333333333333,\"#9c179e\"],[0.4444444444444444,\"#bd3786\"],[0.5555555555555556,\"#d8576b\"],[0.6666666666666666,\"#ed7953\"],[0.7777777777777778,\"#fb9f3a\"],[0.8888888888888888,\"#fdca26\"],[1.0,\"#f0f921\"]]}],\"heatmap\":[{\"type\":\"heatmap\",\"colorbar\":{\"outlinewidth\":0,\"ticks\":\"\"},\"colorscale\":[[0.0,\"#0d0887\"],[0.1111111111111111,\"#46039f\"],[0.2222222222222222,\"#7201a8\"],[0.3333333333333333,\"#9c179e\"],[0.4444444444444444,\"#bd3786\"],[0.5555555555555556,\"#d8576b\"],[0.6666666666666666,\"#ed7953\"],[0.7777777777777778,\"#fb9f3a\"],[0.8888888888888888,\"#fdca26\"],[1.0,\"#f0f921\"]]}],\"heatmapgl\":[{\"type\":\"heatmapgl\",\"colorbar\":{\"outlinewidth\":0,\"ticks\":\"\"},\"colorscale\":[[0.0,\"#0d0887\"],[0.1111111111111111,\"#46039f\"],[0.2222222222222222,\"#7201a8\"],[0.3333333333333333,\"#9c179e\"],[0.4444444444444444,\"#bd3786\"],[0.5555555555555556,\"#d8576b\"],[0.6666666666666666,\"#ed7953\"],[0.7777777777777778,\"#fb9f3a\"],[0.8888888888888888,\"#fdca26\"],[1.0,\"#f0f921\"]]}],\"contourcarpet\":[{\"type\":\"contourcarpet\",\"colorbar\":{\"outlinewidth\":0,\"ticks\":\"\"}}],\"contour\":[{\"type\":\"contour\",\"colorbar\":{\"outlinewidth\":0,\"ticks\":\"\"},\"colorscale\":[[0.0,\"#0d0887\"],[0.1111111111111111,\"#46039f\"],[0.2222222222222222,\"#7201a8\"],[0.3333333333333333,\"#9c179e\"],[0.4444444444444444,\"#bd3786\"],[0.5555555555555556,\"#d8576b\"],[0.6666666666666666,\"#ed7953\"],[0.7777777777777778,\"#fb9f3a\"],[0.8888888888888888,\"#fdca26\"],[1.0,\"#f0f921\"]]}],\"surface\":[{\"type\":\"surface\",\"colorbar\":{\"outlinewidth\":0,\"ticks\":\"\"},\"colorscale\":[[0.0,\"#0d0887\"],[0.1111111111111111,\"#46039f\"],[0.2222222222222222,\"#7201a8\"],[0.3333333333333333,\"#9c179e\"],[0.4444444444444444,\"#bd3786\"],[0.5555555555555556,\"#d8576b\"],[0.6666666666666666,\"#ed7953\"],[0.7777777777777778,\"#fb9f3a\"],[0.8888888888888888,\"#fdca26\"],[1.0,\"#f0f921\"]]}],\"mesh3d\":[{\"type\":\"mesh3d\",\"colorbar\":{\"outlinewidth\":0,\"ticks\":\"\"}}],\"scatter\":[{\"fillpattern\":{\"fillmode\":\"overlay\",\"size\":10,\"solidity\":0.2},\"type\":\"scatter\"}],\"parcoords\":[{\"type\":\"parcoords\",\"line\":{\"colorbar\":{\"outlinewidth\":0,\"ticks\":\"\"}}}],\"scatterpolargl\":[{\"type\":\"scatterpolargl\",\"marker\":{\"colorbar\":{\"outlinewidth\":0,\"ticks\":\"\"}}}],\"bar\":[{\"error_x\":{\"color\":\"#2a3f5f\"},\"error_y\":{\"color\":\"#2a3f5f\"},\"marker\":{\"line\":{\"color\":\"#E5ECF6\",\"width\":0.5},\"pattern\":{\"fillmode\":\"overlay\",\"size\":10,\"solidity\":0.2}},\"type\":\"bar\"}],\"scattergeo\":[{\"type\":\"scattergeo\",\"marker\":{\"colorbar\":{\"outlinewidth\":0,\"ticks\":\"\"}}}],\"scatterpolar\":[{\"type\":\"scatterpolar\",\"marker\":{\"colorbar\":{\"outlinewidth\":0,\"ticks\":\"\"}}}],\"histogram\":[{\"marker\":{\"pattern\":{\"fillmode\":\"overlay\",\"size\":10,\"solidity\":0.2}},\"type\":\"histogram\"}],\"scattergl\":[{\"type\":\"scattergl\",\"marker\":{\"colorbar\":{\"outlinewidth\":0,\"ticks\":\"\"}}}],\"scatter3d\":[{\"type\":\"scatter3d\",\"line\":{\"colorbar\":{\"outlinewidth\":0,\"ticks\":\"\"}},\"marker\":{\"colorbar\":{\"outlinewidth\":0,\"ticks\":\"\"}}}],\"scattermapbox\":[{\"type\":\"scattermapbox\",\"marker\":{\"colorbar\":{\"outlinewidth\":0,\"ticks\":\"\"}}}],\"scatterternary\":[{\"type\":\"scatterternary\",\"marker\":{\"colorbar\":{\"outlinewidth\":0,\"ticks\":\"\"}}}],\"scattercarpet\":[{\"type\":\"scattercarpet\",\"marker\":{\"colorbar\":{\"outlinewidth\":0,\"ticks\":\"\"}}}],\"carpet\":[{\"aaxis\":{\"endlinecolor\":\"#2a3f5f\",\"gridcolor\":\"white\",\"linecolor\":\"white\",\"minorgridcolor\":\"white\",\"startlinecolor\":\"#2a3f5f\"},\"baxis\":{\"endlinecolor\":\"#2a3f5f\",\"gridcolor\":\"white\",\"linecolor\":\"white\",\"minorgridcolor\":\"white\",\"startlinecolor\":\"#2a3f5f\"},\"type\":\"carpet\"}],\"table\":[{\"cells\":{\"fill\":{\"color\":\"#EBF0F8\"},\"line\":{\"color\":\"white\"}},\"header\":{\"fill\":{\"color\":\"#C8D4E3\"},\"line\":{\"color\":\"white\"}},\"type\":\"table\"}],\"barpolar\":[{\"marker\":{\"line\":{\"color\":\"#E5ECF6\",\"width\":0.5},\"pattern\":{\"fillmode\":\"overlay\",\"size\":10,\"solidity\":0.2}},\"type\":\"barpolar\"}],\"pie\":[{\"automargin\":true,\"type\":\"pie\"}]},\"layout\":{\"autotypenumbers\":\"strict\",\"colorway\":[\"#636efa\",\"#EF553B\",\"#00cc96\",\"#ab63fa\",\"#FFA15A\",\"#19d3f3\",\"#FF6692\",\"#B6E880\",\"#FF97FF\",\"#FECB52\"],\"font\":{\"color\":\"#2a3f5f\"},\"hovermode\":\"closest\",\"hoverlabel\":{\"align\":\"left\"},\"paper_bgcolor\":\"white\",\"plot_bgcolor\":\"#E5ECF6\",\"polar\":{\"bgcolor\":\"#E5ECF6\",\"angularaxis\":{\"gridcolor\":\"white\",\"linecolor\":\"white\",\"ticks\":\"\"},\"radialaxis\":{\"gridcolor\":\"white\",\"linecolor\":\"white\",\"ticks\":\"\"}},\"ternary\":{\"bgcolor\":\"#E5ECF6\",\"aaxis\":{\"gridcolor\":\"white\",\"linecolor\":\"white\",\"ticks\":\"\"},\"baxis\":{\"gridcolor\":\"white\",\"linecolor\":\"white\",\"ticks\":\"\"},\"caxis\":{\"gridcolor\":\"white\",\"linecolor\":\"white\",\"ticks\":\"\"}},\"coloraxis\":{\"colorbar\":{\"outlinewidth\":0,\"ticks\":\"\"}},\"colorscale\":{\"sequential\":[[0.0,\"#0d0887\"],[0.1111111111111111,\"#46039f\"],[0.2222222222222222,\"#7201a8\"],[0.3333333333333333,\"#9c179e\"],[0.4444444444444444,\"#bd3786\"],[0.5555555555555556,\"#d8576b\"],[0.6666666666666666,\"#ed7953\"],[0.7777777777777778,\"#fb9f3a\"],[0.8888888888888888,\"#fdca26\"],[1.0,\"#f0f921\"]],\"sequentialminus\":[[0.0,\"#0d0887\"],[0.1111111111111111,\"#46039f\"],[0.2222222222222222,\"#7201a8\"],[0.3333333333333333,\"#9c179e\"],[0.4444444444444444,\"#bd3786\"],[0.5555555555555556,\"#d8576b\"],[0.6666666666666666,\"#ed7953\"],[0.7777777777777778,\"#fb9f3a\"],[0.8888888888888888,\"#fdca26\"],[1.0,\"#f0f921\"]],\"diverging\":[[0,\"#8e0152\"],[0.1,\"#c51b7d\"],[0.2,\"#de77ae\"],[0.3,\"#f1b6da\"],[0.4,\"#fde0ef\"],[0.5,\"#f7f7f7\"],[0.6,\"#e6f5d0\"],[0.7,\"#b8e186\"],[0.8,\"#7fbc41\"],[0.9,\"#4d9221\"],[1,\"#276419\"]]},\"xaxis\":{\"gridcolor\":\"white\",\"linecolor\":\"white\",\"ticks\":\"\",\"title\":{\"standoff\":15},\"zerolinecolor\":\"white\",\"automargin\":true,\"zerolinewidth\":2},\"yaxis\":{\"gridcolor\":\"white\",\"linecolor\":\"white\",\"ticks\":\"\",\"title\":{\"standoff\":15},\"zerolinecolor\":\"white\",\"automargin\":true,\"zerolinewidth\":2},\"scene\":{\"xaxis\":{\"backgroundcolor\":\"#E5ECF6\",\"gridcolor\":\"white\",\"linecolor\":\"white\",\"showbackground\":true,\"ticks\":\"\",\"zerolinecolor\":\"white\",\"gridwidth\":2},\"yaxis\":{\"backgroundcolor\":\"#E5ECF6\",\"gridcolor\":\"white\",\"linecolor\":\"white\",\"showbackground\":true,\"ticks\":\"\",\"zerolinecolor\":\"white\",\"gridwidth\":2},\"zaxis\":{\"backgroundcolor\":\"#E5ECF6\",\"gridcolor\":\"white\",\"linecolor\":\"white\",\"showbackground\":true,\"ticks\":\"\",\"zerolinecolor\":\"white\",\"gridwidth\":2}},\"shapedefaults\":{\"line\":{\"color\":\"#2a3f5f\"}},\"annotationdefaults\":{\"arrowcolor\":\"#2a3f5f\",\"arrowhead\":0,\"arrowwidth\":1},\"geo\":{\"bgcolor\":\"white\",\"landcolor\":\"#E5ECF6\",\"subunitcolor\":\"white\",\"showland\":true,\"showlakes\":true,\"lakecolor\":\"white\"},\"title\":{\"x\":0.05},\"mapbox\":{\"style\":\"light\"}}},\"xaxis\":{\"anchor\":\"y\",\"domain\":[0.0,1.0],\"title\":{\"text\":\"Automobile_Sales\"}},\"yaxis\":{\"anchor\":\"x\",\"domain\":[0.0,1.0],\"title\":{\"text\":\"Advertising_Expenditure\"}},\"legend\":{\"title\":{\"text\":\"City\"},\"tracegroupgap\":0},\"title\":{\"text\":\"Automobile_Sales vs Advertising_Expenditure\",\"x\":0.5}},                        {\"responsive\": true}                    ).then(function(){\n",
       "                            \n",
       "var gd = document.getElementById('6e9d4926-1888-44d2-be39-9530161dd1fa');\n",
       "var x = new MutationObserver(function (mutations, observer) {{\n",
       "        var display = window.getComputedStyle(gd).display;\n",
       "        if (!display || display === 'none') {{\n",
       "            console.log([gd, 'removed!']);\n",
       "            Plotly.purge(gd);\n",
       "            observer.disconnect();\n",
       "        }}\n",
       "}});\n",
       "\n",
       "// Listen for the removal of the full notebook cells\n",
       "var notebookContainer = gd.closest('#notebook-container');\n",
       "if (notebookContainer) {{\n",
       "    x.observe(notebookContainer, {childList: true});\n",
       "}}\n",
       "\n",
       "// Listen for the clearing of the current output cell\n",
       "var outputEl = gd.closest('.output');\n",
       "if (outputEl) {{\n",
       "    x.observe(outputEl, {childList: true});\n",
       "}}\n",
       "\n",
       "                        })                };                });            </script>        </div>"
      ]
     },
     "metadata": {},
     "output_type": "display_data"
    }
   ],
   "source": [
    "fig4 =px.scatter(df,\n",
    "              x=\"Automobile_Sales\",\n",
    "              y=\"Advertising_Expenditure\",\n",
    "              title=\"Automobile_Sales vs Advertising_Expenditure\",\n",
    "                trendline=\"ols\", \n",
    "                 color=\"City\"\n",
    "                )\n",
    "fig4.update_layout(title_x=0.5)\n",
    "fig4.show()"
   ]
  },
  {
   "cell_type": "code",
   "execution_count": 31,
   "id": "fc2f6466-fb76-4087-883d-0075b2b61c0c",
   "metadata": {},
   "outputs": [
    {
     "data": {
      "application/vnd.plotly.v1+json": {
       "config": {
        "plotlyServerURL": "https://plot.ly"
       },
       "data": [
        {
         "hovertemplate": "Price=%{x}<br>Automobile_Sales=%{y}<extra></extra>",
         "legendgroup": "",
         "line": {
          "color": "#636efa",
          "dash": "solid"
         },
         "marker": {
          "symbol": "circle"
         },
         "mode": "lines+markers",
         "name": "",
         "orientation": "v",
         "showlegend": false,
         "type": "scatter",
         "x": [
          8793.663,
          11901.274,
          13490.394,
          14380.521,
          14662.789,
          14803.839,
          14874.287,
          15062.155,
          15201.649,
          15239.561,
          15406.144,
          15433.599,
          15663.674,
          15975.589,
          16184.799,
          16206.303,
          16375.411,
          16434.327,
          16483.088,
          16652.974,
          16862.288,
          16936.421,
          16962.584,
          16967.768,
          17027.862,
          17246.683,
          17329.429,
          17403.15,
          17424.045,
          17425.764,
          17607.39,
          17682.425,
          17759.578,
          17820.689,
          17849.293,
          17876.259,
          17888.731,
          17923.146,
          17938.481,
          17962.681,
          17990.745,
          18007.162,
          18086.001,
          18099.493,
          18111.653,
          18359.07,
          18397.717,
          18398.834,
          18477.652,
          18695.58,
          18761.084,
          18771.306,
          18810.923,
          18815.246,
          18845.678,
          18895.782,
          18929.057,
          18998.518,
          19010.611,
          19018.967,
          19043.483,
          19083.707,
          19156.61,
          19245.032,
          19285.149,
          19376.79,
          19468.325,
          19592.26,
          19611.276,
          19645.538,
          19661.898,
          19688.481,
          19703.932,
          19711.445,
          19813.769,
          19823.788,
          19878.062,
          19935.844,
          19969.913,
          19987.353,
          20047.318,
          20071.37,
          20092.457,
          20112.224,
          20126.592,
          20175.383,
          20222.298,
          20300.601,
          20310.875,
          20365.348,
          20402.879,
          20453.063,
          20459.88,
          20462.182,
          20507.927,
          20513.728,
          20552.428,
          20580.713,
          20621.909,
          20680.046,
          20693.579,
          20714.212,
          20766.031,
          20801.391,
          20803.912,
          20845.249,
          20855.025,
          20863.845,
          20872.514,
          20888.898,
          20896.588,
          20908.897,
          20920.949,
          20957.532,
          20958.509,
          20988.614,
          21035.636,
          21037.396,
          21083.734,
          21134.951,
          21135.874,
          21163.262,
          21183.704,
          21204.337,
          21218.246,
          21231.319,
          21257.567,
          21348.167,
          21400.779,
          21407.779,
          21423.481,
          21428.243,
          21461.653,
          21489.735,
          21501.372,
          21535.452,
          21599.876,
          21614.191,
          21615.39,
          21686.881,
          21691.068,
          21733.354,
          21741.998,
          21746.787,
          21767.136,
          21774.401,
          21886.502,
          21991.467,
          21996.807,
          21998.916,
          22003.037,
          22003.125,
          22038.03,
          22042.143,
          22053.176,
          22115.482,
          22116.143,
          22120.909,
          22168.511,
          22181.377,
          22188.562,
          22199.095,
          22231.753,
          22278.086,
          22347.494,
          22348.712,
          22351.199,
          22371.225,
          22408.649,
          22430.665,
          22465.284,
          22482.622,
          22491.215,
          22534.995,
          22564.373,
          22573.182,
          22578.83,
          22604.129,
          22625.273,
          22640.341,
          22644.808,
          22652.628,
          22654.122,
          22671.351,
          22682.912,
          22696.806,
          22749.673,
          22767.425,
          22799.778,
          22896.773,
          22993.898,
          23039.459,
          23073.432,
          23074.589,
          23286.427,
          23327.494,
          23361.689,
          23389.692,
          23393.071,
          23423.654,
          23448.666,
          23453.938,
          23494.482,
          23504.963,
          23541.531,
          23556.707,
          23624.742,
          23652.966,
          23676.716,
          23737.159,
          23754.82,
          23755.179,
          23773.059,
          23805.26,
          23815.907,
          23827.064,
          23829.233,
          23829.315,
          23871.118,
          23882.686,
          23895.152,
          23901.641,
          23911.594,
          23932.764,
          23959.389,
          23989.037,
          24038.195,
          24048.307,
          24071.705,
          24193.571,
          24200.307,
          24241.075,
          24264.713,
          24288.103,
          24308.678,
          24349.285,
          24360.412,
          24421.759,
          24426.318,
          24427.301,
          24438.36,
          24456.199,
          24464.848,
          24554.4,
          24614.491,
          24627.77,
          24635.855,
          24639.949,
          24686.605,
          24702.373,
          24722.262,
          24748.809,
          24820.87,
          24826.441,
          24836.526,
          24867.431,
          24895.492,
          24904.919,
          24907.434,
          24932.514,
          24938.766,
          24960.137,
          25025.567,
          25026.218,
          25051.165,
          25062.962,
          25065.009,
          25105.019,
          25122.551,
          25176.318,
          25227.859,
          25234.903,
          25240.425,
          25242.608,
          25291.044,
          25301.151,
          25321.4,
          25337.592,
          25337.641,
          25342.815,
          25349.01,
          25370.474,
          25379.023,
          25386.842,
          25409.371,
          25435.235,
          25458.804,
          25484.98,
          25485.388,
          25488.38,
          25496.662,
          25498.257,
          25554.613,
          25567.587,
          25578.373,
          25586.637,
          25601.478,
          25653.703,
          25751.969,
          25768.626,
          25856.841,
          25865.905,
          25872.889,
          25916.71,
          25923.169,
          25932.272,
          25984.306,
          25995.298,
          26017.318,
          26044.318,
          26069.9,
          26070.469,
          26082.293,
          26120.462,
          26137.3,
          26160.25,
          26161.268,
          26209.811,
          26218.436,
          26224.833,
          26252.464,
          26287.752,
          26299.414,
          26305.276,
          26352.284,
          26383.454,
          26404.959,
          26465.362,
          26480.601,
          26484.923,
          26507.737,
          26536.498,
          26554.538,
          26556.251,
          26571.237,
          26613.593,
          26620.42,
          26620.832,
          26643.756,
          26656.317,
          26661.57,
          26705.76,
          26708.78,
          26718.091,
          26732.241,
          26785.077,
          26785.563,
          26788.937,
          26806.978,
          26808.18,
          26832.991,
          26878.49,
          26920.327,
          26926.587,
          27008.559,
          27020.254,
          27024.909,
          27063.905,
          27064.657,
          27219.097,
          27310.517,
          27366.188,
          27367.962,
          27369.165,
          27412.362,
          27459.596,
          27483.571,
          27489.991,
          27504.586,
          27520.233,
          27524.936,
          27566.337,
          27568.93,
          27572.194,
          27575.176,
          27575.238,
          27596.733,
          27609.708,
          27694.55,
          27712.8,
          27716.801,
          27735.487,
          27803.923,
          27814.846,
          27852.993,
          27854.453,
          27882.785,
          27934.285,
          27941.586,
          27975.785,
          28051.851,
          28058.381,
          28070.834,
          28114.25,
          28120.599,
          28128.337,
          28141.728,
          28148.144,
          28169.595,
          28226.88,
          28238.443,
          28256.956,
          28282.768,
          28310.653,
          28348.363,
          28397.989,
          28409.765,
          28430.257,
          28431.301,
          28450.72,
          28558.074,
          28570.002,
          28587.711,
          28692.333,
          28736.468,
          28756.936,
          28759.665,
          28776.956,
          28787.539,
          28794.846,
          28837.174,
          28873.17,
          28909.114,
          28935.423,
          28955.16,
          28958.313,
          29062.629,
          29064.311,
          29067.548,
          29067.586,
          29109.513,
          29110.301,
          29112.725,
          29127.082,
          29135.916,
          29248.01,
          29262.167,
          29281.994,
          29288.298,
          29328.776,
          29361.603,
          29408.199,
          29497.999,
          29577.011,
          29589.31,
          29630.888,
          29656.401,
          29752.119,
          29770.009,
          29775.712,
          29796.354,
          29816.881,
          29843.225,
          29857.855,
          29875.599,
          29877.726,
          30017.664,
          30154.998,
          30162.326,
          30269.01,
          30285.611,
          30292.122,
          30415.256,
          30444.753,
          30493.884,
          30597.875,
          30677.828,
          30714.114,
          30790.554,
          30792.978,
          30815.819,
          30896.486,
          30897.201,
          31189.082,
          31334.556,
          31388.324,
          31388.384,
          31527.394,
          31535.714,
          31769.362,
          31781.2,
          31834.371,
          31843.158,
          32013.972,
          32206.366,
          32255.718,
          32267.67,
          32328.244,
          32376.781,
          32389.47,
          32399.721,
          32511.785,
          32615.149,
          32615.62,
          32663.695,
          32690.183,
          32749.672,
          32755.76,
          32823.218,
          32896.064,
          32930.084,
          33143.078,
          33162.057,
          33224.839,
          33435.708,
          33776.704,
          33827.271,
          34157.294,
          34261.391,
          34328.873,
          34380.854,
          34430.93,
          34483.965,
          34547.083,
          34823.626,
          35303.74,
          35461.936,
          35610.781,
          35665.167,
          35719.72,
          35765.912,
          35949.015,
          35952.278,
          36573.293,
          37316.211,
          38600.846,
          40394.404,
          44263.657
         ],
         "xaxis": "x",
         "y": [
          653.1,
          645.2,
          2122.8,
          4296.7,
          3613.5,
          4117.2,
          876.8,
          4661.6,
          3799.1,
          842.9,
          4436.2,
          574.3,
          4341.5,
          1685.9,
          3844.2,
          4901.2,
          654,
          1125.2,
          2203.5,
          4090,
          2124.6,
          2617,
          604.8,
          4479.6,
          3060.1,
          689.8,
          3319.4,
          683.5,
          778.7,
          2910.7,
          4199.6,
          1922.6,
          724.2,
          852.9,
          604.3,
          762,
          1819.3,
          3663.4,
          779.5,
          668,
          714.8,
          4172.9,
          2035.6,
          3554.2,
          854.4,
          3533.5,
          804.6,
          4974.5,
          3426,
          195,
          688.2,
          2044.2,
          3977,
          783.9,
          759.5,
          744.6,
          1754.6,
          671.6,
          4266.9,
          2861,
          3797.7,
          3429.9,
          3551.6,
          751.4,
          1454.6,
          3047.8,
          2563.9,
          4972.7,
          4549.2,
          3638.1,
          3315.5,
          619.1,
          1343.8,
          720.2,
          2611.2,
          3253.2,
          691.9,
          752.9,
          4080.9,
          613.6,
          605.3,
          3510.9,
          3754.8,
          4842,
          1264,
          2889.3,
          4377.1,
          3369.7,
          2652.3,
          690.7,
          559.4,
          754.8,
          638.2,
          1291.2,
          4127.2,
          1743.8,
          3244.6,
          1463.1,
          824.8,
          863.2,
          4529.6,
          2948,
          3349.6,
          4968,
          2936.6,
          1565.7,
          4577.8,
          594.5,
          1722.2,
          572.7,
          1283.4,
          4194.5,
          1636.6,
          1702.7,
          4545.6,
          1913.7,
          632.9,
          4972.5,
          750,
          697.4,
          2700.4,
          1981.3,
          1123.4,
          3106.8,
          3820,
          2851.8,
          3125.7,
          4440.8,
          4686.4,
          698.3,
          1450.8,
          1281.4,
          623.1,
          3587.9,
          2925.9,
          3841.4,
          3627.1,
          3630.1,
          851.8,
          1876.4,
          4114.5,
          690,
          4843.3,
          4709.8,
          4109.3,
          4702.3,
          3883.5,
          738.8,
          763.9,
          585.1,
          4210.4,
          1935.8,
          2258.9,
          1242.3,
          1170.6,
          3867.7,
          1201.5,
          3135.6,
          550.9,
          669.4,
          657.1,
          3914.4,
          3652.3,
          466,
          4635.8,
          1301.1,
          1883.7,
          1652.9,
          3455,
          3207.1,
          702.6,
          619.4,
          1255.7,
          2846.4,
          925.6,
          4060.1,
          670.6,
          3505.1,
          745,
          883.9,
          773.3,
          705.6,
          2372.5,
          745,
          763,
          2962.9,
          611.8,
          1060,
          1524.6,
          4224.3,
          2182.4,
          1831.1,
          1513.4,
          2514,
          4050.1,
          563.1,
          1038,
          706.3,
          3485.2,
          4192.5,
          2797.8,
          1740.9,
          4120.2,
          797.3,
          726.7,
          626.5,
          3178.4,
          3720.9,
          3018.9,
          697.6,
          923.2,
          3196.2,
          1534.6,
          996,
          2028.3,
          2131.5,
          770.4,
          754.5,
          648.1,
          1309.8,
          1229.9,
          1015.6,
          1750.2,
          564.8,
          4110.9,
          3726.7,
          2780.4,
          4307.9,
          4041.6,
          4602.5,
          558.8,
          3949,
          3189.4,
          3930.3,
          555.9,
          889.5,
          1485.2,
          426.5,
          3028.5,
          2147.2,
          2331.2,
          1380.9,
          4004.9,
          3641.2,
          2496.8,
          4723.8,
          4410.5,
          2445.3,
          3676.7,
          759.5,
          4726.3,
          1739.6,
          1845.3,
          4358.6,
          2768.1,
          1003.1,
          4493.1,
          581.2,
          778.3,
          776.2,
          1987.9,
          597.1,
          2924.3,
          3451.3,
          2607.8,
          686.2,
          4806.9,
          2433.1,
          4448.9,
          4811.6,
          2951.8,
          1577.5,
          3538.5,
          1483.3,
          4522.1,
          2290.5,
          4113.3,
          3686.7,
          558,
          723,
          3483.9,
          2565.8,
          1395.1,
          681.2,
          2550.4,
          2778.2,
          2727,
          3636.8,
          4460.1,
          1699.7,
          2499.1,
          659.1,
          614.4,
          2695.5,
          3905.6,
          3116.2,
          720.8,
          2103.3,
          846.4,
          2286.7,
          4769.8,
          1181.8,
          2120.6,
          4488.6,
          736.3,
          2214,
          3240.4,
          3692.8,
          1024.5,
          589,
          2715.5,
          1068,
          2275.8,
          2466.3,
          591.9,
          690.4,
          1566.7,
          325,
          639.1,
          663.6,
          3537,
          2791.5,
          556.2,
          2833.1,
          2629.4,
          1587.2,
          4017.6,
          1069.6,
          1657.1,
          1259.5,
          1408.2,
          1413.1,
          608.3,
          4456.9,
          677.6,
          662.2,
          3822.1,
          1381.8,
          860.8,
          2182.8,
          3152.2,
          2283,
          969.2,
          3284.7,
          1343.3,
          3301,
          3939.8,
          2801.1,
          832,
          3429,
          1241.1,
          617.3,
          1290.6,
          3618.7,
          940.2,
          4775.6,
          570.2,
          1619.7,
          4163.9,
          651,
          3461.9,
          2375.9,
          724.1,
          3737,
          21147,
          4355,
          456,
          1628,
          3917,
          4263.4,
          1973,
          3495.1,
          1650.1,
          4262.3,
          3035.7,
          3603.5,
          4000.1,
          3257,
          4866.9,
          609.7,
          1995.6,
          2650.8,
          2408.3,
          4330.8,
          1579.6,
          592.3,
          3240.6,
          676.1,
          3137.9,
          2246.5,
          3450.4,
          2194.6,
          3088.7,
          3939.4,
          4714.6,
          2451.2,
          3371.6,
          3875.7,
          3424.6,
          4670.6,
          620,
          4257.9,
          2832.8,
          571.6,
          1769.5,
          845.2,
          4576.1,
          1487,
          4463.9,
          3649.2,
          3296.8,
          2767,
          3179.8,
          908.1,
          3197.6,
          1783.1,
          4358.3,
          4865.5,
          1777.1,
          4289.8,
          734.9,
          731.4,
          686.1,
          918.7,
          3868.5,
          1719.6,
          3336.3,
          4498.7,
          1619.5,
          688.6,
          1345.2,
          2119.9,
          102,
          1940.4,
          1522.2,
          3525.9,
          2471.3,
          3235.2,
          660,
          750.8,
          4532.1,
          214,
          1301.8,
          1260,
          706.6,
          845.4,
          3141.2,
          1997.3,
          2924.7,
          2567.6,
          721,
          4500.7,
          4160.3,
          4666.3,
          1518.4,
          4520.7,
          2511.6,
          4633.4,
          756.3,
          4065.5,
          1436.7,
          4965.6,
          628.4,
          2268.8,
          1445.4,
          3472.2,
          3757.9,
          4265.8,
          3620,
          632.9,
          2187.8,
          2510.5,
          727,
          4025.4,
          650,
          3353.9,
          4383.5,
          1501.6,
          566.7,
          647.5,
          3678.1,
          688.8,
          2065,
          574.7,
          2200.9,
          3020.9,
          3282.5,
          574.2,
          633.8,
          2365.7,
          670.4,
          985.14,
          702.8,
          3310.6,
          3923.9,
          4207.4,
          564,
          4943.6,
          2517.7,
          729.6,
          4117.5,
          1420.6,
          714.5,
          2426.3,
          692.8,
          1563.5,
          575.2,
          1619.5,
          552.3,
          556.8,
          4423.5,
          1997.8,
          1015.4,
          4875.6,
          4110.1,
          2275,
          3474.2,
          744.5,
          2981.3,
          843.3,
          3506.8,
          1991.3,
          570.9,
          1361.9,
          3003.3,
          2392.8,
          4465.5,
          1671.8
         ],
         "yaxis": "y"
        }
       ],
       "layout": {
        "autosize": true,
        "legend": {
         "tracegroupgap": 0
        },
        "template": {
         "data": {
          "bar": [
           {
            "error_x": {
             "color": "#2a3f5f"
            },
            "error_y": {
             "color": "#2a3f5f"
            },
            "marker": {
             "line": {
              "color": "#E5ECF6",
              "width": 0.5
             },
             "pattern": {
              "fillmode": "overlay",
              "size": 10,
              "solidity": 0.2
             }
            },
            "type": "bar"
           }
          ],
          "barpolar": [
           {
            "marker": {
             "line": {
              "color": "#E5ECF6",
              "width": 0.5
             },
             "pattern": {
              "fillmode": "overlay",
              "size": 10,
              "solidity": 0.2
             }
            },
            "type": "barpolar"
           }
          ],
          "carpet": [
           {
            "aaxis": {
             "endlinecolor": "#2a3f5f",
             "gridcolor": "white",
             "linecolor": "white",
             "minorgridcolor": "white",
             "startlinecolor": "#2a3f5f"
            },
            "baxis": {
             "endlinecolor": "#2a3f5f",
             "gridcolor": "white",
             "linecolor": "white",
             "minorgridcolor": "white",
             "startlinecolor": "#2a3f5f"
            },
            "type": "carpet"
           }
          ],
          "choropleth": [
           {
            "colorbar": {
             "outlinewidth": 0,
             "ticks": ""
            },
            "type": "choropleth"
           }
          ],
          "contour": [
           {
            "colorbar": {
             "outlinewidth": 0,
             "ticks": ""
            },
            "colorscale": [
             [
              0,
              "#0d0887"
             ],
             [
              0.1111111111111111,
              "#46039f"
             ],
             [
              0.2222222222222222,
              "#7201a8"
             ],
             [
              0.3333333333333333,
              "#9c179e"
             ],
             [
              0.4444444444444444,
              "#bd3786"
             ],
             [
              0.5555555555555556,
              "#d8576b"
             ],
             [
              0.6666666666666666,
              "#ed7953"
             ],
             [
              0.7777777777777778,
              "#fb9f3a"
             ],
             [
              0.8888888888888888,
              "#fdca26"
             ],
             [
              1,
              "#f0f921"
             ]
            ],
            "type": "contour"
           }
          ],
          "contourcarpet": [
           {
            "colorbar": {
             "outlinewidth": 0,
             "ticks": ""
            },
            "type": "contourcarpet"
           }
          ],
          "heatmap": [
           {
            "colorbar": {
             "outlinewidth": 0,
             "ticks": ""
            },
            "colorscale": [
             [
              0,
              "#0d0887"
             ],
             [
              0.1111111111111111,
              "#46039f"
             ],
             [
              0.2222222222222222,
              "#7201a8"
             ],
             [
              0.3333333333333333,
              "#9c179e"
             ],
             [
              0.4444444444444444,
              "#bd3786"
             ],
             [
              0.5555555555555556,
              "#d8576b"
             ],
             [
              0.6666666666666666,
              "#ed7953"
             ],
             [
              0.7777777777777778,
              "#fb9f3a"
             ],
             [
              0.8888888888888888,
              "#fdca26"
             ],
             [
              1,
              "#f0f921"
             ]
            ],
            "type": "heatmap"
           }
          ],
          "heatmapgl": [
           {
            "colorbar": {
             "outlinewidth": 0,
             "ticks": ""
            },
            "colorscale": [
             [
              0,
              "#0d0887"
             ],
             [
              0.1111111111111111,
              "#46039f"
             ],
             [
              0.2222222222222222,
              "#7201a8"
             ],
             [
              0.3333333333333333,
              "#9c179e"
             ],
             [
              0.4444444444444444,
              "#bd3786"
             ],
             [
              0.5555555555555556,
              "#d8576b"
             ],
             [
              0.6666666666666666,
              "#ed7953"
             ],
             [
              0.7777777777777778,
              "#fb9f3a"
             ],
             [
              0.8888888888888888,
              "#fdca26"
             ],
             [
              1,
              "#f0f921"
             ]
            ],
            "type": "heatmapgl"
           }
          ],
          "histogram": [
           {
            "marker": {
             "pattern": {
              "fillmode": "overlay",
              "size": 10,
              "solidity": 0.2
             }
            },
            "type": "histogram"
           }
          ],
          "histogram2d": [
           {
            "colorbar": {
             "outlinewidth": 0,
             "ticks": ""
            },
            "colorscale": [
             [
              0,
              "#0d0887"
             ],
             [
              0.1111111111111111,
              "#46039f"
             ],
             [
              0.2222222222222222,
              "#7201a8"
             ],
             [
              0.3333333333333333,
              "#9c179e"
             ],
             [
              0.4444444444444444,
              "#bd3786"
             ],
             [
              0.5555555555555556,
              "#d8576b"
             ],
             [
              0.6666666666666666,
              "#ed7953"
             ],
             [
              0.7777777777777778,
              "#fb9f3a"
             ],
             [
              0.8888888888888888,
              "#fdca26"
             ],
             [
              1,
              "#f0f921"
             ]
            ],
            "type": "histogram2d"
           }
          ],
          "histogram2dcontour": [
           {
            "colorbar": {
             "outlinewidth": 0,
             "ticks": ""
            },
            "colorscale": [
             [
              0,
              "#0d0887"
             ],
             [
              0.1111111111111111,
              "#46039f"
             ],
             [
              0.2222222222222222,
              "#7201a8"
             ],
             [
              0.3333333333333333,
              "#9c179e"
             ],
             [
              0.4444444444444444,
              "#bd3786"
             ],
             [
              0.5555555555555556,
              "#d8576b"
             ],
             [
              0.6666666666666666,
              "#ed7953"
             ],
             [
              0.7777777777777778,
              "#fb9f3a"
             ],
             [
              0.8888888888888888,
              "#fdca26"
             ],
             [
              1,
              "#f0f921"
             ]
            ],
            "type": "histogram2dcontour"
           }
          ],
          "mesh3d": [
           {
            "colorbar": {
             "outlinewidth": 0,
             "ticks": ""
            },
            "type": "mesh3d"
           }
          ],
          "parcoords": [
           {
            "line": {
             "colorbar": {
              "outlinewidth": 0,
              "ticks": ""
             }
            },
            "type": "parcoords"
           }
          ],
          "pie": [
           {
            "automargin": true,
            "type": "pie"
           }
          ],
          "scatter": [
           {
            "fillpattern": {
             "fillmode": "overlay",
             "size": 10,
             "solidity": 0.2
            },
            "type": "scatter"
           }
          ],
          "scatter3d": [
           {
            "line": {
             "colorbar": {
              "outlinewidth": 0,
              "ticks": ""
             }
            },
            "marker": {
             "colorbar": {
              "outlinewidth": 0,
              "ticks": ""
             }
            },
            "type": "scatter3d"
           }
          ],
          "scattercarpet": [
           {
            "marker": {
             "colorbar": {
              "outlinewidth": 0,
              "ticks": ""
             }
            },
            "type": "scattercarpet"
           }
          ],
          "scattergeo": [
           {
            "marker": {
             "colorbar": {
              "outlinewidth": 0,
              "ticks": ""
             }
            },
            "type": "scattergeo"
           }
          ],
          "scattergl": [
           {
            "marker": {
             "colorbar": {
              "outlinewidth": 0,
              "ticks": ""
             }
            },
            "type": "scattergl"
           }
          ],
          "scattermapbox": [
           {
            "marker": {
             "colorbar": {
              "outlinewidth": 0,
              "ticks": ""
             }
            },
            "type": "scattermapbox"
           }
          ],
          "scatterpolar": [
           {
            "marker": {
             "colorbar": {
              "outlinewidth": 0,
              "ticks": ""
             }
            },
            "type": "scatterpolar"
           }
          ],
          "scatterpolargl": [
           {
            "marker": {
             "colorbar": {
              "outlinewidth": 0,
              "ticks": ""
             }
            },
            "type": "scatterpolargl"
           }
          ],
          "scatterternary": [
           {
            "marker": {
             "colorbar": {
              "outlinewidth": 0,
              "ticks": ""
             }
            },
            "type": "scatterternary"
           }
          ],
          "surface": [
           {
            "colorbar": {
             "outlinewidth": 0,
             "ticks": ""
            },
            "colorscale": [
             [
              0,
              "#0d0887"
             ],
             [
              0.1111111111111111,
              "#46039f"
             ],
             [
              0.2222222222222222,
              "#7201a8"
             ],
             [
              0.3333333333333333,
              "#9c179e"
             ],
             [
              0.4444444444444444,
              "#bd3786"
             ],
             [
              0.5555555555555556,
              "#d8576b"
             ],
             [
              0.6666666666666666,
              "#ed7953"
             ],
             [
              0.7777777777777778,
              "#fb9f3a"
             ],
             [
              0.8888888888888888,
              "#fdca26"
             ],
             [
              1,
              "#f0f921"
             ]
            ],
            "type": "surface"
           }
          ],
          "table": [
           {
            "cells": {
             "fill": {
              "color": "#EBF0F8"
             },
             "line": {
              "color": "white"
             }
            },
            "header": {
             "fill": {
              "color": "#C8D4E3"
             },
             "line": {
              "color": "white"
             }
            },
            "type": "table"
           }
          ]
         },
         "layout": {
          "annotationdefaults": {
           "arrowcolor": "#2a3f5f",
           "arrowhead": 0,
           "arrowwidth": 1
          },
          "autotypenumbers": "strict",
          "coloraxis": {
           "colorbar": {
            "outlinewidth": 0,
            "ticks": ""
           }
          },
          "colorscale": {
           "diverging": [
            [
             0,
             "#8e0152"
            ],
            [
             0.1,
             "#c51b7d"
            ],
            [
             0.2,
             "#de77ae"
            ],
            [
             0.3,
             "#f1b6da"
            ],
            [
             0.4,
             "#fde0ef"
            ],
            [
             0.5,
             "#f7f7f7"
            ],
            [
             0.6,
             "#e6f5d0"
            ],
            [
             0.7,
             "#b8e186"
            ],
            [
             0.8,
             "#7fbc41"
            ],
            [
             0.9,
             "#4d9221"
            ],
            [
             1,
             "#276419"
            ]
           ],
           "sequential": [
            [
             0,
             "#0d0887"
            ],
            [
             0.1111111111111111,
             "#46039f"
            ],
            [
             0.2222222222222222,
             "#7201a8"
            ],
            [
             0.3333333333333333,
             "#9c179e"
            ],
            [
             0.4444444444444444,
             "#bd3786"
            ],
            [
             0.5555555555555556,
             "#d8576b"
            ],
            [
             0.6666666666666666,
             "#ed7953"
            ],
            [
             0.7777777777777778,
             "#fb9f3a"
            ],
            [
             0.8888888888888888,
             "#fdca26"
            ],
            [
             1,
             "#f0f921"
            ]
           ],
           "sequentialminus": [
            [
             0,
             "#0d0887"
            ],
            [
             0.1111111111111111,
             "#46039f"
            ],
            [
             0.2222222222222222,
             "#7201a8"
            ],
            [
             0.3333333333333333,
             "#9c179e"
            ],
            [
             0.4444444444444444,
             "#bd3786"
            ],
            [
             0.5555555555555556,
             "#d8576b"
            ],
            [
             0.6666666666666666,
             "#ed7953"
            ],
            [
             0.7777777777777778,
             "#fb9f3a"
            ],
            [
             0.8888888888888888,
             "#fdca26"
            ],
            [
             1,
             "#f0f921"
            ]
           ]
          },
          "colorway": [
           "#636efa",
           "#EF553B",
           "#00cc96",
           "#ab63fa",
           "#FFA15A",
           "#19d3f3",
           "#FF6692",
           "#B6E880",
           "#FF97FF",
           "#FECB52"
          ],
          "font": {
           "color": "#2a3f5f"
          },
          "geo": {
           "bgcolor": "white",
           "lakecolor": "white",
           "landcolor": "#E5ECF6",
           "showlakes": true,
           "showland": true,
           "subunitcolor": "white"
          },
          "hoverlabel": {
           "align": "left"
          },
          "hovermode": "closest",
          "mapbox": {
           "style": "light"
          },
          "paper_bgcolor": "white",
          "plot_bgcolor": "#E5ECF6",
          "polar": {
           "angularaxis": {
            "gridcolor": "white",
            "linecolor": "white",
            "ticks": ""
           },
           "bgcolor": "#E5ECF6",
           "radialaxis": {
            "gridcolor": "white",
            "linecolor": "white",
            "ticks": ""
           }
          },
          "scene": {
           "xaxis": {
            "backgroundcolor": "#E5ECF6",
            "gridcolor": "white",
            "gridwidth": 2,
            "linecolor": "white",
            "showbackground": true,
            "ticks": "",
            "zerolinecolor": "white"
           },
           "yaxis": {
            "backgroundcolor": "#E5ECF6",
            "gridcolor": "white",
            "gridwidth": 2,
            "linecolor": "white",
            "showbackground": true,
            "ticks": "",
            "zerolinecolor": "white"
           },
           "zaxis": {
            "backgroundcolor": "#E5ECF6",
            "gridcolor": "white",
            "gridwidth": 2,
            "linecolor": "white",
            "showbackground": true,
            "ticks": "",
            "zerolinecolor": "white"
           }
          },
          "shapedefaults": {
           "line": {
            "color": "#2a3f5f"
           }
          },
          "ternary": {
           "aaxis": {
            "gridcolor": "white",
            "linecolor": "white",
            "ticks": ""
           },
           "baxis": {
            "gridcolor": "white",
            "linecolor": "white",
            "ticks": ""
           },
           "bgcolor": "#E5ECF6",
           "caxis": {
            "gridcolor": "white",
            "linecolor": "white",
            "ticks": ""
           }
          },
          "title": {
           "x": 0.05
          },
          "xaxis": {
           "automargin": true,
           "gridcolor": "white",
           "linecolor": "white",
           "ticks": "",
           "title": {
            "standoff": 15
           },
           "zerolinecolor": "white",
           "zerolinewidth": 2
          },
          "yaxis": {
           "automargin": true,
           "gridcolor": "white",
           "linecolor": "white",
           "ticks": "",
           "title": {
            "standoff": 15
           },
           "zerolinecolor": "white",
           "zerolinewidth": 2
          }
         }
        },
        "title": {
         "text": "Price vs Automobile Sales ",
         "x": 0.5
        },
        "xaxis": {
         "anchor": "y",
         "autorange": true,
         "domain": [
          0,
          1
         ],
         "range": [
          6627.538581447665,
          46429.78141855233
         ],
         "title": {
          "text": "Price"
         },
         "type": "linear"
        },
        "yaxis": {
         "anchor": "x",
         "autorange": true,
         "domain": [
          0,
          1
         ],
         "range": [
          -1634.7233009708737,
          22883.723300970873
         ],
         "title": {
          "text": "Automobile_Sales"
         },
         "type": "linear"
        }
       }
      },
      "image/png": "[encoded data removed]",
      "text/html": [
       "<div>                            <div id=\"ad413a55-eee0-48e4-b414-66300d6c3358\" class=\"plotly-graph-div\" style=\"height:525px; width:100%;\"></div>            <script type=\"text/javascript\">                require([\"plotly\"], function(Plotly) {                    window.PLOTLYENV=window.PLOTLYENV || {};                                    if (document.getElementById(\"ad413a55-eee0-48e4-b414-66300d6c3358\")) {                    Plotly.newPlot(                        \"ad413a55-eee0-48e4-b414-66300d6c3358\",                        [{\"hovertemplate\":\"Price=%{x}\\u003cbr\\u003eAutomobile_Sales=%{y}\\u003cextra\\u003e\\u003c\\u002fextra\\u003e\",\"legendgroup\":\"\",\"line\":{\"color\":\"#636efa\",\"dash\":\"solid\"},\"marker\":{\"symbol\":\"circle\"},\"mode\":\"lines+markers\",\"name\":\"\",\"orientation\":\"v\",\"showlegend\":false,\"x\":[8793.663,11901.274,13490.394,14380.521,14662.789,14803.839,14874.287,15062.155,15201.649,15239.561,15406.144,15433.599,15663.674,15975.589,16184.799,16206.303,16375.411,16434.327,16483.088,16652.974,16862.288,16936.421,16962.584,16967.768,17027.862,17246.683,17329.429,17403.15,17424.045,17425.764,17607.39,17682.425,17759.578,17820.689,17849.293,17876.259,17888.731,17923.146,17938.481,17962.681,17990.745,18007.162,18086.001,18099.493,18111.653,18359.07,18397.717,18398.834,18477.652,18695.58,18761.084,18771.306,18810.923,18815.246,18845.678,18895.782,18929.057,18998.518,19010.611,19018.967,19043.483,19083.707,19156.61,19245.032,19285.149,19376.79,19468.325,19592.26,19611.276,19645.538,19661.898,19688.481,19703.932,19711.445,19813.769,19823.788,19878.062,19935.844,19969.913,19987.353,20047.318,20071.37,20092.457,20112.224,20126.592,20175.383,20222.298,20300.601,20310.875,20365.348,20402.879,20453.063,20459.88,20462.182,20507.927,20513.728,20552.428,20580.713,20621.909,20680.046,20693.579,20714.212,20766.031,20801.391,20803.912,20845.249,20855.025,20863.845,20872.514,20888.898,20896.588,20908.897,20920.949,20957.532,20958.509,20988.614,21035.636,21037.396,21083.734,21134.951,21135.874,21163.262,21183.704,21204.337,21218.246,21231.319,21257.567,21348.167,21400.779,21407.779,21423.481,21428.243,21461.653,21489.735,21501.372,21535.452,21599.876,21614.191,21615.39,21686.881,21691.068,21733.354,21741.998,21746.787,21767.136,21774.401,21886.502,21991.467,21996.807,21998.916,22003.037,22003.125,22038.03,22042.143,22053.176,22115.482,22116.143,22120.909,22168.511,22181.377,22188.562,22199.095,22231.753,22278.086,22347.494,22348.712,22351.199,22371.225,22408.649,22430.665,22465.284,22482.622,22491.215,22534.995,22564.373,22573.182,22578.83,22604.129,22625.273,22640.341,22644.808,22652.628,22654.122,22671.351,22682.912,22696.806,22749.673,22767.425,22799.778,22896.773,22993.898,23039.459,23073.432,23074.589,23286.427,23327.494,23361.689,23389.692,23393.071,23423.654,23448.666,23453.938,23494.482,23504.963,23541.531,23556.707,23624.742,23652.966,23676.716,23737.159,23754.82,23755.179,23773.059,23805.26,23815.907,23827.064,23829.233,23829.315,23871.118,23882.686,23895.152,23901.641,23911.594,23932.764,23959.389,23989.037,24038.195,24048.307,24071.705,24193.571,24200.307,24241.075,24264.713,24288.103,24308.678,24349.285,24360.412,24421.759,24426.318,24427.301,24438.36,24456.199,24464.848,24554.4,24614.491,24627.77,24635.855,24639.949,24686.605,24702.373,24722.262,24748.809,24820.87,24826.441,24836.526,24867.431,24895.492,24904.919,24907.434,24932.514,24938.766,24960.137,25025.567,25026.218,25051.165,25062.962,25065.009,25105.019,25122.551,25176.318,25227.859,25234.903,25240.425,25242.608,25291.044,25301.151,25321.4,25337.592,25337.641,25342.815,25349.01,25370.474,25379.023,25386.842,25409.371,25435.235,25458.804,25484.98,25485.388,25488.38,25496.662,25498.257,25554.613,25567.587,25578.373,25586.637,25601.478,25653.703,25751.969,25768.626,25856.841,25865.905,25872.889,25916.71,25923.169,25932.272,25984.306,25995.298,26017.318,26044.318,26069.9,26070.469,26082.293,26120.462,26137.3,26160.25,26161.268,26209.811,26218.436,26224.833,26252.464,26287.752,26299.414,26305.276,26352.284,26383.454,26404.959,26465.362,26480.601,26484.923,26507.737,26536.498,26554.538,26556.251,26571.237,26613.593,26620.42,26620.832,26643.756,26656.317,26661.57,26705.76,26708.78,26718.091,26732.241,26785.077,26785.563,26788.937,26806.978,26808.18,26832.991,26878.49,26920.327,26926.587,27008.559,27020.254,27024.909,27063.905,27064.657,27219.097,27310.517,27366.188,27367.962,27369.165,27412.362,27459.596,27483.571,27489.991,27504.586,27520.233,27524.936,27566.337,27568.93,27572.194,27575.176,27575.238,27596.733,27609.708,27694.55,27712.8,27716.801,27735.487,27803.923,27814.846,27852.993,27854.453,27882.785,27934.285,27941.586,27975.785,28051.851,28058.381,28070.834,28114.25,28120.599,28128.337,28141.728,28148.144,28169.595,28226.88,28238.443,28256.956,28282.768,28310.653,28348.363,28397.989,28409.765,28430.257,28431.301,28450.72,28558.074,28570.002,28587.711,28692.333,28736.468,28756.936,28759.665,28776.956,28787.539,28794.846,28837.174,28873.17,28909.114,28935.423,28955.16,28958.313,29062.629,29064.311,29067.548,29067.586,29109.513,29110.301,29112.725,29127.082,29135.916,29248.01,29262.167,29281.994,29288.298,29328.776,29361.603,29408.199,29497.999,29577.011,29589.31,29630.888,29656.401,29752.119,29770.009,29775.712,29796.354,29816.881,29843.225,29857.855,29875.599,29877.726,30017.664,30154.998,30162.326,30269.01,30285.611,30292.122,30415.256,30444.753,30493.884,30597.875,30677.828,30714.114,30790.554,30792.978,30815.819,30896.486,30897.201,31189.082,31334.556,31388.324,31388.384,31527.394,31535.714,31769.362,31781.2,31834.371,31843.158,32013.972,32206.366,32255.718,32267.67,32328.244,32376.781,32389.47,32399.721,32511.785,32615.149,32615.62,32663.695,32690.183,32749.672,32755.76,32823.218,32896.064,32930.084,33143.078,33162.057,33224.839,33435.708,33776.704,33827.271,34157.294,34261.391,34328.873,34380.854,34430.93,34483.965,34547.083,34823.626,35303.74,35461.936,35610.781,35665.167,35719.72,35765.912,35949.015,35952.278,36573.293,37316.211,38600.846,40394.404,44263.657],\"xaxis\":\"x\",\"y\":[653.1,645.2,2122.8,4296.7,3613.5,4117.2,876.8,4661.6,3799.1,842.9,4436.2,574.3,4341.5,1685.9,3844.2,4901.2,654.0,1125.2,2203.5,4090.0,2124.6,2617.0,604.8,4479.6,3060.1,689.8,3319.4,683.5,778.7,2910.7,4199.6,1922.6,724.2,852.9,604.3,762.0,1819.3,3663.4,779.5,668.0,714.8,4172.9,2035.6,3554.2,854.4,3533.5,804.6,4974.5,3426.0,195.0,688.2,2044.2,3977.0,783.9,759.5,744.6,1754.6,671.6,4266.9,2861.0,3797.7,3429.9,3551.6,751.4,1454.6,3047.8,2563.9,4972.7,4549.2,3638.1,3315.5,619.1,1343.8,720.2,2611.2,3253.2,691.9,752.9,4080.9,613.6,605.3,3510.9,3754.8,4842.0,1264.0,2889.3,4377.1,3369.7,2652.3,690.7,559.4,754.8,638.2,1291.2,4127.2,1743.8,3244.6,1463.1,824.8,863.2,4529.6,2948.0,3349.6,4968.0,2936.6,1565.7,4577.8,594.5,1722.2,572.7,1283.4,4194.5,1636.6,1702.7,4545.6,1913.7,632.9,4972.5,750.0,697.4,2700.4,1981.3,1123.4,3106.8,3820.0,2851.8,3125.7,4440.8,4686.4,698.3,1450.8,1281.4,623.1,3587.9,2925.9,3841.4,3627.1,3630.1,851.8,1876.4,4114.5,690.0,4843.3,4709.8,4109.3,4702.3,3883.5,738.8,763.9,585.1,4210.4,1935.8,2258.9,1242.3,1170.6,3867.7,1201.5,3135.6,550.9,669.4,657.1,3914.4,3652.3,466.0,4635.8,1301.1,1883.7,1652.9,3455.0,3207.1,702.6,619.4,1255.7,2846.4,925.6,4060.1,670.6,3505.1,745.0,883.9,773.3,705.6,2372.5,745.0,763.0,2962.9,611.8,1060.0,1524.6,4224.3,2182.4,1831.1,1513.4,2514.0,4050.1,563.1,1038.0,706.3,3485.2,4192.5,2797.8,1740.9,4120.2,797.3,726.7,626.5,3178.4,3720.9,3018.9,697.6,923.2,3196.2,1534.6,996.0,2028.3,2131.5,770.4,754.5,648.1,1309.8,1229.9,1015.6,1750.2,564.8,4110.9,3726.7,2780.4,4307.9,4041.6,4602.5,558.8,3949.0,3189.4,3930.3,555.9,889.5,1485.2,426.5,3028.5,2147.2,2331.2,1380.9,4004.9,3641.2,2496.8,4723.8,4410.5,2445.3,3676.7,759.5,4726.3,1739.6,1845.3,4358.6,2768.1,1003.1,4493.1,581.2,778.3,776.2,1987.9,597.1,2924.3,3451.3,2607.8,686.2,4806.9,2433.1,4448.9,4811.6,2951.8,1577.5,3538.5,1483.3,4522.1,2290.5,4113.3,3686.7,558.0,723.0,3483.9,2565.8,1395.1,681.2,2550.4,2778.2,2727.0,3636.8,4460.1,1699.7,2499.1,659.1,614.4,2695.5,3905.6,3116.2,720.8,2103.3,846.4,2286.7,4769.8,1181.8,2120.6,4488.6,736.3,2214.0,3240.4,3692.8,1024.5,589.0,2715.5,1068.0,2275.8,2466.3,591.9,690.4,1566.7,325.0,639.1,663.6,3537.0,2791.5,556.2,2833.1,2629.4,1587.2,4017.6,1069.6,1657.1,1259.5,1408.2,1413.1,608.3,4456.9,677.6,662.2,3822.1,1381.8,860.8,2182.8,3152.2,2283.0,969.2,3284.7,1343.3,3301.0,3939.8,2801.1,832.0,3429.0,1241.1,617.3,1290.6,3618.7,940.2,4775.6,570.2,1619.7,4163.9,651.0,3461.9,2375.9,724.1,3737.0,21147.0,4355.0,456.0,1628.0,3917.0,4263.4,1973.0,3495.1,1650.1,4262.3,3035.7,3603.5,4000.1,3257.0,4866.9,609.7,1995.6,2650.8,2408.3,4330.8,1579.6,592.3,3240.6,676.1,3137.9,2246.5,3450.4,2194.6,3088.7,3939.4,4714.6,2451.2,3371.6,3875.7,3424.6,4670.6,620.0,4257.9,2832.8,571.6,1769.5,845.2,4576.1,1487.0,4463.9,3649.2,3296.8,2767.0,3179.8,908.1,3197.6,1783.1,4358.3,4865.5,1777.1,4289.8,734.9,731.4,686.1,918.7,3868.5,1719.6,3336.3,4498.7,1619.5,688.6,1345.2,2119.9,102.0,1940.4,1522.2,3525.9,2471.3,3235.2,660.0,750.8,4532.1,214.0,1301.8,1260.0,706.6,845.4,3141.2,1997.3,2924.7,2567.6,721.0,4500.7,4160.3,4666.3,1518.4,4520.7,2511.6,4633.4,756.3,4065.5,1436.7,4965.6,628.4,2268.8,1445.4,3472.2,3757.9,4265.8,3620.0,632.9,2187.8,2510.5,727.0,4025.4,650.0,3353.9,4383.5,1501.6,566.7,647.5,3678.1,688.8,2065.0,574.7,2200.9,3020.9,3282.5,574.2,633.8,2365.7,670.4,985.14,702.8,3310.6,3923.9,4207.4,564.0,4943.6,2517.7,729.6,4117.5,1420.6,714.5,2426.3,692.8,1563.5,575.2,1619.5,552.3,556.8,4423.5,1997.8,1015.4,4875.6,4110.1,2275.0,3474.2,744.5,2981.3,843.3,3506.8,1991.3,570.9,1361.9,3003.3,2392.8,4465.5,1671.8],\"yaxis\":\"y\",\"type\":\"scatter\"}],                        {\"template\":{\"data\":{\"histogram2dcontour\":[{\"type\":\"histogram2dcontour\",\"colorbar\":{\"outlinewidth\":0,\"ticks\":\"\"},\"colorscale\":[[0.0,\"#0d0887\"],[0.1111111111111111,\"#46039f\"],[0.2222222222222222,\"#7201a8\"],[0.3333333333333333,\"#9c179e\"],[0.4444444444444444,\"#bd3786\"],[0.5555555555555556,\"#d8576b\"],[0.6666666666666666,\"#ed7953\"],[0.7777777777777778,\"#fb9f3a\"],[0.8888888888888888,\"#fdca26\"],[1.0,\"#f0f921\"]]}],\"choropleth\":[{\"type\":\"choropleth\",\"colorbar\":{\"outlinewidth\":0,\"ticks\":\"\"}}],\"histogram2d\":[{\"type\":\"histogram2d\",\"colorbar\":{\"outlinewidth\":0,\"ticks\":\"\"},\"colorscale\":[[0.0,\"#0d0887\"],[0.1111111111111111,\"#46039f\"],[0.2222222222222222,\"#7201a8\"],[0.3333333333333333,\"#9c179e\"],[0.4444444444444444,\"#bd3786\"],[0.5555555555555556,\"#d8576b\"],[0.6666666666666666,\"#ed7953\"],[0.7777777777777778,\"#fb9f3a\"],[0.8888888888888888,\"#fdca26\"],[1.0,\"#f0f921\"]]}],\"heatmap\":[{\"type\":\"heatmap\",\"colorbar\":{\"outlinewidth\":0,\"ticks\":\"\"},\"colorscale\":[[0.0,\"#0d0887\"],[0.1111111111111111,\"#46039f\"],[0.2222222222222222,\"#7201a8\"],[0.3333333333333333,\"#9c179e\"],[0.4444444444444444,\"#bd3786\"],[0.5555555555555556,\"#d8576b\"],[0.6666666666666666,\"#ed7953\"],[0.7777777777777778,\"#fb9f3a\"],[0.8888888888888888,\"#fdca26\"],[1.0,\"#f0f921\"]]}],\"heatmapgl\":[{\"type\":\"heatmapgl\",\"colorbar\":{\"outlinewidth\":0,\"ticks\":\"\"},\"colorscale\":[[0.0,\"#0d0887\"],[0.1111111111111111,\"#46039f\"],[0.2222222222222222,\"#7201a8\"],[0.3333333333333333,\"#9c179e\"],[0.4444444444444444,\"#bd3786\"],[0.5555555555555556,\"#d8576b\"],[0.6666666666666666,\"#ed7953\"],[0.7777777777777778,\"#fb9f3a\"],[0.8888888888888888,\"#fdca26\"],[1.0,\"#f0f921\"]]}],\"contourcarpet\":[{\"type\":\"contourcarpet\",\"colorbar\":{\"outlinewidth\":0,\"ticks\":\"\"}}],\"contour\":[{\"type\":\"contour\",\"colorbar\":{\"outlinewidth\":0,\"ticks\":\"\"},\"colorscale\":[[0.0,\"#0d0887\"],[0.1111111111111111,\"#46039f\"],[0.2222222222222222,\"#7201a8\"],[0.3333333333333333,\"#9c179e\"],[0.4444444444444444,\"#bd3786\"],[0.5555555555555556,\"#d8576b\"],[0.6666666666666666,\"#ed7953\"],[0.7777777777777778,\"#fb9f3a\"],[0.8888888888888888,\"#fdca26\"],[1.0,\"#f0f921\"]]}],\"surface\":[{\"type\":\"surface\",\"colorbar\":{\"outlinewidth\":0,\"ticks\":\"\"},\"colorscale\":[[0.0,\"#0d0887\"],[0.1111111111111111,\"#46039f\"],[0.2222222222222222,\"#7201a8\"],[0.3333333333333333,\"#9c179e\"],[0.4444444444444444,\"#bd3786\"],[0.5555555555555556,\"#d8576b\"],[0.6666666666666666,\"#ed7953\"],[0.7777777777777778,\"#fb9f3a\"],[0.8888888888888888,\"#fdca26\"],[1.0,\"#f0f921\"]]}],\"mesh3d\":[{\"type\":\"mesh3d\",\"colorbar\":{\"outlinewidth\":0,\"ticks\":\"\"}}],\"scatter\":[{\"fillpattern\":{\"fillmode\":\"overlay\",\"size\":10,\"solidity\":0.2},\"type\":\"scatter\"}],\"parcoords\":[{\"type\":\"parcoords\",\"line\":{\"colorbar\":{\"outlinewidth\":0,\"ticks\":\"\"}}}],\"scatterpolargl\":[{\"type\":\"scatterpolargl\",\"marker\":{\"colorbar\":{\"outlinewidth\":0,\"ticks\":\"\"}}}],\"bar\":[{\"error_x\":{\"color\":\"#2a3f5f\"},\"error_y\":{\"color\":\"#2a3f5f\"},\"marker\":{\"line\":{\"color\":\"#E5ECF6\",\"width\":0.5},\"pattern\":{\"fillmode\":\"overlay\",\"size\":10,\"solidity\":0.2}},\"type\":\"bar\"}],\"scattergeo\":[{\"type\":\"scattergeo\",\"marker\":{\"colorbar\":{\"outlinewidth\":0,\"ticks\":\"\"}}}],\"scatterpolar\":[{\"type\":\"scatterpolar\",\"marker\":{\"colorbar\":{\"outlinewidth\":0,\"ticks\":\"\"}}}],\"histogram\":[{\"marker\":{\"pattern\":{\"fillmode\":\"overlay\",\"size\":10,\"solidity\":0.2}},\"type\":\"histogram\"}],\"scattergl\":[{\"type\":\"scattergl\",\"marker\":{\"colorbar\":{\"outlinewidth\":0,\"ticks\":\"\"}}}],\"scatter3d\":[{\"type\":\"scatter3d\",\"line\":{\"colorbar\":{\"outlinewidth\":0,\"ticks\":\"\"}},\"marker\":{\"colorbar\":{\"outlinewidth\":0,\"ticks\":\"\"}}}],\"scattermapbox\":[{\"type\":\"scattermapbox\",\"marker\":{\"colorbar\":{\"outlinewidth\":0,\"ticks\":\"\"}}}],\"scatterternary\":[{\"type\":\"scatterternary\",\"marker\":{\"colorbar\":{\"outlinewidth\":0,\"ticks\":\"\"}}}],\"scattercarpet\":[{\"type\":\"scattercarpet\",\"marker\":{\"colorbar\":{\"outlinewidth\":0,\"ticks\":\"\"}}}],\"carpet\":[{\"aaxis\":{\"endlinecolor\":\"#2a3f5f\",\"gridcolor\":\"white\",\"linecolor\":\"white\",\"minorgridcolor\":\"white\",\"startlinecolor\":\"#2a3f5f\"},\"baxis\":{\"endlinecolor\":\"#2a3f5f\",\"gridcolor\":\"white\",\"linecolor\":\"white\",\"minorgridcolor\":\"white\",\"startlinecolor\":\"#2a3f5f\"},\"type\":\"carpet\"}],\"table\":[{\"cells\":{\"fill\":{\"color\":\"#EBF0F8\"},\"line\":{\"color\":\"white\"}},\"header\":{\"fill\":{\"color\":\"#C8D4E3\"},\"line\":{\"color\":\"white\"}},\"type\":\"table\"}],\"barpolar\":[{\"marker\":{\"line\":{\"color\":\"#E5ECF6\",\"width\":0.5},\"pattern\":{\"fillmode\":\"overlay\",\"size\":10,\"solidity\":0.2}},\"type\":\"barpolar\"}],\"pie\":[{\"automargin\":true,\"type\":\"pie\"}]},\"layout\":{\"autotypenumbers\":\"strict\",\"colorway\":[\"#636efa\",\"#EF553B\",\"#00cc96\",\"#ab63fa\",\"#FFA15A\",\"#19d3f3\",\"#FF6692\",\"#B6E880\",\"#FF97FF\",\"#FECB52\"],\"font\":{\"color\":\"#2a3f5f\"},\"hovermode\":\"closest\",\"hoverlabel\":{\"align\":\"left\"},\"paper_bgcolor\":\"white\",\"plot_bgcolor\":\"#E5ECF6\",\"polar\":{\"bgcolor\":\"#E5ECF6\",\"angularaxis\":{\"gridcolor\":\"white\",\"linecolor\":\"white\",\"ticks\":\"\"},\"radialaxis\":{\"gridcolor\":\"white\",\"linecolor\":\"white\",\"ticks\":\"\"}},\"ternary\":{\"bgcolor\":\"#E5ECF6\",\"aaxis\":{\"gridcolor\":\"white\",\"linecolor\":\"white\",\"ticks\":\"\"},\"baxis\":{\"gridcolor\":\"white\",\"linecolor\":\"white\",\"ticks\":\"\"},\"caxis\":{\"gridcolor\":\"white\",\"linecolor\":\"white\",\"ticks\":\"\"}},\"coloraxis\":{\"colorbar\":{\"outlinewidth\":0,\"ticks\":\"\"}},\"colorscale\":{\"sequential\":[[0.0,\"#0d0887\"],[0.1111111111111111,\"#46039f\"],[0.2222222222222222,\"#7201a8\"],[0.3333333333333333,\"#9c179e\"],[0.4444444444444444,\"#bd3786\"],[0.5555555555555556,\"#d8576b\"],[0.6666666666666666,\"#ed7953\"],[0.7777777777777778,\"#fb9f3a\"],[0.8888888888888888,\"#fdca26\"],[1.0,\"#f0f921\"]],\"sequentialminus\":[[0.0,\"#0d0887\"],[0.1111111111111111,\"#46039f\"],[0.2222222222222222,\"#7201a8\"],[0.3333333333333333,\"#9c179e\"],[0.4444444444444444,\"#bd3786\"],[0.5555555555555556,\"#d8576b\"],[0.6666666666666666,\"#ed7953\"],[0.7777777777777778,\"#fb9f3a\"],[0.8888888888888888,\"#fdca26\"],[1.0,\"#f0f921\"]],\"diverging\":[[0,\"#8e0152\"],[0.1,\"#c51b7d\"],[0.2,\"#de77ae\"],[0.3,\"#f1b6da\"],[0.4,\"#fde0ef\"],[0.5,\"#f7f7f7\"],[0.6,\"#e6f5d0\"],[0.7,\"#b8e186\"],[0.8,\"#7fbc41\"],[0.9,\"#4d9221\"],[1,\"#276419\"]]},\"xaxis\":{\"gridcolor\":\"white\",\"linecolor\":\"white\",\"ticks\":\"\",\"title\":{\"standoff\":15},\"zerolinecolor\":\"white\",\"automargin\":true,\"zerolinewidth\":2},\"yaxis\":{\"gridcolor\":\"white\",\"linecolor\":\"white\",\"ticks\":\"\",\"title\":{\"standoff\":15},\"zerolinecolor\":\"white\",\"automargin\":true,\"zerolinewidth\":2},\"scene\":{\"xaxis\":{\"backgroundcolor\":\"#E5ECF6\",\"gridcolor\":\"white\",\"linecolor\":\"white\",\"showbackground\":true,\"ticks\":\"\",\"zerolinecolor\":\"white\",\"gridwidth\":2},\"yaxis\":{\"backgroundcolor\":\"#E5ECF6\",\"gridcolor\":\"white\",\"linecolor\":\"white\",\"showbackground\":true,\"ticks\":\"\",\"zerolinecolor\":\"white\",\"gridwidth\":2},\"zaxis\":{\"backgroundcolor\":\"#E5ECF6\",\"gridcolor\":\"white\",\"linecolor\":\"white\",\"showbackground\":true,\"ticks\":\"\",\"zerolinecolor\":\"white\",\"gridwidth\":2}},\"shapedefaults\":{\"line\":{\"color\":\"#2a3f5f\"}},\"annotationdefaults\":{\"arrowcolor\":\"#2a3f5f\",\"arrowhead\":0,\"arrowwidth\":1},\"geo\":{\"bgcolor\":\"white\",\"landcolor\":\"#E5ECF6\",\"subunitcolor\":\"white\",\"showland\":true,\"showlakes\":true,\"lakecolor\":\"white\"},\"title\":{\"x\":0.05},\"mapbox\":{\"style\":\"light\"}}},\"xaxis\":{\"anchor\":\"y\",\"domain\":[0.0,1.0],\"title\":{\"text\":\"Price\"}},\"yaxis\":{\"anchor\":\"x\",\"domain\":[0.0,1.0],\"title\":{\"text\":\"Automobile_Sales\"}},\"legend\":{\"tracegroupgap\":0},\"title\":{\"text\":\"Price vs Automobile Sales \",\"x\":0.5}},                        {\"responsive\": true}                    ).then(function(){\n",
       "                            \n",
       "var gd = document.getElementById('ad413a55-eee0-48e4-b414-66300d6c3358');\n",
       "var x = new MutationObserver(function (mutations, observer) {{\n",
       "        var display = window.getComputedStyle(gd).display;\n",
       "        if (!display || display === 'none') {{\n",
       "            console.log([gd, 'removed!']);\n",
       "            Plotly.purge(gd);\n",
       "            observer.disconnect();\n",
       "        }}\n",
       "}});\n",
       "\n",
       "// Listen for the removal of the full notebook cells\n",
       "var notebookContainer = gd.closest('#notebook-container');\n",
       "if (notebookContainer) {{\n",
       "    x.observe(notebookContainer, {childList: true});\n",
       "}}\n",
       "\n",
       "// Listen for the clearing of the current output cell\n",
       "var outputEl = gd.closest('.output');\n",
       "if (outputEl) {{\n",
       "    x.observe(outputEl, {childList: true});\n",
       "}}\n",
       "\n",
       "                        })                };                });            </script>        </div>"
      ]
     },
     "metadata": {},
     "output_type": "display_data"
    }
   ],
   "source": [
    "price_sales =df.groupby(\"Price\")[\"Automobile_Sales\"].median().reset_index()\n",
    "fig5 =px.line(price_sales,\n",
    "              x=\"Price\",\n",
    "              y=\"Automobile_Sales\",\n",
    "              title=\"Price vs Automobile Sales \",\n",
    "              markers=\"True\")\n",
    "fig5.update_layout(title_x=0.5)\n",
    "fig5.show()"
   ]
  },
  {
   "cell_type": "code",
   "execution_count": 32,
   "id": "fc7ca54e-b0d9-4934-a68c-5ee2a22658ca",
   "metadata": {},
   "outputs": [
    {
     "data": {
      "application/vnd.plotly.v1+json": {
       "config": {
        "plotlyServerURL": "https://plot.ly"
       },
       "data": [
        {
         "alignmentgroup": "True",
         "hovertemplate": "City=Georgia<br>Consumer_Confidence=%{x}<br>Price=%{y}<extra></extra>",
         "legendgroup": "Georgia",
         "marker": {
          "color": "#636efa"
         },
         "name": "Georgia",
         "notched": false,
         "offsetgroup": "Georgia",
         "orientation": "v",
         "showlegend": true,
         "type": "box",
         "x": [
          108.24,
          87.32,
          102.18,
          97.17,
          96.9,
          101.16,
          93.69,
          101.33,
          105.94,
          81.07,
          97.17,
          119.77,
          113.51,
          97.78,
          106.5,
          115.67,
          121.64,
          97.96,
          105.06,
          91.57,
          99.86,
          96.3,
          97.87,
          79.12,
          92.67,
          106,
          95.42,
          106.68,
          126.06,
          98.04,
          87.26,
          91.44,
          87.16,
          120.42,
          117.14,
          110.1,
          98.04,
          76.28,
          93.5,
          99.91,
          95.48,
          108.32,
          102.08,
          98.51,
          105.97,
          81.69,
          131.67,
          77.54,
          99.31,
          101.25,
          90.34,
          91.47,
          91.18,
          96.7,
          96.49,
          92.96,
          94.44,
          93.96,
          111.04,
          95.51,
          111.27,
          112.99,
          104.31,
          88.83,
          108.6,
          103.54,
          125.16,
          95.18,
          116.27,
          75.19,
          105.14,
          119.63,
          92.2,
          101.33,
          131.05,
          125.94,
          99.17,
          115.1,
          116.41,
          86.75,
          97.05,
          100.17,
          99.06,
          109.96,
          84.87,
          95.32,
          117.91,
          94.84,
          97.4,
          108.39,
          95.6,
          96.65,
          93.96,
          106.94,
          98.88,
          107.9,
          85.31,
          91.01,
          100.42,
          116.2,
          106.22,
          100.87,
          95.33,
          124.56,
          103.16,
          99.34,
          109.49,
          105.87,
          106.81,
          110.93,
          86.48,
          117.09,
          95.87,
          83.13,
          108.24,
          101.13,
          108.68,
          96.73,
          88.45,
          97.09,
          95.92
         ],
         "x0": " ",
         "xaxis": "x",
         "y": [
          27483.571,
          16375.411,
          25337.641,
          24932.514,
          29112.725,
          18895.782,
          20453.063,
          22168.511,
          23389.692,
          28909.114,
          18815.246,
          29328.776,
          18998.518,
          33827.271,
          18695.58,
          29589.31,
          30162.326,
          21461.653,
          20365.348,
          8793.663,
          19878.062,
          17849.293,
          22465.284,
          23932.764,
          26554.538,
          29288.298,
          24904.919,
          26613.593,
          15201.649,
          24421.759,
          26620.42,
          21615.39,
          23453.938,
          22604.129,
          19018.967,
          29062.629,
          31781.2,
          30017.664,
          32690.183,
          25458.804,
          26785.563,
          25485.388,
          29843.225,
          21489.735,
          17682.425,
          34430.93,
          25872.889,
          15406.144,
          24038.195,
          24826.441,
          30714.114,
          28759.665,
          18397.717,
          26732.241,
          21599.876,
          21428.243,
          34328.873,
          28282.768,
          29816.881,
          23773.059,
          21231.319,
          26383.454,
          28128.337,
          23882.686,
          24635.855,
          20766.031,
          26070.469,
          26926.587,
          20580.713,
          25768.626,
          25291.044,
          27854.453,
          19611.276,
          21741.998,
          25995.298,
          25349.01,
          25567.587,
          32930.084,
          18810.923,
          31388.324,
          23989.037,
          23911.594,
          30493.884,
          23448.666,
          18929.057,
          24938.766,
          20513.728,
          29875.599,
          27008.559,
          26120.462,
          21134.951,
          32255.718,
          35765.912,
          25916.71,
          35949.015,
          20801.391,
          14380.521,
          22371.225,
          30897.201,
          31189.082,
          17027.862,
          19376.79,
          30896.486,
          28226.88,
          30292.122,
          16206.303,
          32511.785,
          24464.848,
          19823.788,
          26069.9,
          13490.394,
          27882.785,
          26556.251,
          21767.136,
          27694.55,
          27814.846,
          21746.787,
          25242.608,
          28756.936,
          16862.288,
          25240.425
         ],
         "y0": " ",
         "yaxis": "y"
        },
        {
         "alignmentgroup": "True",
         "hovertemplate": "City=New York<br>Consumer_Confidence=%{x}<br>Price=%{y}<extra></extra>",
         "legendgroup": "New York",
         "marker": {
          "color": "#EF553B"
         },
         "name": "New York",
         "notched": false,
         "offsetgroup": "New York",
         "orientation": "v",
         "showlegend": true,
         "type": "box",
         "x": [
          98.75,
          107.48,
          98.76,
          101.45,
          102.33,
          90.55,
          123.03,
          106.92,
          108.05,
          100.11,
          101.22,
          100.36,
          108.2,
          111.04,
          88.31,
          92.57,
          90.72,
          99.05,
          108.62,
          94.2,
          99.76,
          97.02,
          95.26,
          86.55,
          104.28,
          91.9,
          94.06,
          99.73,
          112.39,
          97.85,
          106.57,
          121.91,
          103.4,
          127.42,
          100.8,
          79.2,
          113.34,
          84.79,
          117.38,
          106.67,
          116.14,
          97.5,
          98.72,
          105.08,
          87.51,
          105.71,
          104.7,
          101.77,
          93.34,
          91.22,
          102.3,
          100.46,
          111.07,
          105.57,
          118.47,
          119.11,
          93.71,
          99.52,
          95.05,
          107.31,
          115.49,
          88.29,
          109.42,
          97.12,
          105.02,
          117.21,
          116.38,
          103.66,
          84.2,
          94.26,
          85.47,
          99.28,
          112.75,
          93.91,
          110.75,
          90.21,
          103.52,
          117.02,
          84.66,
          108.61,
          112.65,
          96.65,
          99.08,
          107.68,
          104.12,
          106,
          87.23,
          112.46,
          114.44,
          102.76,
          98.5,
          94.09,
          80.48,
          91.13,
          104.24,
          87.03,
          83.63,
          114.95,
          87.63,
          118.15,
          107.68,
          96.09,
          86.59,
          115.86,
          122.12,
          117.68,
          104.51,
          98.5,
          83.66,
          78.14,
          109.17,
          98.4,
          85.9,
          104.62,
          102.07,
          95.21,
          100.91,
          105.14,
          100.68,
          95.37,
          101.77,
          102.65,
          103.75,
          90.87,
          104.36,
          95.53,
          94.14,
          86.88,
          101.44,
          107.34,
          84.5,
          97.27,
          102.05,
          86.55,
          84.62,
          99.88,
          82.04,
          113.11,
          99.8,
          103.84,
          107.73,
          97.63,
          104.25,
          103.36
         ],
         "x0": " ",
         "xaxis": "x",
         "y": [
          24308.678,
          28238.443,
          28837.174,
          27712.8,
          22671.351,
          20459.88,
          17938.481,
          22278.086,
          19245.032,
          23541.531,
          19711.445,
          17990.745,
          35952.278,
          20047.318,
          20402.879,
          32749.672,
          21083.734,
          18845.678,
          25923.169,
          22625.273,
          21733.354,
          35610.781,
          18761.084,
          33162.057,
          21407.779,
          24200.307,
          19987.353,
          23556.707,
          24960.137,
          32399.721,
          17607.39,
          26718.091,
          16184.799,
          28058.381,
          30154.998,
          20803.912,
          26656.317,
          32823.218,
          25435.235,
          32389.47,
          22408.649,
          22491.215,
          26480.601,
          23827.064,
          17923.146,
          22896.773,
          20988.614,
          27020.254,
          24627.77,
          24867.431,
          19156.61,
          28955.16,
          26161.268,
          26465.362,
          28935.423,
          20896.588,
          29110.301,
          26705.76,
          32267.67,
          38600.846,
          27412.362,
          28570.002,
          27366.188,
          17425.764,
          22767.425,
          29281.994,
          26788.937,
          30415.256,
          30269.01,
          18111.653,
          27575.238,
          28256.956,
          28794.846,
          22640.341,
          28397.989,
          26082.293,
          25227.859,
          35719.72,
          14874.287,
          25932.272,
          21691.068,
          21037.396,
          32206.366,
          27310.517,
          23073.432,
          35665.167,
          24241.075,
          26404.959,
          21535.452,
          25586.637,
          28409.765,
          26620.832,
          24349.285,
          25484.98,
          27975.785,
          19969.913,
          30790.554,
          28120.599,
          20872.514,
          25062.962,
          20958.509,
          22003.037,
          21204.337,
          34380.854,
          20507.927,
          34157.294,
          16434.327,
          22749.673,
          28114.25,
          24288.103,
          17329.429,
          31388.384,
          25578.373,
          35303.74,
          29857.855,
          28430.257,
          19083.707,
          28587.711,
          24836.526,
          26832.991,
          22430.665,
          19703.932,
          29775.712,
          27520.233,
          22348.712,
          34823.626,
          25176.318,
          24438.36,
          23895.152,
          23624.742,
          31834.371,
          20222.298,
          20693.579,
          32615.62,
          18086.001,
          18007.162,
          22564.373,
          22038.03,
          23805.26,
          20462.182,
          25496.662,
          16652.974,
          21686.881,
          27852.993
         ],
         "y0": " ",
         "yaxis": "y"
        },
        {
         "alignmentgroup": "True",
         "hovertemplate": "City=Illinois<br>Consumer_Confidence=%{x}<br>Price=%{y}<extra></extra>",
         "legendgroup": "Illinois",
         "marker": {
          "color": "#00cc96"
         },
         "name": "Illinois",
         "notched": false,
         "offsetgroup": "Illinois",
         "orientation": "v",
         "showlegend": true,
         "type": "box",
         "x": [
          115.01,
          105.55,
          82.45,
          95.2,
          109.86,
          94.06,
          112.86,
          100.4,
          102.67,
          87.49,
          96.22,
          97.34,
          110.4,
          98.48,
          106.53,
          104.64,
          87.85,
          84.42,
          116.72,
          86.3,
          91.05,
          104,
          101.48,
          98.97,
          94.83,
          111.62,
          96.39,
          106.16,
          107.92,
          93.36,
          114.14,
          103.18,
          104.85,
          101.45,
          89.06,
          95.62,
          88.14,
          93.22,
          97.34,
          90.47,
          97.25,
          105.63,
          93.41,
          104.69,
          125.02,
          83.01,
          122.36,
          82.38,
          98.12,
          96.09,
          99.54,
          97.66,
          94.32,
          106.78,
          101.08,
          108.34,
          96.56,
          83.44,
          95.81,
          97.43,
          115.01,
          111.55,
          119.65,
          109.02,
          102.58,
          104.69,
          93.79,
          104.37,
          90.88,
          88.54,
          106.32,
          105.59,
          103.84,
          103.47,
          84.51,
          84.6,
          86.14,
          103.79,
          92.64,
          98,
          91.52,
          115.42,
          110.73,
          83.82,
          87.4,
          112.06,
          101.78,
          100.44,
          106.29,
          105.07,
          107.52,
          109.31,
          96.73,
          112.23,
          111.64,
          110.71,
          111.12,
          97.68,
          100.03,
          100.58,
          100.9,
          108.55,
          109.79,
          113.19,
          115.31,
          99.03,
          95.73,
          105.22,
          109.79,
          94.6,
          98.5,
          95.38,
          89.98,
          125.46,
          105.79,
          111.61,
          89.19,
          83.82,
          110.7,
          108.92,
          99.2,
          89.37,
          92.6,
          105.59,
          93.82,
          92.51,
          87.47,
          94.79,
          85,
          86.7,
          88.1,
          97,
          90.87,
          96.04
         ],
         "x0": " ",
         "xaxis": "x",
         "y": [
          32615.149,
          23829.315,
          32896.064,
          26209.811,
          32328.244,
          23871.118,
          25554.613,
          21996.807,
          21991.467,
          26044.318,
          17246.683,
          19688.481,
          29067.586,
          31535.714,
          26299.414,
          23327.494,
          27024.909,
          17403.15,
          31334.556,
          23737.159,
          22181.377,
          26160.25,
          17759.578,
          24907.434,
          20863.845,
          33435.708,
          25984.306,
          25856.841,
          21400.779,
          30285.611,
          23074.589,
          29877.726,
          24071.705,
          19468.325,
          24639.949,
          26808.18,
          21774.401,
          24820.87,
          11901.274,
          29577.011,
          26643.756,
          22351.199,
          23361.689,
          25025.567,
          23286.427,
          24193.571,
          26287.752,
          37316.211,
          26507.737,
          27609.708,
          26252.464,
          20126.592,
          20552.428,
          24614.491,
          29135.916,
          25065.009,
          19645.538,
          18771.306,
          25865.905,
          19285.149,
          27803.923,
          27568.93,
          44263.657,
          23423.654,
          21135.874,
          23815.907,
          22573.182,
          25409.371,
          15663.674,
          30444.753,
          21348.167,
          29262.167,
          30815.819,
          21998.916,
          27941.586,
          29248.01,
          26785.077,
          26536.498,
          28148.144,
          20855.025,
          22199.095,
          28736.468,
          22042.143,
          29127.082,
          35461.936,
          28958.313,
          28141.728,
          24264.713,
          23393.071,
          32663.695,
          22993.898,
          27489.991,
          21163.262,
          29361.603,
          25751.969,
          22115.482,
          27459.596,
          22654.122,
          24427.301,
          22003.125,
          25026.218,
          25601.478,
          27572.194,
          28558.074,
          21257.567,
          32755.76,
          25337.592,
          23755.179,
          31843.158,
          23652.966,
          18099.493,
          16483.088,
          26920.327,
          14662.789,
          18477.652,
          28348.363,
          20300.601,
          24686.605,
          20071.37,
          21035.636,
          21501.372,
          28070.834,
          28787.539,
          22347.494,
          33224.839,
          16967.768,
          19592.26,
          25386.842,
          29630.888,
          34547.083,
          20845.249,
          24748.809,
          22116.143,
          27716.801
         ],
         "y0": " ",
         "yaxis": "y"
        },
        {
         "alignmentgroup": "True",
         "hovertemplate": "City=California<br>Consumer_Confidence=%{x}<br>Price=%{y}<extra></extra>",
         "legendgroup": "California",
         "marker": {
          "color": "#ab63fa"
         },
         "name": "California",
         "notched": false,
         "offsetgroup": "California",
         "orientation": "v",
         "showlegend": true,
         "type": "box",
         "x": [
          98.72,
          87.68,
          102.36,
          122.98,
          86.71,
          116.55,
          92.96,
          119.46,
          109.3,
          107.34,
          109.07,
          118.65,
          101.57,
          117.31,
          105.47,
          97.31,
          102.3,
          91.89,
          110.54,
          98.14,
          110.43,
          80.03,
          91.19,
          116.16,
          119.72,
          100.68,
          83.26,
          105.05,
          84.48,
          92.67,
          91.81,
          90.36,
          99.33,
          110.13,
          125.98,
          93.35,
          101.68,
          98.65,
          107.86,
          104.6,
          84.67,
          95.24,
          94.99,
          98.19,
          93.3,
          104.92,
          104.9,
          94.13,
          117.25,
          98.31,
          107.31,
          92.77,
          102.43,
          95.36,
          86.74,
          96.15,
          103.28,
          101.63,
          99.86,
          96.17,
          100.63,
          95.29,
          113.83,
          124.13,
          106.51,
          96.63,
          103.52,
          105.03,
          110.31,
          108.74,
          96.27,
          111.34,
          98.73,
          107.49,
          92.83,
          116.57,
          73.9,
          98.93,
          118.04,
          93.14,
          110.47,
          115.46,
          92.33,
          92.4,
          121.9,
          101.74,
          110.89,
          101.91,
          103.73,
          101.98,
          101.81,
          90.1,
          83.87,
          102.06,
          113.38,
          79.8,
          78.49,
          89.51,
          88.19,
          110.22,
          88.13,
          123.47,
          102.54,
          113.14,
          93.38,
          91.77,
          111.52,
          104.13,
          97.55,
          88.72,
          88.1,
          106.67,
          118.96,
          103.9,
          112.04,
          106.81,
          108.68,
          111.31,
          117.16,
          116.9,
          108.71,
          97.53,
          106.94,
          112.49,
          97.18,
          108.65,
          107.64,
          101.55,
          124.66
         ],
         "x0": " ",
         "xaxis": "x",
         "y": [
          23829.233,
          22652.628,
          22682.912,
          15433.599,
          22188.562,
          19935.844,
          26571.237,
          17876.259,
          26878.49,
          34261.391,
          32013.972,
          27934.285,
          25498.257,
          22482.622,
          25342.815,
          27367.962,
          26137.3,
          16962.584,
          22578.83,
          27219.097,
          28873.17,
          24702.373,
          20888.898,
          26218.436,
          26224.833,
          22644.808,
          17962.681,
          32376.781,
          29408.199,
          18359.07,
          28692.333,
          23494.482,
          22696.806,
          29656.401,
          26806.978,
          29109.513,
          23504.963,
          15062.155,
          23901.641,
          20957.532,
          27566.337,
          23039.459,
          26305.276,
          25301.151,
          26484.923,
          27369.165,
          19043.483,
          30792.978,
          27063.905,
          34483.965,
          20920.949,
          23676.716,
          20714.212,
          20310.875,
          27575.176,
          30677.828,
          29770.009,
          36573.293,
          28431.301,
          16936.421,
          25321.4,
          21423.481,
          28169.595,
          24426.318,
          27524.936,
          22799.778,
          25653.703,
          17820.689,
          25051.165,
          20092.457,
          28310.653,
          15239.561,
          21886.502,
          23959.389,
          22534.995,
          22053.176,
          29497.999,
          29064.311,
          28051.851,
          24895.492,
          27735.487,
          29067.548,
          31527.394,
          25105.019,
          20908.897,
          25379.023,
          21614.191,
          27064.657,
          27596.733,
          24456.199,
          28450.72,
          25488.38,
          25122.551,
          29796.354,
          26708.78,
          29752.119,
          18398.834,
          31769.362,
          25234.903,
          19661.898,
          26661.57,
          33776.704,
          20175.383,
          14803.839,
          25370.474,
          33143.078,
          24722.262,
          24554.4,
          22231.753,
          19010.611,
          22120.909,
          17424.045,
          23754.82,
          40394.404,
          30597.875,
          24360.412,
          26017.318,
          21218.246,
          17888.731,
          19813.769,
          24048.307,
          20621.909,
          20680.046,
          26352.284,
          28776.956,
          27504.586,
          20112.224,
          21183.704,
          15975.589
         ],
         "y0": " ",
         "yaxis": "y"
        }
       ],
       "layout": {
        "autosize": true,
        "boxmode": "group",
        "legend": {
         "title": {
          "text": "City"
         },
         "tracegroupgap": 0
        },
        "template": {
         "data": {
          "bar": [
           {
            "error_x": {
             "color": "#2a3f5f"
            },
            "error_y": {
             "color": "#2a3f5f"
            },
            "marker": {
             "line": {
              "color": "#E5ECF6",
              "width": 0.5
             },
             "pattern": {
              "fillmode": "overlay",
              "size": 10,
              "solidity": 0.2
             }
            },
            "type": "bar"
           }
          ],
          "barpolar": [
           {
            "marker": {
             "line": {
              "color": "#E5ECF6",
              "width": 0.5
             },
             "pattern": {
              "fillmode": "overlay",
              "size": 10,
              "solidity": 0.2
             }
            },
            "type": "barpolar"
           }
          ],
          "carpet": [
           {
            "aaxis": {
             "endlinecolor": "#2a3f5f",
             "gridcolor": "white",
             "linecolor": "white",
             "minorgridcolor": "white",
             "startlinecolor": "#2a3f5f"
            },
            "baxis": {
             "endlinecolor": "#2a3f5f",
             "gridcolor": "white",
             "linecolor": "white",
             "minorgridcolor": "white",
             "startlinecolor": "#2a3f5f"
            },
            "type": "carpet"
           }
          ],
          "choropleth": [
           {
            "colorbar": {
             "outlinewidth": 0,
             "ticks": ""
            },
            "type": "choropleth"
           }
          ],
          "contour": [
           {
            "colorbar": {
             "outlinewidth": 0,
             "ticks": ""
            },
            "colorscale": [
             [
              0,
              "#0d0887"
             ],
             [
              0.1111111111111111,
              "#46039f"
             ],
             [
              0.2222222222222222,
              "#7201a8"
             ],
             [
              0.3333333333333333,
              "#9c179e"
             ],
             [
              0.4444444444444444,
              "#bd3786"
             ],
             [
              0.5555555555555556,
              "#d8576b"
             ],
             [
              0.6666666666666666,
              "#ed7953"
             ],
             [
              0.7777777777777778,
              "#fb9f3a"
             ],
             [
              0.8888888888888888,
              "#fdca26"
             ],
             [
              1,
              "#f0f921"
             ]
            ],
            "type": "contour"
           }
          ],
          "contourcarpet": [
           {
            "colorbar": {
             "outlinewidth": 0,
             "ticks": ""
            },
            "type": "contourcarpet"
           }
          ],
          "heatmap": [
           {
            "colorbar": {
             "outlinewidth": 0,
             "ticks": ""
            },
            "colorscale": [
             [
              0,
              "#0d0887"
             ],
             [
              0.1111111111111111,
              "#46039f"
             ],
             [
              0.2222222222222222,
              "#7201a8"
             ],
             [
              0.3333333333333333,
              "#9c179e"
             ],
             [
              0.4444444444444444,
              "#bd3786"
             ],
             [
              0.5555555555555556,
              "#d8576b"
             ],
             [
              0.6666666666666666,
              "#ed7953"
             ],
             [
              0.7777777777777778,
              "#fb9f3a"
             ],
             [
              0.8888888888888888,
              "#fdca26"
             ],
             [
              1,
              "#f0f921"
             ]
            ],
            "type": "heatmap"
           }
          ],
          "heatmapgl": [
           {
            "colorbar": {
             "outlinewidth": 0,
             "ticks": ""
            },
            "colorscale": [
             [
              0,
              "#0d0887"
             ],
             [
              0.1111111111111111,
              "#46039f"
             ],
             [
              0.2222222222222222,
              "#7201a8"
             ],
             [
              0.3333333333333333,
              "#9c179e"
             ],
             [
              0.4444444444444444,
              "#bd3786"
             ],
             [
              0.5555555555555556,
              "#d8576b"
             ],
             [
              0.6666666666666666,
              "#ed7953"
             ],
             [
              0.7777777777777778,
              "#fb9f3a"
             ],
             [
              0.8888888888888888,
              "#fdca26"
             ],
             [
              1,
              "#f0f921"
             ]
            ],
            "type": "heatmapgl"
           }
          ],
          "histogram": [
           {
            "marker": {
             "pattern": {
              "fillmode": "overlay",
              "size": 10,
              "solidity": 0.2
             }
            },
            "type": "histogram"
           }
          ],
          "histogram2d": [
           {
            "colorbar": {
             "outlinewidth": 0,
             "ticks": ""
            },
            "colorscale": [
             [
              0,
              "#0d0887"
             ],
             [
              0.1111111111111111,
              "#46039f"
             ],
             [
              0.2222222222222222,
              "#7201a8"
             ],
             [
              0.3333333333333333,
              "#9c179e"
             ],
             [
              0.4444444444444444,
              "#bd3786"
             ],
             [
              0.5555555555555556,
              "#d8576b"
             ],
             [
              0.6666666666666666,
              "#ed7953"
             ],
             [
              0.7777777777777778,
              "#fb9f3a"
             ],
             [
              0.8888888888888888,
              "#fdca26"
             ],
             [
              1,
              "#f0f921"
             ]
            ],
            "type": "histogram2d"
           }
          ],
          "histogram2dcontour": [
           {
            "colorbar": {
             "outlinewidth": 0,
             "ticks": ""
            },
            "colorscale": [
             [
              0,
              "#0d0887"
             ],
             [
              0.1111111111111111,
              "#46039f"
             ],
             [
              0.2222222222222222,
              "#7201a8"
             ],
             [
              0.3333333333333333,
              "#9c179e"
             ],
             [
              0.4444444444444444,
              "#bd3786"
             ],
             [
              0.5555555555555556,
              "#d8576b"
             ],
             [
              0.6666666666666666,
              "#ed7953"
             ],
             [
              0.7777777777777778,
              "#fb9f3a"
             ],
             [
              0.8888888888888888,
              "#fdca26"
             ],
             [
              1,
              "#f0f921"
             ]
            ],
            "type": "histogram2dcontour"
           }
          ],
          "mesh3d": [
           {
            "colorbar": {
             "outlinewidth": 0,
             "ticks": ""
            },
            "type": "mesh3d"
           }
          ],
          "parcoords": [
           {
            "line": {
             "colorbar": {
              "outlinewidth": 0,
              "ticks": ""
             }
            },
            "type": "parcoords"
           }
          ],
          "pie": [
           {
            "automargin": true,
            "type": "pie"
           }
          ],
          "scatter": [
           {
            "fillpattern": {
             "fillmode": "overlay",
             "size": 10,
             "solidity": 0.2
            },
            "type": "scatter"
           }
          ],
          "scatter3d": [
           {
            "line": {
             "colorbar": {
              "outlinewidth": 0,
              "ticks": ""
             }
            },
            "marker": {
             "colorbar": {
              "outlinewidth": 0,
              "ticks": ""
             }
            },
            "type": "scatter3d"
           }
          ],
          "scattercarpet": [
           {
            "marker": {
             "colorbar": {
              "outlinewidth": 0,
              "ticks": ""
             }
            },
            "type": "scattercarpet"
           }
          ],
          "scattergeo": [
           {
            "marker": {
             "colorbar": {
              "outlinewidth": 0,
              "ticks": ""
             }
            },
            "type": "scattergeo"
           }
          ],
          "scattergl": [
           {
            "marker": {
             "colorbar": {
              "outlinewidth": 0,
              "ticks": ""
             }
            },
            "type": "scattergl"
           }
          ],
          "scattermapbox": [
           {
            "marker": {
             "colorbar": {
              "outlinewidth": 0,
              "ticks": ""
             }
            },
            "type": "scattermapbox"
           }
          ],
          "scatterpolar": [
           {
            "marker": {
             "colorbar": {
              "outlinewidth": 0,
              "ticks": ""
             }
            },
            "type": "scatterpolar"
           }
          ],
          "scatterpolargl": [
           {
            "marker": {
             "colorbar": {
              "outlinewidth": 0,
              "ticks": ""
             }
            },
            "type": "scatterpolargl"
           }
          ],
          "scatterternary": [
           {
            "marker": {
             "colorbar": {
              "outlinewidth": 0,
              "ticks": ""
             }
            },
            "type": "scatterternary"
           }
          ],
          "surface": [
           {
            "colorbar": {
             "outlinewidth": 0,
             "ticks": ""
            },
            "colorscale": [
             [
              0,
              "#0d0887"
             ],
             [
              0.1111111111111111,
              "#46039f"
             ],
             [
              0.2222222222222222,
              "#7201a8"
             ],
             [
              0.3333333333333333,
              "#9c179e"
             ],
             [
              0.4444444444444444,
              "#bd3786"
             ],
             [
              0.5555555555555556,
              "#d8576b"
             ],
             [
              0.6666666666666666,
              "#ed7953"
             ],
             [
              0.7777777777777778,
              "#fb9f3a"
             ],
             [
              0.8888888888888888,
              "#fdca26"
             ],
             [
              1,
              "#f0f921"
             ]
            ],
            "type": "surface"
           }
          ],
          "table": [
           {
            "cells": {
             "fill": {
              "color": "#EBF0F8"
             },
             "line": {
              "color": "white"
             }
            },
            "header": {
             "fill": {
              "color": "#C8D4E3"
             },
             "line": {
              "color": "white"
             }
            },
            "type": "table"
           }
          ]
         },
         "layout": {
          "annotationdefaults": {
           "arrowcolor": "#2a3f5f",
           "arrowhead": 0,
           "arrowwidth": 1
          },
          "autotypenumbers": "strict",
          "coloraxis": {
           "colorbar": {
            "outlinewidth": 0,
            "ticks": ""
           }
          },
          "colorscale": {
           "diverging": [
            [
             0,
             "#8e0152"
            ],
            [
             0.1,
             "#c51b7d"
            ],
            [
             0.2,
             "#de77ae"
            ],
            [
             0.3,
             "#f1b6da"
            ],
            [
             0.4,
             "#fde0ef"
            ],
            [
             0.5,
             "#f7f7f7"
            ],
            [
             0.6,
             "#e6f5d0"
            ],
            [
             0.7,
             "#b8e186"
            ],
            [
             0.8,
             "#7fbc41"
            ],
            [
             0.9,
             "#4d9221"
            ],
            [
             1,
             "#276419"
            ]
           ],
           "sequential": [
            [
             0,
             "#0d0887"
            ],
            [
             0.1111111111111111,
             "#46039f"
            ],
            [
             0.2222222222222222,
             "#7201a8"
            ],
            [
             0.3333333333333333,
             "#9c179e"
            ],
            [
             0.4444444444444444,
             "#bd3786"
            ],
            [
             0.5555555555555556,
             "#d8576b"
            ],
            [
             0.6666666666666666,
             "#ed7953"
            ],
            [
             0.7777777777777778,
             "#fb9f3a"
            ],
            [
             0.8888888888888888,
             "#fdca26"
            ],
            [
             1,
             "#f0f921"
            ]
           ],
           "sequentialminus": [
            [
             0,
             "#0d0887"
            ],
            [
             0.1111111111111111,
             "#46039f"
            ],
            [
             0.2222222222222222,
             "#7201a8"
            ],
            [
             0.3333333333333333,
             "#9c179e"
            ],
            [
             0.4444444444444444,
             "#bd3786"
            ],
            [
             0.5555555555555556,
             "#d8576b"
            ],
            [
             0.6666666666666666,
             "#ed7953"
            ],
            [
             0.7777777777777778,
             "#fb9f3a"
            ],
            [
             0.8888888888888888,
             "#fdca26"
            ],
            [
             1,
             "#f0f921"
            ]
           ]
          },
          "colorway": [
           "#636efa",
           "#EF553B",
           "#00cc96",
           "#ab63fa",
           "#FFA15A",
           "#19d3f3",
           "#FF6692",
           "#B6E880",
           "#FF97FF",
           "#FECB52"
          ],
          "font": {
           "color": "#2a3f5f"
          },
          "geo": {
           "bgcolor": "white",
           "lakecolor": "white",
           "landcolor": "#E5ECF6",
           "showlakes": true,
           "showland": true,
           "subunitcolor": "white"
          },
          "hoverlabel": {
           "align": "left"
          },
          "hovermode": "closest",
          "mapbox": {
           "style": "light"
          },
          "paper_bgcolor": "white",
          "plot_bgcolor": "#E5ECF6",
          "polar": {
           "angularaxis": {
            "gridcolor": "white",
            "linecolor": "white",
            "ticks": ""
           },
           "bgcolor": "#E5ECF6",
           "radialaxis": {
            "gridcolor": "white",
            "linecolor": "white",
            "ticks": ""
           }
          },
          "scene": {
           "xaxis": {
            "backgroundcolor": "#E5ECF6",
            "gridcolor": "white",
            "gridwidth": 2,
            "linecolor": "white",
            "showbackground": true,
            "ticks": "",
            "zerolinecolor": "white"
           },
           "yaxis": {
            "backgroundcolor": "#E5ECF6",
            "gridcolor": "white",
            "gridwidth": 2,
            "linecolor": "white",
            "showbackground": true,
            "ticks": "",
            "zerolinecolor": "white"
           },
           "zaxis": {
            "backgroundcolor": "#E5ECF6",
            "gridcolor": "white",
            "gridwidth": 2,
            "linecolor": "white",
            "showbackground": true,
            "ticks": "",
            "zerolinecolor": "white"
           }
          },
          "shapedefaults": {
           "line": {
            "color": "#2a3f5f"
           }
          },
          "ternary": {
           "aaxis": {
            "gridcolor": "white",
            "linecolor": "white",
            "ticks": ""
           },
           "baxis": {
            "gridcolor": "white",
            "linecolor": "white",
            "ticks": ""
           },
           "bgcolor": "#E5ECF6",
           "caxis": {
            "gridcolor": "white",
            "linecolor": "white",
            "ticks": ""
           }
          },
          "title": {
           "x": 0.05
          },
          "xaxis": {
           "automargin": true,
           "gridcolor": "white",
           "linecolor": "white",
           "ticks": "",
           "title": {
            "standoff": 15
           },
           "zerolinecolor": "white",
           "zerolinewidth": 2
          },
          "yaxis": {
           "automargin": true,
           "gridcolor": "white",
           "linecolor": "white",
           "ticks": "",
           "title": {
            "standoff": 15
           },
           "zerolinecolor": "white",
           "zerolinewidth": 2
          }
         }
        },
        "title": {
         "text": "Consumer Confidence Distribution",
         "x": 0.5
        },
        "xaxis": {
         "anchor": "y",
         "autorange": true,
         "domain": [
          0,
          1
         ],
         "range": [
          73.89500000000001,
          131.67499999999998
         ],
         "title": {
          "text": "Price Range"
         },
         "type": "linear"
        },
        "yaxis": {
         "anchor": "x",
         "autorange": true,
         "domain": [
          0,
          1
         ],
         "range": [
          6823.107777777778,
          46234.212222222224
         ],
         "title": {
          "text": "Consumer Confidence"
         },
         "type": "linear"
        }
       }
      },
      "image/png": "[encoded data removed]",
      "text/html": [
       "<div>                            <div id=\"f2e2d5c1-7159-4479-8135-1bd3088923a8\" class=\"plotly-graph-div\" style=\"height:525px; width:100%;\"></div>            <script type=\"text/javascript\">                require([\"plotly\"], function(Plotly) {                    window.PLOTLYENV=window.PLOTLYENV || {};                                    if (document.getElementById(\"f2e2d5c1-7159-4479-8135-1bd3088923a8\")) {                    Plotly.newPlot(                        \"f2e2d5c1-7159-4479-8135-1bd3088923a8\",                        [{\"alignmentgroup\":\"True\",\"hovertemplate\":\"City=Georgia\\u003cbr\\u003eConsumer_Confidence=%{x}\\u003cbr\\u003ePrice=%{y}\\u003cextra\\u003e\\u003c\\u002fextra\\u003e\",\"legendgroup\":\"Georgia\",\"marker\":{\"color\":\"#636efa\"},\"name\":\"Georgia\",\"notched\":false,\"offsetgroup\":\"Georgia\",\"orientation\":\"v\",\"showlegend\":true,\"x\":[108.24,87.32,102.18,97.17,96.9,101.16,93.69,101.33,105.94,81.07,97.17,119.77,113.51,97.78,106.5,115.67,121.64,97.96,105.06,91.57,99.86,96.3,97.87,79.12,92.67,106.0,95.42,106.68,126.06,98.04,87.26,91.44,87.16,120.42,117.14,110.1,98.04,76.28,93.5,99.91,95.48,108.32,102.08,98.51,105.97,81.69,131.67,77.54,99.31,101.25,90.34,91.47,91.18,96.7,96.49,92.96,94.44,93.96,111.04,95.51,111.27,112.99,104.31,88.83,108.6,103.54,125.16,95.18,116.27,75.19,105.14,119.63,92.2,101.33,131.05,125.94,99.17,115.1,116.41,86.75,97.05,100.17,99.06,109.96,84.87,95.32,117.91,94.84,97.4,108.39,95.6,96.65,93.96,106.94,98.88,107.9,85.31,91.01,100.42,116.2,106.22,100.87,95.33,124.56,103.16,99.34,109.49,105.87,106.81,110.93,86.48,117.09,95.87,83.13,108.24,101.13,108.68,96.73,88.45,97.09,95.92],\"x0\":\" \",\"xaxis\":\"x\",\"y\":[27483.571,16375.411,25337.641,24932.514,29112.725,18895.782,20453.063,22168.511,23389.692,28909.114,18815.246,29328.776,18998.518,33827.271,18695.58,29589.31,30162.326,21461.653,20365.348,8793.663,19878.062,17849.293,22465.284,23932.764,26554.538,29288.298,24904.919,26613.593,15201.649,24421.759,26620.42,21615.39,23453.938,22604.129,19018.967,29062.629,31781.2,30017.664,32690.183,25458.804,26785.563,25485.388,29843.225,21489.735,17682.425,34430.93,25872.889,15406.144,24038.195,24826.441,30714.114,28759.665,18397.717,26732.241,21599.876,21428.243,34328.873,28282.768,29816.881,23773.059,21231.319,26383.454,28128.337,23882.686,24635.855,20766.031,26070.469,26926.587,20580.713,25768.626,25291.044,27854.453,19611.276,21741.998,25995.298,25349.01,25567.587,32930.084,18810.923,31388.324,23989.037,23911.594,30493.884,23448.666,18929.057,24938.766,20513.728,29875.599,27008.559,26120.462,21134.951,32255.718,35765.912,25916.71,35949.015,20801.391,14380.521,22371.225,30897.201,31189.082,17027.862,19376.79,30896.486,28226.88,30292.122,16206.303,32511.785,24464.848,19823.788,26069.9,13490.394,27882.785,26556.251,21767.136,27694.55,27814.846,21746.787,25242.608,28756.936,16862.288,25240.425],\"y0\":\" \",\"yaxis\":\"y\",\"type\":\"box\"},{\"alignmentgroup\":\"True\",\"hovertemplate\":\"City=New York\\u003cbr\\u003eConsumer_Confidence=%{x}\\u003cbr\\u003ePrice=%{y}\\u003cextra\\u003e\\u003c\\u002fextra\\u003e\",\"legendgroup\":\"New York\",\"marker\":{\"color\":\"#EF553B\"},\"name\":\"New York\",\"notched\":false,\"offsetgroup\":\"New York\",\"orientation\":\"v\",\"showlegend\":true,\"x\":[98.75,107.48,98.76,101.45,102.33,90.55,123.03,106.92,108.05,100.11,101.22,100.36,108.2,111.04,88.31,92.57,90.72,99.05,108.62,94.2,99.76,97.02,95.26,86.55,104.28,91.9,94.06,99.73,112.39,97.85,106.57,121.91,103.4,127.42,100.8,79.2,113.34,84.79,117.38,106.67,116.14,97.5,98.72,105.08,87.51,105.71,104.7,101.77,93.34,91.22,102.3,100.46,111.07,105.57,118.47,119.11,93.71,99.52,95.05,107.31,115.49,88.29,109.42,97.12,105.02,117.21,116.38,103.66,84.2,94.26,85.47,99.28,112.75,93.91,110.75,90.21,103.52,117.02,84.66,108.61,112.65,96.65,99.08,107.68,104.12,106.0,87.23,112.46,114.44,102.76,98.5,94.09,80.48,91.13,104.24,87.03,83.63,114.95,87.63,118.15,107.68,96.09,86.59,115.86,122.12,117.68,104.51,98.5,83.66,78.14,109.17,98.4,85.9,104.62,102.07,95.21,100.91,105.14,100.68,95.37,101.77,102.65,103.75,90.87,104.36,95.53,94.14,86.88,101.44,107.34,84.5,97.27,102.05,86.55,84.62,99.88,82.04,113.11,99.8,103.84,107.73,97.63,104.25,103.36],\"x0\":\" \",\"xaxis\":\"x\",\"y\":[24308.678,28238.443,28837.174,27712.8,22671.351,20459.88,17938.481,22278.086,19245.032,23541.531,19711.445,17990.745,35952.278,20047.318,20402.879,32749.672,21083.734,18845.678,25923.169,22625.273,21733.354,35610.781,18761.084,33162.057,21407.779,24200.307,19987.353,23556.707,24960.137,32399.721,17607.39,26718.091,16184.799,28058.381,30154.998,20803.912,26656.317,32823.218,25435.235,32389.47,22408.649,22491.215,26480.601,23827.064,17923.146,22896.773,20988.614,27020.254,24627.77,24867.431,19156.61,28955.16,26161.268,26465.362,28935.423,20896.588,29110.301,26705.76,32267.67,38600.846,27412.362,28570.002,27366.188,17425.764,22767.425,29281.994,26788.937,30415.256,30269.01,18111.653,27575.238,28256.956,28794.846,22640.341,28397.989,26082.293,25227.859,35719.72,14874.287,25932.272,21691.068,21037.396,32206.366,27310.517,23073.432,35665.167,24241.075,26404.959,21535.452,25586.637,28409.765,26620.832,24349.285,25484.98,27975.785,19969.913,30790.554,28120.599,20872.514,25062.962,20958.509,22003.037,21204.337,34380.854,20507.927,34157.294,16434.327,22749.673,28114.25,24288.103,17329.429,31388.384,25578.373,35303.74,29857.855,28430.257,19083.707,28587.711,24836.526,26832.991,22430.665,19703.932,29775.712,27520.233,22348.712,34823.626,25176.318,24438.36,23895.152,23624.742,31834.371,20222.298,20693.579,32615.62,18086.001,18007.162,22564.373,22038.03,23805.26,20462.182,25496.662,16652.974,21686.881,27852.993],\"y0\":\" \",\"yaxis\":\"y\",\"type\":\"box\"},{\"alignmentgroup\":\"True\",\"hovertemplate\":\"City=Illinois\\u003cbr\\u003eConsumer_Confidence=%{x}\\u003cbr\\u003ePrice=%{y}\\u003cextra\\u003e\\u003c\\u002fextra\\u003e\",\"legendgroup\":\"Illinois\",\"marker\":{\"color\":\"#00cc96\"},\"name\":\"Illinois\",\"notched\":false,\"offsetgroup\":\"Illinois\",\"orientation\":\"v\",\"showlegend\":true,\"x\":[115.01,105.55,82.45,95.2,109.86,94.06,112.86,100.4,102.67,87.49,96.22,97.34,110.4,98.48,106.53,104.64,87.85,84.42,116.72,86.3,91.05,104.0,101.48,98.97,94.83,111.62,96.39,106.16,107.92,93.36,114.14,103.18,104.85,101.45,89.06,95.62,88.14,93.22,97.34,90.47,97.25,105.63,93.41,104.69,125.02,83.01,122.36,82.38,98.12,96.09,99.54,97.66,94.32,106.78,101.08,108.34,96.56,83.44,95.81,97.43,115.01,111.55,119.65,109.02,102.58,104.69,93.79,104.37,90.88,88.54,106.32,105.59,103.84,103.47,84.51,84.6,86.14,103.79,92.64,98.0,91.52,115.42,110.73,83.82,87.4,112.06,101.78,100.44,106.29,105.07,107.52,109.31,96.73,112.23,111.64,110.71,111.12,97.68,100.03,100.58,100.9,108.55,109.79,113.19,115.31,99.03,95.73,105.22,109.79,94.6,98.5,95.38,89.98,125.46,105.79,111.61,89.19,83.82,110.7,108.92,99.2,89.37,92.6,105.59,93.82,92.51,87.47,94.79,85.0,86.7,88.1,97.0,90.87,96.04],\"x0\":\" \",\"xaxis\":\"x\",\"y\":[32615.149,23829.315,32896.064,26209.811,32328.244,23871.118,25554.613,21996.807,21991.467,26044.318,17246.683,19688.481,29067.586,31535.714,26299.414,23327.494,27024.909,17403.15,31334.556,23737.159,22181.377,26160.25,17759.578,24907.434,20863.845,33435.708,25984.306,25856.841,21400.779,30285.611,23074.589,29877.726,24071.705,19468.325,24639.949,26808.18,21774.401,24820.87,11901.274,29577.011,26643.756,22351.199,23361.689,25025.567,23286.427,24193.571,26287.752,37316.211,26507.737,27609.708,26252.464,20126.592,20552.428,24614.491,29135.916,25065.009,19645.538,18771.306,25865.905,19285.149,27803.923,27568.93,44263.657,23423.654,21135.874,23815.907,22573.182,25409.371,15663.674,30444.753,21348.167,29262.167,30815.819,21998.916,27941.586,29248.01,26785.077,26536.498,28148.144,20855.025,22199.095,28736.468,22042.143,29127.082,35461.936,28958.313,28141.728,24264.713,23393.071,32663.695,22993.898,27489.991,21163.262,29361.603,25751.969,22115.482,27459.596,22654.122,24427.301,22003.125,25026.218,25601.478,27572.194,28558.074,21257.567,32755.76,25337.592,23755.179,31843.158,23652.966,18099.493,16483.088,26920.327,14662.789,18477.652,28348.363,20300.601,24686.605,20071.37,21035.636,21501.372,28070.834,28787.539,22347.494,33224.839,16967.768,19592.26,25386.842,29630.888,34547.083,20845.249,24748.809,22116.143,27716.801],\"y0\":\" \",\"yaxis\":\"y\",\"type\":\"box\"},{\"alignmentgroup\":\"True\",\"hovertemplate\":\"City=California\\u003cbr\\u003eConsumer_Confidence=%{x}\\u003cbr\\u003ePrice=%{y}\\u003cextra\\u003e\\u003c\\u002fextra\\u003e\",\"legendgroup\":\"California\",\"marker\":{\"color\":\"#ab63fa\"},\"name\":\"California\",\"notched\":false,\"offsetgroup\":\"California\",\"orientation\":\"v\",\"showlegend\":true,\"x\":[98.72,87.68,102.36,122.98,86.71,116.55,92.96,119.46,109.3,107.34,109.07,118.65,101.57,117.31,105.47,97.31,102.3,91.89,110.54,98.14,110.43,80.03,91.19,116.16,119.72,100.68,83.26,105.05,84.48,92.67,91.81,90.36,99.33,110.13,125.98,93.35,101.68,98.65,107.86,104.6,84.67,95.24,94.99,98.19,93.3,104.92,104.9,94.13,117.25,98.31,107.31,92.77,102.43,95.36,86.74,96.15,103.28,101.63,99.86,96.17,100.63,95.29,113.83,124.13,106.51,96.63,103.52,105.03,110.31,108.74,96.27,111.34,98.73,107.49,92.83,116.57,73.9,98.93,118.04,93.14,110.47,115.46,92.33,92.4,121.9,101.74,110.89,101.91,103.73,101.98,101.81,90.1,83.87,102.06,113.38,79.8,78.49,89.51,88.19,110.22,88.13,123.47,102.54,113.14,93.38,91.77,111.52,104.13,97.55,88.72,88.1,106.67,118.96,103.9,112.04,106.81,108.68,111.31,117.16,116.9,108.71,97.53,106.94,112.49,97.18,108.65,107.64,101.55,124.66],\"x0\":\" \",\"xaxis\":\"x\",\"y\":[23829.233,22652.628,22682.912,15433.599,22188.562,19935.844,26571.237,17876.259,26878.49,34261.391,32013.972,27934.285,25498.257,22482.622,25342.815,27367.962,26137.3,16962.584,22578.83,27219.097,28873.17,24702.373,20888.898,26218.436,26224.833,22644.808,17962.681,32376.781,29408.199,18359.07,28692.333,23494.482,22696.806,29656.401,26806.978,29109.513,23504.963,15062.155,23901.641,20957.532,27566.337,23039.459,26305.276,25301.151,26484.923,27369.165,19043.483,30792.978,27063.905,34483.965,20920.949,23676.716,20714.212,20310.875,27575.176,30677.828,29770.009,36573.293,28431.301,16936.421,25321.4,21423.481,28169.595,24426.318,27524.936,22799.778,25653.703,17820.689,25051.165,20092.457,28310.653,15239.561,21886.502,23959.389,22534.995,22053.176,29497.999,29064.311,28051.851,24895.492,27735.487,29067.548,31527.394,25105.019,20908.897,25379.023,21614.191,27064.657,27596.733,24456.199,28450.72,25488.38,25122.551,29796.354,26708.78,29752.119,18398.834,31769.362,25234.903,19661.898,26661.57,33776.704,20175.383,14803.839,25370.474,33143.078,24722.262,24554.4,22231.753,19010.611,22120.909,17424.045,23754.82,40394.404,30597.875,24360.412,26017.318,21218.246,17888.731,19813.769,24048.307,20621.909,20680.046,26352.284,28776.956,27504.586,20112.224,21183.704,15975.589],\"y0\":\" \",\"yaxis\":\"y\",\"type\":\"box\"}],                        {\"template\":{\"data\":{\"histogram2dcontour\":[{\"type\":\"histogram2dcontour\",\"colorbar\":{\"outlinewidth\":0,\"ticks\":\"\"},\"colorscale\":[[0.0,\"#0d0887\"],[0.1111111111111111,\"#46039f\"],[0.2222222222222222,\"#7201a8\"],[0.3333333333333333,\"#9c179e\"],[0.4444444444444444,\"#bd3786\"],[0.5555555555555556,\"#d8576b\"],[0.6666666666666666,\"#ed7953\"],[0.7777777777777778,\"#fb9f3a\"],[0.8888888888888888,\"#fdca26\"],[1.0,\"#f0f921\"]]}],\"choropleth\":[{\"type\":\"choropleth\",\"colorbar\":{\"outlinewidth\":0,\"ticks\":\"\"}}],\"histogram2d\":[{\"type\":\"histogram2d\",\"colorbar\":{\"outlinewidth\":0,\"ticks\":\"\"},\"colorscale\":[[0.0,\"#0d0887\"],[0.1111111111111111,\"#46039f\"],[0.2222222222222222,\"#7201a8\"],[0.3333333333333333,\"#9c179e\"],[0.4444444444444444,\"#bd3786\"],[0.5555555555555556,\"#d8576b\"],[0.6666666666666666,\"#ed7953\"],[0.7777777777777778,\"#fb9f3a\"],[0.8888888888888888,\"#fdca26\"],[1.0,\"#f0f921\"]]}],\"heatmap\":[{\"type\":\"heatmap\",\"colorbar\":{\"outlinewidth\":0,\"ticks\":\"\"},\"colorscale\":[[0.0,\"#0d0887\"],[0.1111111111111111,\"#46039f\"],[0.2222222222222222,\"#7201a8\"],[0.3333333333333333,\"#9c179e\"],[0.4444444444444444,\"#bd3786\"],[0.5555555555555556,\"#d8576b\"],[0.6666666666666666,\"#ed7953\"],[0.7777777777777778,\"#fb9f3a\"],[0.8888888888888888,\"#fdca26\"],[1.0,\"#f0f921\"]]}],\"heatmapgl\":[{\"type\":\"heatmapgl\",\"colorbar\":{\"outlinewidth\":0,\"ticks\":\"\"},\"colorscale\":[[0.0,\"#0d0887\"],[0.1111111111111111,\"#46039f\"],[0.2222222222222222,\"#7201a8\"],[0.3333333333333333,\"#9c179e\"],[0.4444444444444444,\"#bd3786\"],[0.5555555555555556,\"#d8576b\"],[0.6666666666666666,\"#ed7953\"],[0.7777777777777778,\"#fb9f3a\"],[0.8888888888888888,\"#fdca26\"],[1.0,\"#f0f921\"]]}],\"contourcarpet\":[{\"type\":\"contourcarpet\",\"colorbar\":{\"outlinewidth\":0,\"ticks\":\"\"}}],\"contour\":[{\"type\":\"contour\",\"colorbar\":{\"outlinewidth\":0,\"ticks\":\"\"},\"colorscale\":[[0.0,\"#0d0887\"],[0.1111111111111111,\"#46039f\"],[0.2222222222222222,\"#7201a8\"],[0.3333333333333333,\"#9c179e\"],[0.4444444444444444,\"#bd3786\"],[0.5555555555555556,\"#d8576b\"],[0.6666666666666666,\"#ed7953\"],[0.7777777777777778,\"#fb9f3a\"],[0.8888888888888888,\"#fdca26\"],[1.0,\"#f0f921\"]]}],\"surface\":[{\"type\":\"surface\",\"colorbar\":{\"outlinewidth\":0,\"ticks\":\"\"},\"colorscale\":[[0.0,\"#0d0887\"],[0.1111111111111111,\"#46039f\"],[0.2222222222222222,\"#7201a8\"],[0.3333333333333333,\"#9c179e\"],[0.4444444444444444,\"#bd3786\"],[0.5555555555555556,\"#d8576b\"],[0.6666666666666666,\"#ed7953\"],[0.7777777777777778,\"#fb9f3a\"],[0.8888888888888888,\"#fdca26\"],[1.0,\"#f0f921\"]]}],\"mesh3d\":[{\"type\":\"mesh3d\",\"colorbar\":{\"outlinewidth\":0,\"ticks\":\"\"}}],\"scatter\":[{\"fillpattern\":{\"fillmode\":\"overlay\",\"size\":10,\"solidity\":0.2},\"type\":\"scatter\"}],\"parcoords\":[{\"type\":\"parcoords\",\"line\":{\"colorbar\":{\"outlinewidth\":0,\"ticks\":\"\"}}}],\"scatterpolargl\":[{\"type\":\"scatterpolargl\",\"marker\":{\"colorbar\":{\"outlinewidth\":0,\"ticks\":\"\"}}}],\"bar\":[{\"error_x\":{\"color\":\"#2a3f5f\"},\"error_y\":{\"color\":\"#2a3f5f\"},\"marker\":{\"line\":{\"color\":\"#E5ECF6\",\"width\":0.5},\"pattern\":{\"fillmode\":\"overlay\",\"size\":10,\"solidity\":0.2}},\"type\":\"bar\"}],\"scattergeo\":[{\"type\":\"scattergeo\",\"marker\":{\"colorbar\":{\"outlinewidth\":0,\"ticks\":\"\"}}}],\"scatterpolar\":[{\"type\":\"scatterpolar\",\"marker\":{\"colorbar\":{\"outlinewidth\":0,\"ticks\":\"\"}}}],\"histogram\":[{\"marker\":{\"pattern\":{\"fillmode\":\"overlay\",\"size\":10,\"solidity\":0.2}},\"type\":\"histogram\"}],\"scattergl\":[{\"type\":\"scattergl\",\"marker\":{\"colorbar\":{\"outlinewidth\":0,\"ticks\":\"\"}}}],\"scatter3d\":[{\"type\":\"scatter3d\",\"line\":{\"colorbar\":{\"outlinewidth\":0,\"ticks\":\"\"}},\"marker\":{\"colorbar\":{\"outlinewidth\":0,\"ticks\":\"\"}}}],\"scattermapbox\":[{\"type\":\"scattermapbox\",\"marker\":{\"colorbar\":{\"outlinewidth\":0,\"ticks\":\"\"}}}],\"scatterternary\":[{\"type\":\"scatterternary\",\"marker\":{\"colorbar\":{\"outlinewidth\":0,\"ticks\":\"\"}}}],\"scattercarpet\":[{\"type\":\"scattercarpet\",\"marker\":{\"colorbar\":{\"outlinewidth\":0,\"ticks\":\"\"}}}],\"carpet\":[{\"aaxis\":{\"endlinecolor\":\"#2a3f5f\",\"gridcolor\":\"white\",\"linecolor\":\"white\",\"minorgridcolor\":\"white\",\"startlinecolor\":\"#2a3f5f\"},\"baxis\":{\"endlinecolor\":\"#2a3f5f\",\"gridcolor\":\"white\",\"linecolor\":\"white\",\"minorgridcolor\":\"white\",\"startlinecolor\":\"#2a3f5f\"},\"type\":\"carpet\"}],\"table\":[{\"cells\":{\"fill\":{\"color\":\"#EBF0F8\"},\"line\":{\"color\":\"white\"}},\"header\":{\"fill\":{\"color\":\"#C8D4E3\"},\"line\":{\"color\":\"white\"}},\"type\":\"table\"}],\"barpolar\":[{\"marker\":{\"line\":{\"color\":\"#E5ECF6\",\"width\":0.5},\"pattern\":{\"fillmode\":\"overlay\",\"size\":10,\"solidity\":0.2}},\"type\":\"barpolar\"}],\"pie\":[{\"automargin\":true,\"type\":\"pie\"}]},\"layout\":{\"autotypenumbers\":\"strict\",\"colorway\":[\"#636efa\",\"#EF553B\",\"#00cc96\",\"#ab63fa\",\"#FFA15A\",\"#19d3f3\",\"#FF6692\",\"#B6E880\",\"#FF97FF\",\"#FECB52\"],\"font\":{\"color\":\"#2a3f5f\"},\"hovermode\":\"closest\",\"hoverlabel\":{\"align\":\"left\"},\"paper_bgcolor\":\"white\",\"plot_bgcolor\":\"#E5ECF6\",\"polar\":{\"bgcolor\":\"#E5ECF6\",\"angularaxis\":{\"gridcolor\":\"white\",\"linecolor\":\"white\",\"ticks\":\"\"},\"radialaxis\":{\"gridcolor\":\"white\",\"linecolor\":\"white\",\"ticks\":\"\"}},\"ternary\":{\"bgcolor\":\"#E5ECF6\",\"aaxis\":{\"gridcolor\":\"white\",\"linecolor\":\"white\",\"ticks\":\"\"},\"baxis\":{\"gridcolor\":\"white\",\"linecolor\":\"white\",\"ticks\":\"\"},\"caxis\":{\"gridcolor\":\"white\",\"linecolor\":\"white\",\"ticks\":\"\"}},\"coloraxis\":{\"colorbar\":{\"outlinewidth\":0,\"ticks\":\"\"}},\"colorscale\":{\"sequential\":[[0.0,\"#0d0887\"],[0.1111111111111111,\"#46039f\"],[0.2222222222222222,\"#7201a8\"],[0.3333333333333333,\"#9c179e\"],[0.4444444444444444,\"#bd3786\"],[0.5555555555555556,\"#d8576b\"],[0.6666666666666666,\"#ed7953\"],[0.7777777777777778,\"#fb9f3a\"],[0.8888888888888888,\"#fdca26\"],[1.0,\"#f0f921\"]],\"sequentialminus\":[[0.0,\"#0d0887\"],[0.1111111111111111,\"#46039f\"],[0.2222222222222222,\"#7201a8\"],[0.3333333333333333,\"#9c179e\"],[0.4444444444444444,\"#bd3786\"],[0.5555555555555556,\"#d8576b\"],[0.6666666666666666,\"#ed7953\"],[0.7777777777777778,\"#fb9f3a\"],[0.8888888888888888,\"#fdca26\"],[1.0,\"#f0f921\"]],\"diverging\":[[0,\"#8e0152\"],[0.1,\"#c51b7d\"],[0.2,\"#de77ae\"],[0.3,\"#f1b6da\"],[0.4,\"#fde0ef\"],[0.5,\"#f7f7f7\"],[0.6,\"#e6f5d0\"],[0.7,\"#b8e186\"],[0.8,\"#7fbc41\"],[0.9,\"#4d9221\"],[1,\"#276419\"]]},\"xaxis\":{\"gridcolor\":\"white\",\"linecolor\":\"white\",\"ticks\":\"\",\"title\":{\"standoff\":15},\"zerolinecolor\":\"white\",\"automargin\":true,\"zerolinewidth\":2},\"yaxis\":{\"gridcolor\":\"white\",\"linecolor\":\"white\",\"ticks\":\"\",\"title\":{\"standoff\":15},\"zerolinecolor\":\"white\",\"automargin\":true,\"zerolinewidth\":2},\"scene\":{\"xaxis\":{\"backgroundcolor\":\"#E5ECF6\",\"gridcolor\":\"white\",\"linecolor\":\"white\",\"showbackground\":true,\"ticks\":\"\",\"zerolinecolor\":\"white\",\"gridwidth\":2},\"yaxis\":{\"backgroundcolor\":\"#E5ECF6\",\"gridcolor\":\"white\",\"linecolor\":\"white\",\"showbackground\":true,\"ticks\":\"\",\"zerolinecolor\":\"white\",\"gridwidth\":2},\"zaxis\":{\"backgroundcolor\":\"#E5ECF6\",\"gridcolor\":\"white\",\"linecolor\":\"white\",\"showbackground\":true,\"ticks\":\"\",\"zerolinecolor\":\"white\",\"gridwidth\":2}},\"shapedefaults\":{\"line\":{\"color\":\"#2a3f5f\"}},\"annotationdefaults\":{\"arrowcolor\":\"#2a3f5f\",\"arrowhead\":0,\"arrowwidth\":1},\"geo\":{\"bgcolor\":\"white\",\"landcolor\":\"#E5ECF6\",\"subunitcolor\":\"white\",\"showland\":true,\"showlakes\":true,\"lakecolor\":\"white\"},\"title\":{\"x\":0.05},\"mapbox\":{\"style\":\"light\"}}},\"xaxis\":{\"anchor\":\"y\",\"domain\":[0.0,1.0],\"title\":{\"text\":\"Price Range\"}},\"yaxis\":{\"anchor\":\"x\",\"domain\":[0.0,1.0],\"title\":{\"text\":\"Consumer Confidence\"}},\"legend\":{\"title\":{\"text\":\"City\"},\"tracegroupgap\":0},\"title\":{\"text\":\"Consumer Confidence Distribution\",\"x\":0.5},\"boxmode\":\"group\"},                        {\"responsive\": true}                    ).then(function(){\n",
       "                            \n",
       "var gd = document.getElementById('f2e2d5c1-7159-4479-8135-1bd3088923a8');\n",
       "var x = new MutationObserver(function (mutations, observer) {{\n",
       "        var display = window.getComputedStyle(gd).display;\n",
       "        if (!display || display === 'none') {{\n",
       "            console.log([gd, 'removed!']);\n",
       "            Plotly.purge(gd);\n",
       "            observer.disconnect();\n",
       "        }}\n",
       "}});\n",
       "\n",
       "// Listen for the removal of the full notebook cells\n",
       "var notebookContainer = gd.closest('#notebook-container');\n",
       "if (notebookContainer) {{\n",
       "    x.observe(notebookContainer, {childList: true});\n",
       "}}\n",
       "\n",
       "// Listen for the clearing of the current output cell\n",
       "var outputEl = gd.closest('.output');\n",
       "if (outputEl) {{\n",
       "    x.observe(outputEl, {childList: true});\n",
       "}}\n",
       "\n",
       "                        })                };                });            </script>        </div>"
      ]
     },
     "metadata": {},
     "output_type": "display_data"
    }
   ],
   "source": [
    "fig6 = px.box(df, y='Price', x='Consumer_Confidence',\n",
    "             title=\"Consumer Confidence Distribution\",\n",
    "             color =\"City\")\n",
    "\n",
    "fig6.update_layout(title_x=0.5, xaxis_title=\"Price Range\", yaxis_title=\"Consumer Confidence\")\n",
    "fig6.show()"
   ]
  },
  {
   "cell_type": "code",
   "execution_count": 33,
   "id": "c854c9d4-f40b-4291-aa9d-4b03d8511bf1",
   "metadata": {},
   "outputs": [
    {
     "name": "stdout",
     "output_type": "stream",
     "text": [
      "Mean Squared Error: 1158362.77\n",
      "R-squared: 0.45\n"
     ]
    }
   ],
   "source": [
    "from sklearn.model_selection import train_test_split\n",
    "from sklearn.linear_model import LinearRegression\n",
    "from sklearn.metrics import mean_squared_error, r2_score\n",
    "\n",
    "#target point\n",
    "X=df[['unemployment_rate', 'Year', 'Recession', 'Consumer_Confidence',\n",
    "       'Seasonality_Weight', 'Price', 'Advertising_Expenditure', 'Competition']]\n",
    "y=df[\"Automobile_Sales\"]\n",
    "\n",
    "#train and test sets\n",
    "X_train, X_test, y_train, y_test = train_test_split(X, y, test_size=0.2, random_state=42)\n",
    "\n",
    "#initialization,prediction and Evaluation\n",
    "model = LinearRegression()\n",
    "model.fit(X_train, y_train)\n",
    "\n",
    "y_pred = model.predict(X_test)\n",
    "\n",
    "mse = mean_squared_error(y_test, y_pred)\n",
    "r2 = r2_score(y_test, y_pred)\n",
    "\n",
    "print(f\"Mean Squared Error: {mse:.2f}\")\n",
    "print(f\"R-squared: {r2:.2f}\")\n"
   ]
  },
  {
   "cell_type": "code",
   "execution_count": 34,
   "id": "f0b9f145-60f3-4322-9650-9c634b1af3cc",
   "metadata": {},
   "outputs": [
    {
     "name": "stdout",
     "output_type": "stream",
     "text": [
      "RMSE: 1076.27\n"
     ]
    }
   ],
   "source": [
    "import numpy as np\n",
    "rmse = np.sqrt(mse)\n",
    "print(f\"RMSE: {rmse:.2f}\")"
   ]
  },
  {
   "cell_type": "code",
   "execution_count": 35,
   "id": "109b4d2f-2491-4365-b2e8-1fc3079bfe58",
   "metadata": {},
   "outputs": [
    {
     "name": "stdout",
     "output_type": "stream",
     "text": [
      "model saved successfully\n"
     ]
    }
   ],
   "source": [
    "import pickle\n",
    "with open(\"linear_model.pkl\", \"wb\") as file:\n",
    "    pickle.dump(model,file)\n",
    "print(\"model saved successfully\")"
   ]
  }
 ],
 "metadata": {
  "kernelspec": {
   "display_name": "anaconda-2024.02-py310",
   "language": "python",
   "name": "conda-env-anaconda-2024.02-py310-py"
  },
  "language_info": {
   "codemirror_mode": {
    "name": "ipython",
    "version": 3
   },
   "file_extension": ".py",
   "mimetype": "text/x-python",
   "name": "python",
   "nbconvert_exporter": "python",
   "pygments_lexer": "ipython3",
   "version": "3.10.14"
  }
 },
 "nbformat": 4,
 "nbformat_minor": 5
}
